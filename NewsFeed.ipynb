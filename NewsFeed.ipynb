{
  "nbformat": 4,
  "nbformat_minor": 0,
  "metadata": {
    "colab": {
      "provenance": [],
      "toc_visible": true,
      "mount_file_id": "1ZSCFWYi5bpo3irzrZ9Bg4gVL5kYmJz4r",
      "authorship_tag": "ABX9TyO4IhLMG2WwTL979HRtM/7y",
      "include_colab_link": true
    },
    "kernelspec": {
      "name": "python3",
      "display_name": "Python 3"
    },
    "language_info": {
      "name": "python"
    }
  },
  "cells": [
    {
      "cell_type": "markdown",
      "metadata": {
        "id": "view-in-github",
        "colab_type": "text"
      },
      "source": [
        "<a href=\"https://colab.research.google.com/github/wsricardo/news-crawler/blob/main/NewsFeed.ipynb\" target=\"_parent\"><img src=\"https://colab.research.google.com/assets/colab-badge.svg\" alt=\"Open In Colab\"/></a>"
      ]
    },
    {
      "cell_type": "markdown",
      "source": [
        "# Feed News - Database"
      ],
      "metadata": {
        "id": "wuU6juTw-rU-"
      }
    },
    {
      "cell_type": "code",
      "execution_count": 1,
      "metadata": {
        "id": "oS1v0bj3xThC"
      },
      "outputs": [],
      "source": [
        "import pandas as pd\n",
        "import requests\n",
        "from bs4 import BeautifulSoup"
      ]
    },
    {
      "cell_type": "code",
      "source": [
        "import json"
      ],
      "metadata": {
        "id": "A8Zy2gKrxYhY"
      },
      "execution_count": 2,
      "outputs": []
    },
    {
      "cell_type": "markdown",
      "source": [
        "## Download das Notícias do Banco de Dados No Repositório NewsFeed"
      ],
      "metadata": {
        "id": "APp1CWIqxaNl"
      }
    },
    {
      "cell_type": "markdown",
      "source": [
        "O presente arquivos não contêm corpo dos artigos jornalisticos de seus respectivos portais por a fim de evitar possíveis implicações de ***Copy Right***.\n",
        "\n",
        "Preferencialmente baixe o conteúdo localmente para evitar repetidas requisições ao site."
      ],
      "metadata": {
        "id": "E0oxXV_7yB5c"
      }
    },
    {
      "cell_type": "code",
      "source": [
        "# URL Base de onde são obtidos as noticias (dados armazenados em arquivos json).\n",
        "urlbase = 'https://raw.githubusercontent.com/wsricardo/newsfeed/main/database/'\n",
        "#https://raw.githubusercontent.com/wsricardo/newsfeed/main/database/\n",
        "# List files news links\n",
        "urlmap = 'https://raw.githubusercontent.com/wsricardo/newsfeed/main/map'\n"
      ],
      "metadata": {
        "id": "FVEDcG9wxjVS"
      },
      "execution_count": 3,
      "outputs": []
    },
    {
      "cell_type": "code",
      "source": [
        "# Criando uma sessão pra requisitar os arquivos. Arquivo 'map' contêm lista dos nomes dos arquivos *.json armazenados em database.\n",
        "mapnews_session = requests.Session()\n",
        "# Salva os nomes em news_filws\n",
        "news_files = mapnews_session.get(urlmap)\n"
      ],
      "metadata": {
        "id": "VSWDqiYGyTKe"
      },
      "execution_count": 4,
      "outputs": []
    },
    {
      "cell_type": "code",
      "source": [
        "# Cria uma lista com os nomes dos arquivos.\n",
        "news_files_names = news_files.text.split( '\\n' )\n",
        "# Olhando as Duas primeiras. Checando.\n",
        "news_files_names[:2]"
      ],
      "metadata": {
        "colab": {
          "base_uri": "https://localhost:8080/"
        },
        "id": "GzqQMbkGy2BR",
        "outputId": "8baafad4-5e60-49eb-e472-2cce03dcf734"
      },
      "execution_count": 5,
      "outputs": [
        {
          "output_type": "execute_result",
          "data": {
            "text/plain": [
              "['Noticias-10-5-2023.json', 'Noticias-10-6-2023.json']"
            ]
          },
          "metadata": {},
          "execution_count": 5
        }
      ]
    },
    {
      "cell_type": "markdown",
      "source": [
        "Vamos obter os arquivos json contendo todos links e titulos dos artigos."
      ],
      "metadata": {
        "id": "jBR6LVLa80bB"
      }
    },
    {
      "cell_type": "code",
      "source": [
        "# Sessão para obter/baixar os dados contidos nos arquivos json.\n",
        "news_req = requests.Session()\n",
        "\n",
        "#https://raw.githubusercontent.com/wsricardo/newsfeed/main/database/Noticias-10-5-2023.json\n",
        "#news1 = json.load( news_req.get( urlbase+news_files_names[0] ).text )"
      ],
      "metadata": {
        "id": "G1VUbNv-y3T5"
      },
      "execution_count": 6,
      "outputs": []
    },
    {
      "cell_type": "code",
      "source": [
        "#dfl = pd.DataFrame( news1 )\n",
        "dfl = []\n",
        "news_files_names.pop() # última linha estáva vazia quando aplicou a função 'split' na string retornada no arquivomap. O ideal é checar anteriormente.\n",
        "\n"
      ],
      "metadata": {
        "colab": {
          "base_uri": "https://localhost:8080/",
          "height": 35
        },
        "id": "7hacH40H0dGU",
        "outputId": "ad352371-1c77-4704-9b03-8318b01ce44a"
      },
      "execution_count": 7,
      "outputs": [
        {
          "output_type": "execute_result",
          "data": {
            "text/plain": [
              "''"
            ],
            "application/vnd.google.colaboratory.intrinsic+json": {
              "type": "string"
            }
          },
          "metadata": {},
          "execution_count": 7
        }
      ]
    },
    {
      "cell_type": "code",
      "source": [
        "# Obtendo arqvuidos. São lidos e criados um dataframe para cada em dfl.\n",
        "for i in news_files_names:\n",
        "  #print('> i ',i)\n",
        "  dfl.append( pd.read_json( news_req.get( urlbase+i ).text ) )"
      ],
      "metadata": {
        "id": "uROaKZxi2Tl6"
      },
      "execution_count": 8,
      "outputs": []
    },
    {
      "cell_type": "code",
      "source": [
        "# OS dataframes são contenados em um unico dataframe.\n",
        "df = pd.concat( dfl )"
      ],
      "metadata": {
        "id": "Wt8I-Eon2W9W"
      },
      "execution_count": 9,
      "outputs": []
    },
    {
      "cell_type": "markdown",
      "source": [
        "## Limpando os Dados"
      ],
      "metadata": {
        "id": "KIeohYG_-2VV"
      }
    },
    {
      "cell_type": "markdown",
      "source": [
        "A função dfclean servirá para limpeza removendo itens duplicados e que não sejam links para artigos (exemplo links para páginas como instagram, youtube, páginas de sessões que não contem artigo sendo referencia para outras páginas."
      ],
      "metadata": {
        "id": "MPC-ujep9sHS"
      }
    },
    {
      "cell_type": "code",
      "source": [
        "def dfcleans( df ):\n",
        "\n",
        "    \"\"\"\n",
        "    Remove fields by title in list of names specifieds.\n",
        "    \"\"\"\n",
        "\n",
        "    # Remove lines specified to link of Twitter\n",
        "    v = [ 'Política',\n",
        "        'Pop',\n",
        "        'Economia',\n",
        "        'Internacional',\n",
        "        'Viagem & Gastronomia',\n",
        "        'Nacional',\n",
        "        'Saúde',\n",
        "        'Esportes',\n",
        "        'CNN Plural',\n",
        "        'Ciência e Tecnologia',\n",
        "        'Mercado',\n",
        "        'Facebook',\n",
        "        'Twitter',\n",
        "        'Youtube',\n",
        "        'YouTube',\n",
        "        'Instagram'\n",
        "    ]\n",
        "\n",
        "    df.rename( columns={ 'title': 'Title' }, inplace = True   )\n",
        "    #dff.rename( columns={ 'href': 'Link' }, inplace = True )\n",
        "\n",
        "\n",
        "\n",
        "    for i in v:\n",
        "        df = df.drop( index=df.index[  df['Title'] == i  ] )\n",
        "\n",
        "    df = df.drop_duplicates( ignore_index = True )\n",
        "    return df.to_json( orient='records' )"
      ],
      "metadata": {
        "id": "H3VpYwre50_I"
      },
      "execution_count": 10,
      "outputs": []
    },
    {
      "cell_type": "markdown",
      "source": [
        "Aqui aplicasse a função de limpeza e criasse um novo dataframe."
      ],
      "metadata": {
        "id": "CGjhf54f9_77"
      }
    },
    {
      "cell_type": "code",
      "source": [
        "df = pd.DataFrame( json.loads( dfcleans( pd.concat( dfl ) ) ) )"
      ],
      "metadata": {
        "id": "UZYzA-Tu6iI7"
      },
      "execution_count": 11,
      "outputs": []
    },
    {
      "cell_type": "markdown",
      "source": [
        "Na tabela exibida abaixo clique no icone da \"caneta mágica\" ao lado direito da tabela dos dados para ativar a tabela interativa permitindo acessar algumas funcionalidades de filtragem e pesquisa na tabela de dados. Feito isso clique em \"Filter\" topo lado direito da tabela para acessar os campos de filtrage do dados da tabela. Assim será possível pesquisar por uma palavra chave dentro da lista de notícias."
      ],
      "metadata": {
        "id": "tcCar-9x_Wb0"
      }
    },
    {
      "cell_type": "code",
      "source": [
        "df"
      ],
      "metadata": {
        "colab": {
          "base_uri": "https://localhost:8080/",
          "height": 936
        },
        "id": "AMFXHKmy7F9j",
        "outputId": "722c6098-3544-46bf-8f82-68193b4cb592"
      },
      "execution_count": 12,
      "outputs": [
        {
          "output_type": "execute_result",
          "data": {
            "text/plain": [
              "                                                  Title  \\\n",
              "0     A força e os muitos amores da maior estrela do...   \n",
              "1     'Mania de Você': os sucessos de Rita nas vozes...   \n",
              "2     Álbum de 1973 de Rita com guitarrista Lucia Tu...   \n",
              "3     Desmatamento na Amazônia pode gerar perdas de ...   \n",
              "4     Imposto de Renda: vendeu carro com lucro? Saib...   \n",
              "...                                                 ...   \n",
              "1589  Golpe da Inteligência Artificial: pai de influ...   \n",
              "1590  Pastor de igreja de Guarulhos é preso suspeito...   \n",
              "1591  Vídeo: mulher escapa por segundos de ser atrop...   \n",
              "1592  Wanessa Camargo comenta cena de Wilton no Mast...   \n",
              "1593  Saiba quando e onde acontecem festas que inspi...   \n",
              "\n",
              "                                                   href  \n",
              "0     https://g1.globo.com/jornal-nacional/noticia/2...  \n",
              "1     https://g1.globo.com/jornal-nacional/noticia/2...  \n",
              "2     https://g1.globo.com/pop-arte/musica/blog/maur...  \n",
              "3     https://g1.globo.com/politica/noticia/2023/05/...  \n",
              "4     https://g1.globo.com/economia/imposto-de-renda...  \n",
              "...                                                 ...  \n",
              "1589  https://www.band.uol.com.br/noticias/brasil-ur...  \n",
              "1590  https://www.band.uol.com.br/noticias/bora-bras...  \n",
              "1591  https://www.band.uol.com.br/noticias/bora-bras...  \n",
              "1592  https://www.band.uol.com.br/entretenimento/mas...  \n",
              "1593  https://www.band.uol.com.br/entretenimento/mas...  \n",
              "\n",
              "[1594 rows x 2 columns]"
            ],
            "text/html": [
              "\n",
              "  <div id=\"df-63eeafa0-a144-486e-8ca3-80eefa01bfca\">\n",
              "    <div class=\"colab-df-container\">\n",
              "      <div>\n",
              "<style scoped>\n",
              "    .dataframe tbody tr th:only-of-type {\n",
              "        vertical-align: middle;\n",
              "    }\n",
              "\n",
              "    .dataframe tbody tr th {\n",
              "        vertical-align: top;\n",
              "    }\n",
              "\n",
              "    .dataframe thead th {\n",
              "        text-align: right;\n",
              "    }\n",
              "</style>\n",
              "<table border=\"1\" class=\"dataframe\">\n",
              "  <thead>\n",
              "    <tr style=\"text-align: right;\">\n",
              "      <th></th>\n",
              "      <th>Title</th>\n",
              "      <th>href</th>\n",
              "    </tr>\n",
              "  </thead>\n",
              "  <tbody>\n",
              "    <tr>\n",
              "      <th>0</th>\n",
              "      <td>A força e os muitos amores da maior estrela do...</td>\n",
              "      <td>https://g1.globo.com/jornal-nacional/noticia/2...</td>\n",
              "    </tr>\n",
              "    <tr>\n",
              "      <th>1</th>\n",
              "      <td>'Mania de Você': os sucessos de Rita nas vozes...</td>\n",
              "      <td>https://g1.globo.com/jornal-nacional/noticia/2...</td>\n",
              "    </tr>\n",
              "    <tr>\n",
              "      <th>2</th>\n",
              "      <td>Álbum de 1973 de Rita com guitarrista Lucia Tu...</td>\n",
              "      <td>https://g1.globo.com/pop-arte/musica/blog/maur...</td>\n",
              "    </tr>\n",
              "    <tr>\n",
              "      <th>3</th>\n",
              "      <td>Desmatamento na Amazônia pode gerar perdas de ...</td>\n",
              "      <td>https://g1.globo.com/politica/noticia/2023/05/...</td>\n",
              "    </tr>\n",
              "    <tr>\n",
              "      <th>4</th>\n",
              "      <td>Imposto de Renda: vendeu carro com lucro? Saib...</td>\n",
              "      <td>https://g1.globo.com/economia/imposto-de-renda...</td>\n",
              "    </tr>\n",
              "    <tr>\n",
              "      <th>...</th>\n",
              "      <td>...</td>\n",
              "      <td>...</td>\n",
              "    </tr>\n",
              "    <tr>\n",
              "      <th>1589</th>\n",
              "      <td>Golpe da Inteligência Artificial: pai de influ...</td>\n",
              "      <td>https://www.band.uol.com.br/noticias/brasil-ur...</td>\n",
              "    </tr>\n",
              "    <tr>\n",
              "      <th>1590</th>\n",
              "      <td>Pastor de igreja de Guarulhos é preso suspeito...</td>\n",
              "      <td>https://www.band.uol.com.br/noticias/bora-bras...</td>\n",
              "    </tr>\n",
              "    <tr>\n",
              "      <th>1591</th>\n",
              "      <td>Vídeo: mulher escapa por segundos de ser atrop...</td>\n",
              "      <td>https://www.band.uol.com.br/noticias/bora-bras...</td>\n",
              "    </tr>\n",
              "    <tr>\n",
              "      <th>1592</th>\n",
              "      <td>Wanessa Camargo comenta cena de Wilton no Mast...</td>\n",
              "      <td>https://www.band.uol.com.br/entretenimento/mas...</td>\n",
              "    </tr>\n",
              "    <tr>\n",
              "      <th>1593</th>\n",
              "      <td>Saiba quando e onde acontecem festas que inspi...</td>\n",
              "      <td>https://www.band.uol.com.br/entretenimento/mas...</td>\n",
              "    </tr>\n",
              "  </tbody>\n",
              "</table>\n",
              "<p>1594 rows × 2 columns</p>\n",
              "</div>\n",
              "      <button class=\"colab-df-convert\" onclick=\"convertToInteractive('df-63eeafa0-a144-486e-8ca3-80eefa01bfca')\"\n",
              "              title=\"Convert this dataframe to an interactive table.\"\n",
              "              style=\"display:none;\">\n",
              "        \n",
              "  <svg xmlns=\"http://www.w3.org/2000/svg\" height=\"24px\"viewBox=\"0 0 24 24\"\n",
              "       width=\"24px\">\n",
              "    <path d=\"M0 0h24v24H0V0z\" fill=\"none\"/>\n",
              "    <path d=\"M18.56 5.44l.94 2.06.94-2.06 2.06-.94-2.06-.94-.94-2.06-.94 2.06-2.06.94zm-11 1L8.5 8.5l.94-2.06 2.06-.94-2.06-.94L8.5 2.5l-.94 2.06-2.06.94zm10 10l.94 2.06.94-2.06 2.06-.94-2.06-.94-.94-2.06-.94 2.06-2.06.94z\"/><path d=\"M17.41 7.96l-1.37-1.37c-.4-.4-.92-.59-1.43-.59-.52 0-1.04.2-1.43.59L10.3 9.45l-7.72 7.72c-.78.78-.78 2.05 0 2.83L4 21.41c.39.39.9.59 1.41.59.51 0 1.02-.2 1.41-.59l7.78-7.78 2.81-2.81c.8-.78.8-2.07 0-2.86zM5.41 20L4 18.59l7.72-7.72 1.47 1.35L5.41 20z\"/>\n",
              "  </svg>\n",
              "      </button>\n",
              "      \n",
              "  <style>\n",
              "    .colab-df-container {\n",
              "      display:flex;\n",
              "      flex-wrap:wrap;\n",
              "      gap: 12px;\n",
              "    }\n",
              "\n",
              "    .colab-df-convert {\n",
              "      background-color: #E8F0FE;\n",
              "      border: none;\n",
              "      border-radius: 50%;\n",
              "      cursor: pointer;\n",
              "      display: none;\n",
              "      fill: #1967D2;\n",
              "      height: 32px;\n",
              "      padding: 0 0 0 0;\n",
              "      width: 32px;\n",
              "    }\n",
              "\n",
              "    .colab-df-convert:hover {\n",
              "      background-color: #E2EBFA;\n",
              "      box-shadow: 0px 1px 2px rgba(60, 64, 67, 0.3), 0px 1px 3px 1px rgba(60, 64, 67, 0.15);\n",
              "      fill: #174EA6;\n",
              "    }\n",
              "\n",
              "    [theme=dark] .colab-df-convert {\n",
              "      background-color: #3B4455;\n",
              "      fill: #D2E3FC;\n",
              "    }\n",
              "\n",
              "    [theme=dark] .colab-df-convert:hover {\n",
              "      background-color: #434B5C;\n",
              "      box-shadow: 0px 1px 3px 1px rgba(0, 0, 0, 0.15);\n",
              "      filter: drop-shadow(0px 1px 2px rgba(0, 0, 0, 0.3));\n",
              "      fill: #FFFFFF;\n",
              "    }\n",
              "  </style>\n",
              "\n",
              "      <script>\n",
              "        const buttonEl =\n",
              "          document.querySelector('#df-63eeafa0-a144-486e-8ca3-80eefa01bfca button.colab-df-convert');\n",
              "        buttonEl.style.display =\n",
              "          google.colab.kernel.accessAllowed ? 'block' : 'none';\n",
              "\n",
              "        async function convertToInteractive(key) {\n",
              "          const element = document.querySelector('#df-63eeafa0-a144-486e-8ca3-80eefa01bfca');\n",
              "          const dataTable =\n",
              "            await google.colab.kernel.invokeFunction('convertToInteractive',\n",
              "                                                     [key], {});\n",
              "          if (!dataTable) return;\n",
              "\n",
              "          const docLinkHtml = 'Like what you see? Visit the ' +\n",
              "            '<a target=\"_blank\" href=https://colab.research.google.com/notebooks/data_table.ipynb>data table notebook</a>'\n",
              "            + ' to learn more about interactive tables.';\n",
              "          element.innerHTML = '';\n",
              "          dataTable['output_type'] = 'display_data';\n",
              "          await google.colab.output.renderOutput(dataTable, element);\n",
              "          const docLink = document.createElement('div');\n",
              "          docLink.innerHTML = docLinkHtml;\n",
              "          element.appendChild(docLink);\n",
              "        }\n",
              "      </script>\n",
              "    </div>\n",
              "  </div>\n",
              "  "
            ]
          },
          "metadata": {},
          "execution_count": 12
        }
      ]
    },
    {
      "cell_type": "markdown",
      "source": [
        "A linha abaixo com comando 'df.to_csv' salvará o conteúdo do arquivo em formato csv."
      ],
      "metadata": {
        "id": "Fjtd0L0sAKrZ"
      }
    },
    {
      "cell_type": "code",
      "source": [
        "# Linha abaixo para salvar os dados da tabela.\n",
        "df.to_csv('news.csv', index=False)"
      ],
      "metadata": {
        "id": "h8IypFJ_7wI4"
      },
      "execution_count": 13,
      "outputs": []
    },
    {
      "cell_type": "markdown",
      "source": [
        "Para mais informações visite links abaixo.\n",
        "\n",
        "\n",
        "Criado por [WSRicardo](https://github.com/wsricardo)\n",
        "\n",
        "Blog: https://wsricardo.blogspot.com/\n",
        "\n",
        "Banco das NOticias: https://github.com/wsricardo/newsfeed"
      ],
      "metadata": {
        "id": "DYcK8doyAXZy"
      }
    },
    {
      "cell_type": "code",
      "source": [],
      "metadata": {
        "id": "vZUZJGhXBDV5"
      },
      "execution_count": 13,
      "outputs": []
    }
  ]
}