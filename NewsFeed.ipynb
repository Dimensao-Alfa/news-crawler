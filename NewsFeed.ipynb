{
 "cells": [
  {
   "cell_type": "markdown",
   "metadata": {
    "colab_type": "text",
    "id": "view-in-github"
   },
   "source": [
    "<a href=\"https://colab.research.google.com/github/wsricardo/news-crawler/blob/main/NewsFeed.ipynb\" target=\"_parent\"><img src=\"https://colab.research.google.com/assets/colab-badge.svg\" alt=\"Open In Colab\"/></a>"
   ]
  },
  {
   "cell_type": "code",
   "execution_count": null,
   "metadata": {},
   "outputs": [],
   "source": []
  },
  {
   "cell_type": "markdown",
   "metadata": {
    "id": "wuU6juTw-rU-"
   },
   "source": [
    "# Feed News - Database"
   ]
  },
  {
   "cell_type": "code",
   "execution_count": 1,
   "metadata": {
    "id": "oS1v0bj3xThC"
   },
   "outputs": [],
   "source": [
    "import pandas as pd\n",
    "import requests\n",
    "from bs4 import BeautifulSoup"
   ]
  },
  {
   "cell_type": "code",
   "execution_count": 2,
   "metadata": {
    "id": "A8Zy2gKrxYhY"
   },
   "outputs": [],
   "source": [
    "import json"
   ]
  },
  {
   "cell_type": "markdown",
   "metadata": {
    "id": "APp1CWIqxaNl"
   },
   "source": [
    "## Download das Notícias do Banco de Dados No Repositório NewsFeed"
   ]
  },
  {
   "cell_type": "markdown",
   "metadata": {
    "id": "E0oxXV_7yB5c"
   },
   "source": [
    "O presente arquivos não contêm corpo dos artigos jornalisticos de seus respectivos portais por a fim de evitar possíveis implicações de ***Copy Right***.\n",
    "\n",
    "Preferencialmente baixe o conteúdo localmente para evitar repetidas requisições ao site."
   ]
  },
  {
   "cell_type": "code",
   "execution_count": 3,
   "metadata": {
    "id": "FVEDcG9wxjVS"
   },
   "outputs": [],
   "source": [
    "# URL Base de onde são obtidos as noticias (dados armazenados em arquivos json).\n",
    "urlbase = 'https://raw.githubusercontent.com/wsricardo/newsfeed/main/database/'\n",
    "#https://raw.githubusercontent.com/wsricardo/newsfeed/main/database/\n",
    "# List files news links\n",
    "urlmap = 'https://raw.githubusercontent.com/wsricardo/newsfeed/main/map'\n"
   ]
  },
  {
   "cell_type": "code",
   "execution_count": 4,
   "metadata": {
    "id": "VSWDqiYGyTKe"
   },
   "outputs": [],
   "source": [
    "# Criando uma sessão pra requisitar os arquivos. Arquivo 'map' contêm lista dos nomes dos arquivos *.json armazenados em database.\n",
    "mapnews_session = requests.Session()\n",
    "# Salva os nomes em news_filws\n",
    "news_files = mapnews_session.get(urlmap)\n"
   ]
  },
  {
   "cell_type": "code",
   "execution_count": 5,
   "metadata": {
    "colab": {
     "base_uri": "https://localhost:8080/"
    },
    "id": "GzqQMbkGy2BR",
    "outputId": "4fe1606c-5f5e-4107-d734-31a5374e2ebe"
   },
   "outputs": [
    {
     "data": {
      "text/plain": [
       "['Noticias-10-5-2023.json', 'Noticias-10-6-2023.json']"
      ]
     },
     "execution_count": 5,
     "metadata": {},
     "output_type": "execute_result"
    }
   ],
   "source": [
    "# Cria uma lista com os nomes dos arquivos.\n",
    "news_files_names = news_files.text.split( '\\n' )\n",
    "# Olhando as Duas primeiras. Checando.\n",
    "news_files_names[:2]"
   ]
  },
  {
   "cell_type": "markdown",
   "metadata": {
    "id": "jBR6LVLa80bB"
   },
   "source": [
    "Vamos obter os arquivos json contendo todos links e titulos dos artigos."
   ]
  },
  {
   "cell_type": "code",
   "execution_count": 6,
   "metadata": {
    "id": "G1VUbNv-y3T5"
   },
   "outputs": [],
   "source": [
    "# Sessão para obter/baixar os dados contidos nos arquivos json.\n",
    "news_req = requests.Session()\n",
    "\n",
    "#https://raw.githubusercontent.com/wsricardo/newsfeed/main/database/Noticias-10-5-2023.json\n",
    "#news1 = json.load( news_req.get( urlbase+news_files_names[0] ).text )"
   ]
  },
  {
   "cell_type": "code",
   "execution_count": 7,
   "metadata": {
    "colab": {
     "base_uri": "https://localhost:8080/"
    },
    "id": "7hacH40H0dGU",
    "outputId": "b6ce1d7b-c61c-43d1-c28d-e2439866adda"
   },
   "outputs": [
    {
     "data": {
      "text/plain": [
       "''"
      ]
     },
     "execution_count": 7,
     "metadata": {},
     "output_type": "execute_result"
    }
   ],
   "source": [
    "#dfl = pd.DataFrame( news1 )\n",
    "dfl = []\n",
    "news_files_names.pop() # última linha estáva vazia quando aplicou a função 'split' na string retornada no arquivomap. O ideal é checar anteriormente.\n",
    "\n"
   ]
  },
  {
   "cell_type": "code",
   "execution_count": 8,
   "metadata": {
    "id": "uROaKZxi2Tl6"
   },
   "outputs": [],
   "source": [
    "# Obtendo arquidos. São lidos e criados um dataframe para cada em dfl.\n",
    "for i in news_files_names:\n",
    "  #print('> i ',i)\n",
    "  dfl.append( pd.read_json( news_req.get( urlbase+i ).text ) )"
   ]
  },
  {
   "cell_type": "code",
   "execution_count": 9,
   "metadata": {
    "id": "Wt8I-Eon2W9W"
   },
   "outputs": [],
   "source": [
    "# OS dataframes são contenados em um unico dataframe.\n",
    "df = pd.concat( dfl )"
   ]
  },
  {
   "cell_type": "markdown",
   "metadata": {
    "id": "KIeohYG_-2VV"
   },
   "source": [
    "## Limpando os Dados"
   ]
  },
  {
   "cell_type": "markdown",
   "metadata": {
    "id": "MPC-ujep9sHS"
   },
   "source": [
    "A função dfclean servirá para limpeza removendo itens duplicados e que não sejam links para artigos (exemplo links para páginas como instagram, youtube, páginas de sessões que não contem artigo sendo referencia para outras páginas."
   ]
  },
  {
   "cell_type": "code",
   "execution_count": 10,
   "metadata": {
    "id": "H3VpYwre50_I"
   },
   "outputs": [],
   "source": [
    "def dfcleans( df ):\n",
    "\n",
    "    \"\"\"\n",
    "    Remove fields by title in list of names specifieds.\n",
    "    \"\"\"\n",
    "\n",
    "    # Remove lines specified to link of Twitter\n",
    "    v = [ 'Política',\n",
    "        'Pop',\n",
    "        'Economia',\n",
    "        'Internacional',\n",
    "        'Viagem & Gastronomia',\n",
    "        'Nacional',\n",
    "        'Saúde',\n",
    "        'Esportes',\n",
    "        'CNN Plural',\n",
    "        'Ciência e Tecnologia',\n",
    "        'Mercado',\n",
    "        'Facebook',\n",
    "        'Twitter',\n",
    "        'Youtube',\n",
    "        'YouTube',\n",
    "        'Instagram'\n",
    "    ]\n",
    "\n",
    "    df.rename( columns={ 'title': 'Title' }, inplace = True   )\n",
    "    #dff.rename( columns={ 'href': 'Link' }, inplace = True )\n",
    "\n",
    "\n",
    "\n",
    "    for i in v:\n",
    "        df = df.drop( index=df.index[  df['Title'] == i  ] )\n",
    "\n",
    "    df = df.drop_duplicates( ignore_index = True )\n",
    "    return df.to_json( orient='records' )"
   ]
  },
  {
   "cell_type": "markdown",
   "metadata": {
    "id": "CGjhf54f9_77"
   },
   "source": [
    "Aqui aplicasse a função de limpeza e criasse um novo dataframe."
   ]
  },
  {
   "cell_type": "code",
   "execution_count": 11,
   "metadata": {
    "id": "UZYzA-Tu6iI7"
   },
   "outputs": [],
   "source": [
    "df = pd.DataFrame( json.loads( dfcleans( pd.concat( dfl ) ) ) )"
   ]
  },
  {
   "cell_type": "markdown",
   "metadata": {
    "id": "tcCar-9x_Wb0"
   },
   "source": [
    "Na tabela exibida abaixo clique no icone da \"caneta mágica\" ao lado direito da tabela dos dados para ativar a tabela interativa permitindo acessar algumas funcionalidades de filtragem e pesquisa na tabela de dados. Feito isso clique em \"Filter\" topo lado direito da tabela para acessar os campos de filtrage do dados da tabela. Assim será possível pesquisar por uma palavra chave dentro da lista de notícias."
   ]
  },
  {
   "cell_type": "code",
   "execution_count": 12,
   "metadata": {
    "colab": {
     "base_uri": "https://localhost:8080/"
    },
    "id": "AMFXHKmy7F9j",
    "outputId": "0a667d56-9dbe-49ea-8eeb-cd7daf34c83e"
   },
   "outputs": [
    {
     "data": {
      "text/html": [
       "<div>\n",
       "<style scoped>\n",
       "    .dataframe tbody tr th:only-of-type {\n",
       "        vertical-align: middle;\n",
       "    }\n",
       "\n",
       "    .dataframe tbody tr th {\n",
       "        vertical-align: top;\n",
       "    }\n",
       "\n",
       "    .dataframe thead th {\n",
       "        text-align: right;\n",
       "    }\n",
       "</style>\n",
       "<table border=\"1\" class=\"dataframe\">\n",
       "  <thead>\n",
       "    <tr style=\"text-align: right;\">\n",
       "      <th></th>\n",
       "      <th>Title</th>\n",
       "      <th>href</th>\n",
       "    </tr>\n",
       "  </thead>\n",
       "  <tbody>\n",
       "    <tr>\n",
       "      <th>0</th>\n",
       "      <td>A força e os muitos amores da maior estrela do...</td>\n",
       "      <td>https://g1.globo.com/jornal-nacional/noticia/2...</td>\n",
       "    </tr>\n",
       "    <tr>\n",
       "      <th>1</th>\n",
       "      <td>'Mania de Você': os sucessos de Rita nas vozes...</td>\n",
       "      <td>https://g1.globo.com/jornal-nacional/noticia/2...</td>\n",
       "    </tr>\n",
       "    <tr>\n",
       "      <th>2</th>\n",
       "      <td>Álbum de 1973 de Rita com guitarrista Lucia Tu...</td>\n",
       "      <td>https://g1.globo.com/pop-arte/musica/blog/maur...</td>\n",
       "    </tr>\n",
       "    <tr>\n",
       "      <th>3</th>\n",
       "      <td>Desmatamento na Amazônia pode gerar perdas de ...</td>\n",
       "      <td>https://g1.globo.com/politica/noticia/2023/05/...</td>\n",
       "    </tr>\n",
       "    <tr>\n",
       "      <th>4</th>\n",
       "      <td>Imposto de Renda: vendeu carro com lucro? Saib...</td>\n",
       "      <td>https://g1.globo.com/economia/imposto-de-renda...</td>\n",
       "    </tr>\n",
       "    <tr>\n",
       "      <th>...</th>\n",
       "      <td>...</td>\n",
       "      <td>...</td>\n",
       "    </tr>\n",
       "    <tr>\n",
       "      <th>3841</th>\n",
       "      <td>Chef Jacquin come cenoura com terra e surpreen...</td>\n",
       "      <td>https://www.band.uol.com.br/entretenimento/mas...</td>\n",
       "    </tr>\n",
       "    <tr>\n",
       "      <th>3842</th>\n",
       "      <td>Nhoque garante primeiro pin de Luma; confira a...</td>\n",
       "      <td>https://www.band.uol.com.br/entretenimento/mas...</td>\n",
       "    </tr>\n",
       "    <tr>\n",
       "      <th>3843</th>\n",
       "      <td>Declaração final de líderes da Cúpula da Amazô...</td>\n",
       "      <td>https://www.band.uol.com.br/noticias/declaraca...</td>\n",
       "    </tr>\n",
       "    <tr>\n",
       "      <th>3844</th>\n",
       "      <td>Novo PAC terá obras de transporte e investimen...</td>\n",
       "      <td>https://www.band.uol.com.br/noticias/jornal-da...</td>\n",
       "    </tr>\n",
       "    <tr>\n",
       "      <th>3845</th>\n",
       "      <td>Mitre: nunca foi tão urgente retomar o trabalh...</td>\n",
       "      <td>https://www.band.uol.com.br/noticias/colunista...</td>\n",
       "    </tr>\n",
       "  </tbody>\n",
       "</table>\n",
       "<p>3846 rows × 2 columns</p>\n",
       "</div>"
      ],
      "text/plain": [
       "                                                  Title  \\\n",
       "0     A força e os muitos amores da maior estrela do...   \n",
       "1     'Mania de Você': os sucessos de Rita nas vozes...   \n",
       "2     Álbum de 1973 de Rita com guitarrista Lucia Tu...   \n",
       "3     Desmatamento na Amazônia pode gerar perdas de ...   \n",
       "4     Imposto de Renda: vendeu carro com lucro? Saib...   \n",
       "...                                                 ...   \n",
       "3841  Chef Jacquin come cenoura com terra e surpreen...   \n",
       "3842  Nhoque garante primeiro pin de Luma; confira a...   \n",
       "3843  Declaração final de líderes da Cúpula da Amazô...   \n",
       "3844  Novo PAC terá obras de transporte e investimen...   \n",
       "3845  Mitre: nunca foi tão urgente retomar o trabalh...   \n",
       "\n",
       "                                                   href  \n",
       "0     https://g1.globo.com/jornal-nacional/noticia/2...  \n",
       "1     https://g1.globo.com/jornal-nacional/noticia/2...  \n",
       "2     https://g1.globo.com/pop-arte/musica/blog/maur...  \n",
       "3     https://g1.globo.com/politica/noticia/2023/05/...  \n",
       "4     https://g1.globo.com/economia/imposto-de-renda...  \n",
       "...                                                 ...  \n",
       "3841  https://www.band.uol.com.br/entretenimento/mas...  \n",
       "3842  https://www.band.uol.com.br/entretenimento/mas...  \n",
       "3843  https://www.band.uol.com.br/noticias/declaraca...  \n",
       "3844  https://www.band.uol.com.br/noticias/jornal-da...  \n",
       "3845  https://www.band.uol.com.br/noticias/colunista...  \n",
       "\n",
       "[3846 rows x 2 columns]"
      ]
     },
     "execution_count": 12,
     "metadata": {},
     "output_type": "execute_result"
    }
   ],
   "source": [
    "#@title Texto de título padrão\n",
    "df"
   ]
  },
  {
   "cell_type": "markdown",
   "metadata": {
    "id": "lSgJ-HC5dW9V"
   },
   "source": [
    "Trecho abaixo importa módulo e habilita visualização interativa de dados do Google Colab."
   ]
  },
  {
   "cell_type": "code",
   "execution_count": 13,
   "metadata": {
    "id": "P_FmEf_sX4oD"
   },
   "outputs": [
    {
     "ename": "ModuleNotFoundError",
     "evalue": "No module named 'google.colab'",
     "output_type": "error",
     "traceback": [
      "\u001b[0;31m---------------------------------------------------------------------------\u001b[0m",
      "\u001b[0;31mModuleNotFoundError\u001b[0m                       Traceback (most recent call last)",
      "\u001b[0;32m/tmp/ipykernel_35567/3709034268.py\u001b[0m in \u001b[0;36m<cell line: 1>\u001b[0;34m()\u001b[0m\n\u001b[0;32m----> 1\u001b[0;31m \u001b[0;32mfrom\u001b[0m \u001b[0mgoogle\u001b[0m\u001b[0;34m.\u001b[0m\u001b[0mcolab\u001b[0m \u001b[0;32mimport\u001b[0m \u001b[0mdata_table\u001b[0m\u001b[0;34m\u001b[0m\u001b[0;34m\u001b[0m\u001b[0m\n\u001b[0m\u001b[1;32m      2\u001b[0m \u001b[0;32mfrom\u001b[0m \u001b[0mvega_datasets\u001b[0m \u001b[0;32mimport\u001b[0m \u001b[0mdata\u001b[0m\u001b[0;34m\u001b[0m\u001b[0;34m\u001b[0m\u001b[0m\n\u001b[1;32m      3\u001b[0m \u001b[0;34m\u001b[0m\u001b[0m\n\u001b[1;32m      4\u001b[0m \u001b[0;31m#Habilitando display interativos para visualização dos dados.\u001b[0m\u001b[0;34m\u001b[0m\u001b[0;34m\u001b[0m\u001b[0m\n\u001b[1;32m      5\u001b[0m \u001b[0mdata_table\u001b[0m\u001b[0;34m.\u001b[0m\u001b[0menable_dataframe_formatter\u001b[0m\u001b[0;34m(\u001b[0m\u001b[0;34m)\u001b[0m\u001b[0;34m\u001b[0m\u001b[0;34m\u001b[0m\u001b[0m\n",
      "\u001b[0;31mModuleNotFoundError\u001b[0m: No module named 'google.colab'"
     ]
    }
   ],
   "source": [
    "from google.colab import data_table\n",
    "from vega_datasets import data\n",
    "\n",
    "#Habilitando display interativos para visualização dos dados.\n",
    "data_table.enable_dataframe_formatter()\n"
   ]
  },
  {
   "cell_type": "code",
   "execution_count": null,
   "metadata": {
    "colab": {
     "base_uri": "https://localhost:8080/"
    },
    "id": "4ZVp9aA7eIQ2",
    "outputId": "4d93d517-9a36-4496-f319-58bf5f598878"
   },
   "outputs": [],
   "source": [
    "# Tabela das notícias coletadas\n",
    "df"
   ]
  },
  {
   "cell_type": "markdown",
   "metadata": {
    "id": "fbYQ2Sfvpp3W"
   },
   "source": [
    "# Consultando Notícia Por Palavra Chave"
   ]
  },
  {
   "cell_type": "code",
   "execution_count": null,
   "metadata": {
    "id": "jSffpCBgeQ0O"
   },
   "outputs": [],
   "source": [
    "# Organizando lista de links (html). Esta saída foi o html usado no blog wsricardo.blogspot.com quando da publicação\n",
    "# do cartum sobre arcabouço fiscal. O dataframe 'df' foi filtrado pelo tópico 'arcabouço'.\n",
    "dfa = df['Title'].str.lower()\n",
    "dfa = df[ dfa.str.contains('bolsonaro' ) ]\n",
    "\n",
    "for news_title, news_href in zip( dfa['Title'], dfa['href'] ):\n",
    "  print(f\"<li style='padding: 2px;'><a href='{news_href}'>{news_title}</a></li>\")"
   ]
  },
  {
   "cell_type": "code",
   "execution_count": null,
   "metadata": {
    "colab": {
     "base_uri": "https://localhost:8080/",
     "height": 398
    },
    "id": "L2c8NIlxooNb",
    "outputId": "b30d0b20-cd6a-4791-91d8-cd1253a4b42d"
   },
   "outputs": [],
   "source": [
    "# dataframe filtrado por tópico\n",
    "#dfa = dfa['Title'].str.lower()\n",
    "#df[  dfa.str.contains('inelegível')]\n",
    "dfa[ dfa['Title'].str.contains('inelegível')]"
   ]
  },
  {
   "cell_type": "code",
   "execution_count": null,
   "metadata": {
    "colab": {
     "base_uri": "https://localhost:8080/"
    },
    "id": "MjOrSBWJlX2r",
    "outputId": "5b2bdcef-a3c9-47e8-8d6e-7903858b40f5"
   },
   "outputs": [],
   "source": [
    "for news_title, news_href in zip( dfa[ dfa['Title'].str.contains('inelegível')]['Title'], dfa[ dfa['Title'].str.contains('inelegível')]['href'] ):\n",
    "  print(f\"<li style='padding: 2px;'><a href='{news_href}'>{news_title}</a></li>\")"
   ]
  },
  {
   "cell_type": "code",
   "execution_count": null,
   "metadata": {
    "colab": {
     "base_uri": "https://localhost:8080/",
     "height": 331
    },
    "id": "YjjfivW_oEvM",
    "outputId": "3459daab-647c-4133-a50a-5691ec46f4f1"
   },
   "outputs": [],
   "source": [
    "#from IPython.core.display import display, HTML\n",
    "# IPython Docs https://ipython.readthedocs.io/en/stable/index.html\n",
    "from IPython.display import display, HTML\n",
    "display(HTML('<h3>As Principais Notícias (Extraidas por Palavra Chave)</h3><br>'))\n",
    "for news_title, news_href in zip( dfa[ dfa['Title'].str.contains('inelegível')]['Title'], dfa[ dfa['Title'].str.contains('inelegível')]['href'] ):\n",
    "  display(HTML(f\"<li style='padding: 2px;'><a href='{news_href}'>{news_title}</a></li>\"))"
   ]
  },
  {
   "cell_type": "markdown",
   "metadata": {
    "id": "Fjtd0L0sAKrZ"
   },
   "source": [
    "A linha abaixo com comando 'df.to_csv' salvará o conteúdo do arquivo em formato csv."
   ]
  },
  {
   "cell_type": "code",
   "execution_count": null,
   "metadata": {
    "id": "h8IypFJ_7wI4"
   },
   "outputs": [],
   "source": [
    "# Linha abaixo para salvar os dados da tabela.\n",
    "df.to_csv('news.csv', index=False)"
   ]
  },
  {
   "cell_type": "markdown",
   "metadata": {
    "id": "DYcK8doyAXZy"
   },
   "source": [
    "Para mais informações visite links abaixo.\n",
    "\n",
    "\n",
    "Criado por [WSRicardo](https://github.com/wsricardo)\n",
    "\n",
    "Blog: https://wsricardo.blogspot.com/\n",
    "\n",
    "Banco das NOticias: https://github.com/wsricardo/newsfeed"
   ]
  },
  {
   "cell_type": "code",
   "execution_count": null,
   "metadata": {
    "id": "vZUZJGhXBDV5"
   },
   "outputs": [],
   "source": []
  }
 ],
 "metadata": {
  "colab": {
   "authorship_tag": "ABX9TyNg01HjjKJAiErHnLNefDV0",
   "include_colab_link": true,
   "mount_file_id": "1ZSCFWYi5bpo3irzrZ9Bg4gVL5kYmJz4r",
   "provenance": [],
   "toc_visible": true
  },
  "kernelspec": {
   "display_name": "Python 3 (ipykernel)",
   "language": "python",
   "name": "python3"
  },
  "language_info": {
   "codemirror_mode": {
    "name": "ipython",
    "version": 3
   },
   "file_extension": ".py",
   "mimetype": "text/x-python",
   "name": "python",
   "nbconvert_exporter": "python",
   "pygments_lexer": "ipython3",
   "version": "3.11.9"
  }
 },
 "nbformat": 4,
 "nbformat_minor": 4
}
