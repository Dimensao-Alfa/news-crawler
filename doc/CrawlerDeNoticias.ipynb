{
 "cells": [
  {
   "cell_type": "markdown",
   "id": "d8849ed6",
   "metadata": {
    "jp-MarkdownHeadingCollapsed": true,
    "tags": [],
    "toc-hr-collapsed": true
   },
   "source": [
    "# Crawler Noticias\n",
    "\n"
   ]
  },
  {
   "cell_type": "markdown",
   "id": "01366270-f3d1-4716-83cc-727dc6f57d46",
   "metadata": {
    "tags": []
   },
   "source": [
    "## Introdução"
   ]
  },
  {
   "cell_type": "markdown",
   "id": "2b1f31df",
   "metadata": {},
   "source": [
    "Estudo projeto de construção de um bot crawler para extrair e indexar noticias de sites.\n",
    "\n",
    "É recomendavel baixar uma única vez o html do site para reduzir a necessidade de acessar o site várias vezes para cada processamento reduzindo tempo e custo computacionais para máquina local e servidor.\n",
    "\n",
    "Usamos módulo _Requests_ para baixar o html da página a ser processada e com módulo _BeautifulSoup_ processamos o conteúdo html buscando por conteúdos especificos. Ao inspecionar o código HTML verificamos em quais blocos estão as principais noticias - em geral em tags como \"section\", \"h1\"/\"h2\"/\"h3\" e \"a\" - considerando o seletor css que especifica cada bloco de interesse afim de refinar a busca e garantir que serão extraindos os trechos relevantes.\n",
    "\n",
    "Sites com boas práticas de HTML/CSS tendem a serem mais faceis de serem processados e indexados por mecanismos de buscas facilitando os usuários em encontrar seus conteúdos em pesquisas aumentando assim o engajamento em suas plataformas contribuindo para seu melhor desenvolvimento.\n",
    "\n",
    "Neste presente momento o projeto está considerando três portais de notícias que são _BBC Brasil_, _CNN Brasil_ e _G1/Globo_. \n",
    "\n",
    "Créditos e direitos reservados às referentes plataformas mencionadas.\n",
    "\n",
    "(Obs.: Conteúdo livre com fins informativos e de divulgação. )\n"
   ]
  },
  {
   "cell_type": "markdown",
   "id": "573fc426",
   "metadata": {
    "tags": []
   },
   "source": [
    "## Módulos"
   ]
  },
  {
   "cell_type": "markdown",
   "id": "cbd7fe1d",
   "metadata": {},
   "source": [
    "Abaixo _import_ dos módulos que contém os recursos usados.\n",
    "\n",
    "* BeautifulSoup\n",
    "* Requests\n",
    "* re (regular expression)\n",
    "* crawlernewsg1 (acessa site e extrai lista de principais noticias na página principal do site)\n",
    "* IPython.core.display -> display, HTML (renderiza conteúdos html )"
   ]
  },
  {
   "cell_type": "code",
   "execution_count": 1,
   "id": "f4ad322f",
   "metadata": {
    "scrolled": true
   },
   "outputs": [],
   "source": [
    "from bs4 import BeautifulSoup\n",
    "import requests\n",
    "import re\n",
    "from crawlernewsg1 import *\n",
    "import random\n",
    "\n",
    "# Render html content\n",
    "from IPython.core.display import display, HTML"
   ]
  },
  {
   "cell_type": "markdown",
   "id": "e8683151",
   "metadata": {
    "jp-MarkdownHeadingCollapsed": true,
    "tags": [],
    "toc-hr-collapsed": true
   },
   "source": [
    "# Modelagem Portal G1\n",
    "\n"
   ]
  },
  {
   "cell_type": "markdown",
   "id": "200ef7fc-b544-482e-95ee-8055bb771495",
   "metadata": {},
   "source": [
    "Capturando noticias do portal G1 da Globo\n",
    "Funções básicas. Especifincando \"selector css\" classe 'bastian-page'  para tags div."
   ]
  },
  {
   "cell_type": "code",
   "execution_count": 2,
   "id": "c4df2cea",
   "metadata": {},
   "outputs": [
    {
     "name": "stdout",
     "output_type": "stream",
     "text": [
      "Fail get attribute href\n"
     ]
    }
   ],
   "source": [
    "# Baixando html do portal de noticia para processamento e salvando em disco.\n",
    "url = 'https://g1.globo.com'\n",
    "attr = {'class': 'bastian-page'}\n",
    "data = g1_(requests.get( url ).content, 'div', attr, debug=False)\n",
    "dw = requests.get('https://g1.globo.com/').content\n",
    "with open('/tmp/data', 'w') as fl:\n",
    "    fl.write( dw.decode() )\n",
    "    "
   ]
  },
  {
   "cell_type": "code",
   "execution_count": 3,
   "id": "39fe2fae-4920-4ebc-9f61-b141c7e5ce74",
   "metadata": {},
   "outputs": [
    {
     "data": {
      "text/plain": [
       "tuple"
      ]
     },
     "execution_count": 3,
     "metadata": {},
     "output_type": "execute_result"
    }
   ],
   "source": [
    "type(data)"
   ]
  },
  {
   "cell_type": "code",
   "execution_count": 4,
   "id": "3e0d6827-a36e-465d-938f-196879b4ce67",
   "metadata": {},
   "outputs": [
    {
     "name": "stdout",
     "output_type": "stream",
     "text": [
      "[{'title': 'Vini saiu do lugar que brancos acham que todo preto tem, diz PC Vasconcellos'}, {'href': 'https://g1.globo.com/podcast/o-assunto/noticia/2023/05/23/vini-jr-desafina-coro-dos-brancos-contentes-com-privilegio-diz-pc-vasconcellos.ghtml'}, {'title': 'Casos de racismo nos estádios do Brasil saltam 40%; homofobia dispara 76%'}, {'href': 'https://g1.globo.com/bom-dia-brasil/noticia/2023/05/23/casos-de-preconceito-contra-atletas-cresceram-40percent-nos-estadios-brasileiros-em-2022.ghtml'}, {'title': 'Major da PM que deu ordem de recuo no 8 de janeiro é preso'}, {'href': 'https://g1.globo.com/df/distrito-federal/noticia/2023/05/23/pf-cumpre-mandados-em-operacao-que-investiga-atos-terroristas-em-brasilia.ghtml'}, {'title': 'Conselho do TRF-4 afasta Eduardo Appio, novo juiz da Lava Jato\\xa0'}, {'href': 'https://g1.globo.com/politica/blog/andreia-sadi/post/2023/05/22/conselho-do-trf-4-afasta-juiz-da-lava-jato.ghtml'}, {'title': \"Influencer assassinada no Rio dizia ser 'ex-obesa' e exibia carrões\"}, {'href': 'https://g1.globo.com/rj/rio-de-janeiro/noticia/2023/05/23/influencer-morta-na-zona-norte-teve-loja-na-baixada-fluminense-e-passou-a-exibir-carroes-e-viagens-nas-redes-apos-emagrecimento.ghtml'}, {'title': 'Luanne trocou blindado por carro sem proteção 15 dias antes'}, {'href': 'https://g1.globo.com/rj/rio-de-janeiro/noticia/2023/05/23/influenciadora-morta-na-zona-norte-do-rio-trocou-blindado-por-um-carro-sem-protecao-dias-antes-de-crime.ghtml'}]\n"
     ]
    }
   ],
   "source": [
    "# Replace field name 'titulo' for 'title' name.\n",
    "#dw = [ { key.replace('titulo', 'title'):value for key, value in i.items() } for i in dw ]\n",
    "#dw = [ { key.replace('url', 'href'):value for key, value in i.items() } for i in dw ]\n",
    "#replKey = lambda listdc, old_key, new_key: [ ]\n",
    "def replKey(listdc, old_key, new_key  ):\n",
    "    dt = []\n",
    "    \n",
    "    \n",
    "    for i in listdc:\n",
    "        for keys, value in i.items():\n",
    "            dt.append( { keys.replace('url', 'href'): value } ) \n",
    "            \n",
    "    return dt\n",
    "\n",
    "data = replKey(data[0], 'url', 'href' )\n",
    "\n",
    "print(data)"
   ]
  },
  {
   "cell_type": "code",
   "execution_count": 5,
   "id": "6aa22b38",
   "metadata": {},
   "outputs": [
    {
     "name": "stdout",
     "output_type": "stream",
     "text": [
      "Fail get attribute href\n"
     ]
    }
   ],
   "source": [
    "dw, cwn = g1_( dw, 'div', attr)"
   ]
  },
  {
   "cell_type": "markdown",
   "id": "7f163b74",
   "metadata": {},
   "source": [
    "Ao abrir link da noticia pesquisar pela tag *'p'* com atributos **class** com valor **\"content-text__container** definir o tamanho para caso extrair só parte do corpo do texto.\n"
   ]
  },
  {
   "cell_type": "markdown",
   "id": "db117b75",
   "metadata": {},
   "source": [
    "Retornando uma lista dos itens encontrados (como visto acima no código) pegamos estes itens e os concatenamos exibintido o texto no corpo da noticia. (_Como visto abaixo_)"
   ]
  },
  {
   "cell_type": "markdown",
   "id": "6da973d9",
   "metadata": {},
   "source": [
    "Cada \"_evt\" (_css selector_ class) class css em \"bastian-page\" refere-se a uma noticia na lista central de noticias.\n",
    "Dentro de cada \"_evt\" haverá \"bastian-feed-item\" e neste o feed-post. \n",
    "\n",
    "**feed-post-body** _contêm_  ( 'feed-post-link', 'feed-post-body-title', 'feed-post-body-resumo')\n",
    "\n",
    "**bastian-feed-item** _contem_ um feed-post-body referindo-se a cada item (noticia)\n",
    "\n",
    "\n",
    "Para link da noticia (quando acessando a noticia)\n",
    "\n",
    "**content-head__title** em tag 'h1' (Título da noticia)\n",
    "\n",
    "**content-head__subtitle** em tag 'h2' (subtitulo/resumo da noticia)\n",
    "\n",
    "**content-text__container** corpo do texto da noticia css-selector, tag 'p' (pegar só a primeira referente ao primeiro paragrafo da noticia)"
   ]
  },
  {
   "cell_type": "code",
   "execution_count": 6,
   "id": "112a932e",
   "metadata": {
    "toc-hr-collapsed": true
   },
   "outputs": [
    {
     "data": {
      "text/html": [
       "<h1 style=\"padding: 12px;\">Notícias</h1>Vini saiu do lugar que brancos acham que todo preto tem, diz PC Vasconcellos<br>https://g1.globo.com/podcast/o-assunto/noticia/2023/05/23/vini-jr-desafina-coro-dos-brancos-contentes-com-privilegio-diz-pc-vasconcellos.ghtml<br><br>Casos de racismo nos estádios do Brasil saltam 40%; homofobia dispara 76%<br>https://g1.globo.com/bom-dia-brasil/noticia/2023/05/23/casos-de-preconceito-contra-atletas-cresceram-40percent-nos-estadios-brasileiros-em-2022.ghtml<br><br>Major da PM que deu ordem de recuo no 8 de janeiro é preso<br>https://g1.globo.com/df/distrito-federal/noticia/2023/05/23/pf-cumpre-mandados-em-operacao-que-investiga-atos-terroristas-em-brasilia.ghtml<br><br>Conselho do TRF-4 afasta Eduardo Appio, novo juiz da Lava Jato <br>https://g1.globo.com/politica/blog/andreia-sadi/post/2023/05/22/conselho-do-trf-4-afasta-juiz-da-lava-jato.ghtml<br><br>Influencer assassinada no Rio dizia ser 'ex-obesa' e exibia carrões<br>https://g1.globo.com/rj/rio-de-janeiro/noticia/2023/05/23/influencer-morta-na-zona-norte-teve-loja-na-baixada-fluminense-e-passou-a-exibir-carroes-e-viagens-nas-redes-apos-emagrecimento.ghtml<br><br>Luanne trocou blindado por carro sem proteção 15 dias antes<br>https://g1.globo.com/rj/rio-de-janeiro/noticia/2023/05/23/influenciadora-morta-na-zona-norte-do-rio-trocou-blindado-por-um-carro-sem-protecao-dias-antes-de-crime.ghtml"
      ],
      "text/plain": [
       "<IPython.core.display.HTML object>"
      ]
     },
     "metadata": {},
     "output_type": "display_data"
    }
   ],
   "source": [
    "news2 = '<h1 style=\"padding: 12px;\">Notícias</h1>'\n",
    "news2 += '<br><br>'.join( [ '<br>'.join( [ str( i['title'] ) , str( i[ 'url' ]  ) ] ) for i in dw ] )\n",
    "display( HTML( news2 ))"
   ]
  },
  {
   "cell_type": "markdown",
   "id": "0b5cc259",
   "metadata": {
    "jp-MarkdownHeadingCollapsed": true,
    "tags": []
   },
   "source": [
    "# CNN Crawler de Noticias do Portal"
   ]
  },
  {
   "cell_type": "code",
   "execution_count": 7,
   "id": "5d731b59",
   "metadata": {},
   "outputs": [],
   "source": [
    "cnn_data = requests.get('https://www.cnnbrasil.com.br/')\n"
   ]
  },
  {
   "cell_type": "code",
   "execution_count": 8,
   "id": "06682a5f",
   "metadata": {},
   "outputs": [
    {
     "data": {
      "text/plain": [
       "<section class=\"hot__content\"> <div class=\"carousel\"> <div class=\"carousel__screen infinite\"> <ul class=\"carousel__track\"> <li class=\"carousel__item\"><div class=\"hot__list__itens\"> <a href=\"https://www.cnnbrasil.com.br/politica/pf-deflagra-12a-fase-da-operacao-lesa-patria-contra-suspeitos-de-ataques-aos-tres-poderes/\" target=\"_self\" title=\"OPERAÇÃO LESA PÁTRIA Nova fase mira policiais que deram ordem de recuo durante atos criminosos de 8/1\"> <img class=\"tb\" src=\"https://www.cnnbrasil.com.br/wp-content/uploads/sites/12/2023/03/GettyImages-1246098715.jpg?w=65&amp;h=37&amp;crop=1\" title=\"OPERAÇÃO LESA PÁTRIA Nova fase mira policiais que deram ordem de recuo durante atos criminosos de 8/1\"/> <div class=\"i_ch\"> <i></i> <span class=\"ch\"> OPERAÇÃO LESA PÁTRIA </span> </div> <span class=\"tp\"> Nova fase mira policiais que deram ordem de recuo durante atos criminosos de 8/1 </span> </a></div></li><li class=\"carousel__item\"><div class=\"hot__list__itens\"> <a href=\"https://www.cnnbrasil.com.br/esportes/policia-espanhola-prende-tres-suspeitos-por-atos-racistas-contra-vini-junior-em-valencia/\" target=\"_self\" title=\"ESPANHA Polícia espanhola prende três suspeitos por atos racistas contra Vini Júnior\"> <img class=\"tb\" src=\"https://www.cnnbrasil.com.br/wp-content/uploads/sites/12/2023/05/GettyImages-1256945693-e1684763498221.jpg?w=65&amp;h=37&amp;crop=1\" title=\"ESPANHA Polícia espanhola prende três suspeitos por atos racistas contra Vini Júnior\"/> <div class=\"i_ch\"> <i></i> <span class=\"ch\"> ESPANHA </span> </div> <span class=\"tp\"> Polícia espanhola prende três suspeitos por atos racistas contra Vini Júnior </span> </a></div></li><li class=\"carousel__item\"><div class=\"hot__list__itens\"> <a href=\"https://www.cnnbrasil.com.br/internacional/russia-acusa-ucrania-de-organizar-acao-de-sabotagem-na-fronteira-entre-os-paises/\" target=\"_self\" title=\"GUERRA Rússia acusa Ucrânia de organizar ação de sabotagem na fronteira entre os países\"> <img class=\"tb\" src=\"https://www.cnnbrasil.com.br/wp-content/uploads/sites/12/2023/05/c03c5044-d447-424e-ad8d-56246f16d46a.jpg?w=65&amp;h=37&amp;crop=1\" title=\"GUERRA Rússia acusa Ucrânia de organizar ação de sabotagem na fronteira entre os países\"/> <div class=\"i_ch\"> <i></i> <span class=\"ch\"> GUERRA </span> </div> <span class=\"tp\"> Rússia acusa Ucrânia de organizar ação de sabotagem na fronteira entre os países </span> </a></div></li><li class=\"carousel__item\"><div class=\"hot__list__itens\"> <a href=\"https://www.cnnbrasil.com.br/economia/governo-decreta-estado-de-emergencia-em-todo-o-pais-apos-casos-de-gripe-aviaria/\" target=\"_self\" title=\"GRIPE AVIÁRIA Governo decreta estado de emergência zoossanitária\"> <img class=\"tb\" src=\"https://www.cnnbrasil.com.br/wp-content/uploads/sites/12/Reuters_Direct_Media/BrazilOnlineReportDomesticNews/tagreuters.com2023binary_LYNXMPEJ4H0XE-FILEDIMAGE.jpg?w=65&amp;h=37&amp;crop=1\" title=\"GRIPE AVIÁRIA Governo decreta estado de emergência zoossanitária\"/> <div class=\"i_ch\"> <i></i> <span class=\"ch\"> GRIPE AVIÁRIA </span> </div> <span class=\"tp\"> Governo decreta estado de emergência zoossanitária </span> </a></div></li> </ul> <ul class=\"carousel__track\"> <li class=\"carousel__item\"><div class=\"hot__list__itens\"> <a href=\"https://www.cnnbrasil.com.br/politica/pf-deflagra-12a-fase-da-operacao-lesa-patria-contra-suspeitos-de-ataques-aos-tres-poderes/\" target=\"_self\" title=\"OPERAÇÃO LESA PÁTRIA Nova fase mira policiais que deram ordem de recuo durante atos criminosos de 8/1\"> <img class=\"tb\" src=\"https://www.cnnbrasil.com.br/wp-content/uploads/sites/12/2023/03/GettyImages-1246098715.jpg?w=65&amp;h=37&amp;crop=1\" title=\"OPERAÇÃO LESA PÁTRIA Nova fase mira policiais que deram ordem de recuo durante atos criminosos de 8/1\"/> <div class=\"i_ch\"> <i></i> <span class=\"ch\"> OPERAÇÃO LESA PÁTRIA </span> </div> <span class=\"tp\"> Nova fase mira policiais que deram ordem de recuo durante atos criminosos de 8/1 </span> </a></div></li><li class=\"carousel__item\"><div class=\"hot__list__itens\"> <a href=\"https://www.cnnbrasil.com.br/esportes/policia-espanhola-prende-tres-suspeitos-por-atos-racistas-contra-vini-junior-em-valencia/\" target=\"_self\" title=\"ESPANHA Polícia espanhola prende três suspeitos por atos racistas contra Vini Júnior\"> <img class=\"tb\" src=\"https://www.cnnbrasil.com.br/wp-content/uploads/sites/12/2023/05/GettyImages-1256945693-e1684763498221.jpg?w=65&amp;h=37&amp;crop=1\" title=\"ESPANHA Polícia espanhola prende três suspeitos por atos racistas contra Vini Júnior\"/> <div class=\"i_ch\"> <i></i> <span class=\"ch\"> ESPANHA </span> </div> <span class=\"tp\"> Polícia espanhola prende três suspeitos por atos racistas contra Vini Júnior </span> </a></div></li><li class=\"carousel__item\"><div class=\"hot__list__itens\"> <a href=\"https://www.cnnbrasil.com.br/internacional/russia-acusa-ucrania-de-organizar-acao-de-sabotagem-na-fronteira-entre-os-paises/\" target=\"_self\" title=\"GUERRA Rússia acusa Ucrânia de organizar ação de sabotagem na fronteira entre os países\"> <img class=\"tb\" src=\"https://www.cnnbrasil.com.br/wp-content/uploads/sites/12/2023/05/c03c5044-d447-424e-ad8d-56246f16d46a.jpg?w=65&amp;h=37&amp;crop=1\" title=\"GUERRA Rússia acusa Ucrânia de organizar ação de sabotagem na fronteira entre os países\"/> <div class=\"i_ch\"> <i></i> <span class=\"ch\"> GUERRA </span> </div> <span class=\"tp\"> Rússia acusa Ucrânia de organizar ação de sabotagem na fronteira entre os países </span> </a></div></li><li class=\"carousel__item\"><div class=\"hot__list__itens\"> <a href=\"https://www.cnnbrasil.com.br/economia/governo-decreta-estado-de-emergencia-em-todo-o-pais-apos-casos-de-gripe-aviaria/\" target=\"_self\" title=\"GRIPE AVIÁRIA Governo decreta estado de emergência zoossanitária\"> <img class=\"tb\" src=\"https://www.cnnbrasil.com.br/wp-content/uploads/sites/12/Reuters_Direct_Media/BrazilOnlineReportDomesticNews/tagreuters.com2023binary_LYNXMPEJ4H0XE-FILEDIMAGE.jpg?w=65&amp;h=37&amp;crop=1\" title=\"GRIPE AVIÁRIA Governo decreta estado de emergência zoossanitária\"/> <div class=\"i_ch\"> <i></i> <span class=\"ch\"> GRIPE AVIÁRIA </span> </div> <span class=\"tp\"> Governo decreta estado de emergência zoossanitária </span> </a></div></li> </ul> </div> </div> </section>"
      ]
     },
     "execution_count": 8,
     "metadata": {},
     "output_type": "execute_result"
    }
   ],
   "source": [
    "cnn_soup = BeautifulSoup(cnn_data.content, 'html.parser')\n",
    "cnn_nw_data = cnn_soup.find_all('section')\n",
    "cnn_nw_data[0]"
   ]
  },
  {
   "cell_type": "code",
   "execution_count": 9,
   "id": "4d7052da",
   "metadata": {},
   "outputs": [],
   "source": [
    "c = cnn_nw_data[0].find('a')\n",
    "#dir(c)\n"
   ]
  },
  {
   "cell_type": "code",
   "execution_count": 10,
   "id": "adbe3f16",
   "metadata": {},
   "outputs": [
    {
     "data": {
      "text/plain": [
       "{'href': 'https://www.cnnbrasil.com.br/politica/pf-deflagra-12a-fase-da-operacao-lesa-patria-contra-suspeitos-de-ataques-aos-tres-poderes/',\n",
       " 'title': 'OPERAÇÃO LESA PÁTRIA Nova fase mira policiais que deram ordem de recuo durante atos criminosos de 8/1',\n",
       " 'target': '_self'}"
      ]
     },
     "execution_count": 10,
     "metadata": {},
     "output_type": "execute_result"
    }
   ],
   "source": [
    "c.attrs"
   ]
  },
  {
   "cell_type": "code",
   "execution_count": 11,
   "id": "cfa59afc",
   "metadata": {},
   "outputs": [
    {
     "name": "stdout",
     "output_type": "stream",
     "text": [
      "[{'title': 'OPERAÇÃO LESA PÁTRIA Nova fase mira policiais que deram ordem de recuo durante atos criminosos de 8/1', 'href': 'https://www.cnnbrasil.com.br/politica/pf-deflagra-12a-fase-da-operacao-lesa-patria-contra-suspeitos-de-ataques-aos-tres-poderes/'}, {'title': 'Polícia espanhola prende sete suspeitos de atos racistas contra Vinícius Júnior', 'href': 'https://www.cnnbrasil.com.br/esportes/policia-espanhola-prende-tres-suspeitos-por-atos-racistas-contra-vini-junior-em-valencia/'}, {'title': 'Operação cumpre mandados contra policiais que deram ordem de recuo durante 8/1', 'href': 'https://www.cnnbrasil.com.br/politica/pf-deflagra-12a-fase-da-operacao-lesa-patria-contra-suspeitos-de-ataques-aos-tres-poderes/'}, {'title': 'Política', 'href': 'https://www.cnnbrasil.com.br/politica/'}, {'title': 'Pop', 'href': 'https://www.cnnbrasil.com.br/pop/'}, {'title': 'Mercado', 'href': '/cotacoes/bolsa'}, {'title': 'Economia', 'href': 'https://www.cnnbrasil.com.br/economia/'}, {'title': 'Internacional', 'href': 'https://www.cnnbrasil.com.br/internacional/'}, {'title': 'Viagem & Gastronomia', 'href': 'https://www.cnnbrasil.com.br/viagemegastronomia/'}, {'title': 'Nacional', 'href': 'https://www.cnnbrasil.com.br/nacional/'}, {'title': 'Saúde', 'href': 'https://www.cnnbrasil.com.br/saude/'}, {'title': 'Esportes', 'href': 'https://www.cnnbrasil.com.br/esportes/'}, {'title': 'CNN Plural', 'href': 'https://www.cnnbrasil.com.br/tudo-sobre/cnn-plural/'}, {'title': 'Ciência e Tecnologia', 'href': 'https://www.cnnbrasil.com.br/tecnologia/'}, {'title': 'Brasileira é encontrada em Paris após mais de 15 dias desaparecida', 'href': 'https://www.cnnbrasil.com.br/internacional/brasileira-e-encontrada-em-paris-apos-mais-de-15-dias-desaparecida/'}]\n"
     ]
    }
   ],
   "source": [
    "cnn_list_news = []\n",
    "aux = None \n",
    "for news in cnn_nw_data:\n",
    "    aux = news.find('a')\n",
    "    \n",
    "    \n",
    "    try :\n",
    "        \n",
    "        aux = aux.attrs\n",
    "        cnn_list_news.extend( [ { 'title': aux['title'], 'href': aux['href'] } ] ) \n",
    "\n",
    "    except:\n",
    "        pass\n",
    "\n",
    "print(cnn_list_news)"
   ]
  },
  {
   "cell_type": "code",
   "execution_count": 12,
   "id": "ab2be6dd",
   "metadata": {},
   "outputs": [
    {
     "name": "stdout",
     "output_type": "stream",
     "text": [
      "\n",
      "OPERAÇÃO LESA PÁTRIA Nova fase mira policiais que deram ordem de recuo durante atos criminosos de 8/1 \n",
      "https://www.cnnbrasil.com.br/politica/pf-deflagra-12a-fase-da-operacao-lesa-patria-contra-suspeitos-de-ataques-aos-tres-poderes/\n",
      "\n",
      "\n",
      "\n",
      "Polícia espanhola prende sete suspeitos de atos racistas contra Vinícius Júnior \n",
      "https://www.cnnbrasil.com.br/esportes/policia-espanhola-prende-tres-suspeitos-por-atos-racistas-contra-vini-junior-em-valencia/\n",
      "\n",
      "\n",
      "\n",
      "Operação cumpre mandados contra policiais que deram ordem de recuo durante 8/1 \n",
      "https://www.cnnbrasil.com.br/politica/pf-deflagra-12a-fase-da-operacao-lesa-patria-contra-suspeitos-de-ataques-aos-tres-poderes/\n",
      "\n",
      "\n",
      "\n",
      "Política \n",
      "https://www.cnnbrasil.com.br/politica/\n",
      "\n",
      "\n",
      "\n",
      "Pop \n",
      "https://www.cnnbrasil.com.br/pop/\n",
      "\n",
      "\n",
      "\n",
      "Mercado \n",
      "/cotacoes/bolsa\n",
      "\n",
      "\n",
      "\n",
      "Economia \n",
      "https://www.cnnbrasil.com.br/economia/\n",
      "\n",
      "\n",
      "\n",
      "Internacional \n",
      "https://www.cnnbrasil.com.br/internacional/\n",
      "\n",
      "\n",
      "\n",
      "Viagem & Gastronomia \n",
      "https://www.cnnbrasil.com.br/viagemegastronomia/\n",
      "\n",
      "\n",
      "\n",
      "Nacional \n",
      "https://www.cnnbrasil.com.br/nacional/\n",
      "\n",
      "\n",
      "\n",
      "Saúde \n",
      "https://www.cnnbrasil.com.br/saude/\n",
      "\n",
      "\n",
      "\n",
      "Esportes \n",
      "https://www.cnnbrasil.com.br/esportes/\n",
      "\n",
      "\n",
      "\n",
      "CNN Plural \n",
      "https://www.cnnbrasil.com.br/tudo-sobre/cnn-plural/\n",
      "\n",
      "\n",
      "\n",
      "Ciência e Tecnologia \n",
      "https://www.cnnbrasil.com.br/tecnologia/\n",
      "\n",
      "\n",
      "\n",
      "Brasileira é encontrada em Paris após mais de 15 dias desaparecida \n",
      "https://www.cnnbrasil.com.br/internacional/brasileira-e-encontrada-em-paris-apos-mais-de-15-dias-desaparecida/\n",
      "\n",
      "\n"
     ]
    }
   ],
   "source": [
    "cnn_list_news_ma = None\n",
    "for i in cnn_list_news:\n",
    "    \n",
    "    try:\n",
    "        print(f\"\\n{i['title']} \\n{i['href']}\\n\\n\" ) \n",
    "    except:\n",
    "        pass \n",
    "    #keys = i.keys()\n",
    "    #print(keys)   \n",
    "    \n",
    "\n",
    "    #print( f'\\t\\n\\n{out}') \n",
    "    #out = '' \n"
   ]
  },
  {
   "cell_type": "code",
   "execution_count": 13,
   "id": "18478fa3",
   "metadata": {},
   "outputs": [
    {
     "data": {
      "text/plain": [
       "6"
      ]
     },
     "execution_count": 13,
     "metadata": {},
     "output_type": "execute_result"
    }
   ],
   "source": [
    "len(dw)"
   ]
  },
  {
   "cell_type": "code",
   "execution_count": 14,
   "id": "81147e1f",
   "metadata": {},
   "outputs": [
    {
     "data": {
      "text/plain": [
       "15"
      ]
     },
     "execution_count": 14,
     "metadata": {},
     "output_type": "execute_result"
    }
   ],
   "source": [
    "len(cnn_list_news)"
   ]
  },
  {
   "cell_type": "markdown",
   "id": "f8cdb6c9",
   "metadata": {
    "jp-MarkdownHeadingCollapsed": true,
    "tags": []
   },
   "source": [
    "# BBC Brasil "
   ]
  },
  {
   "cell_type": "markdown",
   "id": "4c05e698",
   "metadata": {},
   "source": [
    "Crawler das notícias do portal do site BBC Brasil."
   ]
  },
  {
   "cell_type": "code",
   "execution_count": 15,
   "id": "add6fad0",
   "metadata": {},
   "outputs": [],
   "source": [
    "url_bbc = 'https://www.bbc.com/portuguese'\n",
    "url_bbc_base = 'https://www.bbc.com'"
   ]
  },
  {
   "cell_type": "code",
   "execution_count": 16,
   "id": "b0cfcf46",
   "metadata": {},
   "outputs": [],
   "source": [
    "bbc_data = requests.get(url_bbc)\n",
    "bbc_soup = BeautifulSoup(bbc_data.content, 'html.parser')\n",
    "bbc_sections =  bbc_soup.find_all('section' , class_= 'bbc-iinl4t')"
   ]
  },
  {
   "cell_type": "code",
   "execution_count": 17,
   "id": "ff387772",
   "metadata": {},
   "outputs": [],
   "source": [
    "bbc_news_lists = []"
   ]
  },
  {
   "cell_type": "markdown",
   "id": "46e14fbd",
   "metadata": {},
   "source": [
    "``` python\n",
    "url_bbc_base+bbc_sections[0].select('a')[0]['href']\n",
    "```\n",
    "\n",
    "Saída 'https://www.bbc.com/portuguese/brasil-63507138'"
   ]
  },
  {
   "cell_type": "code",
   "execution_count": 18,
   "id": "df0594c3",
   "metadata": {},
   "outputs": [
    {
     "data": {
      "text/plain": [
       "'Por que roubos de carro despencaram em SP na última década'"
      ]
     },
     "execution_count": 18,
     "metadata": {},
     "output_type": "execute_result"
    }
   ],
   "source": [
    "bbc_sections[0].select('a')[0].text"
   ]
  },
  {
   "cell_type": "code",
   "execution_count": 19,
   "id": "935c15b3",
   "metadata": {},
   "outputs": [],
   "source": [
    "for news in bbc_sections:\n",
    "    bbc_news_lists.extend( [ { 'title': i.text, 'url': i['href'] } for i in news.select('a') ] )"
   ]
  },
  {
   "cell_type": "code",
   "execution_count": 20,
   "id": "73480045",
   "metadata": {},
   "outputs": [],
   "source": [
    "bbc_news_lists = []\n",
    "aux = None \n",
    "\n",
    "for section_news in bbc_sections:\n",
    "    for news in section_news.select( 'a' ):\n",
    "        if news['href'].find('topic') != -1:\n",
    "            pass\n",
    "        else :\n",
    "            if news['href'].find('https') != -1:\n",
    "                bbc_news_lists.extend( [ { 'title': news.text, 'href': news['href'] } ] )\n",
    "            else:\n",
    "                bbc_news_lists.extend( [ { 'title': news.text, 'href': url_bbc_base+news['href'] } ] )"
   ]
  },
  {
   "cell_type": "code",
   "execution_count": 21,
   "id": "21212bf4",
   "metadata": {},
   "outputs": [
    {
     "name": "stdout",
     "output_type": "stream",
     "text": [
      "Número de notícias: 56\n"
     ]
    }
   ],
   "source": [
    "print(f'Número de notícias: {len(bbc_news_lists)}')"
   ]
  },
  {
   "cell_type": "code",
   "execution_count": 22,
   "id": "2191c506",
   "metadata": {},
   "outputs": [
    {
     "data": {
      "text/plain": [
       "[{'title': 'Vídeo, Como lei que inspirou Deltan Dallagnol levou à sua cassação, Duration 5,24',\n",
       "  'href': 'https://www.bbc.com/portuguese/brasil-65632368'},\n",
       " {'title': 'Três falácias que podem nos enganar - e como evitar cair na armadilha',\n",
       "  'href': 'https://www.bbc.com/portuguese/articles/cx9n4gej8llo'},\n",
       " {'title': 'Ouça aqui o podcast que conta incríveis casos na raiz das guerras culturais',\n",
       "  'href': 'https://www.bbc.com/portuguese/podcasts/p0cx5pt6'}]"
      ]
     },
     "execution_count": 22,
     "metadata": {},
     "output_type": "execute_result"
    }
   ],
   "source": [
    "random.choices(bbc_news_lists, k = 3)"
   ]
  },
  {
   "cell_type": "code",
   "execution_count": 23,
   "id": "b3a68bfb",
   "metadata": {},
   "outputs": [
    {
     "name": "stdout",
     "output_type": "stream",
     "text": [
      "https://www.bbc.com/portuguese/topics/cz74k71p8ynt\n"
     ]
    }
   ],
   "source": [
    "print(url_bbc_base+'/portuguese/topics/cz74k71p8ynt')"
   ]
  },
  {
   "cell_type": "code",
   "execution_count": 24,
   "id": "9a107ff9",
   "metadata": {},
   "outputs": [],
   "source": [
    "with open('bbc_news.txt', 'w') as fl:\n",
    "    for i in bbc_news_lists:\n",
    "        fl.write(i['title'] +'\\n' + i['href'] +'\\n\\n')\n",
    "    fl.close()"
   ]
  },
  {
   "cell_type": "markdown",
   "id": "f89eb773-762f-4e86-a627-367f322dcbff",
   "metadata": {
    "tags": []
   },
   "source": [
    "# Portal Band"
   ]
  },
  {
   "cell_type": "markdown",
   "id": "3a397d79-f69c-448f-a788-a54556d5684d",
   "metadata": {},
   "source": [
    "Busca de lista de notícias do portal Band."
   ]
  },
  {
   "cell_type": "raw",
   "id": "07190b70-cca3-462a-ae8c-ed26aa1302b0",
   "metadata": {},
   "source": [
    "Verificar seções do site [https://www.band.uol.com.br/](https://www.band.uol.com.br/) quai contém links de possíveis notícias destaques na página principal."
   ]
  },
  {
   "cell_type": "code",
   "execution_count": 64,
   "id": "9d9c1547-3393-469d-a279-06e12fc5d940",
   "metadata": {},
   "outputs": [],
   "source": [
    "url_band = 'https://www.band.uol.com.br/'"
   ]
  },
  {
   "cell_type": "code",
   "execution_count": 26,
   "id": "79e1162e-41af-48c8-81fc-5875da822b72",
   "metadata": {},
   "outputs": [],
   "source": [
    "band_data = requests.get(url_band).content\n",
    "soup_band = BeautifulSoup(band_data, 'html.parser')\n"
   ]
  },
  {
   "cell_type": "markdown",
   "id": "8df31aa0-4a92-49f5-bf05-c1a6240043ad",
   "metadata": {
    "jp-MarkdownHeadingCollapsed": true,
    "tags": []
   },
   "source": [
    "#### Band list sections "
   ]
  },
  {
   "cell_type": "code",
   "execution_count": null,
   "id": "1ea1025c-54be-4a38-9c43-bb2dd0d5a48d",
   "metadata": {},
   "outputs": [],
   "source": [
    "news_band_section = soup_band.find_all('section')"
   ]
  },
  {
   "cell_type": "code",
   "execution_count": 67,
   "id": "5d2f4431-a295-4794-9fcb-b68a8c6f5026",
   "metadata": {},
   "outputs": [
    {
     "name": "stdout",
     "output_type": "stream",
     "text": [
      "<section _ngcontent-sc38=\"\" class=\"menu__section\"><span _ngcontent-sc38=\"\">Menu</span><!-- --><!-- --></section>\n",
      "Número: 17\n"
     ]
    }
   ],
   "source": [
    "print(news_band_section[0])\n",
    "print(f'Número: {len(news_band_section)}')"
   ]
  },
  {
   "cell_type": "markdown",
   "id": "6dd849ba-1ac6-4a4d-9fc2-fea2cba324c8",
   "metadata": {
    "tags": []
   },
   "source": [
    "#### Band home main"
   ]
  },
  {
   "cell_type": "markdown",
   "id": "6dff9eb5-37d9-49ae-bef7-f78074ec694f",
   "metadata": {},
   "source": [
    "![bandcapt.png](bandcapt.png)\n",
    "\n",
    "1. tag main class -> home\n",
    "2. Tag section com class=hardnews\n",
    "3. tag div's conteúdos com para classes hardnews__highlight e cards"
   ]
  },
  {
   "cell_type": "code",
   "execution_count": null,
   "id": "b15c5e6e-4502-4933-a157-a7b1f6be6dc6",
   "metadata": {},
   "outputs": [],
   "source": [
    "import re\n",
    "# Tag 'main' e class=[home container]. (variável band_main_home)\n",
    "band_main_home = soup_band.find_all('main', class_='home')\n",
    "# -----------------------\n",
    "#dir(band_main_home[0] )\n",
    "#print(str( band_main_home ) )\n",
    "soup_band2 = BeautifulSoup( str( band_main_home ) , 'html.parser')\n",
    "\n",
    "bmainhardnews = soup_band2.find_all('section', 'hardnews')\n",
    "soup_blocknews = BeautifulSoup( str( bmainhardnews[0] ), 'html.parser' )\n",
    "bn1 = soup_blocknews.find_all( 'div', class_='hardnews__highlight' )\n",
    "\n",
    "soup_links_news = BeautifulSoup(str( bn1 ), 'html.parser') \n",
    "bn1_link_news = soup_links_news.find_all( 'a'  )#, class_= [ 'link image','related', 'link']  ) \n",
    "bn2 = soup_blocknews.find_all( 'div', class_='cards' )\n",
    "\n",
    "soup2bn2 = BeautifulSoup( str( bn2[0] ), 'html.parser' ) \n",
    "bn2_cards_links = soup2bn2.find_all( 'a' )\n",
    "\n",
    "# Tag: div Class -> hardnews__highlight and card. Duas seções/blocos de noticias.\n",
    "#print('\\n> bn1 ', bn1[0] )\n",
    "#print('\\n> bn2 ', bn2[0] )\n",
    "print('\\n bn1_link_news ', len(bn1_link_news ))\n",
    "print('\\n bn1_link_news ', bn1_link_news[1] )\n",
    "print('\\n'+30*'-')\n",
    "print('\\n bn2_cards_links (size)', len(bn2_cards_links) )\n",
    "print('\\ bn2_cards_links ', bn2_cards_links[-1] ) #Pegando o último elemento da lista e exibindo.\n"
   ]
  },
  {
   "cell_type": "code",
   "execution_count": null,
   "id": "f31bde93-d156-42b7-9f96-817dfa7729fa",
   "metadata": {},
   "outputs": [],
   "source": [
    "#print(dir(bn1_link_news[0] ) )\n",
    "#bn1_link_news[0]['href']\n",
    "\n",
    "# Lista de links de notícias no bloco {tag: div, class_: 'hardnews__highlight' } do HTML.\n",
    "for i in bn1_link_news:\n",
    "    print('\\n> ', i.text +'\\n | '+i['href'])"
   ]
  },
  {
   "cell_type": "code",
   "execution_count": null,
   "id": "9e13e766-4061-4438-87d3-3cec7fb6717a",
   "metadata": {},
   "outputs": [],
   "source": [
    "for i in bn2_cards_links:\n",
    "    print('\\n> ', i['title'] +'\\n | '+i['href'])"
   ]
  },
  {
   "cell_type": "markdown",
   "id": "f481fabc-c560-4474-82ec-b56a50ec5eda",
   "metadata": {},
   "source": [
    "#### Função \"trackBandNews\" (Obtendo notícias do portal da Band)"
   ]
  },
  {
   "cell_type": "code",
   "execution_count": null,
   "id": "327d8751-424c-4ace-8ff2-2aff59beb679",
   "metadata": {},
   "outputs": [],
   "source": [
    "# Type list of dictionary\n",
    "ListDict = list[ dict ]\n",
    "\n",
    "def trackBandNews(data: str) -> ListDict:\n",
    "    \"\"\"\n",
    "    data: str [dados] text html\n",
    "    return list of news with fields 'Title of news' and 'url' for news.\n",
    "    l = [\n",
    "    {'title': 'string', 'href': link},\n",
    "    ...\n",
    "    ]\n",
    "    \n",
    "    \"\"\"\n",
    "    # Lista de notícias\n",
    "    result = []\n",
    "    \n",
    "    # Obtendo conteúdo html\n",
    "    #band_data = requests.get(url_band).content\n",
    "    soup_band = BeautifulSoup(data, 'html.parser')\n",
    "    \n",
    "    # Primeiro acesso tag main (bloco principal que contêm conteúdos como as noticias principais e seus links.\n",
    "    # Tag 'main' e class=[home container]. (variável band_main_home)\n",
    "    band_main_home = soup_band.find_all('main', class_='home')\n",
    "    \n",
    "    # Capturando html do bloco maior em main que contêm as noticias.\n",
    "    soup_band2 = BeautifulSoup( str( band_main_home ) , 'html.parser')\n",
    "    \n",
    "    # Este block ( tag:section, class:hardnews) filho da tag main contem dois blocos de noticias a serem tratados insoladamente.\n",
    "    bmainhardnews = soup_band2.find_all('section', 'hardnews')\n",
    "    soup_blocknews = BeautifulSoup( str( bmainhardnews[0] ), 'html.parser' )\n",
    "    bn1 = soup_blocknews.find_all( 'div', class_='hardnews__highlight' )\n",
    "\n",
    "    \n",
    "    \n",
    "    return result"
   ]
  },
  {
   "cell_type": "markdown",
   "id": "c4c041e9-85eb-4afa-8592-27aed6676f49",
   "metadata": {
    "tags": []
   },
   "source": [
    "#### Percorrer listas de elementos em 'news_band_section'"
   ]
  },
  {
   "cell_type": "code",
   "execution_count": 135,
   "id": "470af61e-68c4-443e-9847-217ffd21a2b2",
   "metadata": {},
   "outputs": [],
   "source": [
    "aux = []\n",
    "list_ = None\n",
    "for secs in news_band_section:\n",
    "    list_ = secs.find_all('a', class_='link')\n",
    "    for i in list_:\n",
    "        \n",
    "        try:\n",
    "            aux.extend( [ { 'title': i.h3.text+'. '+ i.h2.text, 'href': i['href']} ] )\n",
    "        except:\n",
    "            aux.extend( [ { 'title': i.text, 'href': i['href'] } ] )\n",
    "    #aux.extend([ { 'title': i}  for i in list_ ]  )\n",
    "news_list_band = [] \n",
    "news_list_band.extend(random.choices(aux, k=4 ) )"
   ]
  },
  {
   "cell_type": "code",
   "execution_count": 136,
   "id": "98ce98b6-b991-4bab-b84c-574a5299a50b",
   "metadata": {},
   "outputs": [],
   "source": [
    "n = soup_band.find_all('a')"
   ]
  },
  {
   "cell_type": "code",
   "execution_count": 30,
   "id": "14f61d43-c1c8-4256-9cde-a8e78f9e190d",
   "metadata": {},
   "outputs": [
    {
     "name": "stdout",
     "output_type": "stream",
     "text": [
      "\n",
      "GRÃOS MOFADOS\n",
      "https://www.band.uol.com.br/agro/noticias/lotes-de-feijao-das-marcas-da-mamae-e-sanes-sao-recolhidos-no-mercado-16603299\n",
      "\n",
      "CONFUSÃO AO VIVO\n",
      "https://www.band.uol.com.br/noticias/jornal-da-noite/ultimas/homem-invade-radio-e-agride-jornalistas-no-interior-de-goias-16603973\n",
      "\n",
      "Brasil Urgente\n",
      "https://www.band.uol.com.br/noticias/brasil-urgente\n",
      "\n",
      "Confira produtos que vão ajudar você a se manter quentinho\n",
      "https://www.band.uol.com.br/band-shop/guia-de-compras/veja-produtos-que-vao-ajudar-voce-a-se-manter-quentinho-em-dias-frios-16602293\n"
     ]
    }
   ],
   "source": [
    "import random\n",
    "\n",
    "random.choices(news_list_band, k = 4)[0:]\n",
    "for i in news_list_band:\n",
    "    print(f\"\\n{i['title']}\\n{i['href']}\")"
   ]
  },
  {
   "cell_type": "code",
   "execution_count": 31,
   "id": "d4d2372d-8299-46a0-9d0b-332dae51aecf",
   "metadata": {},
   "outputs": [
    {
     "data": {
      "text/plain": [
       "<a _ngcontent-sc33=\"\" aria-label=\"Band\" class=\"logo logo--portal logo-name--Band logo--image center\" href=\"/\"><img _ngcontent-sc33=\"\" alt=\"Band\" class=\"logo-image\" height=\"35\" src=\"https://pubimg.band.uol.com.br/Files/logo-band-2022-v2.png?v2\" width=\"101\"/><!-- --><!-- --><!-- --></a>"
      ]
     },
     "execution_count": 31,
     "metadata": {},
     "output_type": "execute_result"
    }
   ],
   "source": [
    "n[0]"
   ]
  },
  {
   "cell_type": "code",
   "execution_count": 59,
   "id": "9d503a4e-1430-485d-8714-042c7e69e327",
   "metadata": {},
   "outputs": [
    {
     "data": {
      "text/plain": [
       "<a _ngcontent-sc33=\"\" aria-label=\"Band\" class=\"logo logo--portal logo-name--Band logo--image center\" href=\"/\"><img _ngcontent-sc33=\"\" alt=\"Band\" class=\"logo-image\" height=\"35\" src=\"https://pubimg.band.uol.com.br/Files/logo-band-2022-v2.png?v2\" width=\"101\"/><!-- --><!-- --><!-- --></a>"
      ]
     },
     "execution_count": 59,
     "metadata": {},
     "output_type": "execute_result"
    }
   ],
   "source": [
    "#print(dir(n[0]))\n",
    "n[0]"
   ]
  },
  {
   "cell_type": "code",
   "execution_count": 63,
   "id": "466e01bc-6221-4f8f-8f60-72223e9d281b",
   "metadata": {},
   "outputs": [
    {
     "name": "stdout",
     "output_type": "stream",
     "text": [
      "/\n",
      "no link\n",
      "https://bandplay.com/home\n",
      "https://www.band.uol.com.br/noticias\n",
      "https://www.band.uol.com.br/esportes\n",
      "https://www.band.uol.com.br/entretenimento\n",
      "https://receitas.band.uol.com.br/\n",
      "https://www.band.uol.com.br/programacao\n",
      "https://www.band.uol.com.br/band-shop\n",
      "no link\n",
      "no link\n",
      "https://www.band.uol.com.br/ao-vivo\n",
      "https://bandplay.com/home\n",
      "https://www.band.uol.com.br/band-shop\n",
      "https://www.band.uol.com.br/videos\n",
      "https://www.band.uol.com.br/podcasts\n",
      "https://www.band.uol.com.br/newsletters\n",
      "https://www.band.uol.com.br/programacao\n",
      "https://www.band.uol.com.br/show-da-fe\n",
      "https://twitter.com/portaldaband\n",
      "https://www.facebook.com/Band.com.br\n",
      "https://www.youtube.com/c/BandBr/\n",
      "https://www.instagram.com/bandtv/\n",
      "https://www.band.uol.com.br/band-shop\n",
      "no link\n",
      "no link\n",
      "https://www.band.uol.com.br/tudo-sobre/vinicius-junior\n",
      "https://www.band.uol.com.br/entretenimento/masterchef\n",
      "https://www.band.uol.com.br/esportes/automobilismo/formula-1\n",
      "https://www.band.uol.com.br/esportes/futebol/jogos-de-hoje\n",
      "https://www.band.uol.com.br/noticias/policia-prende-quatro-suspeitos-de-pendurar-boneco-de-vini-jr-em-ponte-em-madri-16603989\n",
      "https://www.band.uol.com.br/noticias/vini-jr-tres-sao-presos-por-racismo-contra-brasileiro-no-jogo-em-valencia-16603994\n",
      "https://www.band.uol.com.br/noticias/racismo-este-e-um-crime-de-odio-e-o-perseguiremos-diz-policia-da-espanha-16604001\n",
      "https://www.band.uol.com.br/esportes/vini-junior-lista-ataques-racistas-e-cobra-autoridades-da-espanha-16603873\n",
      "https://www.band.uol.com.br/noticias/colunistas/fernando-mitre/mitre-os-atos-de-racismo-recorrentes-e-a-impunidade-16603968\n",
      "https://www.band.uol.com.br/esportes/vini-jr-ja-quantas-agressoes-racistas-espanha-veja-denuncias-16603862\n",
      "https://www.band.uol.com.br/band-fm/noticias/ze-neto-e-cristiano-ao-vivo-no-estacao-band-fm-16603933\n",
      "https://www.band.uol.com.br/noticias/cristo-redentor-apaga-luzes-em-solidariedade-a-vinicius-jr--16603906\n",
      "https://www.band.uol.com.br/economia/noticias/imposto-de-renda-consulta-ao-1o-lote-de-restituicao-sera-liberada-nesta-quarta-16603864\n",
      "https://www.band.uol.com.br/esportes/automobilismo/formula-1/noticias/f1-2023-hamilton-ferrari-mercedes-16603891\n",
      "https://www.band.uol.com.br/noticias/summit-debate-os-os-desafios-e-beneficios-das-spin-offs-no-brasil-veja-como-foi-16602395\n",
      "https://www.band.uol.com.br/noticias/trf-4-afasta-o-juiz-eduardo-appio-da-lava-jato-16603965\n",
      "https://www.band.uol.com.br/noticias/trf-4-afasta-o-juiz-eduardo-appio-da-lava-jato-16603965\n",
      "https://www.band.uol.com.br/noticias/trf-4-afasta-o-juiz-eduardo-appio-da-lava-jato-16603965\n",
      "https://www.band.uol.com.br/bandnews-fm/noticias/reinaldo-appio-afastado-e-ainda-moro-deltan-e-tacla-duran-quem-comemora-16604024\n",
      "https://www.band.uol.com.br/noticias/pf-prende-major-da-pm-supeito-de-envolvimento-em-atos-de-8-de-janeiro-16604015\n",
      "https://www.band.uol.com.br/noticias/pf-prende-major-da-pm-supeito-de-envolvimento-em-atos-de-8-de-janeiro-16604015\n",
      "https://www.band.uol.com.br/noticias/pf-prende-major-da-pm-supeito-de-envolvimento-em-atos-de-8-de-janeiro-16604015\n",
      "https://www.band.uol.com.br/noticias/jornal-da-noite/ultimas/pf-vai-apurar-indicios-de-grampo-ilegal-na-cela-de-alberto-youssef-16603972\n",
      "https://www.band.uol.com.br/radio-bandeirantes/videos/deyverson-protesta-contra-o-racismo-e-manda-recado-para-vini-17165305\n",
      "https://www.band.uol.com.br/radio-bandeirantes/videos/deyverson-protesta-contra-o-racismo-e-manda-recado-para-vini-17165305\n",
      "https://www.band.uol.com.br/radio-bandeirantes/videos/deyverson-protesta-contra-o-racismo-e-manda-recado-para-vini-17165305\n",
      "https://www.band.uol.com.br/esportes/futebol/noticias/palmeiras-vai-pedir-dispensa-de-gabriel-menino-em-depoimento-na-cpi-das-apostas-16603940\n",
      "https://www.band.uol.com.br/noticias/jornal-da-noite/ultimas/homem-invade-radio-e-agride-jornalistas-no-interior-de-goias-16603973\n",
      "https://www.band.uol.com.br/noticias/jornal-da-noite/ultimas/homem-invade-radio-e-agride-jornalistas-no-interior-de-goias-16603973\n",
      "https://www.band.uol.com.br/noticias/jornal-da-noite/ultimas/homem-invade-radio-e-agride-jornalistas-no-interior-de-goias-16603973\n",
      "https://www.band.uol.com.br/noticias/governo-federal-decreta-emergencia-zoossanitaria-devido-a-crise-de-gripe-aviaria-16603895\n",
      "https://www.band.uol.com.br/noticias/governo-federal-decreta-emergencia-zoossanitaria-devido-a-crise-de-gripe-aviaria-16603895\n",
      "https://www.band.uol.com.br/noticias/governo-federal-decreta-emergencia-zoossanitaria-devido-a-crise-de-gripe-aviaria-16603895\n",
      "https://www.band.uol.com.br/noticias/jornal-da-noite/ultimas/cachorro-vitima-de-bala-perdida-recebe-alta-no-rio-de-janeiro-16603970\n",
      "https://www.band.uol.com.br/noticias/jornal-da-noite/ultimas/cachorro-vitima-de-bala-perdida-recebe-alta-no-rio-de-janeiro-16603970\n",
      "https://www.band.uol.com.br/noticias/jornal-da-noite/ultimas/cachorro-vitima-de-bala-perdida-recebe-alta-no-rio-de-janeiro-16603970\n",
      "https://www.band.uol.com.br/esportes/colunistas/duelo-ufc/veja-imagens-de-mackenzie-dern-e-angela-hill-apos-luta-no-ufc-16603875\n",
      "https://www.band.uol.com.br/esportes/colunistas/duelo-ufc/veja-imagens-de-mackenzie-dern-e-angela-hill-apos-luta-no-ufc-16603875\n",
      "https://www.band.uol.com.br/esportes/colunistas/duelo-ufc/veja-imagens-de-mackenzie-dern-e-angela-hill-apos-luta-no-ufc-16603875\n",
      "https://www.band.uol.com.br/esportes/automobilismo/formula-1/noticias/f1-proxima-corrida-data-gp-monaco-16603765\n",
      "https://www.band.uol.com.br/esportes/automobilismo/formula-1/noticias/f1-proxima-corrida-data-gp-monaco-16603765\n",
      "https://www.band.uol.com.br/esportes/automobilismo/formula-1/noticias/f1-proxima-corrida-data-gp-monaco-16603765\n",
      "https://www.band.uol.com.br/esportes/automobilismo/formula-1/noticias/gp-de-monaco-haas-150-corridas-f1-16604018\n",
      "https://www.band.uol.com.br/esportes/automobilismo/formula-1/noticias/gp-de-monaco-haas-150-corridas-f1-16604018\n",
      "https://www.band.uol.com.br/esportes/automobilismo/formula-1/noticias/gp-de-monaco-haas-150-corridas-f1-16604018\n",
      "https://www.band.uol.com.br/esportes/automobilismo/formula-1/noticias/gp-de-monaco-pneus-de-chuva-16603794\n",
      "https://www.band.uol.com.br/esportes/automobilismo/formula-1/noticias/gp-de-monaco-pneus-de-chuva-16603794\n",
      "https://www.band.uol.com.br/esportes/automobilismo/formula-1/noticias/gp-de-monaco-pneus-de-chuva-16603794\n",
      "https://www.band.uol.com.br/esportes/automobilismo/formula-1/noticias/mercedes-projeto-sede-inglaterra-16603722\n",
      "https://www.band.uol.com.br/esportes/automobilismo/formula-1/noticias/mercedes-projeto-sede-inglaterra-16603722\n",
      "https://www.band.uol.com.br/esportes/automobilismo/formula-1/noticias/mercedes-projeto-sede-inglaterra-16603722\n",
      "https://www.band.uol.com.br/agro/noticias/a-gripe-aviaria-traz-riscos-a-saude-dos-humanos-veja-o-que-dizem-especialistas-16603779\n",
      "https://www.band.uol.com.br/agro/noticias/a-gripe-aviaria-traz-riscos-a-saude-dos-humanos-veja-o-que-dizem-especialistas-16603779\n",
      "https://www.band.uol.com.br/agro/noticias/a-gripe-aviaria-traz-riscos-a-saude-dos-humanos-veja-o-que-dizem-especialistas-16603779\n",
      "https://www.band.uol.com.br/agro/noticias/milho-ja-representa-17-do-etanol-produzido-no-brasil-16603784\n",
      "https://www.band.uol.com.br/agro/noticias/milho-ja-representa-17-do-etanol-produzido-no-brasil-16603784\n",
      "https://www.band.uol.com.br/agro/noticias/milho-ja-representa-17-do-etanol-produzido-no-brasil-16603784\n",
      "https://www.band.uol.com.br/agro/noticias/lotes-de-feijao-das-marcas-da-mamae-e-sanes-sao-recolhidos-no-mercado-16603299\n",
      "https://www.band.uol.com.br/agro/noticias/lotes-de-feijao-das-marcas-da-mamae-e-sanes-sao-recolhidos-no-mercado-16603299\n",
      "https://www.band.uol.com.br/agro/noticias/lotes-de-feijao-das-marcas-da-mamae-e-sanes-sao-recolhidos-no-mercado-16603299\n",
      "https://www.band.uol.com.br/agro/noticias/agricultores-atingidos-pela-seca-no-rs-terao-ajuda-de-r-230-milhoes-16603276\n",
      "https://www.band.uol.com.br/agro/noticias/agricultores-atingidos-pela-seca-no-rs-terao-ajuda-de-r-230-milhoes-16603276\n",
      "https://www.band.uol.com.br/agro/noticias/agricultores-atingidos-pela-seca-no-rs-terao-ajuda-de-r-230-milhoes-16603276\n",
      "https://receitas.band.uol.com.br/the-chef/ao-vivo?utm_source=portal&utm_medium=vibra&utm_campaign=noticias&utm_content=ao-vivo\n",
      "https://www.band.uol.com.br/bandnews-fm?utm_source=portal&utm_medium=vibra&utm_campaign=noticias&utm_content=ao-vivo\n",
      "https://www.band.uol.com.br/radio-bandeirantes?utm_source=portal&utm_medium=vibra&utm_campaign=noticias&utm_content=ao-vivo\n",
      "https://www.band.uol.com.br/band-fm?utm_source=portal&utm_medium=vibra&utm_campaign=noticias&utm_content=ao-vivo\n",
      "no link\n",
      "no link\n",
      "/noticias/cnj-julga-hoje-o-juiz-marcos-scalercio-acusado-de-assedio-sexual-em-sao-paulo-16604014\n",
      "/noticias/cnj-julga-hoje-o-juiz-marcos-scalercio-acusado-de-assedio-sexual-em-sao-paulo-16604014\n",
      "/noticias/cnj-julga-hoje-o-juiz-marcos-scalercio-acusado-de-assedio-sexual-em-sao-paulo-16604014\n",
      "/noticias/jose-sarto-prefeito-de-fortaleza-sofre-acidente-de-carro-16604007\n",
      "/noticias/jose-sarto-prefeito-de-fortaleza-sofre-acidente-de-carro-16604007\n",
      "/noticias/jose-sarto-prefeito-de-fortaleza-sofre-acidente-de-carro-16604007\n",
      "/band-multi/campinas-e-regiao/noticias/mulher-que-atuava-como-falsa-medica-e-presa-em-campinas-16604005\n",
      "/band-multi/campinas-e-regiao/noticias/mulher-que-atuava-como-falsa-medica-e-presa-em-campinas-16604005\n",
      "/band-multi/campinas-e-regiao/noticias/mulher-que-atuava-como-falsa-medica-e-presa-em-campinas-16604005\n",
      "/bandnews-fm/rio-de-janeiro/noticias/motorista-do-samu-flagrado-agredindo-paciente-e-demitido-16603998\n",
      "/bandnews-fm/rio-de-janeiro/noticias/motorista-do-samu-flagrado-agredindo-paciente-e-demitido-16603998\n",
      "/bandnews-fm/rio-de-janeiro/noticias/motorista-do-samu-flagrado-agredindo-paciente-e-demitido-16603998\n",
      "/entretenimento/faustao-na-band/noticias/cover-de-amy-winehouse-emociona-jurados-e-e-eleita-a-melhor-da-semana-16603903\n",
      "/entretenimento/faustao-na-band/noticias/cover-de-amy-winehouse-emociona-jurados-e-e-eleita-a-melhor-da-semana-16603903\n",
      "/entretenimento/faustao-na-band/noticias/cover-de-amy-winehouse-emociona-jurados-e-e-eleita-a-melhor-da-semana-16603903\n",
      "/entretenimento/faustao-na-band/noticias/anne-lottermann-revela-o-que-cover-de-tina-turner-fez-com-premio-do-faustao-16603884\n",
      "/entretenimento/faustao-na-band/noticias/anne-lottermann-revela-o-que-cover-de-tina-turner-fez-com-premio-do-faustao-16603884\n",
      "/entretenimento/faustao-na-band/noticias/anne-lottermann-revela-o-que-cover-de-tina-turner-fez-com-premio-do-faustao-16603884\n",
      "/entretenimento/faustao-na-band/noticias/ana-hickmann-diz-que-faustao-foi-responsavel-por-coloca-la-na-tv-muito-grata-16603869\n",
      "/entretenimento/faustao-na-band/noticias/ana-hickmann-diz-que-faustao-foi-responsavel-por-coloca-la-na-tv-muito-grata-16603869\n",
      "/entretenimento/faustao-na-band/noticias/ana-hickmann-diz-que-faustao-foi-responsavel-por-coloca-la-na-tv-muito-grata-16603869\n",
      "/band-multi/noticias/beyonce-lanca-remix-surpresa-de-america-has-a-problem-com-kendrick-lamar-16603878\n",
      "/band-multi/noticias/beyonce-lanca-remix-surpresa-de-america-has-a-problem-com-kendrick-lamar-16603878\n",
      "/band-multi/noticias/beyonce-lanca-remix-surpresa-de-america-has-a-problem-com-kendrick-lamar-16603878\n",
      "/esportes/futebol/noticias/vini-jr-valencia-racismo-comunicado-prisao-de-trio-16604008\n",
      "/esportes/futebol/noticias/vini-jr-valencia-racismo-comunicado-prisao-de-trio-16604008\n",
      "/esportes/futebol/noticias/vini-jr-valencia-racismo-comunicado-prisao-de-trio-16604008\n",
      "/esportes/futebol/noticias/galo-apresenta-arena-mrv-para-visitantes-nosso-hospede-16603927\n",
      "/esportes/futebol/noticias/galo-apresenta-arena-mrv-para-visitantes-nosso-hospede-16603927\n",
      "/esportes/futebol/noticias/galo-apresenta-arena-mrv-para-visitantes-nosso-hospede-16603927\n",
      "/esportes/futebol/noticias/internacional-banca-mano-menezes-mas-muda-departamento-futebol-16603929\n",
      "/esportes/futebol/noticias/internacional-banca-mano-menezes-mas-muda-departamento-futebol-16603929\n",
      "/esportes/futebol/noticias/internacional-banca-mano-menezes-mas-muda-departamento-futebol-16603929\n",
      "/esportes/futebol/noticias/libertadores-exames-palmeiras-gustavo-gomez-16603818\n",
      "/esportes/futebol/noticias/libertadores-exames-palmeiras-gustavo-gomez-16603818\n",
      "/esportes/futebol/noticias/libertadores-exames-palmeiras-gustavo-gomez-16603818\n",
      "https://receitas.band.uol.com.br/noticias/como-tirar-o-cheiro-e-o-gosto-do-ovo-aprenda-truque-culinario-16603852\n",
      "https://receitas.band.uol.com.br/noticias/como-tirar-o-cheiro-e-o-gosto-do-ovo-aprenda-truque-culinario-16603852\n",
      "https://receitas.band.uol.com.br/noticias/como-tirar-o-cheiro-e-o-gosto-do-ovo-aprenda-truque-culinario-16603852\n",
      "https://www.band.uol.com.br/band-shop/guia-de-compras/saude-emocional-confira-livros-para-familias-e-criancas-que-abordam-o-tema-16603079\n",
      "https://www.band.uol.com.br/band-shop/guia-de-compras/saude-emocional-confira-livros-para-familias-e-criancas-que-abordam-o-tema-16603079\n",
      "https://www.band.uol.com.br/band-shop/guia-de-compras/saude-emocional-confira-livros-para-familias-e-criancas-que-abordam-o-tema-16603079\n",
      "https://www.band.uol.com.br/band-shop/guia-de-compras/veja-produtos-que-vao-ajudar-voce-a-se-manter-quentinho-em-dias-frios-16602293\n",
      "https://www.band.uol.com.br/band-shop/guia-de-compras/veja-produtos-que-vao-ajudar-voce-a-se-manter-quentinho-em-dias-frios-16602293\n",
      "https://www.band.uol.com.br/band-shop/guia-de-compras/veja-produtos-que-vao-ajudar-voce-a-se-manter-quentinho-em-dias-frios-16602293\n",
      "https://www.band.uol.com.br/noticias/racismo-veja-livros-para-entender-a-luta-antirracista-16603769\n",
      "https://www.band.uol.com.br/noticias/racismo-veja-livros-para-entender-a-luta-antirracista-16603769\n",
      "https://www.band.uol.com.br/noticias/racismo-veja-livros-para-entender-a-luta-antirracista-16603769\n",
      "https://www.band.uol.com.br/band-shop/guia-de-compras/veja-dicas-para-manter-horta-ervas-frescas-em-casa-16602575\n",
      "https://www.band.uol.com.br/band-shop/guia-de-compras/veja-dicas-para-manter-horta-ervas-frescas-em-casa-16602575\n",
      "https://www.band.uol.com.br/band-shop/guia-de-compras/veja-dicas-para-manter-horta-ervas-frescas-em-casa-16602575\n",
      "https://www.band.uol.com.br/bandnews-fm/colunistas/reinaldo-azevedo/\n",
      "https://www.band.uol.com.br/bandnews-fm/colunistas/reinaldo-azevedo/\n",
      "https://www.band.uol.com.br/bandnews-fm/colunistas/jose-simao\n",
      "https://www.band.uol.com.br/bandnews-fm/colunistas/jose-simao\n",
      "https://www.band.uol.com.br/noticias/colunistas/fernando-mitre\n",
      "https://www.band.uol.com.br/noticias/colunistas/fernando-mitre\n",
      "https://blogdodenilson.band.uol.com.br/\n",
      "https://blogdodenilson.band.uol.com.br/\n",
      "https://www.band.uol.com.br/bandnews-fm/colunistas/monica-bergamo\n",
      "https://www.band.uol.com.br/bandnews-fm/colunistas/monica-bergamo\n",
      "https://www.band.uol.com.br/noticias/colunistas/juliana-rosa-desenrola-economia\n",
      "https://www.band.uol.com.br/noticias/colunistas/juliana-rosa-desenrola-economia\n",
      "https://www.band.uol.com.br/bandnews-fm/colunistas/paloma-tocci\n",
      "https://www.band.uol.com.br/bandnews-fm/colunistas/paloma-tocci\n",
      "https://receitas.band.uol.com.br/colunistas/carole-crema\n",
      "https://receitas.band.uol.com.br/colunistas/carole-crema\n",
      "https://www.band.uol.com.br/entretenimento/faustao-na-band\n",
      "https://www.band.uol.com.br/entretenimento/faustao-na-band\n",
      "https://www.band.uol.com.br/entretenimento/faustao-na-band\n",
      "https://www.band.uol.com.br/noticias/brasil-urgente\n",
      "https://www.band.uol.com.br/noticias/brasil-urgente\n",
      "https://www.band.uol.com.br/noticias/brasil-urgente\n",
      "https://entretenimento.band.uol.com.br/masterchef/\n",
      "https://entretenimento.band.uol.com.br/masterchef/\n",
      "https://entretenimento.band.uol.com.br/masterchef/\n",
      "https://www.band.uol.com.br/esportes/automobilismo/formula-1\n",
      "https://www.band.uol.com.br/esportes/automobilismo/formula-1\n",
      "https://www.band.uol.com.br/esportes/automobilismo/formula-1\n",
      "https://www.band.uol.com.br/esportes/os-donos-da-bola\n",
      "https://www.band.uol.com.br/esportes/os-donos-da-bola\n",
      "https://www.band.uol.com.br/esportes/os-donos-da-bola\n",
      "https://www.band.uol.com.br/esportes/jogo-aberto/\n",
      "https://www.band.uol.com.br/esportes/jogo-aberto/\n",
      "https://www.band.uol.com.br/esportes/jogo-aberto/\n",
      "https://www.band.uol.com.br/entretenimento/melhor-da-tarde\n",
      "https://www.band.uol.com.br/entretenimento/melhor-da-tarde\n",
      "https://www.band.uol.com.br/entretenimento/melhor-da-tarde\n",
      "https://www.band.uol.com.br/entretenimento/perrengue-na-band\n",
      "https://www.band.uol.com.br/entretenimento/perrengue-na-band\n",
      "https://www.band.uol.com.br/entretenimento/perrengue-na-band\n",
      "https://www.band.uol.com.br/esportes/band-esporte-clube\n",
      "https://www.band.uol.com.br/esportes/band-esporte-clube\n",
      "https://www.band.uol.com.br/esportes/band-esporte-clube\n",
      "https://www.band.uol.com.br/noticias/jornal-da-band\n",
      "https://www.band.uol.com.br/noticias/jornal-da-band\n",
      "https://www.band.uol.com.br/noticias/jornal-da-band\n",
      "https://www.band.uol.com.br/esportes/show-do-esporte\n",
      "https://www.band.uol.com.br/esportes/show-do-esporte\n",
      "https://www.band.uol.com.br/esportes/show-do-esporte\n",
      "https://www.band.uol.com.br\n",
      "https://www.band.uol.com.br/programacao\n",
      "https://privacy.band.com.br/\n",
      "https://twitter.com/portaldaband\n",
      "https://www.facebook.com/Band.com.br/\n",
      "https://www.instagram.com/bandtv/\n",
      "https://www.youtube.com/c/bandjornalismo\n"
     ]
    }
   ],
   "source": [
    "# Lista de links possivelmente de notícias no site da Band.\n",
    "for i in n:\n",
    "    try:\n",
    "        print(i['href'])\n",
    "    except:\n",
    "        print(\"no link\")"
   ]
  },
  {
   "cell_type": "markdown",
   "id": "5e4d2bbf",
   "metadata": {
    "jp-MarkdownHeadingCollapsed": true,
    "tags": [],
    "toc-hr-collapsed": true
   },
   "source": [
    "# Montando Lista de Notícias"
   ]
  },
  {
   "cell_type": "code",
   "execution_count": 32,
   "id": "a43cf177",
   "metadata": {},
   "outputs": [],
   "source": [
    "number_news = 6\n"
   ]
  },
  {
   "cell_type": "code",
   "execution_count": 33,
   "id": "fef8aed2",
   "metadata": {},
   "outputs": [],
   "source": [
    "import random"
   ]
  },
  {
   "cell_type": "code",
   "execution_count": 34,
   "id": "dc4ea054",
   "metadata": {},
   "outputs": [],
   "source": [
    "news_list = []\n",
    "\n",
    "news_list.extend( [ {'title': random.choices( [ (news['title'], news['url']) for news in dw ] , k = 2 ), 'source': 'G1/Globo' } ] )\n",
    "\n",
    "news_list.extend( [ {'title': random.choices( [ (news['title'], news['href']) for news in cnn_list_news ] , k = 2 ), 'source': 'CNN Brasil' } ] )\n",
    "\n",
    "news_list.extend( [ {'title': random.choices( [ (news['title'], news['href']) for news in bbc_news_lists ] , k = 2 ), 'source': 'BBC Brasil' } ] )\n"
   ]
  },
  {
   "cell_type": "code",
   "execution_count": 35,
   "id": "974176ec",
   "metadata": {},
   "outputs": [
    {
     "name": "stdout",
     "output_type": "stream",
     "text": [
      "Influencer assassinada no Rio dizia ser 'ex-obesa' e exibia carrões. \n",
      "https://g1.globo.com/rj/rio-de-janeiro/noticia/2023/05/23/influencer-morta-na-zona-norte-teve-loja-na-baixada-fluminense-e-passou-a-exibir-carroes-e-viagens-nas-redes-apos-emagrecimento.ghtml\n",
      "\n",
      "Casos de racismo nos estádios do Brasil saltam 40%; homofobia dispara 76%. \n",
      "https://g1.globo.com/bom-dia-brasil/noticia/2023/05/23/casos-de-preconceito-contra-atletas-cresceram-40percent-nos-estadios-brasileiros-em-2022.ghtml\n",
      "\n",
      "Fonte: G1/Globo\n",
      "\n",
      "\n",
      "Ciência e Tecnologia. \n",
      "https://www.cnnbrasil.com.br/tecnologia/\n",
      "\n",
      "CNN Plural. \n",
      "https://www.cnnbrasil.com.br/tudo-sobre/cnn-plural/\n",
      "\n",
      "Fonte: CNN Brasil\n",
      "\n",
      "\n",
      "'Filiprimos'? As semelhanças entre Brasil e Filipinas que se refletem nas redes sociais. \n",
      "https://www.bbc.com/portuguese/articles/cv240x00p90o\n",
      "\n",
      "Por que roubos de carro despencaram em SP na última década. \n",
      "https://www.bbc.com/portuguese/articles/cxxye7yezk2o\n",
      "\n",
      "Fonte: BBC Brasil\n",
      "\n",
      "\n"
     ]
    }
   ],
   "source": [
    "for i in news_list:\n",
    "    for j in i['title']:\n",
    "        print(f\"{j[0]}. \\n{j[1]}\\n\")\n",
    "    \n",
    "    print(f\"Fonte: {i['source']}\\n\\n\")"
   ]
  },
  {
   "cell_type": "markdown",
   "id": "c3e35a27-ec7c-4467-9216-1ec5db355825",
   "metadata": {},
   "source": [
    "## Salvando Todas Noticias (JSON)"
   ]
  },
  {
   "cell_type": "markdown",
   "id": "4f8582d4-9425-4439-8a2d-3bfbab48919f",
   "metadata": {},
   "source": [
    "### View news for test algorithm"
   ]
  },
  {
   "cell_type": "code",
   "execution_count": 36,
   "id": "4dc4ef07-7a0d-40a9-95c5-68a585e7b6f8",
   "metadata": {},
   "outputs": [],
   "source": [
    "# List news\n",
    "news = None\n",
    "portaisvar = [\n",
    "    'dw', #Globo/G1\n",
    "    'cnn_list_news', # CNN Brazil\n",
    "    'bbc_news_list' # BBC Brazil\n",
    "]\n",
    "\n",
    "portais = { 'dw': 'Globo/G1', 'cnn_list_news': 'CNN Brasil', 'bbc_news_lists': 'BBC Brasil' }    "
   ]
  },
  {
   "cell_type": "code",
   "execution_count": 37,
   "id": "b10a3e84-3cba-4a3b-99e7-3c4b06f4ddf0",
   "metadata": {},
   "outputs": [
    {
     "data": {
      "text/plain": [
       "(dict_keys(['title', 'url']),\n",
       " dict_keys(['title', 'href']),\n",
       " dict_keys(['title', 'href']))"
      ]
     },
     "execution_count": 37,
     "metadata": {},
     "output_type": "execute_result"
    }
   ],
   "source": [
    "dw[0].keys(), cnn_list_news[0].keys(), bbc_news_lists[0].keys()"
   ]
  },
  {
   "cell_type": "code",
   "execution_count": 38,
   "id": "5eee3e4a-6c18-41f7-ba9b-47d40c35088b",
   "metadata": {},
   "outputs": [
    {
     "data": {
      "text/plain": [
       "[{'title': 'Vini saiu do lugar que brancos acham que todo preto tem, diz PC Vasconcellos',\n",
       "  'href': 'https://g1.globo.com/podcast/o-assunto/noticia/2023/05/23/vini-jr-desafina-coro-dos-brancos-contentes-com-privilegio-diz-pc-vasconcellos.ghtml'},\n",
       " {'title': 'Casos de racismo nos estádios do Brasil saltam 40%; homofobia dispara 76%',\n",
       "  'href': 'https://g1.globo.com/bom-dia-brasil/noticia/2023/05/23/casos-de-preconceito-contra-atletas-cresceram-40percent-nos-estadios-brasileiros-em-2022.ghtml'},\n",
       " {'title': 'Major da PM que deu ordem de recuo no 8 de janeiro é preso',\n",
       "  'href': 'https://g1.globo.com/df/distrito-federal/noticia/2023/05/23/pf-cumpre-mandados-em-operacao-que-investiga-atos-terroristas-em-brasilia.ghtml'},\n",
       " {'title': 'Conselho do TRF-4 afasta Eduardo Appio, novo juiz da Lava Jato\\xa0',\n",
       "  'href': 'https://g1.globo.com/politica/blog/andreia-sadi/post/2023/05/22/conselho-do-trf-4-afasta-juiz-da-lava-jato.ghtml'},\n",
       " {'title': \"Influencer assassinada no Rio dizia ser 'ex-obesa' e exibia carrões\",\n",
       "  'href': 'https://g1.globo.com/rj/rio-de-janeiro/noticia/2023/05/23/influencer-morta-na-zona-norte-teve-loja-na-baixada-fluminense-e-passou-a-exibir-carroes-e-viagens-nas-redes-apos-emagrecimento.ghtml'},\n",
       " {'title': 'Luanne trocou blindado por carro sem proteção 15 dias antes',\n",
       "  'href': 'https://g1.globo.com/rj/rio-de-janeiro/noticia/2023/05/23/influenciadora-morta-na-zona-norte-do-rio-trocou-blindado-por-um-carro-sem-protecao-dias-antes-de-crime.ghtml'}]"
      ]
     },
     "execution_count": 38,
     "metadata": {},
     "output_type": "execute_result"
    }
   ],
   "source": [
    "# Replace field name 'titulo' for 'title' name.\n",
    "dw = [ { key.replace('titulo', 'title'):value for key, value in i.items() } for i in dw ]\n",
    "dw = [ { key.replace('url', 'href'):value for key, value in i.items() } for i in dw ]\n",
    "dw"
   ]
  },
  {
   "cell_type": "code",
   "execution_count": 39,
   "id": "b571d2b5-6902-46f7-96d6-21366b4dd13b",
   "metadata": {},
   "outputs": [],
   "source": [
    "#[ { key.replace('title', 'titulo' ) } ]\n",
    "newslist = dw + cnn_list_news + bbc_news_lists\n",
    "#newslist"
   ]
  },
  {
   "cell_type": "code",
   "execution_count": 40,
   "id": "27066ffb-f291-4cc5-86b2-cef127a4d8ba",
   "metadata": {},
   "outputs": [
    {
     "name": "stdout",
     "output_type": "stream",
     "text": [
      "File exist\n",
      "not get page\n"
     ]
    }
   ],
   "source": [
    "import os\n",
    "count = 0\n",
    "try:\n",
    "    os.mkdir( 'newsdata' )\n",
    "except FileExistsError:\n",
    "    print(\"File exist\")\n",
    "    \n",
    "webdata = ''\n",
    "# Save data of link news in files to folder.\n",
    "for news in newslist:\n",
    "    try:\n",
    "        #news['data'] = requests.get(news['href']).text\n",
    "        foldername = f'newsdata'\n",
    "        #os.mkdir( foldername )\n",
    "        news['datafile'] = f'{foldername}/'+str( count )\n",
    "        with open( foldername+f'/{str(count)}', 'a' ) as fl:\n",
    "            webdata = requests.get( news['href'] ).text \n",
    "            fl.write( webdata )\n",
    "            fl.close()\n",
    "            \n",
    "        count += 1\n",
    "    except :\n",
    "        print('not get page')\n",
    "        continue\n",
    "    "
   ]
  },
  {
   "cell_type": "code",
   "execution_count": 41,
   "id": "0989f5b2-da01-44e0-bcb8-1be5fd2bd158",
   "metadata": {},
   "outputs": [
    {
     "data": {
      "text/plain": [
       "'newsdata/0'"
      ]
     },
     "execution_count": 41,
     "metadata": {},
     "output_type": "execute_result"
    }
   ],
   "source": [
    "newslist[0]['datafile']"
   ]
  },
  {
   "cell_type": "code",
   "execution_count": 42,
   "id": "2d38942e-e38c-402d-8633-2f853064cc53",
   "metadata": {},
   "outputs": [
    {
     "name": "stdout",
     "output_type": "stream",
     "text": [
      " Vini Jr. desafina coro dos brancos contentes com privilégio, diz PC Vasconcellos | O Assunto | G1\n",
      "\n",
      "                   Podcasts       O Assunto       \n"
     ]
    }
   ],
   "source": [
    "p = requests.get( newslist[0]['href'] )\n",
    "soup = BeautifulSoup( p.text, 'html.parser')\n",
    "texto = soup.get_text()\n",
    "print( texto[0:150] )"
   ]
  },
  {
   "cell_type": "code",
   "execution_count": 43,
   "id": "9196f821-ec0f-4ecb-91fb-52a2000bdd1f",
   "metadata": {},
   "outputs": [],
   "source": [
    "d = ''\n",
    "with open(foldername+'/0', 'r') as fl:\n",
    "    d = fl.read()\n",
    "    fl.close()\n",
    "\n",
    "\n",
    "soup = BeautifulSoup(d, 'html.parser')\n",
    "#souptext = soup.text\n",
    "content = soup.find_all('div')\n",
    "#dir(soup)"
   ]
  },
  {
   "cell_type": "code",
   "execution_count": 44,
   "id": "72d02fbc-379b-4153-9a38-5134e4c02b5a",
   "metadata": {},
   "outputs": [],
   "source": [
    "texto = ' '.join( [ i.get_text() for i in content ] )\n",
    "texto = texto.replace('\\n', ' ')\n",
    "with open('texto', 'w' ) as fl:\n",
    "    #fl.write( souptext )\n",
    "    fl.write( texto )\n",
    "    "
   ]
  },
  {
   "cell_type": "code",
   "execution_count": 45,
   "id": "14d06b94-9014-49ac-af6b-bddb1e63202d",
   "metadata": {},
   "outputs": [
    {
     "name": "stdout",
     "output_type": "stream",
     "text": [
      "              Goiás                                   fique por dentro             Imposto de Renda \n"
     ]
    }
   ],
   "source": [
    "print( texto[0:100] )"
   ]
  },
  {
   "cell_type": "code",
   "execution_count": 46,
   "id": "181403d6-18d3-4f33-8f7a-2a51a77c92ef",
   "metadata": {},
   "outputs": [],
   "source": [
    "import json\n",
    "\n",
    "with open('noticias.json', 'w') as fl:\n",
    "    fl.write(json.dumps(newslist, ensure_ascii=False, indent=4))\n",
    "    fl.close()"
   ]
  },
  {
   "cell_type": "markdown",
   "id": "c7ee5e9e-92f7-4d1d-8c4b-5f1d2e3cd5e8",
   "metadata": {},
   "source": [
    "### Salva noticias"
   ]
  },
  {
   "cell_type": "code",
   "execution_count": 47,
   "id": "9d67faf7-6fd4-4af6-b35b-e1319b6c01c4",
   "metadata": {},
   "outputs": [],
   "source": [
    "def savenews(newslist: list, filename: str) -> None:\n",
    "    import json\n",
    "    jsondata = None\n",
    "    with open(filename, 'w') as fl:\n",
    "        fl.write( json.dumps( newslist, encode='utf-8', indent=4 ) )\n",
    "        fl.close()\n",
    "    print('Saved...')\n",
    "    "
   ]
  },
  {
   "cell_type": "code",
   "execution_count": 48,
   "id": "84a3c9f4",
   "metadata": {},
   "outputs": [
    {
     "name": "stdout",
     "output_type": "stream",
     "text": [
      "Influencer assassinada no Rio dizia ser 'ex-obesa' e exibia carrões.\n",
      "Casos de racismo nos estádios do Brasil saltam 40%; homofobia dispara 76%.\n",
      "Fonte: G1/Globo\n",
      "\n",
      " \n",
      "Ciência e Tecnologia.\n",
      "CNN Plural.\n",
      "Fonte: CNN Brasil\n",
      "\n",
      " \n",
      "'Filiprimos'? As semelhanças entre Brasil e Filipinas que se refletem nas redes sociais.\n",
      "Por que roubos de carro despencaram em SP na última década.\n",
      "Fonte: BBC Brasil\n",
      "\n",
      " \n"
     ]
    }
   ],
   "source": [
    "i = j = None\n",
    "\n",
    "for i in news_list:\n",
    "    for j in i['title']:\n",
    "        print(f'{j[0]}.')\n",
    "    print(f'Fonte: {i[\"source\"] }\\n\\n ' )"
   ]
  },
  {
   "cell_type": "code",
   "execution_count": 49,
   "id": "7c0ca847-a7d0-4941-bfc7-14c8b2123ead",
   "metadata": {},
   "outputs": [
    {
     "name": "stdout",
     "output_type": "stream",
     "text": [
      "Olá bem vindo ao Diário de Notícias Dimensão Alfa. Estas são as principais manchetes do dia.\n",
      "\n",
      "Portal de Notícias G1/Globo\n",
      " \n",
      "Influencer assassinada no Rio dizia ser 'ex-obesa' e exibia carrões.\n",
      "Casos de racismo nos estádios do Brasil saltam 40%; homofobia dispara 76%.\n",
      "Portal de Notícias CNN Brasil\n",
      " \n",
      "Ciência e Tecnologia.\n",
      "CNN Plural.\n",
      "Portal de Notícias BBC Brasil\n",
      " \n",
      "'Filiprimos'? As semelhanças entre Brasil e Filipinas que se refletem nas redes sociais.\n",
      "Por que roubos de carro despencaram em SP na última década.\n"
     ]
    }
   ],
   "source": [
    "i = j = None\n",
    "\n",
    "print(f\"Olá bem vindo ao Diário de Notícias Dimensão Alfa. Estas são as principais manchetes do dia.\\n\")\n",
    "for i in news_list:\n",
    "    print(f'Portal de Notícias {i[\"source\"] }\\n ' )\n",
    "    for j in i['title']:\n",
    "        print(f'{j[0]}.')"
   ]
  },
  {
   "cell_type": "markdown",
   "id": "d1879811-0f8b-4150-86a7-606389a58301",
   "metadata": {
    "tags": [],
    "toc-hr-collapsed": true
   },
   "source": [
    "# Sobre"
   ]
  },
  {
   "cell_type": "markdown",
   "id": "2c8c3c3a-34bd-4081-a3de-4d172f80eb07",
   "metadata": {
    "tags": []
   },
   "source": [
    "## Dimensão Alfa"
   ]
  },
  {
   "cell_type": "markdown",
   "id": "93927b53-1f5b-4f94-abed-cf9e6f99fc99",
   "metadata": {
    "jp-MarkdownHeadingCollapsed": true,
    "tags": []
   },
   "source": [
    "Dimensão Alfa projetos e conteúdos de tecnologia."
   ]
  },
  {
   "cell_type": "markdown",
   "id": "9922c82b-a271-4e7c-b6f7-a1420b69b13f",
   "metadata": {
    "tags": []
   },
   "source": [
    "## Info"
   ]
  },
  {
   "cell_type": "markdown",
   "id": "1669e98a-92e1-4d73-b518-163002feab8b",
   "metadata": {},
   "source": [
    "O presente projeto tem sido usado com fins de divulgação e facilitação de acesso a noticias e conhecimento em comunhão com objetivo da plataforma/página Dimensão Alfa. \n",
    "Conteúdos de terceiros são de responsabilidades dos mesmos bem como seus direitos autorais.\n",
    "\n",
    "O projeto encontra-se em desenvolvimento, inicialmente fôra batizado de Ani Fátima Liu, e estará passando por alterações estando de inicio disponibilizado em formato \"_jupyter notebook_\" podendo servir como _case_ de estudo para os que se interessam por \"web scrap\" (raspagem de dados).\n",
    "\n",
    "Tecnologias foram usadas para gerar vídeo de noticias diária para página [Youtube](https://www.youtube.com/@dimensaoalfa); foi usada as seguintes tecnologias:\n",
    "\n",
    "* [Editor de códigos VSCode](https://code.visualstudio.com/)\n",
    "* [Python (linguagem de programação)](https://www.python.org/)\n",
    "* [Ambiente JupyterLab](https://jupyter.org/)\n",
    "* [Biblioteca \"Requests\"](https://requests.readthedocs.io/en/latest/)\n",
    "* [Biblioteca \"BeautifulSoup\"](https://www.crummy.com/software/BeautifulSoup/bs4/doc/)\n",
    "* [Serviço de Sintese de Voz Microsoft/Azure](https://speech.microsoft.com)\n",
    "\n",
    "\n",
    "Peço e agradeço a compreensão e apoio de todos. \n",
    "\n",
    "Para contribuições, dúvidas, sugestões visitem meu blog [WSRicardo](https://wsricardo.blogspot.com).\n"
   ]
  },
  {
   "cell_type": "markdown",
   "id": "fcc6698c-a66b-47a8-aacc-444904c32d39",
   "metadata": {
    "tags": []
   },
   "source": [
    "## Sugestões de Conteúdo"
   ]
  },
  {
   "cell_type": "markdown",
   "id": "a46ff71a-b892-48d4-a647-227402170487",
   "metadata": {
    "tags": []
   },
   "source": [
    "Deixamos abaixo algumas sugestões de conteúdos e canais com recursos para estudos e pesquisa que podem ser uteis para quem se interessa por tecnologia, programação de computadores, matemática, ciências de dados e inteligência artificial.\n",
    "\n",
    "* [Programação Dinâmica](https://www.youtube.com/c/Programa%C3%A7%C3%A3oDin%C3%A2mica)\n",
    "* [Toda Matemática](https://www.youtube.com/c/GustavoViegascurso)\n",
    "* [Matemática Universitária](https://www.youtube.com/c/Matem%C3%A1ticaUniversit%C3%A1riaProfRenan)\n",
    "* [Reflexões Matemáticas](https://www.youtube.com/c/Reflex%C3%B5esMatem%C3%A1ticasDrDilbertoJ%C3%BAnior)\n",
    "* [Programação Descomplicada](https://www.youtube.com/user/progdescomplicada)\n",
    "* [Univesp](https://www.youtube.com/user/univesptv)\n",
    "* [USP no Youtube](https://www.youtube.com/c/CanalUSP)\n",
    "* [IME/USP](https://www.ime.usp.br/)\n",
    "* [IMPA](https://www.youtube.com/c/impabr)\n",
    "\n"
   ]
  },
  {
   "cell_type": "markdown",
   "id": "6b7d7325-7366-4924-8c94-fbefbeefdf51",
   "metadata": {
    "tags": []
   },
   "source": [
    "## Links"
   ]
  },
  {
   "cell_type": "markdown",
   "id": "efa1176b-3805-4997-aca5-9d581b1bafb8",
   "metadata": {
    "tags": []
   },
   "source": [
    "* [Dimensão Alfa](https://www.dimensaoalfa.com.br)\n",
    "* [Facebook](https://www.facebook.com/dimensaoalfa)\n",
    "* [Youtube](https://www.youtube.com/@dimensaoalfa)\n",
    "* [WSRicardo](https://wsricardo.blogspot.com)"
   ]
  }
 ],
 "metadata": {
  "kernelspec": {
   "display_name": "Python 3 (ipykernel)",
   "language": "python",
   "name": "python3"
  },
  "language_info": {
   "codemirror_mode": {
    "name": "ipython",
    "version": 3
   },
   "file_extension": ".py",
   "mimetype": "text/x-python",
   "name": "python",
   "nbconvert_exporter": "python",
   "pygments_lexer": "ipython3",
   "version": "3.10.7"
  },
  "vscode": {
   "interpreter": {
    "hash": "916dbcbb3f70747c44a77c7bcd40155683ae19c65e1c03b4aa3499c5328201f1"
   }
  }
 },
 "nbformat": 4,
 "nbformat_minor": 5
}
