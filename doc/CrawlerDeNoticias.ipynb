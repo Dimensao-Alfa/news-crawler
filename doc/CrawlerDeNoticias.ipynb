{
 "cells": [
  {
   "cell_type": "markdown",
   "id": "d8849ed6",
   "metadata": {
    "jp-MarkdownHeadingCollapsed": true,
    "tags": [],
    "toc-hr-collapsed": true
   },
   "source": [
    "# Crawler Noticias\n",
    "\n"
   ]
  },
  {
   "cell_type": "markdown",
   "id": "01366270-f3d1-4716-83cc-727dc6f57d46",
   "metadata": {
    "tags": []
   },
   "source": [
    "## Introdução"
   ]
  },
  {
   "cell_type": "markdown",
   "id": "2b1f31df",
   "metadata": {},
   "source": [
    "Estudo projeto de construção de um bot crawler para extrair e indexar noticias de sites.\n",
    "\n",
    "É recomendavel baixar uma única vez o html do site para reduzir a necessidade de acessar o site várias vezes para cada processamento reduzindo tempo e custo computacionais para máquina local e servidor.\n",
    "\n",
    "Usamos módulo _Requests_ para baixar o html da página a ser processada e com módulo _BeautifulSoup_ processamos o conteúdo html buscando por conteúdos especificos. Ao inspecionar o código HTML verificamos em quais blocos estão as principais noticias - em geral em tags como \"section\", \"h1\"/\"h2\"/\"h3\" e \"a\" - considerando o seletor css que especifica cada bloco de interesse afim de refinar a busca e garantir que serão extraindos os trechos relevantes.\n",
    "\n",
    "Sites com boas práticas de HTML/CSS tendem a serem mais faceis de serem processados e indexados por mecanismos de buscas facilitando os usuários em encontrar seus conteúdos em pesquisas aumentando assim o engajamento em suas plataformas contribuindo para seu melhor desenvolvimento.\n",
    "\n",
    "Neste presente momento o projeto está considerando três portais de notícias que são _BBC Brasil_, _CNN Brasil_ e _G1/Globo_. \n",
    "\n",
    "Créditos e direitos reservados às referentes plataformas mencionadas.\n",
    "\n",
    "(Obs.: Conteúdo livre com fins informativos e de divulgação. )\n"
   ]
  },
  {
   "cell_type": "markdown",
   "id": "573fc426",
   "metadata": {
    "tags": []
   },
   "source": [
    "## Módulos"
   ]
  },
  {
   "cell_type": "markdown",
   "id": "cbd7fe1d",
   "metadata": {},
   "source": [
    "Abaixo _import_ dos módulos que contém os recursos usados.\n",
    "\n",
    "* BeautifulSoup\n",
    "* Requests\n",
    "* re (regular expression)\n",
    "* crawlernewsg1 (acessa site e extrai lista de principais noticias na página principal do site)\n",
    "* IPython.core.display -> display, HTML (renderiza conteúdos html )"
   ]
  },
  {
   "cell_type": "code",
   "execution_count": 29,
   "id": "f4ad322f",
   "metadata": {
    "scrolled": true
   },
   "outputs": [],
   "source": [
    "from bs4 import BeautifulSoup\n",
    "import requests\n",
    "import re\n",
    "from crawlernewsg1 import *\n",
    "import random\n",
    "\n",
    "# Render html content\n",
    "from IPython.core.display import display, HTML"
   ]
  },
  {
   "cell_type": "markdown",
   "id": "e8683151",
   "metadata": {
    "jp-MarkdownHeadingCollapsed": true,
    "tags": [],
    "toc-hr-collapsed": true
   },
   "source": [
    "# Modelagem Portal G1\n",
    "\n"
   ]
  },
  {
   "cell_type": "markdown",
   "id": "200ef7fc-b544-482e-95ee-8055bb771495",
   "metadata": {},
   "source": [
    "Capturando noticias do portal G1 da Globo\n",
    "Funções básicas. Especifincando \"selector css\" classe 'bastian-page'  para tags div."
   ]
  },
  {
   "cell_type": "code",
   "execution_count": 30,
   "id": "c4df2cea",
   "metadata": {},
   "outputs": [],
   "source": [
    "# Baixando html do portal de noticia para processamento e salvando em disco.\n",
    "url = 'https://g1.globo.com'\n",
    "attr = {'class': 'bastian-page'}\n",
    "data = g1_(requests.get( url ).content, 'div', attr, debug=False)\n",
    "dw = requests.get('https://g1.globo.com/').content\n",
    "with open('/tmp/data', 'w') as fl:\n",
    "    fl.write( dw.decode() )\n",
    "    "
   ]
  },
  {
   "cell_type": "code",
   "execution_count": 31,
   "id": "39fe2fae-4920-4ebc-9f61-b141c7e5ce74",
   "metadata": {},
   "outputs": [
    {
     "data": {
      "text/plain": [
       "tuple"
      ]
     },
     "execution_count": 31,
     "metadata": {},
     "output_type": "execute_result"
    }
   ],
   "source": [
    "type(data)"
   ]
  },
  {
   "cell_type": "code",
   "execution_count": 32,
   "id": "3e0d6827-a36e-465d-938f-196879b4ce67",
   "metadata": {},
   "outputs": [
    {
     "name": "stdout",
     "output_type": "stream",
     "text": [
      "[{'title': 'CPI dos Atos Golpistas recebe pedidos para 48 quebras de sigilo e 244 depoimentos'}, {'href': 'https://g1.globo.com/politica/noticia/2023/05/27/em-48h-cpi-dos-atos-golpistas-recebeu-48-pedidos-de-quebras-de-sigilo.ghtml'}, {'title': 'Alunos de medicina do Fies cogitam largar curso por causa da alta de mensalidades'}, {'href': 'https://g1.globo.com/educacao/noticia/2023/05/27/alunos-de-medicina-do-fies-cogitam-largar-curso-por-causa-de-teto-do-financiamento-e-alta-de-mensalidades.ghtml'}, {'title': '2º turno da Turquia tem campanha de desinformação com vídeo falso'}, {'href': 'https://g1.globo.com/mundo/blog/sandra-cohen/post/2023/05/27/campanha-de-desinformacao-esquenta-o-segundo-turno-da-turquia.ghtml'}, {'title': 'Hurb dá novo calote e clientes são barrados em avião'}, {'href': 'https://g1.globo.com/economia/noticia/2023/05/27/passageiros-estimam-prejuizo-de-mais-de-r-10-mil-apos-serem-impedidos-de-embarcar-por-calote-do-hurb.ghtml'}, {'title': 'Sidney Magal tem quadro estável, mas sem previsão de alta'}, {'href': 'https://g1.globo.com/sp/sao-paulo/noticia/2023/05/27/sidney-magal-tem-quadro-estavel-mas-sem-previsao-de-alta.ghtml'}, {'title': 'Investigação indica que Jeff Machado morreu no fim de janeiro'}, {'href': 'https://g1.globo.com/rj/rio-de-janeiro/noticia/2023/05/27/investigacao-indica-que-jeff-machado-morreu-no-fim-de-janeiro-veja-linha-do-tempo-do-caso.ghtml'}, {'title': 'Idosa mata marido com veneno de rato e esquarteja corpo, diz polícia'}, {'href': 'https://g1.globo.com/ms/mato-grosso-do-sul/noticia/2023/05/27/idosa-mata-marido-com-veneno-de-rato-esquarteja-vitima-e-abandona-parte-do-corpo-dentro-de-mala-na-br-158-diz-policia.ghtml'}, {'title': 'Adolescente que violou túmulo diz ter sonhado que assassino estava vivo'}, {'href': 'https://g1.globo.com/go/goias/noticia/2023/05/27/caso-lazaro-barbosa-adolescente-convenceu-namorado-a-violar-tumulo-depois-de-ter-sonhado-que-homem-estaria-vivo-diz-delegado.ghtml'}]\n"
     ]
    }
   ],
   "source": [
    "# Replace field name 'titulo' for 'title' name.\n",
    "#dw = [ { key.replace('titulo', 'title'):value for key, value in i.items() } for i in dw ]\n",
    "#dw = [ { key.replace('url', 'href'):value for key, value in i.items() } for i in dw ]\n",
    "#replKey = lambda listdc, old_key, new_key: [ ]\n",
    "def replKey(listdc, old_key, new_key  ):\n",
    "    dt = []\n",
    "    \n",
    "    \n",
    "    for i in listdc:\n",
    "        for keys, value in i.items():\n",
    "            dt.append( { keys.replace('url', 'href'): value } ) \n",
    "            \n",
    "    return dt\n",
    "\n",
    "data = replKey(data[0], 'url', 'href' )\n",
    "\n",
    "print(data)"
   ]
  },
  {
   "cell_type": "code",
   "execution_count": 33,
   "id": "6aa22b38",
   "metadata": {},
   "outputs": [],
   "source": [
    "dw, cwn = g1_( dw, 'div', attr)"
   ]
  },
  {
   "cell_type": "markdown",
   "id": "7f163b74",
   "metadata": {},
   "source": [
    "Ao abrir link da noticia pesquisar pela tag *'p'* com atributos **class** com valor **\"content-text__container** definir o tamanho para caso extrair só parte do corpo do texto.\n"
   ]
  },
  {
   "cell_type": "markdown",
   "id": "db117b75",
   "metadata": {},
   "source": [
    "Retornando uma lista dos itens encontrados (como visto acima no código) pegamos estes itens e os concatenamos exibintido o texto no corpo da noticia. (_Como visto abaixo_)"
   ]
  },
  {
   "cell_type": "markdown",
   "id": "6da973d9",
   "metadata": {},
   "source": [
    "Cada \"_evt\" (_css selector_ class) class css em \"bastian-page\" refere-se a uma noticia na lista central de noticias.\n",
    "Dentro de cada \"_evt\" haverá \"bastian-feed-item\" e neste o feed-post. \n",
    "\n",
    "**feed-post-body** _contêm_  ( 'feed-post-link', 'feed-post-body-title', 'feed-post-body-resumo')\n",
    "\n",
    "**bastian-feed-item** _contem_ um feed-post-body referindo-se a cada item (noticia)\n",
    "\n",
    "\n",
    "Para link da noticia (quando acessando a noticia)\n",
    "\n",
    "**content-head__title** em tag 'h1' (Título da noticia)\n",
    "\n",
    "**content-head__subtitle** em tag 'h2' (subtitulo/resumo da noticia)\n",
    "\n",
    "**content-text__container** corpo do texto da noticia css-selector, tag 'p' (pegar só a primeira referente ao primeiro paragrafo da noticia)"
   ]
  },
  {
   "cell_type": "code",
   "execution_count": 34,
   "id": "112a932e",
   "metadata": {
    "toc-hr-collapsed": true
   },
   "outputs": [
    {
     "data": {
      "text/html": [
       "<h1 style=\"padding: 12px;\">Notícias</h1>CPI dos Atos Golpistas recebe pedidos para 48 quebras de sigilo e 244 depoimentos<br>https://g1.globo.com/politica/noticia/2023/05/27/em-48h-cpi-dos-atos-golpistas-recebeu-48-pedidos-de-quebras-de-sigilo.ghtml<br><br>Alunos de medicina do Fies cogitam largar curso por causa da alta de mensalidades<br>https://g1.globo.com/educacao/noticia/2023/05/27/alunos-de-medicina-do-fies-cogitam-largar-curso-por-causa-de-teto-do-financiamento-e-alta-de-mensalidades.ghtml<br><br>2º turno da Turquia tem campanha de desinformação com vídeo falso<br>https://g1.globo.com/mundo/blog/sandra-cohen/post/2023/05/27/campanha-de-desinformacao-esquenta-o-segundo-turno-da-turquia.ghtml<br><br>Hurb dá novo calote e clientes são barrados em avião<br>https://g1.globo.com/economia/noticia/2023/05/27/passageiros-estimam-prejuizo-de-mais-de-r-10-mil-apos-serem-impedidos-de-embarcar-por-calote-do-hurb.ghtml<br><br>Sidney Magal tem quadro estável, mas sem previsão de alta<br>https://g1.globo.com/sp/sao-paulo/noticia/2023/05/27/sidney-magal-tem-quadro-estavel-mas-sem-previsao-de-alta.ghtml<br><br>Investigação indica que Jeff Machado morreu no fim de janeiro<br>https://g1.globo.com/rj/rio-de-janeiro/noticia/2023/05/27/investigacao-indica-que-jeff-machado-morreu-no-fim-de-janeiro-veja-linha-do-tempo-do-caso.ghtml<br><br>Idosa mata marido com veneno de rato e esquarteja corpo, diz polícia<br>https://g1.globo.com/ms/mato-grosso-do-sul/noticia/2023/05/27/idosa-mata-marido-com-veneno-de-rato-esquarteja-vitima-e-abandona-parte-do-corpo-dentro-de-mala-na-br-158-diz-policia.ghtml<br><br>Adolescente que violou túmulo diz ter sonhado que assassino estava vivo<br>https://g1.globo.com/go/goias/noticia/2023/05/27/caso-lazaro-barbosa-adolescente-convenceu-namorado-a-violar-tumulo-depois-de-ter-sonhado-que-homem-estaria-vivo-diz-delegado.ghtml"
      ],
      "text/plain": [
       "<IPython.core.display.HTML object>"
      ]
     },
     "metadata": {},
     "output_type": "display_data"
    }
   ],
   "source": [
    "news2 = '<h1 style=\"padding: 12px;\">Notícias</h1>'\n",
    "news2 += '<br><br>'.join( [ '<br>'.join( [ str( i['title'] ) , str( i[ 'url' ]  ) ] ) for i in dw ] )\n",
    "display( HTML( news2 ))"
   ]
  },
  {
   "cell_type": "markdown",
   "id": "0b5cc259",
   "metadata": {
    "jp-MarkdownHeadingCollapsed": true,
    "tags": []
   },
   "source": [
    "# CNN Crawler de Noticias do Portal"
   ]
  },
  {
   "cell_type": "code",
   "execution_count": 35,
   "id": "5d731b59",
   "metadata": {},
   "outputs": [],
   "source": [
    "cnn_data = requests.get('https://www.cnnbrasil.com.br/')\n"
   ]
  },
  {
   "cell_type": "code",
   "execution_count": 36,
   "id": "06682a5f",
   "metadata": {},
   "outputs": [
    {
     "data": {
      "text/plain": [
       "<section class=\"hot__content\"> <div class=\"carousel\"> <div class=\"carousel__screen infinite\"> <ul class=\"carousel__track\"> <li class=\"carousel__item\"><div class=\"hot__list__itens\"> <a href=\"https://www.cnnbrasil.com.br/entretenimento/virada-cultural-2023-confira-\" target=\"_self\" title=\"VIRADA CULTURAL 2023 Confira programação e horários das principais atrações\"> <img class=\"tb\" src=\"https://www.cnnbrasil.com.br/wp-content/uploads/sites/12/2022/05/CJP20220529020.jpg?w=65&amp;h=37&amp;crop=1\" title=\"VIRADA CULTURAL 2023 Confira programação e horários das principais atrações\"/> <div class=\"i_ch\"> <i></i> <span class=\"ch\"> VIRADA CULTURAL 2023 </span> </div> <span class=\"tp\"> Confira programação e horários das principais atrações </span> </a></div></li><li class=\"carousel__item\"><div class=\"hot__list__itens\"> <a href=\"https://www.cnnbrasil.com.br/politica/lula-se-reune-com-marina-e-sonia-guajajara-apos-derrotas-impostas-pelo-congresso-na-area-ambiental/\" target=\"_self\" title=\"MINISTÉRIOS Lula se reúne com Marina e Sonia Guajajara após derrotas impostas pelo Congresso na área ambiental\"> <img class=\"tb\" src=\"https://www.cnnbrasil.com.br/wp-content/uploads/sites/12/Reuters_Direct_Media/BrazilOnlineReportDomesticNews/tagreuters.com2023binary_LYNXMPEJ4P0PJ-FILEDIMAGE.jpg?w=65&amp;h=37&amp;crop=1\" title=\"MINISTÉRIOS Lula se reúne com Marina e Sonia Guajajara após derrotas impostas pelo Congresso na área ambiental\"/> <div class=\"i_ch\"> <i></i> <span class=\"ch\"> MINISTÉRIOS </span> </div> <span class=\"tp\"> Lula se reúne com Marina e Sonia Guajajara após derrotas impostas pelo Congresso na área ambiental </span> </a></div></li><li class=\"carousel__item\"><div class=\"hot__list__itens\"> <a href=\"https://www.cnnbrasil.com.br/economia/confaz-anuncia-nova-tabela-de-precos-dos-combustiveis-validos-a-partir-de-1o-de-junho/\" target=\"_self\" title=\"COMBUSTÍVEIS Confaz anuncia nova tabela de preços dos combustíveis, válidos a partir de 1º de junho\"> <img class=\"tb\" src=\"https://www.cnnbrasil.com.br/wp-content/uploads/sites/12/Reuters_Direct_Media/BrazilOnlineReportBusinessNews/tagreuters.com2022binary_LYNXMPEIAR0TV-FILEDIMAGE.jpg?w=65&amp;h=37&amp;crop=1\" title=\"COMBUSTÍVEIS Confaz anuncia nova tabela de preços dos combustíveis, válidos a partir de 1º de junho\"/> <div class=\"i_ch\"> <i></i> <span class=\"ch\"> COMBUSTÍVEIS </span> </div> <span class=\"tp\"> Confaz anuncia nova tabela de preços dos combustíveis, válidos a partir de 1º de junho </span> </a></div></li><li class=\"carousel__item\"><div class=\"hot__list__itens\"> <a href=\"https://www.cnnbrasil.com.br/saude/mundo-deve-se-preparar-para-surto-mais-mortal-do-que-a-covid-19-alerta-chefe-da-oms/\" target=\"_self\" title=\"PANDEMIA Mundo deve se preparar para surto mais mortal do que a Covid-19, alerta chefe da OMS\"> <img class=\"tb\" src=\"https://www.cnnbrasil.com.br/wp-content/uploads/sites/12/2023/04/hospital_china_02.jpg?w=65&amp;h=37&amp;crop=1\" title=\"PANDEMIA Mundo deve se preparar para surto mais mortal do que a Covid-19, alerta chefe da OMS\"/> <div class=\"i_ch\"> <i></i> <span class=\"ch\"> PANDEMIA </span> </div> <span class=\"tp\"> Mundo deve se preparar para surto mais mortal do que a Covid-19, alerta chefe da OMS </span> </a></div></li> </ul> <ul class=\"carousel__track\"> <li class=\"carousel__item\"><div class=\"hot__list__itens\"> <a href=\"https://www.cnnbrasil.com.br/entretenimento/virada-cultural-2023-confira-\" target=\"_self\" title=\"VIRADA CULTURAL 2023 Confira programação e horários das principais atrações\"> <img class=\"tb\" src=\"https://www.cnnbrasil.com.br/wp-content/uploads/sites/12/2022/05/CJP20220529020.jpg?w=65&amp;h=37&amp;crop=1\" title=\"VIRADA CULTURAL 2023 Confira programação e horários das principais atrações\"/> <div class=\"i_ch\"> <i></i> <span class=\"ch\"> VIRADA CULTURAL 2023 </span> </div> <span class=\"tp\"> Confira programação e horários das principais atrações </span> </a></div></li><li class=\"carousel__item\"><div class=\"hot__list__itens\"> <a href=\"https://www.cnnbrasil.com.br/politica/lula-se-reune-com-marina-e-sonia-guajajara-apos-derrotas-impostas-pelo-congresso-na-area-ambiental/\" target=\"_self\" title=\"MINISTÉRIOS Lula se reúne com Marina e Sonia Guajajara após derrotas impostas pelo Congresso na área ambiental\"> <img class=\"tb\" src=\"https://www.cnnbrasil.com.br/wp-content/uploads/sites/12/Reuters_Direct_Media/BrazilOnlineReportDomesticNews/tagreuters.com2023binary_LYNXMPEJ4P0PJ-FILEDIMAGE.jpg?w=65&amp;h=37&amp;crop=1\" title=\"MINISTÉRIOS Lula se reúne com Marina e Sonia Guajajara após derrotas impostas pelo Congresso na área ambiental\"/> <div class=\"i_ch\"> <i></i> <span class=\"ch\"> MINISTÉRIOS </span> </div> <span class=\"tp\"> Lula se reúne com Marina e Sonia Guajajara após derrotas impostas pelo Congresso na área ambiental </span> </a></div></li><li class=\"carousel__item\"><div class=\"hot__list__itens\"> <a href=\"https://www.cnnbrasil.com.br/economia/confaz-anuncia-nova-tabela-de-precos-dos-combustiveis-validos-a-partir-de-1o-de-junho/\" target=\"_self\" title=\"COMBUSTÍVEIS Confaz anuncia nova tabela de preços dos combustíveis, válidos a partir de 1º de junho\"> <img class=\"tb\" src=\"https://www.cnnbrasil.com.br/wp-content/uploads/sites/12/Reuters_Direct_Media/BrazilOnlineReportBusinessNews/tagreuters.com2022binary_LYNXMPEIAR0TV-FILEDIMAGE.jpg?w=65&amp;h=37&amp;crop=1\" title=\"COMBUSTÍVEIS Confaz anuncia nova tabela de preços dos combustíveis, válidos a partir de 1º de junho\"/> <div class=\"i_ch\"> <i></i> <span class=\"ch\"> COMBUSTÍVEIS </span> </div> <span class=\"tp\"> Confaz anuncia nova tabela de preços dos combustíveis, válidos a partir de 1º de junho </span> </a></div></li><li class=\"carousel__item\"><div class=\"hot__list__itens\"> <a href=\"https://www.cnnbrasil.com.br/saude/mundo-deve-se-preparar-para-surto-mais-mortal-do-que-a-covid-19-alerta-chefe-da-oms/\" target=\"_self\" title=\"PANDEMIA Mundo deve se preparar para surto mais mortal do que a Covid-19, alerta chefe da OMS\"> <img class=\"tb\" src=\"https://www.cnnbrasil.com.br/wp-content/uploads/sites/12/2023/04/hospital_china_02.jpg?w=65&amp;h=37&amp;crop=1\" title=\"PANDEMIA Mundo deve se preparar para surto mais mortal do que a Covid-19, alerta chefe da OMS\"/> <div class=\"i_ch\"> <i></i> <span class=\"ch\"> PANDEMIA </span> </div> <span class=\"tp\"> Mundo deve se preparar para surto mais mortal do que a Covid-19, alerta chefe da OMS </span> </a></div></li> </ul> </div> </div> </section>"
      ]
     },
     "execution_count": 36,
     "metadata": {},
     "output_type": "execute_result"
    }
   ],
   "source": [
    "cnn_soup = BeautifulSoup(cnn_data.content, 'html.parser')\n",
    "cnn_nw_data = cnn_soup.find_all('section')\n",
    "cnn_nw_data[0]"
   ]
  },
  {
   "cell_type": "code",
   "execution_count": 37,
   "id": "4d7052da",
   "metadata": {},
   "outputs": [],
   "source": [
    "c = cnn_nw_data[0].find('a')\n",
    "#dir(c)\n"
   ]
  },
  {
   "cell_type": "code",
   "execution_count": 38,
   "id": "adbe3f16",
   "metadata": {},
   "outputs": [
    {
     "data": {
      "text/plain": [
       "{'href': 'https://www.cnnbrasil.com.br/entretenimento/virada-cultural-2023-confira-',\n",
       " 'title': 'VIRADA CULTURAL 2023 Confira programação e horários das principais atrações',\n",
       " 'target': '_self'}"
      ]
     },
     "execution_count": 38,
     "metadata": {},
     "output_type": "execute_result"
    }
   ],
   "source": [
    "c.attrs"
   ]
  },
  {
   "cell_type": "code",
   "execution_count": 39,
   "id": "cfa59afc",
   "metadata": {},
   "outputs": [
    {
     "name": "stdout",
     "output_type": "stream",
     "text": [
      "[{'title': 'VIRADA CULTURAL 2023 Confira programação e horários das principais atrações', 'href': 'https://www.cnnbrasil.com.br/entretenimento/virada-cultural-2023-confira-'}, {'title': 'Derrotas do governo no Congresso refletem dificuldade de Lula em formar coalizão', 'href': 'https://www.cnnbrasil.com.br/politica/derrotas-do-governo-no-congresso-refletem-dificuldade-de-lula-em-formar-coalizao-dizem-especialistas/'}, {'title': 'General da Ucrânia sugere que contraofensiva ucraniana pode estar próxima', 'href': 'https://www.cnnbrasil.com.br/internacional/chefe-das-forcas-armadas-da-ucrania-sugere-que-contraofensiva-pode-estar-proxima/'}, {'title': 'Política', 'href': 'https://www.cnnbrasil.com.br/politica/'}, {'title': 'Pop', 'href': 'https://www.cnnbrasil.com.br/pop/'}, {'title': 'Economia', 'href': 'https://www.cnnbrasil.com.br/economia/'}, {'title': 'Internacional', 'href': 'https://www.cnnbrasil.com.br/internacional/'}, {'title': 'Viagem & Gastronomia', 'href': 'https://www.cnnbrasil.com.br/viagemegastronomia/'}, {'title': 'Nacional', 'href': 'https://www.cnnbrasil.com.br/nacional/'}, {'title': 'Saúde', 'href': 'https://www.cnnbrasil.com.br/saude/'}, {'title': 'Esportes', 'href': 'https://www.cnnbrasil.com.br/esportes/'}, {'title': 'CNN Plural', 'href': 'https://www.cnnbrasil.com.br/tudo-sobre/cnn-plural/'}, {'title': 'Ciência e Tecnologia', 'href': 'https://www.cnnbrasil.com.br/tecnologia/'}, {'title': 'Saiba se é preciso declarar ganhos com plataformas como YouTube e OnlyFans', 'href': 'https://www.cnnbrasil.com.br/economia/imposto-de-renda-saiba-se-e-preciso-declarar-ganhos-com-youtube-instagram-e-outras-midias-sociais/'}]\n"
     ]
    }
   ],
   "source": [
    "cnn_list_news = []\n",
    "aux = None \n",
    "for news in cnn_nw_data:\n",
    "    aux = news.find('a')\n",
    "    \n",
    "    \n",
    "    try :\n",
    "        \n",
    "        aux = aux.attrs\n",
    "        cnn_list_news.extend( [ { 'title': aux['title'], 'href': aux['href'] } ] ) \n",
    "\n",
    "    except:\n",
    "        pass\n",
    "\n",
    "print(cnn_list_news)"
   ]
  },
  {
   "cell_type": "code",
   "execution_count": 40,
   "id": "ab2be6dd",
   "metadata": {},
   "outputs": [
    {
     "name": "stdout",
     "output_type": "stream",
     "text": [
      "\n",
      "VIRADA CULTURAL 2023 Confira programação e horários das principais atrações \n",
      "https://www.cnnbrasil.com.br/entretenimento/virada-cultural-2023-confira-\n",
      "\n",
      "\n",
      "\n",
      "Derrotas do governo no Congresso refletem dificuldade de Lula em formar coalizão \n",
      "https://www.cnnbrasil.com.br/politica/derrotas-do-governo-no-congresso-refletem-dificuldade-de-lula-em-formar-coalizao-dizem-especialistas/\n",
      "\n",
      "\n",
      "\n",
      "General da Ucrânia sugere que contraofensiva ucraniana pode estar próxima \n",
      "https://www.cnnbrasil.com.br/internacional/chefe-das-forcas-armadas-da-ucrania-sugere-que-contraofensiva-pode-estar-proxima/\n",
      "\n",
      "\n",
      "\n",
      "Política \n",
      "https://www.cnnbrasil.com.br/politica/\n",
      "\n",
      "\n",
      "\n",
      "Pop \n",
      "https://www.cnnbrasil.com.br/pop/\n",
      "\n",
      "\n",
      "\n",
      "Economia \n",
      "https://www.cnnbrasil.com.br/economia/\n",
      "\n",
      "\n",
      "\n",
      "Internacional \n",
      "https://www.cnnbrasil.com.br/internacional/\n",
      "\n",
      "\n",
      "\n",
      "Viagem & Gastronomia \n",
      "https://www.cnnbrasil.com.br/viagemegastronomia/\n",
      "\n",
      "\n",
      "\n",
      "Nacional \n",
      "https://www.cnnbrasil.com.br/nacional/\n",
      "\n",
      "\n",
      "\n",
      "Saúde \n",
      "https://www.cnnbrasil.com.br/saude/\n",
      "\n",
      "\n",
      "\n",
      "Esportes \n",
      "https://www.cnnbrasil.com.br/esportes/\n",
      "\n",
      "\n",
      "\n",
      "CNN Plural \n",
      "https://www.cnnbrasil.com.br/tudo-sobre/cnn-plural/\n",
      "\n",
      "\n",
      "\n",
      "Ciência e Tecnologia \n",
      "https://www.cnnbrasil.com.br/tecnologia/\n",
      "\n",
      "\n",
      "\n",
      "Saiba se é preciso declarar ganhos com plataformas como YouTube e OnlyFans \n",
      "https://www.cnnbrasil.com.br/economia/imposto-de-renda-saiba-se-e-preciso-declarar-ganhos-com-youtube-instagram-e-outras-midias-sociais/\n",
      "\n",
      "\n"
     ]
    }
   ],
   "source": [
    "cnn_list_news_ma = None\n",
    "for i in cnn_list_news:\n",
    "    \n",
    "    try:\n",
    "        print(f\"\\n{i['title']} \\n{i['href']}\\n\\n\" ) \n",
    "    except:\n",
    "        pass \n",
    "    #keys = i.keys()\n",
    "    #print(keys)   \n",
    "    \n",
    "\n",
    "    #print( f'\\t\\n\\n{out}') \n",
    "    #out = '' \n"
   ]
  },
  {
   "cell_type": "code",
   "execution_count": 41,
   "id": "18478fa3",
   "metadata": {},
   "outputs": [
    {
     "data": {
      "text/plain": [
       "8"
      ]
     },
     "execution_count": 41,
     "metadata": {},
     "output_type": "execute_result"
    }
   ],
   "source": [
    "len(dw)"
   ]
  },
  {
   "cell_type": "code",
   "execution_count": 42,
   "id": "81147e1f",
   "metadata": {},
   "outputs": [
    {
     "data": {
      "text/plain": [
       "14"
      ]
     },
     "execution_count": 42,
     "metadata": {},
     "output_type": "execute_result"
    }
   ],
   "source": [
    "len(cnn_list_news)"
   ]
  },
  {
   "cell_type": "markdown",
   "id": "f8cdb6c9",
   "metadata": {
    "jp-MarkdownHeadingCollapsed": true,
    "tags": []
   },
   "source": [
    "# BBC Brasil "
   ]
  },
  {
   "cell_type": "markdown",
   "id": "4c05e698",
   "metadata": {},
   "source": [
    "Crawler das notícias do portal do site BBC Brasil."
   ]
  },
  {
   "cell_type": "code",
   "execution_count": 43,
   "id": "add6fad0",
   "metadata": {},
   "outputs": [],
   "source": [
    "url_bbc = 'https://www.bbc.com/portuguese'\n",
    "url_bbc_base = 'https://www.bbc.com'"
   ]
  },
  {
   "cell_type": "code",
   "execution_count": 44,
   "id": "b0cfcf46",
   "metadata": {},
   "outputs": [],
   "source": [
    "bbc_data = requests.get(url_bbc)\n",
    "bbc_soup = BeautifulSoup(bbc_data.content, 'html.parser')\n",
    "bbc_sections =  bbc_soup.find_all('section' , class_= 'bbc-iinl4t')"
   ]
  },
  {
   "cell_type": "code",
   "execution_count": 45,
   "id": "ff387772",
   "metadata": {},
   "outputs": [],
   "source": [
    "bbc_news_lists = []"
   ]
  },
  {
   "cell_type": "markdown",
   "id": "46e14fbd",
   "metadata": {},
   "source": [
    "``` python\n",
    "url_bbc_base+bbc_sections[0].select('a')[0]['href']\n",
    "```\n",
    "\n",
    "Saída 'https://www.bbc.com/portuguese/brasil-63507138'"
   ]
  },
  {
   "cell_type": "code",
   "execution_count": 46,
   "id": "df0594c3",
   "metadata": {},
   "outputs": [
    {
     "data": {
      "text/plain": [
       "'O que está por trás do aumento de casos de HIV entre idosos brasileiros'"
      ]
     },
     "execution_count": 46,
     "metadata": {},
     "output_type": "execute_result"
    }
   ],
   "source": [
    "bbc_sections[0].select('a')[0].text"
   ]
  },
  {
   "cell_type": "code",
   "execution_count": 47,
   "id": "935c15b3",
   "metadata": {},
   "outputs": [],
   "source": [
    "for news in bbc_sections:\n",
    "    bbc_news_lists.extend( [ { 'title': i.text, 'url': i['href'] } for i in news.select('a') ] )"
   ]
  },
  {
   "cell_type": "code",
   "execution_count": 48,
   "id": "73480045",
   "metadata": {},
   "outputs": [],
   "source": [
    "bbc_news_lists = []\n",
    "aux = None \n",
    "\n",
    "for section_news in bbc_sections:\n",
    "    for news in section_news.select( 'a' ):\n",
    "        if news['href'].find('topic') != -1:\n",
    "            pass\n",
    "        else :\n",
    "            if news['href'].find('https') != -1:\n",
    "                bbc_news_lists.extend( [ { 'title': news.text, 'href': news['href'] } ] )\n",
    "            else:\n",
    "                bbc_news_lists.extend( [ { 'title': news.text, 'href': url_bbc_base+news['href'] } ] )"
   ]
  },
  {
   "cell_type": "code",
   "execution_count": 49,
   "id": "21212bf4",
   "metadata": {},
   "outputs": [
    {
     "name": "stdout",
     "output_type": "stream",
     "text": [
      "Número de notícias: 54\n"
     ]
    }
   ],
   "source": [
    "print(f'Número de notícias: {len(bbc_news_lists)}')"
   ]
  },
  {
   "cell_type": "code",
   "execution_count": 50,
   "id": "2191c506",
   "metadata": {},
   "outputs": [
    {
     "data": {
      "text/plain": [
       "[{'title': '5 negócios do Google e de outros gigantes que prometiam muito e fracassaram',\n",
       "  'href': 'https://www.bbc.com/portuguese/articles/crgmg5r9d8ro'},\n",
       " {'title': 'Homem paraplégico volta a andar após receber implantes no cérebro em técnica pioneira',\n",
       "  'href': 'https://www.bbc.com/portuguese/articles/c720p0z8xyno'},\n",
       " {'title': 'Vídeo, O meio milhão de crianças sem comida e educação no maior campo de refugiados do mundo, Duration 2,30',\n",
       "  'href': 'https://www.bbc.com/portuguese/internacional-65645115'}]"
      ]
     },
     "execution_count": 50,
     "metadata": {},
     "output_type": "execute_result"
    }
   ],
   "source": [
    "random.choices(bbc_news_lists, k = 3)"
   ]
  },
  {
   "cell_type": "code",
   "execution_count": 51,
   "id": "b3a68bfb",
   "metadata": {},
   "outputs": [
    {
     "name": "stdout",
     "output_type": "stream",
     "text": [
      "https://www.bbc.com/portuguese/topics/cz74k71p8ynt\n"
     ]
    }
   ],
   "source": [
    "print(url_bbc_base+'/portuguese/topics/cz74k71p8ynt')"
   ]
  },
  {
   "cell_type": "code",
   "execution_count": 52,
   "id": "9a107ff9",
   "metadata": {},
   "outputs": [],
   "source": [
    "with open('bbc_news.txt', 'w') as fl:\n",
    "    for i in bbc_news_lists:\n",
    "        fl.write(i['title'] +'\\n' + i['href'] +'\\n\\n')\n",
    "    fl.close()"
   ]
  },
  {
   "cell_type": "markdown",
   "id": "f89eb773-762f-4e86-a627-367f322dcbff",
   "metadata": {
    "tags": []
   },
   "source": [
    "# Portal Band"
   ]
  },
  {
   "cell_type": "markdown",
   "id": "3a397d79-f69c-448f-a788-a54556d5684d",
   "metadata": {},
   "source": [
    "Busca de lista de notícias do portal Band."
   ]
  },
  {
   "cell_type": "raw",
   "id": "07190b70-cca3-462a-ae8c-ed26aa1302b0",
   "metadata": {},
   "source": [
    "Verificar seções do site [https://www.band.uol.com.br/](https://www.band.uol.com.br/) quai contém links de possíveis notícias destaques na página principal."
   ]
  },
  {
   "cell_type": "code",
   "execution_count": 53,
   "id": "902bb0f5-943a-4f31-adc0-97e45ecad142",
   "metadata": {},
   "outputs": [],
   "source": [
    "import requests\n",
    "from bs4 import BeautifulSoup"
   ]
  },
  {
   "cell_type": "code",
   "execution_count": 54,
   "id": "9d9c1547-3393-469d-a279-06e12fc5d940",
   "metadata": {},
   "outputs": [],
   "source": [
    "url_band = 'https://www.band.uol.com.br/'"
   ]
  },
  {
   "cell_type": "code",
   "execution_count": 55,
   "id": "79e1162e-41af-48c8-81fc-5875da822b72",
   "metadata": {},
   "outputs": [],
   "source": [
    "band_data = requests.get(url_band).content\n",
    "soup_band = BeautifulSoup(band_data, 'html.parser')\n"
   ]
  },
  {
   "cell_type": "markdown",
   "id": "8df31aa0-4a92-49f5-bf05-c1a6240043ad",
   "metadata": {
    "jp-MarkdownHeadingCollapsed": true,
    "tags": []
   },
   "source": [
    "#### Band list sections "
   ]
  },
  {
   "cell_type": "code",
   "execution_count": 56,
   "id": "1ea1025c-54be-4a38-9c43-bb2dd0d5a48d",
   "metadata": {},
   "outputs": [],
   "source": [
    "news_band_section = soup_band.find_all('section')"
   ]
  },
  {
   "cell_type": "code",
   "execution_count": 57,
   "id": "5d2f4431-a295-4794-9fcb-b68a8c6f5026",
   "metadata": {},
   "outputs": [
    {
     "name": "stdout",
     "output_type": "stream",
     "text": [
      "<section _ngcontent-sc38=\"\" class=\"menu__section\"><span _ngcontent-sc38=\"\">Menu</span><!-- --><!-- --></section>\n",
      "Número: 17\n"
     ]
    }
   ],
   "source": [
    "print(news_band_section[0])\n",
    "print(f'Número: {len(news_band_section)}')"
   ]
  },
  {
   "cell_type": "markdown",
   "id": "6dd849ba-1ac6-4a4d-9fc2-fea2cba324c8",
   "metadata": {
    "tags": []
   },
   "source": [
    "#### Band home main"
   ]
  },
  {
   "cell_type": "markdown",
   "id": "6dff9eb5-37d9-49ae-bef7-f78074ec694f",
   "metadata": {},
   "source": [
    "![bandcapt.png](bandcapt.png)\n",
    "\n",
    "1. tag main class -> home\n",
    "2. Tag section com class=hardnews\n",
    "3. tag div's conteúdos com para classes hardnews__highlight e cards"
   ]
  },
  {
   "cell_type": "code",
   "execution_count": 58,
   "id": "b15c5e6e-4502-4933-a157-a7b1f6be6dc6",
   "metadata": {},
   "outputs": [
    {
     "name": "stdout",
     "output_type": "stream",
     "text": [
      "\n",
      " bn1_link_news  5\n",
      "\n",
      " bn1_link_news  <a _ngcontent-sc11=\"\" href=\"https://www.band.uol.com.br/esportes/automobilismo/formula-1\">Veja a tabela e o calendário completo do Mundial de pilotos</a>\n",
      "\n",
      "------------------------------\n",
      "\n",
      " bn2_cards_links (size) 15\n",
      "\\ bn2_cards_links  <a _ngcontent-sc10=\"\" href=\"https://www.band.uol.com.br/economia/noticias/juliana-rosa-programa-de-carro-mais-barato-privilegiara-os-menos-poluentes-16605408\" title=\"Juliana Rosa: programa de carro mais barato privilegiará menos poluentes\"><h2 _ngcontent-sc10=\"\" class=\"title\">Juliana Rosa: programa de carro mais barato privilegiará menos poluentes</h2></a>\n"
     ]
    }
   ],
   "source": [
    "import re\n",
    "# Tag 'main' e class=[home container]. (variável band_main_home)\n",
    "band_main_home = soup_band.find_all('main', class_='home')\n",
    "# -----------------------\n",
    "#dir(band_main_home[0] )\n",
    "#print(str( band_main_home ) )\n",
    "soup_band2 = BeautifulSoup( str( band_main_home ) , 'html.parser')\n",
    "\n",
    "bmainhardnews = soup_band2.find_all('section', 'hardnews')\n",
    "soup_blocknews = BeautifulSoup( str( bmainhardnews[0] ), 'html.parser' )\n",
    "bn1 = soup_blocknews.find_all( 'div', class_='hardnews__highlight' )\n",
    "\n",
    "soup_links_news = BeautifulSoup(str( bn1 ), 'html.parser') \n",
    "bn1_link_news = soup_links_news.find_all( 'a'  )#, class_= [ 'link image','related', 'link']  ) \n",
    "bn2 = soup_blocknews.find_all( 'div', class_='cards' )\n",
    "\n",
    "soup2bn2 = BeautifulSoup( str( bn2[0] ), 'html.parser' ) \n",
    "bn2_cards_links = soup2bn2.find_all( 'a' )\n",
    "\n",
    "# Tag: div Class -> hardnews__highlight and card. Duas seções/blocos de noticias.\n",
    "#print('\\n> bn1 ', bn1[0] )\n",
    "#print('\\n> bn2 ', bn2[0] )\n",
    "print('\\n bn1_link_news ', len(bn1_link_news ))\n",
    "print('\\n bn1_link_news ', bn1_link_news[1] )\n",
    "print('\\n'+30*'-')\n",
    "print('\\n bn2_cards_links (size)', len(bn2_cards_links) )\n",
    "print('\\ bn2_cards_links ', bn2_cards_links[-1] ) #Pegando o último elemento da lista e exibindo.\n"
   ]
  },
  {
   "cell_type": "code",
   "execution_count": 59,
   "id": "f31bde93-d156-42b7-9f96-817dfa7729fa",
   "metadata": {},
   "outputs": [
    {
     "name": "stdout",
     "output_type": "stream",
     "text": [
      "\n",
      ">  F1 NA BANDAO VIVO: Assista à classificação do GP de Mônaco de Fórmula 1\n",
      " | https://www.band.uol.com.br/esportes/automobilismo/formula-1/ao-vivo/formula-1-gp-de-monaco-classificacao\n",
      "\n",
      ">  Veja a tabela e o calendário completo do Mundial de pilotos\n",
      " | https://www.band.uol.com.br/esportes/automobilismo/formula-1\n",
      "\n",
      ">  Gente como a gente? Em Mônaco, pilotos têm vida comum à vista de moradores\n",
      " | https://www.band.uol.com.br/esportes/automobilismo/formula-1/noticias/gp-de-monaco-pilotos-f1-moradores-vida-16604981\n",
      "\n",
      ">  Blog Grid: A importância de Mônaco para a F1, em uma partida de pôquer com David Coulthard\n",
      " | https://www.band.uol.com.br/esportes/automobilismo/blog-grid/formula-1/a-importancia-de-monaco-para-a-f1-em-uma-partida-de-poquer-com-david-coulthard\n",
      "\n",
      ">  Exclusivo: Na liderança da F3, Bortoleto admite \"conversas\" com equipes da F2\n",
      " | https://www.band.uol.com.br/esportes/automobilismo/blog-grid/formula-2/na-lideranca-da-f3-bortoleto-admite-conversas-com-equipes-da-formula-2\n"
     ]
    }
   ],
   "source": [
    "#print(dir(bn1_link_news[0] ) )\n",
    "#bn1_link_news[0]['href']\n",
    "\n",
    "# Lista de links de notícias no bloco {tag: div, class_: 'hardnews__highlight' } do HTML.\n",
    "for i in bn1_link_news:\n",
    "    print('\\n> ', i.text +'\\n | '+i['href'])"
   ]
  },
  {
   "cell_type": "code",
   "execution_count": 60,
   "id": "9e13e766-4061-4438-87d3-3cec7fb6717a",
   "metadata": {},
   "outputs": [
    {
     "name": "stdout",
     "output_type": "stream",
     "text": [
      "\n",
      ">  Borussia Dortmund x Mainz: siga o jogo que pode definir campeão alemão\n",
      " | https://www.band.uol.com.br/esportes/futebol/placar/ao-vivo/borussia-dortmund-x-mainz-05-202056\n",
      "\n",
      ">  Borussia Dortmund x Mainz: siga o jogo que pode definir campeão alemão\n",
      " | https://www.band.uol.com.br/esportes/futebol/placar/ao-vivo/borussia-dortmund-x-mainz-05-202056\n",
      "\n",
      ">  Borussia Dortmund x Mainz: siga o jogo que pode definir campeão alemão\n",
      " | https://www.band.uol.com.br/esportes/futebol/placar/ao-vivo/borussia-dortmund-x-mainz-05-202056\n",
      "\n",
      ">  Bayern enfrenta Colônia em outra partida decisiva; acompanhe \n",
      " | https://www.band.uol.com.br/esportes/futebol/placar/ao-vivo/colonia-x-bayern-202122\n",
      "\n",
      ">  Neto: Corinthians vai trazer 5 jogadores na janela; assista\n",
      " | https://www.band.uol.com.br/esportes/os-donos-da-bola/noticias/corinthians-vai-contratar-5-jogadores-craque-neto-16605247\n",
      "\n",
      ">  Neto: Corinthians vai trazer 5 jogadores na janela; assista\n",
      " | https://www.band.uol.com.br/esportes/os-donos-da-bola/noticias/corinthians-vai-contratar-5-jogadores-craque-neto-16605247\n",
      "\n",
      ">  Neto: Corinthians vai trazer 5 jogadores na janela; assista\n",
      " | https://www.band.uol.com.br/esportes/os-donos-da-bola/noticias/corinthians-vai-contratar-5-jogadores-craque-neto-16605247\n",
      "\n",
      ">  Botafogo anuncia atacante Diego Hernandez\n",
      " | https://www.band.uol.com.br/esportes/botafogo-contrata-diego-hernandez-veja-valores-16605394\n",
      "\n",
      ">  Veja lances de Nicolás de la Cruz, alvo do Flamengo\n",
      " | https://www.band.uol.com.br/esportes/futebol/noticias/lances-de-nicolas-de-la-cruz-na-conmebol-libertadores-2023-16605358\n",
      "\n",
      ">  São Paulo anuncia o retorno de Alexandre Pato\n",
      " | https://www.band.uol.com.br/esportes/sao-paulo-alexandre-pato-anuncio-contratacao-16605315\n",
      "\n",
      ">  Lula tentará reverter mudanças que esvaziaram ministérios\n",
      " | https://www.band.uol.com.br/noticias/jornal-da-band/ultimas/lula-tentara-reverter-mudancas-do-congresso-que-esvaziaram-ministerios-16605392\n",
      "\n",
      ">  Lula tentará reverter mudanças que esvaziaram ministérios\n",
      " | https://www.band.uol.com.br/noticias/jornal-da-band/ultimas/lula-tentara-reverter-mudancas-do-congresso-que-esvaziaram-ministerios-16605392\n",
      "\n",
      ">  Lula tentará reverter mudanças que esvaziaram ministérios\n",
      " | https://www.band.uol.com.br/noticias/jornal-da-band/ultimas/lula-tentara-reverter-mudancas-do-congresso-que-esvaziaram-ministerios-16605392\n",
      "\n",
      ">  Lula conversa com Putin e recusa convite à Rússia\n",
      " | https://www.band.uol.com.br/noticias/lula-conversa-com-putin-por-telefone-e-recusa-convite-para-ir-a-russia-16605187\n",
      "\n",
      ">  Juliana Rosa: programa de carro mais barato privilegiará menos poluentes\n",
      " | https://www.band.uol.com.br/economia/noticias/juliana-rosa-programa-de-carro-mais-barato-privilegiara-os-menos-poluentes-16605408\n"
     ]
    }
   ],
   "source": [
    "for i in bn2_cards_links:\n",
    "    print('\\n> ', i['title'] +'\\n | '+i['href'])"
   ]
  },
  {
   "cell_type": "markdown",
   "id": "f481fabc-c560-4474-82ec-b56a50ec5eda",
   "metadata": {},
   "source": [
    "#### Função \"trackBandNews\" (Obtendo notícias do portal da Band)"
   ]
  },
  {
   "cell_type": "code",
   "execution_count": 61,
   "id": "327d8751-424c-4ace-8ff2-2aff59beb679",
   "metadata": {},
   "outputs": [],
   "source": [
    "# Type list of dictionary\n",
    "ListDict = list[ dict ]\n",
    "\n",
    "def trackBandNews(data: str) -> ListDict:\n",
    "    \"\"\"\n",
    "    data: str [dados] text html\n",
    "    return list of news with fields 'Title of news' and 'url' for news.\n",
    "    l = [\n",
    "    {'title': 'string', 'href': link},\n",
    "    ...\n",
    "    ]\n",
    "    \n",
    "    \"\"\"\n",
    "    # Lista de notícias\n",
    "    result = []\n",
    "    \n",
    "    # Obtendo conteúdo html\n",
    "    #band_data = requests.get(url_band).content\n",
    "    soup_band = BeautifulSoup(data, 'html.parser')\n",
    "    \n",
    "    # Primeiro acesso tag main (bloco principal que contêm conteúdos como as noticias principais e seus links.\n",
    "    # Tag 'main' e class=[home container]. (variável band_main_home)\n",
    "    band_main_home = soup_band.find_all('main', class_='home')\n",
    "    \n",
    "    # Capturando html do bloco maior em main que contêm as noticias.\n",
    "    soup_band2 = BeautifulSoup( str( band_main_home ) , 'html.parser')\n",
    "    \n",
    "    # Este block ( tag:section, class:hardnews) filho da tag main contem dois blocos de noticias a serem tratados insoladamente.\n",
    "    bmainhardnews = soup_band2.find_all('section', 'hardnews')\n",
    "    soup_blocknews = BeautifulSoup( str( bmainhardnews[0] ), 'html.parser' )\n",
    "    bn1 = soup_blocknews.find_all( 'div', class_='hardnews__highlight' )\n",
    "\n",
    "    \n",
    "    soup_links_news = BeautifulSoup(str( bn1 ), 'html.parser') \n",
    "    bn1_link_news = soup_links_news.find_all( 'a'  )#, class_= [ 'link image','related', 'link']  ) \n",
    "    bn2 = soup_blocknews.find_all( 'div', class_='cards' )\n",
    "\n",
    "    soup2bn2 = BeautifulSoup( str( bn2[0] ), 'html.parser' ) \n",
    "    bn2_cards_links = soup2bn2.find_all( 'a' )\n",
    "\n",
    "    # Tag: div Class -> hardnews__highlight and card. Duas seções/blocos de noticias.\n",
    "    #print('\\n> bn1 ', bn1[0] )\n",
    "    #print('\\n> bn2 ', bn2[0] )\n",
    "    #print('\\n bn1_link_news ', len(bn1_link_news ))\n",
    "    #print('\\n bn1_link_news ', bn1_link_news[1] )\n",
    "    #print('\\n'+30*'-')\n",
    "    #print('\\n bn2_cards_links (size)', len(bn2_cards_links) )\n",
    "    #print('\\ bn2_cards_links ', bn2_cards_links[-1] ) #Pegando o último elemento da lista e exibindo.\n",
    "    \n",
    "    # Lista de links de notícias no bloco {tag: div, class_: 'hardnews__highlight' } do HTML.\n",
    "    for i in bn1_link_news:\n",
    "        result.append( { 'title': i.text, 'href': i['href'] } )\n",
    "        #print('\\n> ', i.text +'\\n | '+i['href'])\n",
    "        \n",
    "    for i in bn2_cards_links:\n",
    "        result.append( { 'title' : i['title'], 'href':  i['href'] } )\n",
    "        #print('\\n> ', i['title'] +'\\n | '+i['href'])\n",
    "    \n",
    "    return result"
   ]
  },
  {
   "cell_type": "code",
   "execution_count": 62,
   "id": "b6b8497d-ad0c-4a5c-8a58-20970ac0e0f6",
   "metadata": {},
   "outputs": [],
   "source": [
    "band_news = trackBandNews( band_data )"
   ]
  },
  {
   "cell_type": "markdown",
   "id": "c4c041e9-85eb-4afa-8592-27aed6676f49",
   "metadata": {
    "tags": []
   },
   "source": [
    "#### Percorrer listas de elementos em 'news_band_section'"
   ]
  },
  {
   "cell_type": "code",
   "execution_count": 63,
   "id": "470af61e-68c4-443e-9847-217ffd21a2b2",
   "metadata": {},
   "outputs": [],
   "source": [
    "aux = []\n",
    "list_ = None\n",
    "for secs in news_band_section:\n",
    "    list_ = secs.find_all('a', class_='link')\n",
    "    for i in list_:\n",
    "        \n",
    "        try:\n",
    "            aux.extend( [ { 'title': i.h3.text+'. '+ i.h2.text, 'href': i['href']} ] )\n",
    "        except:\n",
    "            aux.extend( [ { 'title': i.text, 'href': i['href'] } ] )\n",
    "    #aux.extend([ { 'title': i}  for i in list_ ]  )\n",
    "news_list_band = [] \n",
    "news_list_band.extend(random.choices(aux, k=4 ) )"
   ]
  },
  {
   "cell_type": "code",
   "execution_count": 64,
   "id": "98ce98b6-b991-4bab-b84c-574a5299a50b",
   "metadata": {},
   "outputs": [],
   "source": [
    "n = soup_band.find_all('a')"
   ]
  },
  {
   "cell_type": "code",
   "execution_count": 65,
   "id": "14f61d43-c1c8-4256-9cde-a8e78f9e190d",
   "metadata": {},
   "outputs": [
    {
     "name": "stdout",
     "output_type": "stream",
     "text": [
      "\n",
      "\n",
      "https://www.band.uol.com.br/esportes/automobilismo/formula-1/noticias/carlos-sainz-batida-segundo-treino-livre-gp-monaco-video-16605221\n",
      "\n",
      "\n",
      "/bandnews-fm/rio-de-janeiro/noticias/passista-que-teve-o-braco-amputado-vai-desfilar-pela-grande-rio-no-carnaval-2024-16605340\n",
      "\n",
      "Esporte\n",
      "/esportes/como-era-o-borussia-dortmund-campeao-alemao-de-2011-12-veja-o-time-16605367\n",
      "\n",
      "Tsunoda diz que escolheria entre jogador e chef de cozinha\n",
      "https://www.band.uol.com.br/esportes/automobilismo/blog-grid/formula-1/e-se-nao-fosse-piloto-de-f1-tsunoda-diz-que-escolheria-entre-futebol-e-comida\n"
     ]
    }
   ],
   "source": [
    "import random\n",
    "\n",
    "random.choices(news_list_band, k = 4)[0:]\n",
    "for i in news_list_band:\n",
    "    print(f\"\\n{i['title']}\\n{i['href']}\")"
   ]
  },
  {
   "cell_type": "code",
   "execution_count": 66,
   "id": "d4d2372d-8299-46a0-9d0b-332dae51aecf",
   "metadata": {},
   "outputs": [
    {
     "data": {
      "text/plain": [
       "<a _ngcontent-sc33=\"\" aria-label=\"Band\" class=\"logo logo--portal logo-name--Band logo--image center\" href=\"/\"><img _ngcontent-sc33=\"\" alt=\"Band\" class=\"logo-image\" height=\"35\" src=\"https://pubimg.band.uol.com.br/Files/logo-band-2022-v2.png?v2\" width=\"101\"/><!-- --><!-- --><!-- --></a>"
      ]
     },
     "execution_count": 66,
     "metadata": {},
     "output_type": "execute_result"
    }
   ],
   "source": [
    "n[0]"
   ]
  },
  {
   "cell_type": "code",
   "execution_count": 67,
   "id": "9d503a4e-1430-485d-8714-042c7e69e327",
   "metadata": {},
   "outputs": [
    {
     "data": {
      "text/plain": [
       "<a _ngcontent-sc33=\"\" aria-label=\"Band\" class=\"logo logo--portal logo-name--Band logo--image center\" href=\"/\"><img _ngcontent-sc33=\"\" alt=\"Band\" class=\"logo-image\" height=\"35\" src=\"https://pubimg.band.uol.com.br/Files/logo-band-2022-v2.png?v2\" width=\"101\"/><!-- --><!-- --><!-- --></a>"
      ]
     },
     "execution_count": 67,
     "metadata": {},
     "output_type": "execute_result"
    }
   ],
   "source": [
    "#print(dir(n[0]))\n",
    "n[0]"
   ]
  },
  {
   "cell_type": "code",
   "execution_count": 68,
   "id": "466e01bc-6221-4f8f-8f60-72223e9d281b",
   "metadata": {},
   "outputs": [
    {
     "name": "stdout",
     "output_type": "stream",
     "text": [
      "/\n",
      "no link\n",
      "https://bandplay.com/home\n",
      "https://www.band.uol.com.br/noticias\n",
      "https://www.band.uol.com.br/esportes\n",
      "https://www.band.uol.com.br/entretenimento\n",
      "https://receitas.band.uol.com.br/\n",
      "https://www.band.uol.com.br/programacao\n",
      "https://www.band.uol.com.br/band-shop\n",
      "no link\n",
      "no link\n",
      "https://www.band.uol.com.br/ao-vivo\n",
      "https://bandplay.com/home\n",
      "https://www.band.uol.com.br/band-shop\n",
      "https://www.band.uol.com.br/videos\n",
      "https://www.band.uol.com.br/podcasts\n",
      "https://www.band.uol.com.br/newsletters\n",
      "https://www.band.uol.com.br/programacao\n",
      "https://www.band.uol.com.br/show-da-fe\n",
      "https://twitter.com/portaldaband\n",
      "https://www.facebook.com/Band.com.br\n",
      "https://www.youtube.com/c/BandBr/\n",
      "https://www.instagram.com/bandtv/\n",
      "https://www.band.uol.com.br/band-shop\n",
      "no link\n",
      "no link\n",
      "https://www.band.uol.com.br/esportes/automobilismo/formula-1\n",
      "https://www.band.uol.com.br/tudo-sobre/jeff-machado\n",
      "https://www.band.uol.com.br/esportes/futebol/jogos-de-hoje\n",
      "https://www.band.uol.com.br/tudo-sobre/virada-cultural-sp\n",
      "https://www.band.uol.com.br/esportes/automobilismo/formula-1/ao-vivo/formula-1-gp-de-monaco-classificacao\n",
      "https://www.band.uol.com.br/esportes/automobilismo/formula-1\n",
      "https://www.band.uol.com.br/esportes/automobilismo/formula-1/noticias/gp-de-monaco-pilotos-f1-moradores-vida-16604981\n",
      "https://www.band.uol.com.br/esportes/automobilismo/blog-grid/formula-1/a-importancia-de-monaco-para-a-f1-em-uma-partida-de-poquer-com-david-coulthard\n",
      "https://www.band.uol.com.br/esportes/automobilismo/blog-grid/formula-2/na-lideranca-da-f3-bortoleto-admite-conversas-com-equipes-da-formula-2\n",
      "https://www.band.uol.com.br/entretenimento/masterchef/noticias/masterchef-2023-helena-rizzo-inova-no-cabelo-colorido-para-a-10a-temporada-16604561\n",
      "https://www.band.uol.com.br/entretenimento/carnaval/noticias/reveja-momentos-que-prova-que-ivete-sangalo-e-a-eterna-rainha-do-carnaval-16604479\n",
      "https://receitas.band.uol.com.br/noticias/alimentos-ricos-em-carboidratos-16605405\n",
      "https://www.band.uol.com.br/esportes/lutas/ufc/noticias/ufc-vegas-74-onde-assistir-16605371\n",
      "https://www.band.uol.com.br/esportes/jogo-aberto/noticias/band-e-kwai-anunciam-segunda-edicao-do-reality-microfone-aberto-16604095\n",
      "https://www.band.uol.com.br/esportes/futebol/placar/ao-vivo/borussia-dortmund-x-mainz-05-202056\n",
      "https://www.band.uol.com.br/esportes/futebol/placar/ao-vivo/borussia-dortmund-x-mainz-05-202056\n",
      "https://www.band.uol.com.br/esportes/futebol/placar/ao-vivo/borussia-dortmund-x-mainz-05-202056\n",
      "https://www.band.uol.com.br/esportes/futebol/placar/ao-vivo/colonia-x-bayern-202122\n",
      "https://www.band.uol.com.br/esportes/os-donos-da-bola/noticias/corinthians-vai-contratar-5-jogadores-craque-neto-16605247\n",
      "https://www.band.uol.com.br/esportes/os-donos-da-bola/noticias/corinthians-vai-contratar-5-jogadores-craque-neto-16605247\n",
      "https://www.band.uol.com.br/esportes/os-donos-da-bola/noticias/corinthians-vai-contratar-5-jogadores-craque-neto-16605247\n",
      "https://www.band.uol.com.br/esportes/botafogo-contrata-diego-hernandez-veja-valores-16605394\n",
      "https://www.band.uol.com.br/esportes/futebol/noticias/lances-de-nicolas-de-la-cruz-na-conmebol-libertadores-2023-16605358\n",
      "https://www.band.uol.com.br/esportes/sao-paulo-alexandre-pato-anuncio-contratacao-16605315\n",
      "https://www.band.uol.com.br/noticias/jornal-da-band/ultimas/lula-tentara-reverter-mudancas-do-congresso-que-esvaziaram-ministerios-16605392\n",
      "https://www.band.uol.com.br/noticias/jornal-da-band/ultimas/lula-tentara-reverter-mudancas-do-congresso-que-esvaziaram-ministerios-16605392\n",
      "https://www.band.uol.com.br/noticias/jornal-da-band/ultimas/lula-tentara-reverter-mudancas-do-congresso-que-esvaziaram-ministerios-16605392\n",
      "https://www.band.uol.com.br/noticias/lula-conversa-com-putin-por-telefone-e-recusa-convite-para-ir-a-russia-16605187\n",
      "https://www.band.uol.com.br/economia/noticias/juliana-rosa-programa-de-carro-mais-barato-privilegiara-os-menos-poluentes-16605408\n",
      "https://www.band.uol.com.br/noticias/sidney-magal-e-transferido-para-hospital-de-sao-paulo-apos-passar-mal-em-show-16605472\n",
      "https://www.band.uol.com.br/noticias/sidney-magal-e-transferido-para-hospital-de-sao-paulo-apos-passar-mal-em-show-16605472\n",
      "https://www.band.uol.com.br/noticias/sidney-magal-e-transferido-para-hospital-de-sao-paulo-apos-passar-mal-em-show-16605472\n",
      "https://www.band.uol.com.br/bandnews-fm/noticias/stjd-marca-julgamento-de-oito-atletas-investigados-por-manipulacao-de-resultados-16605334\n",
      "https://www.band.uol.com.br/bandnews-fm/noticias/stjd-marca-julgamento-de-oito-atletas-investigados-por-manipulacao-de-resultados-16605334\n",
      "https://www.band.uol.com.br/bandnews-fm/noticias/stjd-marca-julgamento-de-oito-atletas-investigados-por-manipulacao-de-resultados-16605334\n",
      "https://www.band.uol.com.br/noticias/pgr-diz-que-imunidade-parlamentar-protege-declaracoes-de-nikolas-16605390\n",
      "https://www.band.uol.com.br/noticias/pgr-diz-que-imunidade-parlamentar-protege-declaracoes-de-nikolas-16605390\n",
      "https://www.band.uol.com.br/noticias/pgr-diz-que-imunidade-parlamentar-protege-declaracoes-de-nikolas-16605390\n",
      "https://www.band.uol.com.br/entretenimento/quem-e-wagner-santisteban-novelas-carreira-16605330\n",
      "https://www.band.uol.com.br/entretenimento/quem-e-wagner-santisteban-novelas-carreira-16605330\n",
      "https://www.band.uol.com.br/entretenimento/quem-e-wagner-santisteban-novelas-carreira-16605330\n",
      "https://www.band.uol.com.br/esportes/automobilismo/formula-1/noticias/carlos-sainz-batida-segundo-treino-livre-gp-monaco-video-16605221\n",
      "https://www.band.uol.com.br/esportes/automobilismo/formula-1/noticias/carlos-sainz-batida-segundo-treino-livre-gp-monaco-video-16605221\n",
      "https://www.band.uol.com.br/esportes/automobilismo/formula-1/noticias/carlos-sainz-batida-segundo-treino-livre-gp-monaco-video-16605221\n",
      "https://www.band.uol.com.br/esportes/automobilismo/formula-1/noticias/gp-de-monaco-nomes-das-curvas-16604993\n",
      "https://www.band.uol.com.br/esportes/automobilismo/formula-1/noticias/gp-de-monaco-nomes-das-curvas-16604993\n",
      "https://www.band.uol.com.br/esportes/automobilismo/formula-1/noticias/gp-de-monaco-nomes-das-curvas-16604993\n",
      "https://www.band.uol.com.br/esportes/automobilismo/blog-grid/formula-1/e-se-nao-fosse-piloto-de-f1-tsunoda-diz-que-escolheria-entre-futebol-e-comida\n",
      "https://www.band.uol.com.br/esportes/automobilismo/blog-grid/formula-1/e-se-nao-fosse-piloto-de-f1-tsunoda-diz-que-escolheria-entre-futebol-e-comida\n",
      "https://www.band.uol.com.br/esportes/automobilismo/blog-grid/formula-1/e-se-nao-fosse-piloto-de-f1-tsunoda-diz-que-escolheria-entre-futebol-e-comida\n",
      "https://www.band.uol.com.br/esportes/automobilismo/formula-1/noticias/hamilton-elogia-vini-jr-luta-contra-o-racismo-corajoso-16604954\n",
      "https://www.band.uol.com.br/esportes/automobilismo/formula-1/noticias/hamilton-elogia-vini-jr-luta-contra-o-racismo-corajoso-16604954\n",
      "https://www.band.uol.com.br/esportes/automobilismo/formula-1/noticias/hamilton-elogia-vini-jr-luta-contra-o-racismo-corajoso-16604954\n",
      "https://www.band.uol.com.br/noticias/jornal-da-band/ultimas/josimar-em-portugal-conheca-vinicola-em-que-se-pode-dormir-em-barril-de-vinho-16605404\n",
      "https://www.band.uol.com.br/noticias/jornal-da-band/ultimas/josimar-em-portugal-conheca-vinicola-em-que-se-pode-dormir-em-barril-de-vinho-16605404\n",
      "https://www.band.uol.com.br/noticias/jornal-da-band/ultimas/josimar-em-portugal-conheca-vinicola-em-que-se-pode-dormir-em-barril-de-vinho-16605404\n",
      "https://www.band.uol.com.br/agro/noticias/futuro-da-ferrograo-a-ferrovia-da-soja-sera-definido-na-semana-que-vem-16604959\n",
      "https://www.band.uol.com.br/agro/noticias/futuro-da-ferrograo-a-ferrovia-da-soja-sera-definido-na-semana-que-vem-16604959\n",
      "https://www.band.uol.com.br/agro/noticias/futuro-da-ferrograo-a-ferrovia-da-soja-sera-definido-na-semana-que-vem-16604959\n",
      "https://www.band.uol.com.br/noticias/bndes-anuncia-r-36-bilhoes-para-pronaf-safrinha-16604968\n",
      "https://www.band.uol.com.br/noticias/bndes-anuncia-r-36-bilhoes-para-pronaf-safrinha-16604968\n",
      "https://www.band.uol.com.br/noticias/bndes-anuncia-r-36-bilhoes-para-pronaf-safrinha-16604968\n",
      "https://www.band.uol.com.br/agro/noticias/learning-village-hub-de-inovacao-da-hsm-lanca-movimento-foods-em-sao-paulo-16604492\n",
      "https://www.band.uol.com.br/agro/noticias/learning-village-hub-de-inovacao-da-hsm-lanca-movimento-foods-em-sao-paulo-16604492\n",
      "https://www.band.uol.com.br/agro/noticias/learning-village-hub-de-inovacao-da-hsm-lanca-movimento-foods-em-sao-paulo-16604492\n",
      "https://www.band.uol.com.br/band-fm?utm_source=portal&utm_medium=vibra&utm_campaign=noticias&utm_content=ao-vivo\n",
      "no link\n",
      "no link\n",
      "/noticias/dia-d-da-vacinacao-disponibiliza-100-mil-doses-no-df-16605467\n",
      "/noticias/dia-d-da-vacinacao-disponibiliza-100-mil-doses-no-df-16605467\n",
      "/noticias/dia-d-da-vacinacao-disponibiliza-100-mil-doses-no-df-16605467\n",
      "/noticias/japao-deve-ser-sede-de-reuniao-para-discutir-reconstrucao-da-ucrania-16605465\n",
      "/noticias/japao-deve-ser-sede-de-reuniao-para-discutir-reconstrucao-da-ucrania-16605465\n",
      "/noticias/japao-deve-ser-sede-de-reuniao-para-discutir-reconstrucao-da-ucrania-16605465\n",
      "/noticias/telegram-acata-ordem-do-stf-e-indica-representantes-no-brasil-16605463\n",
      "/noticias/telegram-acata-ordem-do-stf-e-indica-representantes-no-brasil-16605463\n",
      "/noticias/telegram-acata-ordem-do-stf-e-indica-representantes-no-brasil-16605463\n",
      "/noticias/mega-sena-deste-sabado-deve-pagar-premio-de-r-45-milhoes-16605462\n",
      "/noticias/mega-sena-deste-sabado-deve-pagar-premio-de-r-45-milhoes-16605462\n",
      "/noticias/mega-sena-deste-sabado-deve-pagar-premio-de-r-45-milhoes-16605462\n",
      "/entretenimento/faustao-na-band/noticias/tony-gordon-diz-ficar-emocionado-por-ver-sucesso-da-familia-na-musica-16605217\n",
      "/entretenimento/faustao-na-band/noticias/tony-gordon-diz-ficar-emocionado-por-ver-sucesso-da-familia-na-musica-16605217\n",
      "/entretenimento/faustao-na-band/noticias/tony-gordon-diz-ficar-emocionado-por-ver-sucesso-da-familia-na-musica-16605217\n",
      "/entretenimento/faustao-na-band/noticias/tony-gordon-criou-projeto-social-para-vulneraveis-cuidar-das-criancas-16605263\n",
      "/entretenimento/faustao-na-band/noticias/tony-gordon-criou-projeto-social-para-vulneraveis-cuidar-das-criancas-16605263\n",
      "/entretenimento/faustao-na-band/noticias/tony-gordon-criou-projeto-social-para-vulneraveis-cuidar-das-criancas-16605263\n",
      "/entretenimento/jessica-alves-ex-ken-humano-antes-e-depois-quem-e-16605361\n",
      "/entretenimento/jessica-alves-ex-ken-humano-antes-e-depois-quem-e-16605361\n",
      "/entretenimento/jessica-alves-ex-ken-humano-antes-e-depois-quem-e-16605361\n",
      "/bandnews-fm/rio-de-janeiro/noticias/passista-que-teve-o-braco-amputado-vai-desfilar-pela-grande-rio-no-carnaval-2024-16605340\n",
      "/bandnews-fm/rio-de-janeiro/noticias/passista-que-teve-o-braco-amputado-vai-desfilar-pela-grande-rio-no-carnaval-2024-16605340\n",
      "/bandnews-fm/rio-de-janeiro/noticias/passista-que-teve-o-braco-amputado-vai-desfilar-pela-grande-rio-no-carnaval-2024-16605340\n",
      "/esportes/futebol/noticias/edenilson-sobre-o-palmeiras-hoje-e-a-equipe-a-ser-batida-16605325\n",
      "/esportes/futebol/noticias/edenilson-sobre-o-palmeiras-hoje-e-a-equipe-a-ser-batida-16605325\n",
      "/esportes/futebol/noticias/edenilson-sobre-o-palmeiras-hoje-e-a-equipe-a-ser-batida-16605325\n",
      "/esportes/como-era-o-borussia-dortmund-campeao-alemao-de-2011-12-veja-o-time-16605367\n",
      "/esportes/como-era-o-borussia-dortmund-campeao-alemao-de-2011-12-veja-o-time-16605367\n",
      "/esportes/como-era-o-borussia-dortmund-campeao-alemao-de-2011-12-veja-o-time-16605367\n",
      "/esportes/futebol/noticias/guardiola-comenta-caso-de-racismo-com-vinicius-jr-em-laliga-nao-vai-mudar-nada-na-espanha-16605282\n",
      "/esportes/futebol/noticias/guardiola-comenta-caso-de-racismo-com-vinicius-jr-em-laliga-nao-vai-mudar-nada-na-espanha-16605282\n",
      "/esportes/futebol/noticias/guardiola-comenta-caso-de-racismo-com-vinicius-jr-em-laliga-nao-vai-mudar-nada-na-espanha-16605282\n",
      "/bandnews-fm/noticias/cbf-promove-campanha-contra-racismo-e-em-apoio-a-vini-jr-no-brasileirao-16605332\n",
      "/bandnews-fm/noticias/cbf-promove-campanha-contra-racismo-e-em-apoio-a-vini-jr-no-brasileirao-16605332\n",
      "/bandnews-fm/noticias/cbf-promove-campanha-contra-racismo-e-em-apoio-a-vini-jr-no-brasileirao-16605332\n",
      "https://receitas.band.uol.com.br/noticias/alimentos-que-soltam-o-intestino-16605345\n",
      "https://receitas.band.uol.com.br/noticias/alimentos-que-soltam-o-intestino-16605345\n",
      "https://receitas.band.uol.com.br/noticias/alimentos-que-soltam-o-intestino-16605345\n",
      "https://www.band.uol.com.br/band-shop/guia-de-compras/dia-do-orgulho-nerd-veja-produtos-para-fas-de-games-e-outras-nerdices-16604718\n",
      "https://www.band.uol.com.br/band-shop/guia-de-compras/dia-do-orgulho-nerd-veja-produtos-para-fas-de-games-e-outras-nerdices-16604718\n",
      "https://www.band.uol.com.br/band-shop/guia-de-compras/dia-do-orgulho-nerd-veja-produtos-para-fas-de-games-e-outras-nerdices-16604718\n",
      "https://www.band.uol.com.br/noticias/racismo-veja-livros-para-entender-a-luta-antirracista-16603769\n",
      "https://www.band.uol.com.br/noticias/racismo-veja-livros-para-entender-a-luta-antirracista-16603769\n",
      "https://www.band.uol.com.br/noticias/racismo-veja-livros-para-entender-a-luta-antirracista-16603769\n",
      "https://www.band.uol.com.br/band-shop/guia-de-compras/veja-produtos-para-voce-fazer-um-hamburguer-perfeito-em-casa-16604122\n",
      "https://www.band.uol.com.br/band-shop/guia-de-compras/veja-produtos-para-voce-fazer-um-hamburguer-perfeito-em-casa-16604122\n",
      "https://www.band.uol.com.br/band-shop/guia-de-compras/veja-produtos-para-voce-fazer-um-hamburguer-perfeito-em-casa-16604122\n",
      "https://www.band.uol.com.br/band-shop/guia-de-compras/veja-ofertas-de-chas-cafes-e-outras-bebidas-por-menos-de-r-100-16605203\n",
      "https://www.band.uol.com.br/band-shop/guia-de-compras/veja-ofertas-de-chas-cafes-e-outras-bebidas-por-menos-de-r-100-16605203\n",
      "https://www.band.uol.com.br/band-shop/guia-de-compras/veja-ofertas-de-chas-cafes-e-outras-bebidas-por-menos-de-r-100-16605203\n",
      "https://www.band.uol.com.br/bandnews-fm/colunistas/reinaldo-azevedo/\n",
      "https://www.band.uol.com.br/bandnews-fm/colunistas/reinaldo-azevedo/\n",
      "https://www.band.uol.com.br/bandnews-fm/colunistas/jose-simao\n",
      "https://www.band.uol.com.br/bandnews-fm/colunistas/jose-simao\n",
      "https://www.band.uol.com.br/noticias/colunistas/fernando-mitre\n",
      "https://www.band.uol.com.br/noticias/colunistas/fernando-mitre\n",
      "https://blogdodenilson.band.uol.com.br/\n",
      "https://blogdodenilson.band.uol.com.br/\n",
      "https://www.band.uol.com.br/bandnews-fm/colunistas/monica-bergamo\n",
      "https://www.band.uol.com.br/bandnews-fm/colunistas/monica-bergamo\n",
      "https://www.band.uol.com.br/noticias/colunistas/juliana-rosa-desenrola-economia\n",
      "https://www.band.uol.com.br/noticias/colunistas/juliana-rosa-desenrola-economia\n",
      "https://www.band.uol.com.br/bandnews-fm/colunistas/paloma-tocci\n",
      "https://www.band.uol.com.br/bandnews-fm/colunistas/paloma-tocci\n",
      "https://receitas.band.uol.com.br/colunistas/carole-crema\n",
      "https://receitas.band.uol.com.br/colunistas/carole-crema\n",
      "https://www.band.uol.com.br/entretenimento/faustao-na-band\n",
      "https://www.band.uol.com.br/entretenimento/faustao-na-band\n",
      "https://www.band.uol.com.br/entretenimento/faustao-na-band\n",
      "https://www.band.uol.com.br/noticias/brasil-urgente\n",
      "https://www.band.uol.com.br/noticias/brasil-urgente\n",
      "https://www.band.uol.com.br/noticias/brasil-urgente\n",
      "https://entretenimento.band.uol.com.br/masterchef/\n",
      "https://entretenimento.band.uol.com.br/masterchef/\n",
      "https://entretenimento.band.uol.com.br/masterchef/\n",
      "https://www.band.uol.com.br/esportes/automobilismo/formula-1\n",
      "https://www.band.uol.com.br/esportes/automobilismo/formula-1\n",
      "https://www.band.uol.com.br/esportes/automobilismo/formula-1\n",
      "https://www.band.uol.com.br/esportes/os-donos-da-bola\n",
      "https://www.band.uol.com.br/esportes/os-donos-da-bola\n",
      "https://www.band.uol.com.br/esportes/os-donos-da-bola\n",
      "https://www.band.uol.com.br/esportes/jogo-aberto/\n",
      "https://www.band.uol.com.br/esportes/jogo-aberto/\n",
      "https://www.band.uol.com.br/esportes/jogo-aberto/\n",
      "https://www.band.uol.com.br/entretenimento/melhor-da-tarde\n",
      "https://www.band.uol.com.br/entretenimento/melhor-da-tarde\n",
      "https://www.band.uol.com.br/entretenimento/melhor-da-tarde\n",
      "https://www.band.uol.com.br/entretenimento/perrengue-na-band\n",
      "https://www.band.uol.com.br/entretenimento/perrengue-na-band\n",
      "https://www.band.uol.com.br/entretenimento/perrengue-na-band\n",
      "https://www.band.uol.com.br/esportes/band-esporte-clube\n",
      "https://www.band.uol.com.br/esportes/band-esporte-clube\n",
      "https://www.band.uol.com.br/esportes/band-esporte-clube\n",
      "https://www.band.uol.com.br/noticias/jornal-da-band\n",
      "https://www.band.uol.com.br/noticias/jornal-da-band\n",
      "https://www.band.uol.com.br/noticias/jornal-da-band\n",
      "https://www.band.uol.com.br/esportes/show-do-esporte\n",
      "https://www.band.uol.com.br/esportes/show-do-esporte\n",
      "https://www.band.uol.com.br/esportes/show-do-esporte\n",
      "https://www.band.uol.com.br\n",
      "https://www.band.uol.com.br/programacao\n",
      "https://privacy.band.com.br/\n",
      "https://twitter.com/portaldaband\n",
      "https://www.facebook.com/Band.com.br/\n",
      "https://www.instagram.com/bandtv/\n",
      "https://www.youtube.com/c/bandjornalismo\n"
     ]
    }
   ],
   "source": [
    "# Lista de links possivelmente de notícias no site da Band.\n",
    "for i in n:\n",
    "    try:\n",
    "        print(i['href'])\n",
    "    except:\n",
    "        print(\"no link\")"
   ]
  },
  {
   "cell_type": "markdown",
   "id": "5e4d2bbf",
   "metadata": {
    "tags": [],
    "toc-hr-collapsed": true
   },
   "source": [
    "# Montando Lista de Notícias"
   ]
  },
  {
   "cell_type": "code",
   "execution_count": 69,
   "id": "a43cf177",
   "metadata": {},
   "outputs": [],
   "source": [
    "number_news = 6\n"
   ]
  },
  {
   "cell_type": "code",
   "execution_count": 70,
   "id": "fef8aed2",
   "metadata": {},
   "outputs": [],
   "source": [
    "import random"
   ]
  },
  {
   "cell_type": "code",
   "execution_count": 71,
   "id": "dc4ea054",
   "metadata": {},
   "outputs": [],
   "source": [
    "news_list = []\n",
    "\n",
    "news_list.extend( [ {'title': random.choices( [ (news['title'], news['url']) for news in dw ] , k = 2 ), 'source': 'G1/Globo' } ] )\n",
    "\n",
    "news_list.extend( [ {'title': random.choices( [ (news['title'], news['href']) for news in cnn_list_news ] , k = 2 ), 'source': 'CNN Brasil' } ] )\n",
    "\n",
    "news_list.extend( [ {'title': random.choices( [ (news['title'], news['href']) for news in bbc_news_lists ] , k = 2 ), 'source': 'BBC Brasil' } ] )\n",
    "\n",
    "news_list.extend( [ { 'title':  random.choices( [ ( news['title'], news['href'] ) for news in band_news  ] , k= 2 ), 'source': 'Band' } ] )\n"
   ]
  },
  {
   "cell_type": "code",
   "execution_count": 72,
   "id": "974176ec",
   "metadata": {},
   "outputs": [
    {
     "name": "stdout",
     "output_type": "stream",
     "text": [
      "2º turno da Turquia tem campanha de desinformação com vídeo falso. \n",
      "https://g1.globo.com/mundo/blog/sandra-cohen/post/2023/05/27/campanha-de-desinformacao-esquenta-o-segundo-turno-da-turquia.ghtml\n",
      "\n",
      "Sidney Magal tem quadro estável, mas sem previsão de alta. \n",
      "https://g1.globo.com/sp/sao-paulo/noticia/2023/05/27/sidney-magal-tem-quadro-estavel-mas-sem-previsao-de-alta.ghtml\n",
      "\n",
      "Fonte: G1/Globo\n",
      "\n",
      "\n",
      "General da Ucrânia sugere que contraofensiva ucraniana pode estar próxima. \n",
      "https://www.cnnbrasil.com.br/internacional/chefe-das-forcas-armadas-da-ucrania-sugere-que-contraofensiva-pode-estar-proxima/\n",
      "\n",
      "Viagem & Gastronomia. \n",
      "https://www.cnnbrasil.com.br/viagemegastronomia/\n",
      "\n",
      "Fonte: CNN Brasil\n",
      "\n",
      "\n",
      "Os cientistas que se espantaram com a própria descoberta. \n",
      "https://www.bbc.com/portuguese/articles/c51ppklppyko\n",
      "\n",
      "Como inteligência artificial ajudou a criar antibiótico contra superbactéria mortal. \n",
      "https://www.bbc.com/portuguese/articles/cl4z4n30mddo\n",
      "\n",
      "Fonte: BBC Brasil\n",
      "\n",
      "\n",
      "Exclusivo: Na liderança da F3, Bortoleto admite \"conversas\" com equipes da F2. \n",
      "https://www.band.uol.com.br/esportes/automobilismo/blog-grid/formula-2/na-lideranca-da-f3-bortoleto-admite-conversas-com-equipes-da-formula-2\n",
      "\n",
      "Bayern enfrenta Colônia em outra partida decisiva; acompanhe . \n",
      "https://www.band.uol.com.br/esportes/futebol/placar/ao-vivo/colonia-x-bayern-202122\n",
      "\n",
      "Fonte: Band\n",
      "\n",
      "\n"
     ]
    }
   ],
   "source": [
    "for i in news_list:\n",
    "    for j in i['title']:\n",
    "        print(f\"{j[0]}. \\n{j[1]}\\n\")\n",
    "    \n",
    "    print(f\"Fonte: {i['source']}\\n\\n\")"
   ]
  },
  {
   "cell_type": "markdown",
   "id": "c3e35a27-ec7c-4467-9216-1ec5db355825",
   "metadata": {},
   "source": [
    "## Salvando Todas Noticias (JSON)"
   ]
  },
  {
   "cell_type": "markdown",
   "id": "4f8582d4-9425-4439-8a2d-3bfbab48919f",
   "metadata": {},
   "source": [
    "### View news for test algorithm"
   ]
  },
  {
   "cell_type": "code",
   "execution_count": 73,
   "id": "4dc4ef07-7a0d-40a9-95c5-68a585e7b6f8",
   "metadata": {},
   "outputs": [],
   "source": [
    "# List news\n",
    "news = None\n",
    "portaisvar = [\n",
    "    'dw', #Globo/G1\n",
    "    'cnn_list_news', # CNN Brazil\n",
    "    'bbc_news_list' # BBC Brazil\n",
    "]\n",
    "\n",
    "portais = { 'dw': 'Globo/G1', 'cnn_list_news': 'CNN Brasil', 'bbc_news_lists': 'BBC Brasil' }    "
   ]
  },
  {
   "cell_type": "code",
   "execution_count": 74,
   "id": "b10a3e84-3cba-4a3b-99e7-3c4b06f4ddf0",
   "metadata": {},
   "outputs": [
    {
     "data": {
      "text/plain": [
       "(dict_keys(['title', 'url']),\n",
       " dict_keys(['title', 'href']),\n",
       " dict_keys(['title', 'href']))"
      ]
     },
     "execution_count": 74,
     "metadata": {},
     "output_type": "execute_result"
    }
   ],
   "source": [
    "dw[0].keys(), cnn_list_news[0].keys(), bbc_news_lists[0].keys()"
   ]
  },
  {
   "cell_type": "code",
   "execution_count": 75,
   "id": "5eee3e4a-6c18-41f7-ba9b-47d40c35088b",
   "metadata": {},
   "outputs": [
    {
     "data": {
      "text/plain": [
       "[{'title': 'CPI dos Atos Golpistas recebe pedidos para 48 quebras de sigilo e 244 depoimentos',\n",
       "  'href': 'https://g1.globo.com/politica/noticia/2023/05/27/em-48h-cpi-dos-atos-golpistas-recebeu-48-pedidos-de-quebras-de-sigilo.ghtml'},\n",
       " {'title': 'Alunos de medicina do Fies cogitam largar curso por causa da alta de mensalidades',\n",
       "  'href': 'https://g1.globo.com/educacao/noticia/2023/05/27/alunos-de-medicina-do-fies-cogitam-largar-curso-por-causa-de-teto-do-financiamento-e-alta-de-mensalidades.ghtml'},\n",
       " {'title': '2º turno da Turquia tem campanha de desinformação com vídeo falso',\n",
       "  'href': 'https://g1.globo.com/mundo/blog/sandra-cohen/post/2023/05/27/campanha-de-desinformacao-esquenta-o-segundo-turno-da-turquia.ghtml'},\n",
       " {'title': 'Hurb dá novo calote e clientes são barrados em avião',\n",
       "  'href': 'https://g1.globo.com/economia/noticia/2023/05/27/passageiros-estimam-prejuizo-de-mais-de-r-10-mil-apos-serem-impedidos-de-embarcar-por-calote-do-hurb.ghtml'},\n",
       " {'title': 'Sidney Magal tem quadro estável, mas sem previsão de alta',\n",
       "  'href': 'https://g1.globo.com/sp/sao-paulo/noticia/2023/05/27/sidney-magal-tem-quadro-estavel-mas-sem-previsao-de-alta.ghtml'},\n",
       " {'title': 'Investigação indica que Jeff Machado morreu no fim de janeiro',\n",
       "  'href': 'https://g1.globo.com/rj/rio-de-janeiro/noticia/2023/05/27/investigacao-indica-que-jeff-machado-morreu-no-fim-de-janeiro-veja-linha-do-tempo-do-caso.ghtml'},\n",
       " {'title': 'Idosa mata marido com veneno de rato e esquarteja corpo, diz polícia',\n",
       "  'href': 'https://g1.globo.com/ms/mato-grosso-do-sul/noticia/2023/05/27/idosa-mata-marido-com-veneno-de-rato-esquarteja-vitima-e-abandona-parte-do-corpo-dentro-de-mala-na-br-158-diz-policia.ghtml'},\n",
       " {'title': 'Adolescente que violou túmulo diz ter sonhado que assassino estava vivo',\n",
       "  'href': 'https://g1.globo.com/go/goias/noticia/2023/05/27/caso-lazaro-barbosa-adolescente-convenceu-namorado-a-violar-tumulo-depois-de-ter-sonhado-que-homem-estaria-vivo-diz-delegado.ghtml'}]"
      ]
     },
     "execution_count": 75,
     "metadata": {},
     "output_type": "execute_result"
    }
   ],
   "source": [
    "# Replace field name 'titulo' for 'title' name.\n",
    "dw = [ { key.replace('titulo', 'title'):value for key, value in i.items() } for i in dw ]\n",
    "dw = [ { key.replace('url', 'href'):value for key, value in i.items() } for i in dw ]\n",
    "dw"
   ]
  },
  {
   "cell_type": "code",
   "execution_count": 76,
   "id": "b571d2b5-6902-46f7-96d6-21366b4dd13b",
   "metadata": {},
   "outputs": [],
   "source": [
    "#[ { key.replace('title', 'titulo' ) } ]\n",
    "newslist = dw + cnn_list_news + bbc_news_lists\n",
    "#newslist"
   ]
  },
  {
   "cell_type": "code",
   "execution_count": 77,
   "id": "27066ffb-f291-4cc5-86b2-cef127a4d8ba",
   "metadata": {},
   "outputs": [
    {
     "name": "stdout",
     "output_type": "stream",
     "text": [
      "File exist\n"
     ]
    }
   ],
   "source": [
    "import os\n",
    "count = 0\n",
    "try:\n",
    "    os.mkdir( 'newsdata' )\n",
    "except FileExistsError:\n",
    "    print(\"File exist\")\n",
    "    \n",
    "webdata = ''\n",
    "# Save data of link news in files to folder.\n",
    "for news in newslist:\n",
    "    try:\n",
    "        #news['data'] = requests.get(news['href']).text\n",
    "        foldername = f'newsdata'\n",
    "        #os.mkdir( foldername )\n",
    "        news['datafile'] = f'{foldername}/'+str( count )\n",
    "        with open( foldername+f'/{str(count)}', 'a' ) as fl:\n",
    "            webdata = requests.get( news['href'] ).text \n",
    "            fl.write( webdata )\n",
    "            fl.close()\n",
    "            \n",
    "        count += 1\n",
    "    except :\n",
    "        print('not get page')\n",
    "        continue\n",
    "    "
   ]
  },
  {
   "cell_type": "code",
   "execution_count": 78,
   "id": "0989f5b2-da01-44e0-bcb8-1be5fd2bd158",
   "metadata": {},
   "outputs": [
    {
     "data": {
      "text/plain": [
       "'newsdata/0'"
      ]
     },
     "execution_count": 78,
     "metadata": {},
     "output_type": "execute_result"
    }
   ],
   "source": [
    "newslist[0]['datafile']"
   ]
  },
  {
   "cell_type": "code",
   "execution_count": 79,
   "id": "2d38942e-e38c-402d-8633-2f853064cc53",
   "metadata": {},
   "outputs": [
    {
     "name": "stdout",
     "output_type": "stream",
     "text": [
      " Em 48h, CPI dos Atos Golpistas recebeu 48 pedidos de quebras de sigilo | Política | G1\n",
      "                   Política                         \n",
      "\n",
      "\n",
      "\n",
      "\n",
      "\n",
      "\n",
      "\n",
      "\n",
      "f\n"
     ]
    }
   ],
   "source": [
    "p = requests.get( newslist[0]['href'] )\n",
    "soup = BeautifulSoup( p.text, 'html.parser')\n",
    "texto = soup.get_text()\n",
    "print( texto[0:150] )"
   ]
  },
  {
   "cell_type": "code",
   "execution_count": 80,
   "id": "9196f821-ec0f-4ecb-91fb-52a2000bdd1f",
   "metadata": {},
   "outputs": [],
   "source": [
    "d = ''\n",
    "with open(foldername+'/0', 'r') as fl:\n",
    "    d = fl.read()\n",
    "    fl.close()\n",
    "\n",
    "\n",
    "soup = BeautifulSoup(d, 'html.parser')\n",
    "#souptext = soup.text\n",
    "content = soup.find_all('div')\n",
    "#dir(soup)"
   ]
  },
  {
   "cell_type": "code",
   "execution_count": 81,
   "id": "72d02fbc-379b-4153-9a38-5134e4c02b5a",
   "metadata": {},
   "outputs": [],
   "source": [
    "texto = ' '.join( [ i.get_text() for i in content ] )\n",
    "texto = texto.replace('\\n', ' ')\n",
    "with open('texto', 'w' ) as fl:\n",
    "    #fl.write( souptext )\n",
    "    fl.write( texto )\n",
    "    "
   ]
  },
  {
   "cell_type": "code",
   "execution_count": 82,
   "id": "14d06b94-9014-49ac-af6b-bddb1e63202d",
   "metadata": {},
   "outputs": [
    {
     "name": "stdout",
     "output_type": "stream",
     "text": [
      "              Goiás                                   fique por dentro             Imposto de Renda \n"
     ]
    }
   ],
   "source": [
    "print( texto[0:100] )"
   ]
  },
  {
   "cell_type": "code",
   "execution_count": 83,
   "id": "181403d6-18d3-4f33-8f7a-2a51a77c92ef",
   "metadata": {},
   "outputs": [],
   "source": [
    "import json\n",
    "\n",
    "with open('noticias.json', 'w') as fl:\n",
    "    fl.write(json.dumps(newslist, ensure_ascii=False, indent=4))\n",
    "    fl.close()"
   ]
  },
  {
   "cell_type": "markdown",
   "id": "c7ee5e9e-92f7-4d1d-8c4b-5f1d2e3cd5e8",
   "metadata": {},
   "source": [
    "### Salva noticias"
   ]
  },
  {
   "cell_type": "code",
   "execution_count": 84,
   "id": "9d67faf7-6fd4-4af6-b35b-e1319b6c01c4",
   "metadata": {},
   "outputs": [],
   "source": [
    "def savenews(newslist: list, filename: str) -> None:\n",
    "    import json\n",
    "    jsondata = None\n",
    "    with open(filename, 'w') as fl:\n",
    "        fl.write( json.dumps( newslist, encode='utf-8', indent=4 ) )\n",
    "        fl.close()\n",
    "    print('Saved...')\n",
    "    "
   ]
  },
  {
   "cell_type": "code",
   "execution_count": 85,
   "id": "84a3c9f4",
   "metadata": {},
   "outputs": [
    {
     "name": "stdout",
     "output_type": "stream",
     "text": [
      "2º turno da Turquia tem campanha de desinformação com vídeo falso.\n",
      "Sidney Magal tem quadro estável, mas sem previsão de alta.\n",
      "Fonte: G1/Globo\n",
      "\n",
      " \n",
      "General da Ucrânia sugere que contraofensiva ucraniana pode estar próxima.\n",
      "Viagem & Gastronomia.\n",
      "Fonte: CNN Brasil\n",
      "\n",
      " \n",
      "Os cientistas que se espantaram com a própria descoberta.\n",
      "Como inteligência artificial ajudou a criar antibiótico contra superbactéria mortal.\n",
      "Fonte: BBC Brasil\n",
      "\n",
      " \n",
      "Exclusivo: Na liderança da F3, Bortoleto admite \"conversas\" com equipes da F2.\n",
      "Bayern enfrenta Colônia em outra partida decisiva; acompanhe .\n",
      "Fonte: Band\n",
      "\n",
      " \n"
     ]
    }
   ],
   "source": [
    "i = j = None\n",
    "\n",
    "for i in news_list:\n",
    "    for j in i['title']:\n",
    "        print(f'{j[0]}.')\n",
    "    print(f'Fonte: {i[\"source\"] }\\n\\n ' )"
   ]
  },
  {
   "cell_type": "code",
   "execution_count": 86,
   "id": "7c0ca847-a7d0-4941-bfc7-14c8b2123ead",
   "metadata": {},
   "outputs": [
    {
     "name": "stdout",
     "output_type": "stream",
     "text": [
      "Olá bem vindo ao Diário de Notícias Dimensão Alfa. Estas são as principais manchetes do dia.\n",
      "\n",
      "Portal de Notícias G1/Globo\n",
      " \n",
      "2º turno da Turquia tem campanha de desinformação com vídeo falso.\n",
      "Sidney Magal tem quadro estável, mas sem previsão de alta.\n",
      "Portal de Notícias CNN Brasil\n",
      " \n",
      "General da Ucrânia sugere que contraofensiva ucraniana pode estar próxima.\n",
      "Viagem & Gastronomia.\n",
      "Portal de Notícias BBC Brasil\n",
      " \n",
      "Os cientistas que se espantaram com a própria descoberta.\n",
      "Como inteligência artificial ajudou a criar antibiótico contra superbactéria mortal.\n",
      "Portal de Notícias Band\n",
      " \n",
      "Exclusivo: Na liderança da F3, Bortoleto admite \"conversas\" com equipes da F2.\n",
      "Bayern enfrenta Colônia em outra partida decisiva; acompanhe .\n"
     ]
    }
   ],
   "source": [
    "i = j = None\n",
    "\n",
    "print(f\"Olá bem vindo ao Diário de Notícias Dimensão Alfa. Estas são as principais manchetes do dia.\\n\")\n",
    "for i in news_list:\n",
    "    print(f'Portal de Notícias {i[\"source\"] }\\n ' )\n",
    "    for j in i['title']:\n",
    "        print(f'{j[0]}.')"
   ]
  },
  {
   "cell_type": "markdown",
   "id": "d1879811-0f8b-4150-86a7-606389a58301",
   "metadata": {
    "tags": [],
    "toc-hr-collapsed": true
   },
   "source": [
    "# Sobre"
   ]
  },
  {
   "cell_type": "markdown",
   "id": "2c8c3c3a-34bd-4081-a3de-4d172f80eb07",
   "metadata": {
    "tags": []
   },
   "source": [
    "## Dimensão Alfa"
   ]
  },
  {
   "cell_type": "markdown",
   "id": "93927b53-1f5b-4f94-abed-cf9e6f99fc99",
   "metadata": {
    "jp-MarkdownHeadingCollapsed": true,
    "tags": []
   },
   "source": [
    "Dimensão Alfa projetos e conteúdos de tecnologia."
   ]
  },
  {
   "cell_type": "markdown",
   "id": "9922c82b-a271-4e7c-b6f7-a1420b69b13f",
   "metadata": {
    "tags": []
   },
   "source": [
    "## Info"
   ]
  },
  {
   "cell_type": "markdown",
   "id": "1669e98a-92e1-4d73-b518-163002feab8b",
   "metadata": {},
   "source": [
    "O presente projeto tem sido usado com fins de divulgação e facilitação de acesso a noticias e conhecimento em comunhão com objetivo da plataforma/página Dimensão Alfa. \n",
    "Conteúdos de terceiros são de responsabilidades dos mesmos bem como seus direitos autorais.\n",
    "\n",
    "O projeto encontra-se em desenvolvimento, inicialmente fôra batizado de Ani Fátima Liu, e estará passando por alterações estando de inicio disponibilizado em formato \"_jupyter notebook_\" podendo servir como _case_ de estudo para os que se interessam por \"web scrap\" (raspagem de dados).\n",
    "\n",
    "Tecnologias foram usadas para gerar vídeo de noticias diária para página [Youtube](https://www.youtube.com/@dimensaoalfa); foi usada as seguintes tecnologias:\n",
    "\n",
    "* [Editor de códigos VSCode](https://code.visualstudio.com/)\n",
    "* [Python (linguagem de programação)](https://www.python.org/)\n",
    "* [Ambiente JupyterLab](https://jupyter.org/)\n",
    "* [Biblioteca \"Requests\"](https://requests.readthedocs.io/en/latest/)\n",
    "* [Biblioteca \"BeautifulSoup\"](https://www.crummy.com/software/BeautifulSoup/bs4/doc/)\n",
    "* [Serviço de Sintese de Voz Microsoft/Azure](https://speech.microsoft.com)\n",
    "\n",
    "\n",
    "Peço e agradeço a compreensão e apoio de todos. \n",
    "\n",
    "Para contribuições, dúvidas, sugestões visitem meu blog [WSRicardo](https://wsricardo.blogspot.com).\n"
   ]
  },
  {
   "cell_type": "markdown",
   "id": "fcc6698c-a66b-47a8-aacc-444904c32d39",
   "metadata": {
    "tags": []
   },
   "source": [
    "## Sugestões de Conteúdo"
   ]
  },
  {
   "cell_type": "markdown",
   "id": "a46ff71a-b892-48d4-a647-227402170487",
   "metadata": {
    "tags": []
   },
   "source": [
    "Deixamos abaixo algumas sugestões de conteúdos e canais com recursos para estudos e pesquisa que podem ser uteis para quem se interessa por tecnologia, programação de computadores, matemática, ciências de dados e inteligência artificial.\n",
    "\n",
    "* [Programação Dinâmica](https://www.youtube.com/c/Programa%C3%A7%C3%A3oDin%C3%A2mica)\n",
    "* [Toda Matemática](https://www.youtube.com/c/GustavoViegascurso)\n",
    "* [Matemática Universitária](https://www.youtube.com/c/Matem%C3%A1ticaUniversit%C3%A1riaProfRenan)\n",
    "* [Reflexões Matemáticas](https://www.youtube.com/c/Reflex%C3%B5esMatem%C3%A1ticasDrDilbertoJ%C3%BAnior)\n",
    "* [Programação Descomplicada](https://www.youtube.com/user/progdescomplicada)\n",
    "* [Univesp](https://www.youtube.com/user/univesptv)\n",
    "* [USP no Youtube](https://www.youtube.com/c/CanalUSP)\n",
    "* [IME/USP](https://www.ime.usp.br/)\n",
    "* [IMPA](https://www.youtube.com/c/impabr)\n",
    "\n"
   ]
  },
  {
   "cell_type": "markdown",
   "id": "6b7d7325-7366-4924-8c94-fbefbeefdf51",
   "metadata": {
    "tags": []
   },
   "source": [
    "## Links"
   ]
  },
  {
   "cell_type": "markdown",
   "id": "efa1176b-3805-4997-aca5-9d581b1bafb8",
   "metadata": {
    "tags": []
   },
   "source": [
    "* [Dimensão Alfa](https://www.dimensaoalfa.com.br)\n",
    "* [Facebook](https://www.facebook.com/dimensaoalfa)\n",
    "* [Youtube](https://www.youtube.com/@dimensaoalfa)\n",
    "* [WSRicardo](https://wsricardo.blogspot.com)"
   ]
  }
 ],
 "metadata": {
  "kernelspec": {
   "display_name": "Python 3 (ipykernel)",
   "language": "python",
   "name": "python3"
  },
  "language_info": {
   "codemirror_mode": {
    "name": "ipython",
    "version": 3
   },
   "file_extension": ".py",
   "mimetype": "text/x-python",
   "name": "python",
   "nbconvert_exporter": "python",
   "pygments_lexer": "ipython3",
   "version": "3.10.7"
  },
  "vscode": {
   "interpreter": {
    "hash": "916dbcbb3f70747c44a77c7bcd40155683ae19c65e1c03b4aa3499c5328201f1"
   }
  }
 },
 "nbformat": 4,
 "nbformat_minor": 5
}
