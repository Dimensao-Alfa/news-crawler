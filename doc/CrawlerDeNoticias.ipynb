{
 "cells": [
  {
   "cell_type": "markdown",
   "id": "d8849ed6",
   "metadata": {
    "tags": []
   },
   "source": [
    "# Crawler Noticias\n",
    "\n"
   ]
  },
  {
   "cell_type": "markdown",
   "id": "01366270-f3d1-4716-83cc-727dc6f57d46",
   "metadata": {},
   "source": [
    "## Introdução"
   ]
  },
  {
   "cell_type": "markdown",
   "id": "2b1f31df",
   "metadata": {},
   "source": [
    "Estudo projeto de construção de um bot crawler para extrair e indexar noticias de sites.\n",
    "\n",
    "É recomendavel baixar uma única vez o html do site para reduzir a necessidade de acessar o site várias vezes para cada processamento reduzindo tempo e custo computacionais para máquina local e servidor.\n",
    "\n",
    "Usamos módulo _Requests_ para baixar o html da página a ser processada e com módulo _BeautifulSoup_ processamos o conteúdo html buscando por conteúdos especificos. Ao inspecionar o código HTML verificamos em quais blocos estão as principais noticias - em geral em tags como \"section\", \"h1\"/\"h2\"/\"h3\" e \"a\" - considerando o seletor css que especifica cada bloco de interesse afim de refinar a busca e garantir que serão extraindos os trechos relevantes.\n",
    "\n",
    "Sites com boas práticas de HTML/CSS tendem a serem mais faceis de serem processados e indexados por mecanismos de buscas facilitando os usuários em encontrar seus conteúdos em pesquisas aumentando assim o engajamento em suas plataformas contribuindo para seu melhor desenvolvimento.\n",
    "\n",
    "Neste presente momento o projeto está considerando três portais de notícias que são _BBC Brasil_, _CNN Brasil_ e _G1/Globo_. \n",
    "\n",
    "Créditos e direitos reservados às referentes plataformas mencionadas.\n",
    "\n",
    "(Obs.: Conteúdo livre com fins informativos e de divulgação. )\n"
   ]
  },
  {
   "cell_type": "markdown",
   "id": "573fc426",
   "metadata": {
    "tags": []
   },
   "source": [
    "## Módulos"
   ]
  },
  {
   "cell_type": "markdown",
   "id": "cbd7fe1d",
   "metadata": {},
   "source": [
    "Abaixo _import_ dos módulos que contém os recursos usados.\n",
    "\n",
    "* BeautifulSoup\n",
    "* Requests\n",
    "* re (regular expression)\n",
    "* crawlernewsg1 (acessa site e extrai lista de principais noticias na página principal do site)\n",
    "* IPython.core.display -> display, HTML (renderiza conteúdos html )"
   ]
  },
  {
   "cell_type": "code",
   "execution_count": 1,
   "id": "f4ad322f",
   "metadata": {
    "scrolled": true
   },
   "outputs": [
    {
     "name": "stderr",
     "output_type": "stream",
     "text": [
      "/tmp/ipykernel_34675/1468998341.py:8: DeprecationWarning: Importing display from IPython.core.display is deprecated since IPython 7.14, please import from IPython display\n",
      "  from IPython.core.display import display, HTML\n"
     ]
    }
   ],
   "source": [
    "from bs4 import BeautifulSoup\n",
    "import requests\n",
    "import re\n",
    "from crawlernewsg1 import *\n",
    "import random\n",
    "\n",
    "# Render html content\n",
    "from IPython.core.display import display, HTML"
   ]
  },
  {
   "cell_type": "markdown",
   "id": "e8683151",
   "metadata": {
    "tags": [],
    "toc-hr-collapsed": true
   },
   "source": [
    "# Modelagem Portal G1\n",
    "\n"
   ]
  },
  {
   "cell_type": "markdown",
   "id": "200ef7fc-b544-482e-95ee-8055bb771495",
   "metadata": {},
   "source": [
    "Capturando noticias do portal G1 da Globo\n",
    "Funções básicas. Especifincando \"selector css\" classe 'bastian-page'  para tags div."
   ]
  },
  {
   "cell_type": "code",
   "execution_count": 2,
   "id": "c4df2cea",
   "metadata": {},
   "outputs": [],
   "source": [
    "# Baixando html do portal de noticia para processamento e salvando em disco.\n",
    "url = 'https://g1.globo.com'\n",
    "attr = {'class': 'bastian-page'}\n",
    "data = g1_(requests.get( url ).content, 'div', attr, debug=False)\n",
    "dw = requests.get('https://g1.globo.com/').content\n",
    "with open('/tmp/data', 'w') as fl:\n",
    "    fl.write( dw.decode() )\n",
    "    "
   ]
  },
  {
   "cell_type": "code",
   "execution_count": 3,
   "id": "39fe2fae-4920-4ebc-9f61-b141c7e5ce74",
   "metadata": {},
   "outputs": [
    {
     "data": {
      "text/plain": [
       "tuple"
      ]
     },
     "execution_count": 3,
     "metadata": {},
     "output_type": "execute_result"
    }
   ],
   "source": [
    "type(data)"
   ]
  },
  {
   "cell_type": "code",
   "execution_count": 4,
   "id": "3e0d6827-a36e-465d-938f-196879b4ce67",
   "metadata": {},
   "outputs": [
    {
     "name": "stdout",
     "output_type": "stream",
     "text": [
      "[{'title': 'Mensagens e prints ligam jogadores a esquema de manipulação'}, {'href': 'https://g1.globo.com/go/goias/noticia/2023/05/13/chamadas-de-video-com-apostador-comprovantes-de-pagamento-e-mensagens-veja-provas-apontadas-pelo-mp-que-ligam-jogadores-a-esquema-de-manipulacao-de-jogos.ghtml'}, {'title': 'Preso acusado de manipular jogos ligou da cadeia para esposa; VEJA'}, {'href': 'https://g1.globo.com/go/goias/noticia/2023/05/13/preso-acusado-de-integrar-grupo-que-manipulava-resultados-de-jogos-ligou-para-a-esposa-de-dentro-da-cadeia-e-pediu-dinheiro-para-comprar-celular-veja-conversas.ghtml'}, {'title': 'Treinador de futsal denunciado por assediar jogadoras morre na cadeia'}, {'href': 'https://g1.globo.com/ce/ceara/noticia/2023/05/13/treinador-de-futsal-denunciado-por-assediar-ao-menos-12-jogadoras-morre-dentro-de-presidio-apos-passar-mal-no-ceara.ghtml'}, {'title': 'VÍDEO mostra momento em que meteoro é engolido por nuvem em SC'}, {'href': 'https://g1.globo.com/sc/santa-catarina/noticia/2023/05/13/meteoro-cruza-o-ceu-e-desaparece-dentro-de-nuvem-sob-a-luz-da-lua-em-sc-video.ghtml'}, {'title': 'MS, RJ e SP devem ter frio de menos de 10ºC no fim de semana; veja previsão'}, {'href': 'https://www.climatempo.com.br/noticia/2023/05/13/ar-frio-de-origem-polar-continua-sobre-o-centro-sul-do-brasil-0521'}, {'title': 'Menina vítima de agressões dos pais espalha cartas com pedido de socorro'}, {'href': 'https://g1.globo.com/sp/sao-jose-do-rio-preto-aracatuba/noticia/2023/05/12/menina-espalha-cartas-pedindo-socorro-e-e-acolhida-pelo-conselho-tutelar-no-interior-de-sao-paulo.ghtml'}, {'title': 'Quem é Danilo Tandera, o miliciano mais procurado do RJ '}, {'href': 'https://g1.globo.com/rj/rio-de-janeiro/noticia/2023/05/13/quem-e-danilo-tandera-miliciano-mais-procurado-do-rj-e-com-apenas-duas-passagens-rapidas-pela-cadeia.ghtml'}]\n"
     ]
    }
   ],
   "source": [
    "# Replace field name 'titulo' for 'title' name.\n",
    "#dw = [ { key.replace('titulo', 'title'):value for key, value in i.items() } for i in dw ]\n",
    "#dw = [ { key.replace('url', 'href'):value for key, value in i.items() } for i in dw ]\n",
    "#replKey = lambda listdc, old_key, new_key: [ ]\n",
    "def replKey(listdc, old_key, new_key  ):\n",
    "    dt = []\n",
    "    \n",
    "    \n",
    "    for i in listdc:\n",
    "        for keys, value in i.items():\n",
    "            dt.append( { keys.replace('url', 'href'): value } ) \n",
    "            \n",
    "    return dt\n",
    "\n",
    "data = replKey(data[0], 'url', 'href' )\n",
    "\n",
    "print(data)"
   ]
  },
  {
   "cell_type": "code",
   "execution_count": 5,
   "id": "6aa22b38",
   "metadata": {},
   "outputs": [],
   "source": [
    "dw, cwn = g1_( dw, 'div', attr)"
   ]
  },
  {
   "cell_type": "markdown",
   "id": "7f163b74",
   "metadata": {},
   "source": [
    "Ao abrir link da noticia pesquisar pela tag *'p'* com atributos **class** com valor **\"content-text__container** definir o tamanho para caso extrair só parte do corpo do texto.\n"
   ]
  },
  {
   "cell_type": "markdown",
   "id": "db117b75",
   "metadata": {},
   "source": [
    "Retornando uma lista dos itens encontrados (como visto acima no código) pegamos estes itens e os concatenamos exibintido o texto no corpo da noticia. (_Como visto abaixo_)"
   ]
  },
  {
   "cell_type": "markdown",
   "id": "6da973d9",
   "metadata": {},
   "source": [
    "Cada \"_evt\" (_css selector_ class) class css em \"bastian-page\" refere-se a uma noticia na lista central de noticias.\n",
    "Dentro de cada \"_evt\" haverá \"bastian-feed-item\" e neste o feed-post. \n",
    "\n",
    "**feed-post-body** _contêm_  ( 'feed-post-link', 'feed-post-body-title', 'feed-post-body-resumo')\n",
    "\n",
    "**bastian-feed-item** _contem_ um feed-post-body referindo-se a cada item (noticia)\n",
    "\n",
    "\n",
    "Para link da noticia (quando acessando a noticia)\n",
    "\n",
    "**content-head__title** em tag 'h1' (Título da noticia)\n",
    "\n",
    "**content-head__subtitle** em tag 'h2' (subtitulo/resumo da noticia)\n",
    "\n",
    "**content-text__container** corpo do texto da noticia css-selector, tag 'p' (pegar só a primeira referente ao primeiro paragrafo da noticia)"
   ]
  },
  {
   "cell_type": "code",
   "execution_count": 6,
   "id": "112a932e",
   "metadata": {},
   "outputs": [
    {
     "data": {
      "text/html": [
       "<h1 style=\"padding: 12px;\">Notícias</h1>Mensagens e prints ligam jogadores a esquema de manipulação<br>https://g1.globo.com/go/goias/noticia/2023/05/13/chamadas-de-video-com-apostador-comprovantes-de-pagamento-e-mensagens-veja-provas-apontadas-pelo-mp-que-ligam-jogadores-a-esquema-de-manipulacao-de-jogos.ghtml<br><br>Preso acusado de manipular jogos ligou da cadeia para esposa; VEJA<br>https://g1.globo.com/go/goias/noticia/2023/05/13/preso-acusado-de-integrar-grupo-que-manipulava-resultados-de-jogos-ligou-para-a-esposa-de-dentro-da-cadeia-e-pediu-dinheiro-para-comprar-celular-veja-conversas.ghtml<br><br>Treinador de futsal denunciado por assediar jogadoras morre na cadeia<br>https://g1.globo.com/ce/ceara/noticia/2023/05/13/treinador-de-futsal-denunciado-por-assediar-ao-menos-12-jogadoras-morre-dentro-de-presidio-apos-passar-mal-no-ceara.ghtml<br><br>VÍDEO mostra momento em que meteoro é engolido por nuvem em SC<br>https://g1.globo.com/sc/santa-catarina/noticia/2023/05/13/meteoro-cruza-o-ceu-e-desaparece-dentro-de-nuvem-sob-a-luz-da-lua-em-sc-video.ghtml<br><br>MS, RJ e SP devem ter frio de menos de 10ºC no fim de semana; veja previsão<br>https://www.climatempo.com.br/noticia/2023/05/13/ar-frio-de-origem-polar-continua-sobre-o-centro-sul-do-brasil-0521<br><br>Menina vítima de agressões dos pais espalha cartas com pedido de socorro<br>https://g1.globo.com/sp/sao-jose-do-rio-preto-aracatuba/noticia/2023/05/12/menina-espalha-cartas-pedindo-socorro-e-e-acolhida-pelo-conselho-tutelar-no-interior-de-sao-paulo.ghtml<br><br>Quem é Danilo Tandera, o miliciano mais procurado do RJ <br>https://g1.globo.com/rj/rio-de-janeiro/noticia/2023/05/13/quem-e-danilo-tandera-miliciano-mais-procurado-do-rj-e-com-apenas-duas-passagens-rapidas-pela-cadeia.ghtml"
      ],
      "text/plain": [
       "<IPython.core.display.HTML object>"
      ]
     },
     "metadata": {},
     "output_type": "display_data"
    }
   ],
   "source": [
    "news2 = '<h1 style=\"padding: 12px;\">Notícias</h1>'\n",
    "news2 += '<br><br>'.join( [ '<br>'.join( [ str( i['title'] ) , str( i[ 'url' ]  ) ] ) for i in dw ] )\n",
    "display( HTML( news2 ))"
   ]
  },
  {
   "cell_type": "markdown",
   "id": "0b5cc259",
   "metadata": {
    "tags": []
   },
   "source": [
    "# CNN Crawler de Noticias do Portal"
   ]
  },
  {
   "cell_type": "code",
   "execution_count": 7,
   "id": "5d731b59",
   "metadata": {},
   "outputs": [],
   "source": [
    "cnn_data = requests.get('https://www.cnnbrasil.com.br/')\n"
   ]
  },
  {
   "cell_type": "code",
   "execution_count": 8,
   "id": "06682a5f",
   "metadata": {},
   "outputs": [
    {
     "data": {
      "text/plain": [
       "<section class=\"hot__content\"> <div class=\"carousel\"> <div class=\"carousel__screen infinite\"> <ul class=\"carousel__track\"> <li class=\"carousel__item\"><div class=\"hot__list__itens\"> <a href=\"https://www.cnnbrasil.com.br/politica/a-cnn-bolsonaro-diz-que-vai-processar-lula-por-falas-sobre-mansao-e-mortes-na-pandemia/\" target=\"_self\" title=\"LULA X BOLSONARO À CNN, Bolsonaro diz que vai processar Lula por falas sobre mansão e mortes na pandemia\"> <img class=\"tb\" src=\"https://www.cnnbrasil.com.br/wp-content/uploads/sites/12/Reuters_Direct_Media/BrazilOnlineReportTopNews/tagreuters.com2022binary_LYNXMPEI9T0AZ-FILEDIMAGE.jpg?w=65&amp;h=37&amp;crop=1\" title=\"LULA X BOLSONARO À CNN, Bolsonaro diz que vai processar Lula por falas sobre mansão e mortes na pandemia\"/> <div class=\"i_ch\"> <i></i> <span class=\"ch\"> LULA X BOLSONARO </span> </div> <span class=\"tp\"> À CNN, Bolsonaro diz que vai processar Lula por falas sobre mansão e mortes na pandemia </span> </a></div></li><li class=\"carousel__item\"><div class=\"hot__list__itens\"> <a href=\"https://www.cnnbrasil.com.br/politica/bolsonaro-esta-em-casa-com-o-rabinho-preso-esta-prestando-depoimento-diz-lula-durante-evento-no-ce/\" target=\"_self\" title=\"ATRITOS Bolsonaro está em casa com o rabinho preso, está prestando depoimento, diz Lula durante evento no CE\"> <img class=\"tb\" src=\"https://www.cnnbrasil.com.br/wp-content/uploads/sites/12/2022/10/1666951818390839.jpg?w=65&amp;h=37&amp;crop=1\" title=\"ATRITOS Bolsonaro está em casa com o rabinho preso, está prestando depoimento, diz Lula durante evento no CE\"/> <div class=\"i_ch\"> <i></i> <span class=\"ch\"> ATRITOS </span> </div> <span class=\"tp\"> Bolsonaro está em casa com o rabinho preso, está prestando depoimento, diz Lula durante evento no CE </span> </a></div></li><li class=\"carousel__item\"><div class=\"hot__list__itens\"> <a href=\"https://www.cnnbrasil.com.br/internacional/forcas-da-ucrania-estao-a-500-metros-de-bakhmut-diz-lider-do-grupo-wagner/\" target=\"_self\" title=\"UCRÂNIA Forças da Ucrânia estão “a 500 metros de Bakhmut”, diz líder do Grupo Wagner\"> <img class=\"tb\" src=\"https://www.cnnbrasil.com.br/wp-content/uploads/sites/12/2023/05/Tanque-Ucrania.jpg?w=65&amp;h=37&amp;crop=1\" title=\"UCRÂNIA Forças da Ucrânia estão “a 500 metros de Bakhmut”, diz líder do Grupo Wagner\"/> <div class=\"i_ch\"> <i></i> <span class=\"ch\"> UCRÂNIA </span> </div> <span class=\"tp\"> Forças da Ucrânia estão “a 500 metros de Bakhmut”, diz líder do Grupo Wagner </span> </a></div></li><li class=\"carousel__item\"><div class=\"hot__list__itens\"> <a href=\"https://www.cnnbrasil.com.br/nacional/casal-de-brasileiros-e-encontrado-morto-em-apartamento-nos-eua-e-familia-busca-respostas/\" target=\"_self\" title=\"ESTADOS UNIDOS Casal de brasileiros é encontrado morto em apartamento nos EUA e família busca respostas\"> <img class=\"tb\" src=\"https://www.cnnbrasil.com.br/wp-content/uploads/sites/12/2023/05/1683895412327085.jpg?w=65&amp;h=37&amp;crop=1\" title=\"ESTADOS UNIDOS Casal de brasileiros é encontrado morto em apartamento nos EUA e família busca respostas\"/> <div class=\"i_ch\"> <i></i> <span class=\"ch\"> ESTADOS UNIDOS </span> </div> <span class=\"tp\"> Casal de brasileiros é encontrado morto em apartamento nos EUA e família busca respostas </span> </a></div></li> </ul> <ul class=\"carousel__track\"> <li class=\"carousel__item\"><div class=\"hot__list__itens\"> <a href=\"https://www.cnnbrasil.com.br/politica/a-cnn-bolsonaro-diz-que-vai-processar-lula-por-falas-sobre-mansao-e-mortes-na-pandemia/\" target=\"_self\" title=\"LULA X BOLSONARO À CNN, Bolsonaro diz que vai processar Lula por falas sobre mansão e mortes na pandemia\"> <img class=\"tb\" src=\"https://www.cnnbrasil.com.br/wp-content/uploads/sites/12/Reuters_Direct_Media/BrazilOnlineReportTopNews/tagreuters.com2022binary_LYNXMPEI9T0AZ-FILEDIMAGE.jpg?w=65&amp;h=37&amp;crop=1\" title=\"LULA X BOLSONARO À CNN, Bolsonaro diz que vai processar Lula por falas sobre mansão e mortes na pandemia\"/> <div class=\"i_ch\"> <i></i> <span class=\"ch\"> LULA X BOLSONARO </span> </div> <span class=\"tp\"> À CNN, Bolsonaro diz que vai processar Lula por falas sobre mansão e mortes na pandemia </span> </a></div></li><li class=\"carousel__item\"><div class=\"hot__list__itens\"> <a href=\"https://www.cnnbrasil.com.br/politica/bolsonaro-esta-em-casa-com-o-rabinho-preso-esta-prestando-depoimento-diz-lula-durante-evento-no-ce/\" target=\"_self\" title=\"ATRITOS Bolsonaro está em casa com o rabinho preso, está prestando depoimento, diz Lula durante evento no CE\"> <img class=\"tb\" src=\"https://www.cnnbrasil.com.br/wp-content/uploads/sites/12/2022/10/1666951818390839.jpg?w=65&amp;h=37&amp;crop=1\" title=\"ATRITOS Bolsonaro está em casa com o rabinho preso, está prestando depoimento, diz Lula durante evento no CE\"/> <div class=\"i_ch\"> <i></i> <span class=\"ch\"> ATRITOS </span> </div> <span class=\"tp\"> Bolsonaro está em casa com o rabinho preso, está prestando depoimento, diz Lula durante evento no CE </span> </a></div></li><li class=\"carousel__item\"><div class=\"hot__list__itens\"> <a href=\"https://www.cnnbrasil.com.br/internacional/forcas-da-ucrania-estao-a-500-metros-de-bakhmut-diz-lider-do-grupo-wagner/\" target=\"_self\" title=\"UCRÂNIA Forças da Ucrânia estão “a 500 metros de Bakhmut”, diz líder do Grupo Wagner\"> <img class=\"tb\" src=\"https://www.cnnbrasil.com.br/wp-content/uploads/sites/12/2023/05/Tanque-Ucrania.jpg?w=65&amp;h=37&amp;crop=1\" title=\"UCRÂNIA Forças da Ucrânia estão “a 500 metros de Bakhmut”, diz líder do Grupo Wagner\"/> <div class=\"i_ch\"> <i></i> <span class=\"ch\"> UCRÂNIA </span> </div> <span class=\"tp\"> Forças da Ucrânia estão “a 500 metros de Bakhmut”, diz líder do Grupo Wagner </span> </a></div></li><li class=\"carousel__item\"><div class=\"hot__list__itens\"> <a href=\"https://www.cnnbrasil.com.br/nacional/casal-de-brasileiros-e-encontrado-morto-em-apartamento-nos-eua-e-familia-busca-respostas/\" target=\"_self\" title=\"ESTADOS UNIDOS Casal de brasileiros é encontrado morto em apartamento nos EUA e família busca respostas\"> <img class=\"tb\" src=\"https://www.cnnbrasil.com.br/wp-content/uploads/sites/12/2023/05/1683895412327085.jpg?w=65&amp;h=37&amp;crop=1\" title=\"ESTADOS UNIDOS Casal de brasileiros é encontrado morto em apartamento nos EUA e família busca respostas\"/> <div class=\"i_ch\"> <i></i> <span class=\"ch\"> ESTADOS UNIDOS </span> </div> <span class=\"tp\"> Casal de brasileiros é encontrado morto em apartamento nos EUA e família busca respostas </span> </a></div></li> </ul> </div> </div> </section>"
      ]
     },
     "execution_count": 8,
     "metadata": {},
     "output_type": "execute_result"
    }
   ],
   "source": [
    "cnn_soup = BeautifulSoup(cnn_data.content, 'html.parser')\n",
    "cnn_nw_data = cnn_soup.find_all('section')\n",
    "cnn_nw_data[0]"
   ]
  },
  {
   "cell_type": "code",
   "execution_count": 9,
   "id": "4d7052da",
   "metadata": {},
   "outputs": [],
   "source": [
    "c = cnn_nw_data[0].find('a')\n",
    "#dir(c)\n"
   ]
  },
  {
   "cell_type": "code",
   "execution_count": 10,
   "id": "adbe3f16",
   "metadata": {},
   "outputs": [
    {
     "data": {
      "text/plain": [
       "{'href': 'https://www.cnnbrasil.com.br/politica/a-cnn-bolsonaro-diz-que-vai-processar-lula-por-falas-sobre-mansao-e-mortes-na-pandemia/',\n",
       " 'title': 'LULA X BOLSONARO À CNN, Bolsonaro diz que vai processar Lula por falas sobre mansão e mortes na pandemia',\n",
       " 'target': '_self'}"
      ]
     },
     "execution_count": 10,
     "metadata": {},
     "output_type": "execute_result"
    }
   ],
   "source": [
    "c.attrs"
   ]
  },
  {
   "cell_type": "code",
   "execution_count": 11,
   "id": "cfa59afc",
   "metadata": {},
   "outputs": [
    {
     "name": "stdout",
     "output_type": "stream",
     "text": [
      "[{'title': 'LULA X BOLSONARO À CNN, Bolsonaro diz que vai processar Lula por falas sobre mansão e mortes na pandemia', 'href': 'https://www.cnnbrasil.com.br/politica/a-cnn-bolsonaro-diz-que-vai-processar-lula-por-falas-sobre-mansao-e-mortes-na-pandemia/'}, {'title': 'Governo espera ter regulamentação das apostas online até o fim do ano, diz Fazenda', 'href': 'https://www.cnnbrasil.com.br/nacional/governo-espera-ter-regulamentacao-das-apostas-online-ate-o-fim-do-ano-diz-fazenda/'}, {'title': 'Se o dinheiro está caro, a culpa não é do BC, porque é malvado, mas do governo, que deve muito, diz Campos Neto à CNN', 'href': 'https://www.cnnbrasil.com.br/economia/se-o-dinheiro-esta-caro-a-culpa-nao-e-do-bc-porque-e-malvado-mas-do-governo-que-deve-muito-diz-campos-neto-a-cnn/'}, {'title': 'Política', 'href': 'https://www.cnnbrasil.com.br/politica/'}, {'title': 'Pop', 'href': 'https://www.cnnbrasil.com.br/pop/'}, {'title': 'Mercado', 'href': '/cotacoes/bolsa'}, {'title': 'Economia', 'href': 'https://www.cnnbrasil.com.br/economia/'}, {'title': 'Internacional', 'href': 'https://www.cnnbrasil.com.br/internacional/'}, {'title': 'Viagem & Gastronomia', 'href': 'https://www.cnnbrasil.com.br/viagemegastronomia/'}, {'title': 'Nacional', 'href': 'https://www.cnnbrasil.com.br/nacional/'}, {'title': 'Saúde', 'href': 'https://www.cnnbrasil.com.br/saude/'}, {'title': 'Esportes', 'href': 'https://www.cnnbrasil.com.br/esportes/'}, {'title': 'CNN Plural', 'href': 'https://www.cnnbrasil.com.br/tudo-sobre/cnn-plural/'}, {'title': 'Ciência e Tecnologia', 'href': 'https://www.cnnbrasil.com.br/tecnologia/'}, {'title': 'Fórmula ucraniana é \"a única capaz de parar guerra\", diz Zelensky a Amorim', 'href': 'https://www.cnnbrasil.com.br/internacional/formula-ucraniana-e-a-unica-capaz-de-parar-guerra-diz-zelensky-a-amorim/'}]\n"
     ]
    }
   ],
   "source": [
    "cnn_list_news = []\n",
    "aux = None \n",
    "for news in cnn_nw_data:\n",
    "    aux = news.find('a')\n",
    "    \n",
    "    \n",
    "    try :\n",
    "        \n",
    "        aux = aux.attrs\n",
    "        cnn_list_news.extend( [ { 'title': aux['title'], 'href': aux['href'] } ] ) \n",
    "\n",
    "    except:\n",
    "        pass\n",
    "\n",
    "print(cnn_list_news)"
   ]
  },
  {
   "cell_type": "code",
   "execution_count": 12,
   "id": "ab2be6dd",
   "metadata": {},
   "outputs": [
    {
     "name": "stdout",
     "output_type": "stream",
     "text": [
      "\n",
      "LULA X BOLSONARO À CNN, Bolsonaro diz que vai processar Lula por falas sobre mansão e mortes na pandemia \n",
      "https://www.cnnbrasil.com.br/politica/a-cnn-bolsonaro-diz-que-vai-processar-lula-por-falas-sobre-mansao-e-mortes-na-pandemia/\n",
      "\n",
      "\n",
      "\n",
      "Governo espera ter regulamentação das apostas online até o fim do ano, diz Fazenda \n",
      "https://www.cnnbrasil.com.br/nacional/governo-espera-ter-regulamentacao-das-apostas-online-ate-o-fim-do-ano-diz-fazenda/\n",
      "\n",
      "\n",
      "\n",
      "Se o dinheiro está caro, a culpa não é do BC, porque é malvado, mas do governo, que deve muito, diz Campos Neto à CNN \n",
      "https://www.cnnbrasil.com.br/economia/se-o-dinheiro-esta-caro-a-culpa-nao-e-do-bc-porque-e-malvado-mas-do-governo-que-deve-muito-diz-campos-neto-a-cnn/\n",
      "\n",
      "\n",
      "\n",
      "Política \n",
      "https://www.cnnbrasil.com.br/politica/\n",
      "\n",
      "\n",
      "\n",
      "Pop \n",
      "https://www.cnnbrasil.com.br/pop/\n",
      "\n",
      "\n",
      "\n",
      "Mercado \n",
      "/cotacoes/bolsa\n",
      "\n",
      "\n",
      "\n",
      "Economia \n",
      "https://www.cnnbrasil.com.br/economia/\n",
      "\n",
      "\n",
      "\n",
      "Internacional \n",
      "https://www.cnnbrasil.com.br/internacional/\n",
      "\n",
      "\n",
      "\n",
      "Viagem & Gastronomia \n",
      "https://www.cnnbrasil.com.br/viagemegastronomia/\n",
      "\n",
      "\n",
      "\n",
      "Nacional \n",
      "https://www.cnnbrasil.com.br/nacional/\n",
      "\n",
      "\n",
      "\n",
      "Saúde \n",
      "https://www.cnnbrasil.com.br/saude/\n",
      "\n",
      "\n",
      "\n",
      "Esportes \n",
      "https://www.cnnbrasil.com.br/esportes/\n",
      "\n",
      "\n",
      "\n",
      "CNN Plural \n",
      "https://www.cnnbrasil.com.br/tudo-sobre/cnn-plural/\n",
      "\n",
      "\n",
      "\n",
      "Ciência e Tecnologia \n",
      "https://www.cnnbrasil.com.br/tecnologia/\n",
      "\n",
      "\n",
      "\n",
      "Fórmula ucraniana é \"a única capaz de parar guerra\", diz Zelensky a Amorim \n",
      "https://www.cnnbrasil.com.br/internacional/formula-ucraniana-e-a-unica-capaz-de-parar-guerra-diz-zelensky-a-amorim/\n",
      "\n",
      "\n"
     ]
    }
   ],
   "source": [
    "cnn_list_news_ma = None\n",
    "for i in cnn_list_news:\n",
    "    \n",
    "    try:\n",
    "        print(f\"\\n{i['title']} \\n{i['href']}\\n\\n\" ) \n",
    "    except:\n",
    "        pass \n",
    "    #keys = i.keys()\n",
    "    #print(keys)   \n",
    "    \n",
    "\n",
    "    #print( f'\\t\\n\\n{out}') \n",
    "    #out = '' \n"
   ]
  },
  {
   "cell_type": "code",
   "execution_count": 13,
   "id": "18478fa3",
   "metadata": {},
   "outputs": [
    {
     "data": {
      "text/plain": [
       "7"
      ]
     },
     "execution_count": 13,
     "metadata": {},
     "output_type": "execute_result"
    }
   ],
   "source": [
    "len(dw)"
   ]
  },
  {
   "cell_type": "code",
   "execution_count": 14,
   "id": "81147e1f",
   "metadata": {},
   "outputs": [
    {
     "data": {
      "text/plain": [
       "15"
      ]
     },
     "execution_count": 14,
     "metadata": {},
     "output_type": "execute_result"
    }
   ],
   "source": [
    "len(cnn_list_news)"
   ]
  },
  {
   "cell_type": "markdown",
   "id": "f8cdb6c9",
   "metadata": {
    "tags": []
   },
   "source": [
    "# BBC Brasil "
   ]
  },
  {
   "cell_type": "markdown",
   "id": "4c05e698",
   "metadata": {},
   "source": [
    "Crawler das notícias do portal do site BBC Brasil."
   ]
  },
  {
   "cell_type": "code",
   "execution_count": 15,
   "id": "add6fad0",
   "metadata": {},
   "outputs": [],
   "source": [
    "url_bbc = 'https://www.bbc.com/portuguese'\n",
    "url_bbc_base = 'https://www.bbc.com'"
   ]
  },
  {
   "cell_type": "code",
   "execution_count": 16,
   "id": "b0cfcf46",
   "metadata": {},
   "outputs": [],
   "source": [
    "bbc_data = requests.get(url_bbc)\n",
    "bbc_soup = BeautifulSoup(bbc_data.content, 'html.parser')\n",
    "bbc_sections =  bbc_soup.find_all('section' , class_= 'bbc-iinl4t')"
   ]
  },
  {
   "cell_type": "code",
   "execution_count": 17,
   "id": "ff387772",
   "metadata": {},
   "outputs": [],
   "source": [
    "bbc_news_lists = []"
   ]
  },
  {
   "cell_type": "markdown",
   "id": "46e14fbd",
   "metadata": {},
   "source": [
    "``` python\n",
    "url_bbc_base+bbc_sections[0].select('a')[0]['href']\n",
    "```\n",
    "\n",
    "Saída 'https://www.bbc.com/portuguese/brasil-63507138'"
   ]
  },
  {
   "cell_type": "code",
   "execution_count": 18,
   "id": "df0594c3",
   "metadata": {},
   "outputs": [
    {
     "data": {
      "text/plain": [
       "'As sacerdotisas africanas perseguidas pela Inquisição no Brasil'"
      ]
     },
     "execution_count": 18,
     "metadata": {},
     "output_type": "execute_result"
    }
   ],
   "source": [
    "bbc_sections[0].select('a')[0].text"
   ]
  },
  {
   "cell_type": "code",
   "execution_count": 19,
   "id": "935c15b3",
   "metadata": {},
   "outputs": [],
   "source": [
    "for news in bbc_sections:\n",
    "    bbc_news_lists.extend( [ { 'title': i.text, 'url': i['href'] } for i in news.select('a') ] )"
   ]
  },
  {
   "cell_type": "code",
   "execution_count": 20,
   "id": "73480045",
   "metadata": {},
   "outputs": [],
   "source": [
    "bbc_news_lists = []\n",
    "aux = None \n",
    "\n",
    "for section_news in bbc_sections:\n",
    "    for news in section_news.select( 'a' ):\n",
    "        if news['href'].find('topic') != -1:\n",
    "            pass\n",
    "        else :\n",
    "            if news['href'].find('https') != -1:\n",
    "                bbc_news_lists.extend( [ { 'title': news.text, 'href': news['href'] } ] )\n",
    "            else:\n",
    "                bbc_news_lists.extend( [ { 'title': news.text, 'href': url_bbc_base+news['href'] } ] )"
   ]
  },
  {
   "cell_type": "code",
   "execution_count": 21,
   "id": "21212bf4",
   "metadata": {},
   "outputs": [
    {
     "name": "stdout",
     "output_type": "stream",
     "text": [
      "Número de notícias: 63\n"
     ]
    }
   ],
   "source": [
    "print(f'Número de notícias: {len(bbc_news_lists)}')"
   ]
  },
  {
   "cell_type": "code",
   "execution_count": 22,
   "id": "2191c506",
   "metadata": {},
   "outputs": [
    {
     "data": {
      "text/plain": [
       "[{'title': 'Jovem de 16 anos recebe R$ 45 milhões em ofertas de bolsas universitárias nos EUA e se aproxima de recorde',\n",
       "  'href': 'https://www.bbc.com/portuguese/articles/cqezgqj2gd5o'},\n",
       " {'title': 'Os mitos e erros sobre os hemisférios do cérebro',\n",
       "  'href': 'https://www.bbc.com/portuguese/articles/cjj999w39dgo'},\n",
       " {'title': 'Vídeo, O desastre que ameaça líder turco, no poder há duas décadas, Duration 4,54',\n",
       "  'href': 'https://www.bbc.com/portuguese/internacional-65573941'}]"
      ]
     },
     "execution_count": 22,
     "metadata": {},
     "output_type": "execute_result"
    }
   ],
   "source": [
    "random.choices(bbc_news_lists, k = 3)"
   ]
  },
  {
   "cell_type": "code",
   "execution_count": 23,
   "id": "b3a68bfb",
   "metadata": {},
   "outputs": [
    {
     "name": "stdout",
     "output_type": "stream",
     "text": [
      "https://www.bbc.com/portuguese/topics/cz74k71p8ynt\n"
     ]
    }
   ],
   "source": [
    "print(url_bbc_base+'/portuguese/topics/cz74k71p8ynt')"
   ]
  },
  {
   "cell_type": "code",
   "execution_count": 24,
   "id": "9a107ff9",
   "metadata": {},
   "outputs": [],
   "source": [
    "with open('bbc_news.txt', 'w') as fl:\n",
    "    for i in bbc_news_lists:\n",
    "        fl.write(i['title'] +'\\n' + i['href'] +'\\n\\n')\n",
    "    fl.close()"
   ]
  },
  {
   "cell_type": "markdown",
   "id": "f89eb773-762f-4e86-a627-367f322dcbff",
   "metadata": {},
   "source": [
    "# Portal Band"
   ]
  },
  {
   "cell_type": "markdown",
   "id": "3a397d79-f69c-448f-a788-a54556d5684d",
   "metadata": {},
   "source": [
    "Busca de lista de notícias do portal Band."
   ]
  },
  {
   "cell_type": "code",
   "execution_count": 25,
   "id": "9d9c1547-3393-469d-a279-06e12fc5d940",
   "metadata": {},
   "outputs": [],
   "source": [
    "url_band = 'https://www.band.uol.com.br/'"
   ]
  },
  {
   "cell_type": "code",
   "execution_count": 26,
   "id": "79e1162e-41af-48c8-81fc-5875da822b72",
   "metadata": {},
   "outputs": [],
   "source": [
    "band_data = requests.get(url_band).content\n",
    "soup_band = BeautifulSoup(band_data, 'html.parser')\n"
   ]
  },
  {
   "cell_type": "code",
   "execution_count": 27,
   "id": "b15c5e6e-4502-4933-a157-a7b1f6be6dc6",
   "metadata": {},
   "outputs": [
    {
     "name": "stdout",
     "output_type": "stream",
     "text": [
      "Número: 17\n"
     ]
    }
   ],
   "source": [
    "news_band_section = soup_band.find_all('section')\n",
    "print(f'Número: {len(news_band_section)}')"
   ]
  },
  {
   "cell_type": "code",
   "execution_count": 28,
   "id": "470af61e-68c4-443e-9847-217ffd21a2b2",
   "metadata": {},
   "outputs": [],
   "source": [
    "aux = []\n",
    "list_ = None\n",
    "for secs in news_band_section:\n",
    "    list_ = secs.find_all('a', class_='link')\n",
    "    for i in list_:\n",
    "        \n",
    "        try:\n",
    "            aux.extend( [ { 'title': i.h3.text+'. '+ i.h2.text, 'href': i['href']} ] )\n",
    "        except:\n",
    "            aux.extend( [ { 'title': i.text, 'href': i['href'] } ] )\n",
    "    #aux.extend([ { 'title': i}  for i in list_ ]  )\n",
    "news_list_band = [] \n",
    "news_list_band.extend(random.choices(aux, k=4 ) )"
   ]
  },
  {
   "cell_type": "code",
   "execution_count": 29,
   "id": "98ce98b6-b991-4bab-b84c-574a5299a50b",
   "metadata": {},
   "outputs": [],
   "source": [
    "n = soup_band.find_all('a')"
   ]
  },
  {
   "cell_type": "code",
   "execution_count": 30,
   "id": "14f61d43-c1c8-4256-9cde-a8e78f9e190d",
   "metadata": {},
   "outputs": [
    {
     "name": "stdout",
     "output_type": "stream",
     "text": [
      "\n",
      "\n",
      "/bandnews-fm/colunistas/paloma-tocci\n",
      "\n",
      "\n",
      "/band-shop/guia-de-compras/dia-do-cozinheiro-utensilios-culinarios-essenciais-16601251\n",
      "\n",
      "\n",
      "/esportes/luis-castro-critica-cobranca-excessiva-a-tecnicos-e-diz-nos-jogaram-no-lixo-16601722\n",
      "\n",
      "Presidente da Ucrânia chega em Roma para encontrar Papa Francisco\n",
      "/noticias/presidente-da-ucrania-chega-em-roma-para-encontrar-papa-francisco-16602006\n"
     ]
    }
   ],
   "source": [
    "import random\n",
    "\n",
    "random.choices(news_list_band, k = 4)[0:]\n",
    "for i in news_list_band:\n",
    "    print(f\"\\n{i['title']}\\n{i['href']}\")"
   ]
  },
  {
   "cell_type": "code",
   "execution_count": 31,
   "id": "d4d2372d-8299-46a0-9d0b-332dae51aecf",
   "metadata": {},
   "outputs": [
    {
     "data": {
      "text/plain": [
       "<a _ngcontent-sc85=\"\" aria-label=\"Band\" class=\"logo logo--portal logo-name--Band logo--image center\" href=\"/\"><img _ngcontent-sc85=\"\" alt=\"Band\" class=\"logo-image\" height=\"35\" src=\"https://pubimg.band.uol.com.br/Files/logo-band-2022-v2.png?v2\" width=\"101\"/><!-- --><!-- --><!-- --></a>"
      ]
     },
     "execution_count": 31,
     "metadata": {},
     "output_type": "execute_result"
    }
   ],
   "source": [
    "n[0]"
   ]
  },
  {
   "cell_type": "markdown",
   "id": "5e4d2bbf",
   "metadata": {
    "tags": []
   },
   "source": [
    "# Montando Lista de Notícias"
   ]
  },
  {
   "cell_type": "code",
   "execution_count": 32,
   "id": "a43cf177",
   "metadata": {},
   "outputs": [],
   "source": [
    "number_news = 6\n"
   ]
  },
  {
   "cell_type": "code",
   "execution_count": 33,
   "id": "fef8aed2",
   "metadata": {},
   "outputs": [],
   "source": [
    "import random"
   ]
  },
  {
   "cell_type": "code",
   "execution_count": 34,
   "id": "dc4ea054",
   "metadata": {},
   "outputs": [],
   "source": [
    "news_list = []\n",
    "\n",
    "news_list.extend( [ {'title': random.choices( [ (news['title'], news['url']) for news in dw ] , k = 2 ), 'source': 'G1/Globo' } ] )\n",
    "\n",
    "news_list.extend( [ {'title': random.choices( [ (news['title'], news['href']) for news in cnn_list_news ] , k = 2 ), 'source': 'CNN Brasil' } ] )\n",
    "\n",
    "news_list.extend( [ {'title': random.choices( [ (news['title'], news['href']) for news in bbc_news_lists ] , k = 2 ), 'source': 'BBC Brasil' } ] )\n"
   ]
  },
  {
   "cell_type": "code",
   "execution_count": 35,
   "id": "974176ec",
   "metadata": {},
   "outputs": [
    {
     "name": "stdout",
     "output_type": "stream",
     "text": [
      "Preso acusado de manipular jogos ligou da cadeia para esposa; VEJA. \n",
      "https://g1.globo.com/go/goias/noticia/2023/05/13/preso-acusado-de-integrar-grupo-que-manipulava-resultados-de-jogos-ligou-para-a-esposa-de-dentro-da-cadeia-e-pediu-dinheiro-para-comprar-celular-veja-conversas.ghtml\n",
      "\n",
      "Mensagens e prints ligam jogadores a esquema de manipulação. \n",
      "https://g1.globo.com/go/goias/noticia/2023/05/13/chamadas-de-video-com-apostador-comprovantes-de-pagamento-e-mensagens-veja-provas-apontadas-pelo-mp-que-ligam-jogadores-a-esquema-de-manipulacao-de-jogos.ghtml\n",
      "\n",
      "Fonte: G1/Globo\n",
      "\n",
      "\n",
      "Internacional. \n",
      "https://www.cnnbrasil.com.br/internacional/\n",
      "\n",
      "Fórmula ucraniana é \"a única capaz de parar guerra\", diz Zelensky a Amorim. \n",
      "https://www.cnnbrasil.com.br/internacional/formula-ucraniana-e-a-unica-capaz-de-parar-guerra-diz-zelensky-a-amorim/\n",
      "\n",
      "Fonte: CNN Brasil\n",
      "\n",
      "\n",
      "A campanha por jovem com doença rara que enganou celebridades e teve desfecho trágico . \n",
      "https://www.bbc.com/portuguese/articles/cv2vvdw5q0vo\n",
      "\n",
      "Como Marília Mendonça continua a ser fenômeno após sua morte. \n",
      "https://www.bbc.com/portuguese/articles/ckrk07gg2reo\n",
      "\n",
      "Fonte: BBC Brasil\n",
      "\n",
      "\n"
     ]
    }
   ],
   "source": [
    "for i in news_list:\n",
    "    for j in i['title']:\n",
    "        print(f\"{j[0]}. \\n{j[1]}\\n\")\n",
    "    \n",
    "    print(f\"Fonte: {i['source']}\\n\\n\")"
   ]
  },
  {
   "cell_type": "markdown",
   "id": "c3e35a27-ec7c-4467-9216-1ec5db355825",
   "metadata": {},
   "source": [
    "## Salvando Todas Noticias (JSON)"
   ]
  },
  {
   "cell_type": "markdown",
   "id": "4f8582d4-9425-4439-8a2d-3bfbab48919f",
   "metadata": {},
   "source": [
    "### View news for test algorithm"
   ]
  },
  {
   "cell_type": "code",
   "execution_count": 36,
   "id": "4dc4ef07-7a0d-40a9-95c5-68a585e7b6f8",
   "metadata": {},
   "outputs": [],
   "source": [
    "# List news\n",
    "news = None\n",
    "portaisvar = [\n",
    "    'dw', #Globo/G1\n",
    "    'cnn_list_news', # CNN Brazil\n",
    "    'bbc_news_list' # BBC Brazil\n",
    "]\n",
    "\n",
    "portais = { 'dw': 'Globo/G1', 'cnn_list_news': 'CNN Brasil', 'bbc_news_lists': 'BBC Brasil' }    "
   ]
  },
  {
   "cell_type": "code",
   "execution_count": 37,
   "id": "b10a3e84-3cba-4a3b-99e7-3c4b06f4ddf0",
   "metadata": {},
   "outputs": [
    {
     "data": {
      "text/plain": [
       "(dict_keys(['title', 'url']),\n",
       " dict_keys(['title', 'href']),\n",
       " dict_keys(['title', 'href']))"
      ]
     },
     "execution_count": 37,
     "metadata": {},
     "output_type": "execute_result"
    }
   ],
   "source": [
    "dw[0].keys(), cnn_list_news[0].keys(), bbc_news_lists[0].keys()"
   ]
  },
  {
   "cell_type": "code",
   "execution_count": 38,
   "id": "5eee3e4a-6c18-41f7-ba9b-47d40c35088b",
   "metadata": {},
   "outputs": [
    {
     "data": {
      "text/plain": [
       "[{'title': 'Mensagens e prints ligam jogadores a esquema de manipulação',\n",
       "  'href': 'https://g1.globo.com/go/goias/noticia/2023/05/13/chamadas-de-video-com-apostador-comprovantes-de-pagamento-e-mensagens-veja-provas-apontadas-pelo-mp-que-ligam-jogadores-a-esquema-de-manipulacao-de-jogos.ghtml'},\n",
       " {'title': 'Preso acusado de manipular jogos ligou da cadeia para esposa; VEJA',\n",
       "  'href': 'https://g1.globo.com/go/goias/noticia/2023/05/13/preso-acusado-de-integrar-grupo-que-manipulava-resultados-de-jogos-ligou-para-a-esposa-de-dentro-da-cadeia-e-pediu-dinheiro-para-comprar-celular-veja-conversas.ghtml'},\n",
       " {'title': 'Treinador de futsal denunciado por assediar jogadoras morre na cadeia',\n",
       "  'href': 'https://g1.globo.com/ce/ceara/noticia/2023/05/13/treinador-de-futsal-denunciado-por-assediar-ao-menos-12-jogadoras-morre-dentro-de-presidio-apos-passar-mal-no-ceara.ghtml'},\n",
       " {'title': 'VÍDEO mostra momento em que meteoro é engolido por nuvem em SC',\n",
       "  'href': 'https://g1.globo.com/sc/santa-catarina/noticia/2023/05/13/meteoro-cruza-o-ceu-e-desaparece-dentro-de-nuvem-sob-a-luz-da-lua-em-sc-video.ghtml'},\n",
       " {'title': 'MS, RJ e SP devem ter frio de menos de 10ºC no fim de semana; veja previsão',\n",
       "  'href': 'https://www.climatempo.com.br/noticia/2023/05/13/ar-frio-de-origem-polar-continua-sobre-o-centro-sul-do-brasil-0521'},\n",
       " {'title': 'Menina vítima de agressões dos pais espalha cartas com pedido de socorro',\n",
       "  'href': 'https://g1.globo.com/sp/sao-jose-do-rio-preto-aracatuba/noticia/2023/05/12/menina-espalha-cartas-pedindo-socorro-e-e-acolhida-pelo-conselho-tutelar-no-interior-de-sao-paulo.ghtml'},\n",
       " {'title': 'Quem é Danilo Tandera, o miliciano mais procurado do RJ ',\n",
       "  'href': 'https://g1.globo.com/rj/rio-de-janeiro/noticia/2023/05/13/quem-e-danilo-tandera-miliciano-mais-procurado-do-rj-e-com-apenas-duas-passagens-rapidas-pela-cadeia.ghtml'}]"
      ]
     },
     "execution_count": 38,
     "metadata": {},
     "output_type": "execute_result"
    }
   ],
   "source": [
    "# Replace field name 'titulo' for 'title' name.\n",
    "dw = [ { key.replace('titulo', 'title'):value for key, value in i.items() } for i in dw ]\n",
    "dw = [ { key.replace('url', 'href'):value for key, value in i.items() } for i in dw ]\n",
    "dw"
   ]
  },
  {
   "cell_type": "code",
   "execution_count": 39,
   "id": "b571d2b5-6902-46f7-96d6-21366b4dd13b",
   "metadata": {},
   "outputs": [],
   "source": [
    "#[ { key.replace('title', 'titulo' ) } ]\n",
    "newslist = dw + cnn_list_news + bbc_news_lists\n",
    "#newslist"
   ]
  },
  {
   "cell_type": "code",
   "execution_count": 40,
   "id": "27066ffb-f291-4cc5-86b2-cef127a4d8ba",
   "metadata": {},
   "outputs": [
    {
     "name": "stdout",
     "output_type": "stream",
     "text": [
      "File exist\n",
      "not get page\n"
     ]
    }
   ],
   "source": [
    "import os\n",
    "count = 0\n",
    "try:\n",
    "    os.mkdir( 'newsdata' )\n",
    "except FileExistsError:\n",
    "    print(\"File exist\")\n",
    "    \n",
    "webdata = ''\n",
    "# Save data of link news in files to folder.\n",
    "for news in newslist:\n",
    "    try:\n",
    "        #news['data'] = requests.get(news['href']).text\n",
    "        foldername = f'newsdata'\n",
    "        #os.mkdir( foldername )\n",
    "        news['datafile'] = f'{foldername}/'+str( count )\n",
    "        with open( foldername+f'/{str(count)}', 'a' ) as fl:\n",
    "            webdata = requests.get( news['href'] ).text \n",
    "            fl.write( webdata )\n",
    "            fl.close()\n",
    "            \n",
    "        count += 1\n",
    "    except :\n",
    "        print('not get page')\n",
    "        continue\n",
    "    "
   ]
  },
  {
   "cell_type": "code",
   "execution_count": 41,
   "id": "0989f5b2-da01-44e0-bcb8-1be5fd2bd158",
   "metadata": {},
   "outputs": [
    {
     "data": {
      "text/plain": [
       "'newsdata/0'"
      ]
     },
     "execution_count": 41,
     "metadata": {},
     "output_type": "execute_result"
    }
   ],
   "source": [
    "newslist[0]['datafile']"
   ]
  },
  {
   "cell_type": "code",
   "execution_count": 50,
   "id": "2d38942e-e38c-402d-8633-2f853064cc53",
   "metadata": {},
   "outputs": [
    {
     "name": "stdout",
     "output_type": "stream",
     "text": [
      " Chamadas de vídeo com apostador, comprovantes de pagamento e mensagens: veja provas apontadas pelo MP que ligam jogadores a esquema de manipulação de\n"
     ]
    }
   ],
   "source": [
    "p = requests.get( newslist[0]['href'] )\n",
    "soup = BeautifulSoup( p.text, 'html.parser')\n",
    "texto = soup.get_text()\n",
    "print( texto[0:150] )"
   ]
  },
  {
   "cell_type": "code",
   "execution_count": 43,
   "id": "9196f821-ec0f-4ecb-91fb-52a2000bdd1f",
   "metadata": {},
   "outputs": [],
   "source": [
    "d = ''\n",
    "with open(foldername+'/0', 'r') as fl:\n",
    "    d = fl.read()\n",
    "    fl.close()\n",
    "\n",
    "\n",
    "soup = BeautifulSoup(d, 'html.parser')\n",
    "#souptext = soup.text\n",
    "content = soup.find_all('div')\n",
    "#dir(soup)"
   ]
  },
  {
   "cell_type": "code",
   "execution_count": 44,
   "id": "72d02fbc-379b-4153-9a38-5134e4c02b5a",
   "metadata": {},
   "outputs": [],
   "source": [
    "texto = ' '.join( [ i.get_text() for i in content ] )\n",
    "texto = texto.replace('\\n', ' ')\n",
    "with open('texto', 'w' ) as fl:\n",
    "    #fl.write( souptext )\n",
    "    fl.write( texto )\n",
    "    "
   ]
  },
  {
   "cell_type": "code",
   "execution_count": 45,
   "id": "14d06b94-9014-49ac-af6b-bddb1e63202d",
   "metadata": {},
   "outputs": [
    {
     "name": "stdout",
     "output_type": "stream",
     "text": [
      "              Goiás                                   fique por dentro             Imposto de Renda \n"
     ]
    }
   ],
   "source": [
    "print( texto[0:100] )"
   ]
  },
  {
   "cell_type": "code",
   "execution_count": 46,
   "id": "181403d6-18d3-4f33-8f7a-2a51a77c92ef",
   "metadata": {},
   "outputs": [],
   "source": [
    "import json\n",
    "\n",
    "with open('noticias.json', 'w') as fl:\n",
    "    fl.write(json.dumps(newslist, ensure_ascii=False, indent=4))\n",
    "    fl.close()"
   ]
  },
  {
   "cell_type": "markdown",
   "id": "c7ee5e9e-92f7-4d1d-8c4b-5f1d2e3cd5e8",
   "metadata": {},
   "source": [
    "### Salva noticias"
   ]
  },
  {
   "cell_type": "code",
   "execution_count": 47,
   "id": "9d67faf7-6fd4-4af6-b35b-e1319b6c01c4",
   "metadata": {},
   "outputs": [],
   "source": [
    "def savenews(newslist: list, filename: str) -> None:\n",
    "    import json\n",
    "    jsondata = None\n",
    "    with open(filename, 'w') as fl:\n",
    "        fl.write( json.dumps( newslist, encode='utf-8', indent=4 ) )\n",
    "        fl.close()\n",
    "    print('Saved...')\n",
    "    "
   ]
  },
  {
   "cell_type": "code",
   "execution_count": 48,
   "id": "84a3c9f4",
   "metadata": {},
   "outputs": [
    {
     "name": "stdout",
     "output_type": "stream",
     "text": [
      "Preso acusado de manipular jogos ligou da cadeia para esposa; VEJA.\n",
      "Mensagens e prints ligam jogadores a esquema de manipulação.\n",
      "Fonte: G1/Globo\n",
      "\n",
      " \n",
      "Internacional.\n",
      "Fórmula ucraniana é \"a única capaz de parar guerra\", diz Zelensky a Amorim.\n",
      "Fonte: CNN Brasil\n",
      "\n",
      " \n",
      "A campanha por jovem com doença rara que enganou celebridades e teve desfecho trágico .\n",
      "Como Marília Mendonça continua a ser fenômeno após sua morte.\n",
      "Fonte: BBC Brasil\n",
      "\n",
      " \n"
     ]
    }
   ],
   "source": [
    "i = j = None\n",
    "\n",
    "for i in news_list:\n",
    "    for j in i['title']:\n",
    "        print(f'{j[0]}.')\n",
    "    print(f'Fonte: {i[\"source\"] }\\n\\n ' )"
   ]
  },
  {
   "cell_type": "code",
   "execution_count": 49,
   "id": "7c0ca847-a7d0-4941-bfc7-14c8b2123ead",
   "metadata": {},
   "outputs": [
    {
     "name": "stdout",
     "output_type": "stream",
     "text": [
      "Olá bem vindo ao Diário de Notícias Dimensão Alfa. Estas são as principais manchetes do dia.\n",
      "\n",
      "Portal de Notícias G1/Globo\n",
      " \n",
      "Preso acusado de manipular jogos ligou da cadeia para esposa; VEJA.\n",
      "Mensagens e prints ligam jogadores a esquema de manipulação.\n",
      "\n",
      "\n",
      "\n",
      "Portal de Notícias CNN Brasil\n",
      " \n",
      "Internacional.\n",
      "Fórmula ucraniana é \"a única capaz de parar guerra\", diz Zelensky a Amorim.\n",
      "\n",
      "\n",
      "\n",
      "Portal de Notícias BBC Brasil\n",
      " \n",
      "A campanha por jovem com doença rara que enganou celebridades e teve desfecho trágico .\n",
      "Como Marília Mendonça continua a ser fenômeno após sua morte.\n",
      "\n",
      "\n",
      "\n"
     ]
    }
   ],
   "source": [
    "i = j = None\n",
    "\n",
    "print(f\"Olá bem vindo ao Diário de Notícias Dimensão Alfa. Estas são as principais manchetes do dia.\\n\")\n",
    "for i in news_list:\n",
    "    print(f'Portal de Notícias {i[\"source\"] }\\n ' )\n",
    "    for j in i['title']:\n",
    "        print(f'{j[0]}.')\n",
    "    print('\\n\\n')"
   ]
  },
  {
   "cell_type": "markdown",
   "id": "d1879811-0f8b-4150-86a7-606389a58301",
   "metadata": {
    "tags": []
   },
   "source": [
    "# Sobre"
   ]
  },
  {
   "cell_type": "markdown",
   "id": "2c8c3c3a-34bd-4081-a3de-4d172f80eb07",
   "metadata": {
    "tags": []
   },
   "source": [
    "## Dimensão Alfa"
   ]
  },
  {
   "cell_type": "markdown",
   "id": "93927b53-1f5b-4f94-abed-cf9e6f99fc99",
   "metadata": {
    "jp-MarkdownHeadingCollapsed": true,
    "tags": []
   },
   "source": [
    "Dimensão Alfa projetos e conteúdos de tecnologia."
   ]
  },
  {
   "cell_type": "markdown",
   "id": "9922c82b-a271-4e7c-b6f7-a1420b69b13f",
   "metadata": {
    "tags": []
   },
   "source": [
    "## Info"
   ]
  },
  {
   "cell_type": "markdown",
   "id": "1669e98a-92e1-4d73-b518-163002feab8b",
   "metadata": {},
   "source": [
    "O presente projeto tem sido usado com fins de divulgação e facilitação de acesso a noticias e conhecimento em comunhão com objetivo da plataforma/página Dimensão Alfa. \n",
    "Conteúdos de terceiros são de responsabilidades dos mesmos bem como seus direitos autorais.\n",
    "\n",
    "O projeto encontra-se em desenvolvimento, inicialmente fôra batizado de Ani Fátima Liu, e estará passando por alterações estando de inicio disponibilizado em formato \"_jupyter notebook_\" podendo servir como _case_ de estudo para os que se interessam por \"web scrap\" (raspagem de dados).\n",
    "\n",
    "Tecnologias foram usadas para gerar vídeo de noticias diária para página [Youtube](https://www.youtube.com/@dimensaoalfa); foi usada as seguintes tecnologias:\n",
    "\n",
    "* [Editor de códigos VSCode](https://code.visualstudio.com/)\n",
    "* [Python (linguagem de programação)](https://www.python.org/)\n",
    "* [Ambiente JupyterLab](https://jupyter.org/)\n",
    "* [Biblioteca \"Requests\"](https://requests.readthedocs.io/en/latest/)\n",
    "* [Biblioteca \"BeautifulSoup\"](https://www.crummy.com/software/BeautifulSoup/bs4/doc/)\n",
    "* [Serviço de Sintese de Voz Microsoft/Azure](https://speech.microsoft.com)\n",
    "\n",
    "\n",
    "Peço e agradeço a compreensão e apoio de todos. \n",
    "\n",
    "Para contribuições, dúvidas, sugestões visitem meu blog [WSRicardo](https://wsricardo.blogspot.com).\n"
   ]
  },
  {
   "cell_type": "markdown",
   "id": "fcc6698c-a66b-47a8-aacc-444904c32d39",
   "metadata": {
    "tags": []
   },
   "source": [
    "## Sugestões de Conteúdo"
   ]
  },
  {
   "cell_type": "markdown",
   "id": "a46ff71a-b892-48d4-a647-227402170487",
   "metadata": {
    "tags": []
   },
   "source": [
    "Deixamos abaixo algumas sugestões de conteúdos e canais com recursos para estudos e pesquisa que podem ser uteis para quem se interessa por tecnologia, programação de computadores, matemática, ciências de dados e inteligência artificial.\n",
    "\n",
    "* [Programação Dinâmica](https://www.youtube.com/c/Programa%C3%A7%C3%A3oDin%C3%A2mica)\n",
    "* [Toda Matemática](https://www.youtube.com/c/GustavoViegascurso)\n",
    "* [Matemática Universitária](https://www.youtube.com/c/Matem%C3%A1ticaUniversit%C3%A1riaProfRenan)\n",
    "* [Reflexões Matemáticas](https://www.youtube.com/c/Reflex%C3%B5esMatem%C3%A1ticasDrDilbertoJ%C3%BAnior)\n",
    "* [Programação Descomplicada](https://www.youtube.com/user/progdescomplicada)\n",
    "* [Univesp](https://www.youtube.com/user/univesptv)\n",
    "* [USP no Youtube](https://www.youtube.com/c/CanalUSP)\n",
    "* [IME/USP](https://www.ime.usp.br/)\n",
    "* [IMPA](https://www.youtube.com/c/impabr)\n",
    "\n"
   ]
  },
  {
   "cell_type": "markdown",
   "id": "6b7d7325-7366-4924-8c94-fbefbeefdf51",
   "metadata": {
    "tags": []
   },
   "source": [
    "## Links"
   ]
  },
  {
   "cell_type": "markdown",
   "id": "efa1176b-3805-4997-aca5-9d581b1bafb8",
   "metadata": {
    "tags": []
   },
   "source": [
    "* [Dimensão Alfa](https://www.dimensaoalfa.com.br)\n",
    "* [Facebook](https://www.facebook.com/dimensaoalfa)\n",
    "* [Youtube](https://www.youtube.com/@dimensaoalfa)\n",
    "* [WSRicardo](https://wsricardo.blogspot.com)"
   ]
  },
  {
   "cell_type": "code",
   "execution_count": null,
   "id": "06af3df7-db38-4951-a18d-8e93b8f71d6a",
   "metadata": {},
   "outputs": [],
   "source": []
  },
  {
   "cell_type": "code",
   "execution_count": null,
   "id": "1d96d4b5-0b4b-4fc5-a8ab-de7572052c94",
   "metadata": {},
   "outputs": [],
   "source": []
  }
 ],
 "metadata": {
  "kernelspec": {
   "display_name": "Python 3 (ipykernel)",
   "language": "python",
   "name": "python3"
  },
  "language_info": {
   "codemirror_mode": {
    "name": "ipython",
    "version": 3
   },
   "file_extension": ".py",
   "mimetype": "text/x-python",
   "name": "python",
   "nbconvert_exporter": "python",
   "pygments_lexer": "ipython3",
   "version": "3.10.7"
  },
  "vscode": {
   "interpreter": {
    "hash": "916dbcbb3f70747c44a77c7bcd40155683ae19c65e1c03b4aa3499c5328201f1"
   }
  }
 },
 "nbformat": 4,
 "nbformat_minor": 5
}
