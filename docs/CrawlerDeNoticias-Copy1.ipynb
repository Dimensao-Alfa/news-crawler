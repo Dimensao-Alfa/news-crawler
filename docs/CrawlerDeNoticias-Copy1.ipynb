{
 "cells": [
  {
   "cell_type": "markdown",
   "id": "d8849ed6",
   "metadata": {
    "tags": [],
    "toc-hr-collapsed": true
   },
   "source": [
    "# Crawler Noticias\n",
    "\n"
   ]
  },
  {
   "cell_type": "markdown",
   "id": "01366270-f3d1-4716-83cc-727dc6f57d46",
   "metadata": {
    "tags": []
   },
   "source": [
    "## Introdução"
   ]
  },
  {
   "cell_type": "markdown",
   "id": "2b1f31df",
   "metadata": {},
   "source": [
    "Estudo projeto de construção de um bot crawler para extrair e indexar noticias de sites.\n",
    "\n",
    "É recomendavel baixar uma única vez o html do site para reduzir a necessidade de acessar o site várias vezes para cada processamento reduzindo tempo e custo computacionais para máquina local e servidor.\n",
    "\n",
    "Usamos módulo _Requests_ para baixar o html da página a ser processada e com módulo _BeautifulSoup_ processamos o conteúdo html buscando por conteúdos especificos. Ao inspecionar o código HTML verificamos em quais blocos estão as principais noticias - em geral em tags como \"section\", \"h1\"/\"h2\"/\"h3\" e \"a\" - considerando o seletor css que especifica cada bloco de interesse afim de refinar a busca e garantir que serão extraindos os trechos relevantes.\n",
    "\n",
    "Sites com boas práticas de HTML/CSS tendem a serem mais faceis de serem processados e indexados por mecanismos de buscas facilitando os usuários em encontrar seus conteúdos em pesquisas aumentando assim o engajamento em suas plataformas contribuindo para seu melhor desenvolvimento.\n",
    "\n",
    "Neste presente momento o projeto está considerando três portais de notícias que são _BBC Brasil_, _CNN Brasil_ e _G1/Globo_. \n",
    "\n",
    "Créditos e direitos reservados às referentes plataformas mencionadas.\n",
    "\n",
    "(Obs.: Conteúdo livre com fins informativos e de divulgação. )\n"
   ]
  },
  {
   "cell_type": "markdown",
   "id": "573fc426",
   "metadata": {
    "tags": []
   },
   "source": [
    "## Módulos"
   ]
  },
  {
   "cell_type": "markdown",
   "id": "cbd7fe1d",
   "metadata": {},
   "source": [
    "Abaixo _import_ dos módulos que contém os recursos usados.\n",
    "\n",
    "* BeautifulSoup\n",
    "* Requests\n",
    "* re (regular expression)\n",
    "* crawlernewsg1 (acessa site e extrai lista de principais noticias na página principal do site)\n",
    "* IPython.core.display -> display, HTML (renderiza conteúdos html )"
   ]
  },
  {
   "cell_type": "code",
   "execution_count": 14,
   "id": "f4ad322f",
   "metadata": {
    "scrolled": true
   },
   "outputs": [
    {
     "name": "stderr",
     "output_type": "stream",
     "text": [
      "C:\\Users\\wsric\\AppData\\Local\\Temp\\ipykernel_17036\\3045104897.py:9: DeprecationWarning: Importing display from IPython.core.display is deprecated since IPython 7.14, please import from IPython display\n",
      "  from IPython.core.display import display, HTML\n"
     ]
    }
   ],
   "source": [
    "from bs4 import BeautifulSoup\n",
    "import requests\n",
    "import pandas as pd\n",
    "import re\n",
    "from crawlernewsg1 import *\n",
    "import random\n",
    "\n",
    "# Render html content\n",
    "from IPython.core.display import display, HTML"
   ]
  },
  {
   "cell_type": "markdown",
   "id": "e8683151",
   "metadata": {
    "tags": [],
    "toc-hr-collapsed": true
   },
   "source": [
    "## Modelagem Portal G1\n",
    "\n"
   ]
  },
  {
   "cell_type": "markdown",
   "id": "200ef7fc-b544-482e-95ee-8055bb771495",
   "metadata": {},
   "source": [
    "Capturando noticias do portal G1 da Globo\n",
    "Funções básicas. Especifincando \"selector css\" classe 'bastian-page'  para tags div."
   ]
  },
  {
   "cell_type": "code",
   "execution_count": 15,
   "id": "c4df2cea",
   "metadata": {},
   "outputs": [],
   "source": [
    "# Baixando html do portal de noticia para processamento e salvando em disco.\n",
    "url = 'https://g1.globo.com'\n",
    "attr = {'class': 'bastian-page'}\n",
    "data = g1_(requests.get( url ).content, 'div', attr, debug=False)\n",
    "dw = requests.get('https://g1.globo.com/').content\n",
    "with open('tmp/data', 'w', encoding=\"utf-8\") as fl:\n",
    "    fl.write( dw.decode( ) )\n",
    "    "
   ]
  },
  {
   "cell_type": "code",
   "execution_count": null,
   "id": "9f8ebdf5-cf7b-4ac2-875f-97f6b8bf69d4",
   "metadata": {},
   "outputs": [],
   "source": [
    "#dw.decode()"
   ]
  },
  {
   "cell_type": "code",
   "execution_count": 17,
   "id": "39fe2fae-4920-4ebc-9f61-b141c7e5ce74",
   "metadata": {},
   "outputs": [
    {
     "data": {
      "text/plain": [
       "tuple"
      ]
     },
     "execution_count": 17,
     "metadata": {},
     "output_type": "execute_result"
    }
   ],
   "source": [
    "type(data)"
   ]
  },
  {
   "cell_type": "code",
   "execution_count": 18,
   "id": "3e0d6827-a36e-465d-938f-196879b4ce67",
   "metadata": {},
   "outputs": [
    {
     "name": "stdout",
     "output_type": "stream",
     "text": [
      "[{'title': 'Cidade engolida por rio revive pesadelo com novo temporal; veja vídeo'}, {'href': 'https://g1.globo.com/rs/rio-grande-do-sul/noticia/2024/05/10/video-cidade-que-ficou-submersa-no-vale-do-taquari-revive-pesadelo-com-novos-temporais.ghtml'}, {'title': 'ASSISTA: Ajuda Rio Grande mostra alagamentos no sul do estado'}, {'href': 'https://g1.globo.com/rs/rio-grande-do-sul/ao-vivo/tragedia-no-rio-grande-do-sul.ghtml'}, {'title': 'Governo explica regra para ajuda emergencial a prefeitos e critica distorções'}, {'href': 'https://g1.globo.com/politica/noticia/2024/05/10/ministros-falam-sobre-auxilio-do-governo-ao-rio-grande-do-sul.ghtml'}, {'title': 'É #FAKE que vídeo mostre descarte de alimentos doados ao RS'}, {'href': 'https://g1.globo.com/fato-ou-fake/noticia/2024/05/10/e-fake-que-video-mostre-descarte-de-alimentos-doados-para-vitimas-dos-temporais-no-rs.ghtml'}, {'title': 'Guaíba recebeu metade do volume da 2ª maior hidrelétrica do mundo'}, {'href': 'https://g1.globo.com/meio-ambiente/noticia/2024/05/10/guaiba-recebeu-quase-metade-do-volume-de-agua-de-itaipu-em-uma-semana-de-chuvas-aponta-instituto-da-ufrgs.ghtml'}, {'title': \"Passarela é demolida em Porto Alegre para construir 'corredor humanitário'\"}, {'href': 'https://g1.globo.com/rs/rio-grande-do-sul/noticia/2024/05/10/corredor-humanitario-acesso-provisorio-a-porto-alegre-e-construido-para-chegada-de-donativos-a-atingidos-por-enchentes.ghtml'}, {'title': \"Em Maceió, Lula defende Lira de vaias: 'Precisa aprender a respeitar'\"}, {'href': 'https://g1.globo.com/politica/noticia/2024/05/10/em-maceio-lula-defende-lira-de-vaias-em-evento-de-entrega-de-moradias-populares.ghtml'}, {'title': 'Correios recebem doações para gaúchos em todas as agências'}, {'href': 'https://g1.globo.com/economia/noticia/2024/05/10/correios-recebem-doacoes-para-o-rio-grande-do-sul-em-todas-as-agencias-do-brasil-veja-como-fazer.ghtml'}]\n"
     ]
    }
   ],
   "source": [
    "# Replace field name 'titulo' for 'title' name.\n",
    "#dw = [ { key.replace('titulo', 'title'):value for key, value in i.items() } for i in dw ]\n",
    "#dw = [ { key.replace('url', 'href'):value for key, value in i.items() } for i in dw ]\n",
    "#replKey = lambda listdc, old_key, new_key: [ ]\n",
    "def replKey(listdc, old_key, new_key  ):\n",
    "    dt = []\n",
    "    \n",
    "    \n",
    "    for i in listdc:\n",
    "        for keys, value in i.items():\n",
    "            dt.append( { keys.replace('url', 'href'): value } ) \n",
    "            \n",
    "    return dt\n",
    "\n",
    "data = replKey(data[0], 'url', 'href' )\n",
    "\n",
    "print(data)"
   ]
  },
  {
   "cell_type": "code",
   "execution_count": 19,
   "id": "6aa22b38",
   "metadata": {},
   "outputs": [],
   "source": [
    "dw, cwn = g1_( dw, 'div', attr)"
   ]
  },
  {
   "cell_type": "markdown",
   "id": "7f163b74",
   "metadata": {},
   "source": [
    "Ao abrir link da noticia pesquisar pela tag *'p'* com atributos **class** com valor **\"content-text__container** definir o tamanho para caso extrair só parte do corpo do texto.\n"
   ]
  },
  {
   "cell_type": "markdown",
   "id": "db117b75",
   "metadata": {},
   "source": [
    "Retornando uma lista dos itens encontrados (como visto acima no código) pegamos estes itens e os concatenamos exibintido o texto no corpo da noticia. (_Como visto abaixo_)"
   ]
  },
  {
   "cell_type": "markdown",
   "id": "6da973d9",
   "metadata": {},
   "source": [
    "Cada \"_evt\" (_css selector_ class) class css em \"bastian-page\" refere-se a uma noticia na lista central de noticias.\n",
    "Dentro de cada \"_evt\" haverá \"bastian-feed-item\" e neste o feed-post. \n",
    "\n",
    "**feed-post-body** _contêm_  ( 'feed-post-link', 'feed-post-body-title', 'feed-post-body-resumo')\n",
    "\n",
    "**bastian-feed-item** _contem_ um feed-post-body referindo-se a cada item (noticia)\n",
    "\n",
    "\n",
    "Para link da noticia (quando acessando a noticia)\n",
    "\n",
    "**content-head__title** em tag 'h1' (Título da noticia)\n",
    "\n",
    "**content-head__subtitle** em tag 'h2' (subtitulo/resumo da noticia)\n",
    "\n",
    "**content-text__container** corpo do texto da noticia css-selector, tag 'p' (pegar só a primeira referente ao primeiro paragrafo da noticia)"
   ]
  },
  {
   "cell_type": "code",
   "execution_count": 20,
   "id": "112a932e",
   "metadata": {
    "toc-hr-collapsed": true
   },
   "outputs": [
    {
     "data": {
      "text/html": [
       "<h1 style=\"padding: 12px;\">Notícias</h1>Cidade engolida por rio revive pesadelo com novo temporal; veja vídeo<br>https://g1.globo.com/rs/rio-grande-do-sul/noticia/2024/05/10/video-cidade-que-ficou-submersa-no-vale-do-taquari-revive-pesadelo-com-novos-temporais.ghtml<br><br>ASSISTA: Ajuda Rio Grande mostra alagamentos no sul do estado<br>https://g1.globo.com/rs/rio-grande-do-sul/ao-vivo/tragedia-no-rio-grande-do-sul.ghtml<br><br>Governo explica regra para ajuda emergencial a prefeitos e critica distorções<br>https://g1.globo.com/politica/noticia/2024/05/10/ministros-falam-sobre-auxilio-do-governo-ao-rio-grande-do-sul.ghtml<br><br>É #FAKE que vídeo mostre descarte de alimentos doados ao RS<br>https://g1.globo.com/fato-ou-fake/noticia/2024/05/10/e-fake-que-video-mostre-descarte-de-alimentos-doados-para-vitimas-dos-temporais-no-rs.ghtml<br><br>Guaíba recebeu metade do volume da 2ª maior hidrelétrica do mundo<br>https://g1.globo.com/meio-ambiente/noticia/2024/05/10/guaiba-recebeu-quase-metade-do-volume-de-agua-de-itaipu-em-uma-semana-de-chuvas-aponta-instituto-da-ufrgs.ghtml<br><br>Passarela é demolida em Porto Alegre para construir 'corredor humanitário'<br>https://g1.globo.com/rs/rio-grande-do-sul/noticia/2024/05/10/corredor-humanitario-acesso-provisorio-a-porto-alegre-e-construido-para-chegada-de-donativos-a-atingidos-por-enchentes.ghtml<br><br>Em Maceió, Lula defende Lira de vaias: 'Precisa aprender a respeitar'<br>https://g1.globo.com/politica/noticia/2024/05/10/em-maceio-lula-defende-lira-de-vaias-em-evento-de-entrega-de-moradias-populares.ghtml<br><br>Correios recebem doações para gaúchos em todas as agências<br>https://g1.globo.com/economia/noticia/2024/05/10/correios-recebem-doacoes-para-o-rio-grande-do-sul-em-todas-as-agencias-do-brasil-veja-como-fazer.ghtml"
      ],
      "text/plain": [
       "<IPython.core.display.HTML object>"
      ]
     },
     "metadata": {},
     "output_type": "display_data"
    }
   ],
   "source": [
    "news2 = '<h1 style=\"padding: 12px;\">Notícias</h1>'\n",
    "news2 += '<br><br>'.join( [ '<br>'.join( [ str( i['title'] ) , str( i[ 'url' ]  ) ] ) for i in dw ] )\n",
    "display( HTML( news2 ))"
   ]
  },
  {
   "cell_type": "markdown",
   "id": "0b5cc259",
   "metadata": {
    "tags": []
   },
   "source": [
    "## CNN Crawler de Noticias do Portal"
   ]
  },
  {
   "cell_type": "code",
   "execution_count": 21,
   "id": "5d731b59",
   "metadata": {},
   "outputs": [],
   "source": [
    "cnn_data = requests.get('https://www.cnnbrasil.com.br/')\n"
   ]
  },
  {
   "cell_type": "code",
   "execution_count": 22,
   "id": "06682a5f",
   "metadata": {},
   "outputs": [
    {
     "data": {
      "text/plain": [
       "<section class=\"theater dark\"> <div class=\"container\"> <div class=\"row\"> <div class=\"col--3 col__l--2\"> <div class=\"desc\"> <img alt=\"Prime Time\" class=\"thumb-program\" src=\"\"/> <p class=\"descr-program\"> </p> </div> <div class=\"date-time-program\"> <p>seg - sex</p> <p></p> </div> <div class=\"presenter\"> <p>Apresentação</p> <p></p> </div> </div> <div class=\"col--7 col__l--8\"> <p class=\"title-ao-vivo\">Ao vivo</p> <div class=\"theater__video\"> <div class=\"post__video\"> <div class=\"cnn component-video has--live\"> <div class=\"component-inner\"> <div class=\"video-wrapper\" id=\"player_xDNzUATybvw\"> <div class=\"video-wrapper-inner\"> <div class=\"overlay-wrapper\"> <button aria-label=\"Assista o vídeo Home\" class=\"video-button js-video-play active\" tabindex=\"0\"> <img alt=\"Home\" class=\"thumbnail-image\" src=\"https://img.youtube.com/vi/xDNzUATybvw/sddefault.jpg\"> <span aria-label=\"Botão play do vídeo Home\" class=\"video-play-button\"></span> <span class=\"video-gradient\"></span> <span class=\"video-title\">Home</span> </img></button> </div> <span class=\"embedded-video video-player-wrapper\" data-youtube-height=\"100%\" data-youtube-hl=\"pt\" data-youtube-id=\"xDNzUATybvw\" data-youtube-mute=\"\" data-youtube-play=\"\" data-youtube-plcmt=\"1\" data-youtube-ui=\"header-aovivo\" data-youtube-vpa=\"click\" data-youtube-vpmute=\"\" data-youtube-width=\"100%\"></span> </div> </div> </div> </div></div> </div> <div class=\"mode_selector\"> <svg fill=\"none\" height=\"24\" viewbox=\"0 0 24 24\" width=\"24\" xmlns=\"http://www.w3.org/2000/svg\"><circle cx=\"11.582\" cy=\"12\" r=\"6\" stroke=\"#FAFAFA\"></circle><line stroke=\"#FAFAFA\" stroke-linecap=\"round\" x1=\"11.582\" x2=\"11.582\" y1=\"4\" y2=\"1\"></line><line stroke=\"#FAFAFA\" stroke-linecap=\"round\" x1=\"17.9453\" x2=\"19.3595\" y1=\"5.63664\" y2=\"4.22243\"></line><line stroke=\"#FAFAFA\" stroke-linecap=\"round\" x1=\"11.582\" x2=\"11.582\" y1=\"23\" y2=\"20\"></line><line stroke=\"#FAFAFA\" stroke-linecap=\"round\" x1=\"3.80469\" x2=\"5.2189\" y1=\"19.7773\" y2=\"18.3631\"></line><line stroke=\"#FAFAFA\" stroke-linecap=\"round\" x1=\"19.582\" x2=\"22.582\" y1=\"12\" y2=\"12\"></line><line stroke=\"#FAFAFA\" stroke-linecap=\"round\" x1=\"17.9454\" x2=\"19.3596\" y1=\"18.3633\" y2=\"19.7775\"></line><line stroke=\"#FAFAFA\" stroke-linecap=\"round\" x1=\"0.582031\" x2=\"3.58203\" y1=\"12\" y2=\"12\"></line><line stroke=\"#FAFAFA\" stroke-linecap=\"round\" x1=\"3.80476\" x2=\"5.21898\" y1=\"4.22266\" y2=\"5.63687\"></line></svg> <div class=\"mode__theater\"> <input checked=\"\" class=\"mode__theater-input\" id=\"mode__theater-1\" type=\"checkbox\"/> <label class=\"mode__theater-label\" for=\"mode__theater-1\">Switch</label> </div> <svg fill=\"none\" height=\"17\" viewbox=\"0 0 13 17\" width=\"13\" xmlns=\"http://www.w3.org/2000/svg\"><path d=\"M12.0007 1.74023L12.2152 2.19186C12.3896 2.10904 12.5007 1.93326 12.5007 1.74023C12.5007 1.54721 12.3896 1.37143 12.2152 1.2886L12.0007 1.74023ZM12.0007 15.6444L12.2152 16.096C12.3896 16.0132 12.5007 15.8374 12.5007 15.6444C12.5007 15.4514 12.3896 15.2756 12.2152 15.1928L12.0007 15.6444ZM8.10503 8.69231C8.10503 5.82393 9.78413 3.34674 12.2152 2.19186L11.7861 1.2886C9.01951 2.60286 7.10503 5.42351 7.10503 8.69231H8.10503ZM12.2152 15.1928C9.78413 14.0379 8.10503 11.5607 8.10503 8.69231H7.10503C7.10503 11.9611 9.01951 14.7818 11.7861 16.096L12.2152 15.1928ZM11.7861 15.1928C10.8526 15.6362 9.80801 15.8846 8.70403 15.8846V16.8846C9.95956 16.8846 11.1504 16.6018 12.2152 16.096L11.7861 15.1928ZM8.70403 15.8846C4.73182 15.8846 1.51172 12.6645 1.51172 8.69231H0.511719C0.511719 13.2168 4.17954 16.8846 8.70403 16.8846V15.8846ZM1.51172 8.69231C1.51172 4.72011 4.73182 1.5 8.70403 1.5V0.5C4.17954 0.5 0.511719 4.16782 0.511719 8.69231H1.51172ZM8.70403 1.5C9.80801 1.5 10.8526 1.74839 11.7861 2.19186L12.2152 1.2886C11.1504 0.782783 9.95956 0.5 8.70403 0.5V1.5Z\" fill=\"#FAFAFA\"></path></svg> </div> </div> <div class=\"col--2 seguir\"> <p class=\"title-a-seguir\">A seguir</p> <ul class=\"a-seguir\"></ul> </div> </div> <span class=\"closed\"> <svg fill=\"none\" height=\"24\" viewbox=\"0 0 73 24\" width=\"73\" xmlns=\"http://www.w3.org/2000/svg\"> <path d=\"M5.304 6.648C4.81333 6.648 4.456 6.75467 4.232 6.968C4.008 7.17067 3.896 7.51733 3.896 8.008V8.232H5.928V9.496H3.896V17H2.344V9.496H0.968V8.232H2.344V7.944C2.344 7.06933 2.59467 6.424 3.096 6.008C3.608 5.58133 4.30667 5.368 5.192 5.368C5.544 5.368 5.85867 5.384 6.136 5.416V6.648H5.304ZM14.2014 13.016H7.68938C7.71071 13.6347 7.82804 14.168 8.04138 14.616C8.26538 15.064 8.56938 15.4053 8.95338 15.64C9.34804 15.8747 9.80671 15.992 10.3294 15.992C10.8734 15.992 11.332 15.864 11.7054 15.608C12.0894 15.3413 12.3614 14.936 12.5214 14.392H14.1214C13.9934 15 13.7534 15.5173 13.4014 15.944C13.0494 16.3707 12.612 16.696 12.0894 16.92C11.5774 17.1333 11.0067 17.24 10.3774 17.24C9.51338 17.24 8.76138 17.0533 8.12138 16.68C7.48138 16.3067 6.98538 15.7733 6.63338 15.08C6.28138 14.376 6.10538 13.5493 6.10538 12.6C6.10538 11.6507 6.28138 10.824 6.63338 10.12C6.98538 9.416 7.47071 8.88267 8.08938 8.52C8.70804 8.14667 9.40671 7.96 10.1854 7.96C10.9854 7.96 11.684 8.14667 12.2814 8.52C12.8894 8.89333 13.3587 9.432 13.6894 10.136C14.0307 10.84 14.2014 11.672 14.2014 12.632V13.016ZM12.6494 11.896C12.6174 11.384 12.5 10.9253 12.2974 10.52C12.1054 10.104 11.828 9.77867 11.4654 9.544C11.1027 9.29867 10.676 9.176 10.1854 9.176C9.68404 9.176 9.25204 9.29867 8.88938 9.544C8.52671 9.77867 8.24404 10.104 8.04138 10.52C7.84938 10.9253 7.73738 11.384 7.70538 11.896H12.6494ZM19.3591 17.24C18.5271 17.24 17.7965 17.0587 17.1671 16.696C16.5485 16.3333 16.0631 15.8053 15.7111 15.112C15.3698 14.4187 15.1991 13.5813 15.1991 12.6C15.1991 11.6293 15.3751 10.7973 15.7271 10.104C16.0898 9.4 16.5858 8.86667 17.2151 8.504C17.8551 8.14133 18.5858 7.96 19.4071 7.96C20.0685 7.96 20.6711 8.07733 21.2151 8.312C21.7698 8.54667 22.2231 8.89867 22.5751 9.368C22.9271 9.82667 23.1405 10.392 23.2151 11.064H21.6311C21.5245 10.4667 21.2685 10.0133 20.8631 9.704C20.4578 9.39467 19.9618 9.24 19.3751 9.24C18.8738 9.24 18.4258 9.368 18.0311 9.624C17.6471 9.86933 17.3431 10.248 17.1191 10.76C16.9058 11.2613 16.7991 11.8747 16.7991 12.6C16.7991 13.3253 16.9058 13.944 17.1191 14.456C17.3431 14.9573 17.6471 15.336 18.0311 15.592C18.4151 15.8373 18.8525 15.96 19.3431 15.96C19.9618 15.96 20.4685 15.8 20.8631 15.48C21.2685 15.1493 21.5245 14.6533 21.6311 13.992H23.2151C23.1191 14.7067 22.8951 15.3093 22.5431 15.8C22.2018 16.28 21.7538 16.6427 21.1991 16.888C20.6551 17.1227 20.0418 17.24 19.3591 17.24ZM24.7275 5.592H26.2795V9.48C26.5355 9.01067 26.9035 8.64267 27.3835 8.376C27.8742 8.09867 28.4182 7.96 29.0155 7.96C31.0848 7.96 32.1195 9.176 32.1195 11.608V17H30.5675V11.816C30.5675 10.9093 30.4075 10.264 30.0875 9.88C29.7782 9.48533 29.2928 9.288 28.6315 9.288C28.1622 9.288 27.7515 9.39467 27.3995 9.608C27.0475 9.81067 26.7702 10.1147 26.5675 10.52C26.3755 10.9147 26.2795 11.3893 26.2795 11.944V17H24.7275V5.592ZM36.5665 17.24C35.9158 17.24 35.3612 17.1333 34.9025 16.92C34.4545 16.7067 34.1132 16.408 33.8785 16.024C33.6545 15.6293 33.5425 15.176 33.5425 14.664C33.5425 13.9387 33.7612 13.352 34.1985 12.904C34.6465 12.4453 35.3238 12.1467 36.2305 12.008L38.0865 11.736C38.3958 11.6933 38.6412 11.6293 38.8225 11.544C39.0038 11.4587 39.1372 11.3413 39.2225 11.192C39.3078 11.032 39.3505 10.824 39.3505 10.568C39.3505 10.1413 39.2012 9.8 38.9025 9.544C38.6038 9.288 38.1292 9.16 37.4785 9.16C36.8385 9.16 36.3478 9.29333 36.0065 9.56C35.6758 9.816 35.4945 10.1893 35.4625 10.68H33.8785C33.9105 10.1147 34.0758 9.62933 34.3745 9.224C34.6838 8.808 35.0998 8.49333 35.6225 8.28C36.1558 8.06667 36.7745 7.96 37.4785 7.96C38.2892 7.96 38.9452 8.07733 39.4465 8.312C39.9478 8.536 40.3158 8.88267 40.5505 9.352C40.7852 9.82133 40.9025 10.4293 40.9025 11.176V15C40.9025 15.2773 40.9505 15.4747 41.0465 15.592C41.1425 15.6987 41.2865 15.752 41.4785 15.752H41.6865V17.016C41.4518 17.048 41.2385 17.064 41.0465 17.064C40.5772 17.064 40.2038 16.9413 39.9265 16.696C39.6492 16.4507 39.4945 16.12 39.4625 15.704C39.1852 16.2053 38.7958 16.5893 38.2945 16.856C37.8038 17.112 37.2278 17.24 36.5665 17.24ZM36.8385 16.056C37.6492 16.056 38.2678 15.832 38.6945 15.384C39.1318 14.9253 39.3505 14.3013 39.3505 13.512V12.28C39.2865 12.408 39.1692 12.5093 38.9985 12.584C38.8385 12.6587 38.6252 12.7173 38.3585 12.76L36.6625 13.08C36.1398 13.176 35.7558 13.3467 35.5105 13.592C35.2652 13.8373 35.1425 14.1733 35.1425 14.6C35.1425 15.048 35.2812 15.4053 35.5585 15.672C35.8465 15.928 36.2732 16.056 36.8385 16.056ZM43.1963 8.232H44.6363V9.944C44.8709 9.32533 45.2069 8.86133 45.6443 8.552C46.0923 8.232 46.6149 8.072 47.2123 8.072C47.3616 8.072 47.5323 8.08267 47.7243 8.104V9.64H47.1003C46.6523 9.64 46.2523 9.74667 45.9003 9.96C45.5483 10.1733 45.2709 10.504 45.0683 10.952C44.8656 11.3893 44.7643 11.9333 44.7643 12.584V17H43.1963V8.232Z\" fill=\"#FAFAFA\"></path> <path d=\"M54.0213 18.4803L67.5783 4.92327\" stroke=\"#FAFAFA\" stroke-linecap=\"round\" stroke-linejoin=\"round\"></path> <path d=\"M53.924 4.92366L67.481 18.4807\" stroke=\"#FAFAFA\" stroke-linecap=\"round\" stroke-linejoin=\"round\"></path> </svg> </span> </div></section>"
      ]
     },
     "execution_count": 22,
     "metadata": {},
     "output_type": "execute_result"
    }
   ],
   "source": [
    "cnn_soup = BeautifulSoup(cnn_data.content, 'html.parser')\n",
    "cnn_nw_data = cnn_soup.find_all('section')\n",
    "cnn_nw_data[0]"
   ]
  },
  {
   "cell_type": "code",
   "execution_count": 23,
   "id": "4d7052da",
   "metadata": {},
   "outputs": [],
   "source": [
    "c = cnn_nw_data[0].find_all('a')\n",
    "#dir(c)\n"
   ]
  },
  {
   "cell_type": "code",
   "execution_count": 24,
   "id": "adbe3f16",
   "metadata": {},
   "outputs": [],
   "source": [
    "for i in c:\n",
    "    print( i )"
   ]
  },
  {
   "cell_type": "code",
   "execution_count": 25,
   "id": "cfa59afc",
   "metadata": {},
   "outputs": [
    {
     "name": "stdout",
     "output_type": "stream",
     "text": [
      "[{'title': 'Com alerta de mais chuvas no RS, Leite apela para população não voltar às áreas de risco', 'href': 'https://www.cnnbrasil.com.br/nacional/tragedia-no-rs-com-previsao-de-mais-chuvas-governador-apela-para-que-populacao-nao-volte-as-areas-de-risco/'}]\n"
     ]
    }
   ],
   "source": [
    "cnn_list_news = []\n",
    "aux = None \n",
    "for news in cnn_nw_data:\n",
    "    aux = news.find('a')\n",
    "    \n",
    "    \n",
    "    try :\n",
    "        \n",
    "        aux = aux.attrs\n",
    "        cnn_list_news.extend( [ { 'title': aux['title'], 'href': aux['href'] } ] ) \n",
    "\n",
    "    except:\n",
    "        pass\n",
    "\n",
    "for i in cnn_list_news:\n",
    "    print(cnn_list_news)"
   ]
  },
  {
   "cell_type": "code",
   "execution_count": 26,
   "id": "ab2be6dd",
   "metadata": {},
   "outputs": [
    {
     "name": "stdout",
     "output_type": "stream",
     "text": [
      "\n",
      "Com alerta de mais chuvas no RS, Leite apela para população não voltar às áreas de risco \n",
      "https://www.cnnbrasil.com.br/nacional/tragedia-no-rs-com-previsao-de-mais-chuvas-governador-apela-para-que-populacao-nao-volte-as-areas-de-risco/\n",
      "\n",
      "\n"
     ]
    }
   ],
   "source": [
    "cnn_list_news_ma = None\n",
    "for i in cnn_list_news:\n",
    "    \n",
    "    try:\n",
    "        print(f\"\\n{i['title']} \\n{i['href']}\\n\\n\" ) \n",
    "    except:\n",
    "        pass \n",
    "    #keys = i.keys()\n",
    "    #print(keys)   \n",
    "    \n",
    "\n",
    "    #print( f'\\t\\n\\n{out}') \n",
    "    #out = '' \n"
   ]
  },
  {
   "cell_type": "code",
   "execution_count": 27,
   "id": "18478fa3",
   "metadata": {},
   "outputs": [
    {
     "data": {
      "text/plain": [
       "8"
      ]
     },
     "execution_count": 27,
     "metadata": {},
     "output_type": "execute_result"
    }
   ],
   "source": [
    "len(dw)"
   ]
  },
  {
   "cell_type": "code",
   "execution_count": 28,
   "id": "81147e1f",
   "metadata": {},
   "outputs": [
    {
     "data": {
      "text/plain": [
       "1"
      ]
     },
     "execution_count": 28,
     "metadata": {},
     "output_type": "execute_result"
    }
   ],
   "source": [
    "len(cnn_list_news)"
   ]
  },
  {
   "cell_type": "markdown",
   "id": "f8cdb6c9",
   "metadata": {
    "tags": []
   },
   "source": [
    "## BBC Brasil "
   ]
  },
  {
   "cell_type": "markdown",
   "id": "4c05e698",
   "metadata": {},
   "source": [
    "Crawler das notícias do portal do site BBC Brasil."
   ]
  },
  {
   "cell_type": "code",
   "execution_count": 41,
   "id": "add6fad0",
   "metadata": {},
   "outputs": [],
   "source": [
    "url_bbc = 'https://www.bbc.com/portuguese'\n",
    "url_bbc_base = 'https://www.bbc.com'"
   ]
  },
  {
   "cell_type": "code",
   "execution_count": 42,
   "id": "b0cfcf46",
   "metadata": {},
   "outputs": [],
   "source": [
    "bbc_data = requests.get(url_bbc)\n",
    "bbc_soup = BeautifulSoup(bbc_data.content, 'html.parser')\n",
    "bbc_sections =  bbc_soup.find_all('section' )"
   ]
  },
  {
   "cell_type": "code",
   "execution_count": 43,
   "id": "ff387772",
   "metadata": {},
   "outputs": [],
   "source": [
    "bbc_news_lists = []"
   ]
  },
  {
   "cell_type": "markdown",
   "id": "46e14fbd",
   "metadata": {},
   "source": [
    "``` python\n",
    "url_bbc_base+bbc_sections[0].select('a')[0]['href']\n",
    "```\n",
    "\n",
    "Saída 'https://www.bbc.com/portuguese/brasil-63507138'"
   ]
  },
  {
   "cell_type": "code",
   "execution_count": 61,
   "id": "df0594c3",
   "metadata": {},
   "outputs": [
    {
     "data": {
      "text/plain": [
       "[]"
      ]
     },
     "execution_count": 61,
     "metadata": {},
     "output_type": "execute_result"
    }
   ],
   "source": [
    "bbc_sections[0].select('a')"
   ]
  },
  {
   "cell_type": "code",
   "execution_count": 62,
   "id": "dfa98469-e1c8-4937-8dc3-987acf1003c9",
   "metadata": {},
   "outputs": [
    {
     "data": {
      "text/plain": [
       "<p class=\"promo-paragraph bbc-1xza832 ewjbyra0\">Nos próximos dias, seguradoras terão de pagar quantia recorde em sinistros — mas nem o próprio setor sabe estimar ainda quanto será esse valor.</p>"
      ]
     },
     "execution_count": 62,
     "metadata": {},
     "output_type": "execute_result"
    }
   ],
   "source": [
    "bbc_sections[1].select('p')[0]"
   ]
  },
  {
   "cell_type": "code",
   "execution_count": null,
   "id": "935c15b3",
   "metadata": {},
   "outputs": [],
   "source": [
    "for news in bbc_sections:\n",
    "    bbc_news_lists.extend( [ { 'title': i.text, 'url': i['href'] } for i in news.select('a') ] )"
   ]
  },
  {
   "cell_type": "code",
   "execution_count": null,
   "id": "73480045",
   "metadata": {},
   "outputs": [],
   "source": [
    "bbc_news_lists = []\n",
    "aux = None \n",
    "\n",
    "for section_news in bbc_sections:\n",
    "    for news in section_news.select( 'a' ):\n",
    "        if news['href'].find('topic') != -1:\n",
    "            pass\n",
    "        else :\n",
    "            if news['href'].find('https') != -1:\n",
    "                bbc_news_lists.extend( [ { 'title': news.text, 'href': news['href'] } ] )\n",
    "            else:\n",
    "                bbc_news_lists.extend( [ { 'title': news.text, 'href': url_bbc_base+news['href'] } ] )"
   ]
  },
  {
   "cell_type": "code",
   "execution_count": null,
   "id": "21212bf4",
   "metadata": {},
   "outputs": [],
   "source": [
    "print(f'Número de notícias: {len(bbc_news_lists)}')"
   ]
  },
  {
   "cell_type": "code",
   "execution_count": null,
   "id": "2191c506",
   "metadata": {},
   "outputs": [],
   "source": [
    "random.choices(bbc_news_lists, k = 3)"
   ]
  },
  {
   "cell_type": "code",
   "execution_count": null,
   "id": "b3a68bfb",
   "metadata": {},
   "outputs": [],
   "source": [
    "print(url_bbc_base+'/portuguese/topics/cz74k71p8ynt')"
   ]
  },
  {
   "cell_type": "code",
   "execution_count": null,
   "id": "9a107ff9",
   "metadata": {},
   "outputs": [],
   "source": [
    "with open('bbc_news.txt', 'w') as fl:\n",
    "    for i in bbc_news_lists:\n",
    "        fl.write(i['title'] +'\\n' + i['href'] +'\\n\\n')\n",
    "    fl.close()"
   ]
  },
  {
   "cell_type": "markdown",
   "id": "f89eb773-762f-4e86-a627-367f322dcbff",
   "metadata": {
    "jp-MarkdownHeadingCollapsed": true,
    "tags": []
   },
   "source": [
    "## Portal Band"
   ]
  },
  {
   "cell_type": "markdown",
   "id": "3a397d79-f69c-448f-a788-a54556d5684d",
   "metadata": {},
   "source": [
    "Busca de lista de notícias do portal Band."
   ]
  },
  {
   "cell_type": "raw",
   "id": "07190b70-cca3-462a-ae8c-ed26aa1302b0",
   "metadata": {},
   "source": [
    "Verificar seções do site [https://www.band.uol.com.br/](https://www.band.uol.com.br/) quai contém links de possíveis notícias destaques na página principal."
   ]
  },
  {
   "cell_type": "code",
   "execution_count": null,
   "id": "902bb0f5-943a-4f31-adc0-97e45ecad142",
   "metadata": {},
   "outputs": [],
   "source": [
    "import requests\n",
    "from bs4 import BeautifulSoup"
   ]
  },
  {
   "cell_type": "code",
   "execution_count": null,
   "id": "9d9c1547-3393-469d-a279-06e12fc5d940",
   "metadata": {},
   "outputs": [],
   "source": [
    "url_band = 'https://www.band.uol.com.br/'"
   ]
  },
  {
   "cell_type": "code",
   "execution_count": null,
   "id": "79e1162e-41af-48c8-81fc-5875da822b72",
   "metadata": {},
   "outputs": [],
   "source": [
    "band_data = requests.get(url_band).content\n",
    "soup_band = BeautifulSoup(band_data, 'html.parser')\n"
   ]
  },
  {
   "cell_type": "markdown",
   "id": "8df31aa0-4a92-49f5-bf05-c1a6240043ad",
   "metadata": {
    "tags": []
   },
   "source": [
    "#### Band list sections "
   ]
  },
  {
   "cell_type": "code",
   "execution_count": null,
   "id": "1ea1025c-54be-4a38-9c43-bb2dd0d5a48d",
   "metadata": {},
   "outputs": [],
   "source": [
    "news_band_section = soup_band.find_all('section')"
   ]
  },
  {
   "cell_type": "code",
   "execution_count": null,
   "id": "5d2f4431-a295-4794-9fcb-b68a8c6f5026",
   "metadata": {},
   "outputs": [],
   "source": [
    "print(news_band_section[0])\n",
    "print(f'Número: {len(news_band_section)}')"
   ]
  },
  {
   "cell_type": "markdown",
   "id": "6dd849ba-1ac6-4a4d-9fc2-fea2cba324c8",
   "metadata": {
    "tags": []
   },
   "source": [
    "#### Band home main"
   ]
  },
  {
   "cell_type": "markdown",
   "id": "6dff9eb5-37d9-49ae-bef7-f78074ec694f",
   "metadata": {},
   "source": [
    "![bandcapt.png](bandcapt.png)\n",
    "\n",
    "1. tag main class -> home\n",
    "2. Tag section com class=hardnews\n",
    "3. tag div's conteúdos com para classes hardnews__highlight e cards"
   ]
  },
  {
   "cell_type": "code",
   "execution_count": null,
   "id": "b15c5e6e-4502-4933-a157-a7b1f6be6dc6",
   "metadata": {},
   "outputs": [],
   "source": [
    "import re\n",
    "# Tag 'main' e class=[home container]. (variável band_main_home)\n",
    "band_main_home = soup_band.find_all('main', class_='home')\n",
    "# -----------------------\n",
    "#dir(band_main_home[0] )\n",
    "#print(str( band_main_home ) )\n",
    "soup_band2 = BeautifulSoup( str( band_main_home ) , 'html.parser')\n",
    "\n",
    "bmainhardnews = soup_band2.find_all('section', 'hardnews')\n",
    "soup_blocknews = BeautifulSoup( str( bmainhardnews[0] ), 'html.parser' )\n",
    "bn1 = soup_blocknews.find_all( 'div', class_='hardnews__highlight' )\n",
    "\n",
    "soup_links_news = BeautifulSoup(str( bn1 ), 'html.parser') \n",
    "bn1_link_news = soup_links_news.find_all( 'a'  )#, class_= [ 'link image','related', 'link']  ) \n",
    "bn2 = soup_blocknews.find_all( 'div', class_='cards' )\n",
    "\n",
    "soup2bn2 = BeautifulSoup( str( bn2[0] ), 'html.parser' ) \n",
    "bn2_cards_links = soup2bn2.find_all( 'a' )\n",
    "\n",
    "# Tag: div Class -> hardnews__highlight and card. Duas seções/blocos de noticias.\n",
    "#print('\\n> bn1 ', bn1[0] )\n",
    "#print('\\n> bn2 ', bn2[0] )\n",
    "print('\\n bn1_link_news ', len(bn1_link_news ))\n",
    "print('\\n bn1_link_news ', bn1_link_news[1] )\n",
    "print('\\n'+30*'-')\n",
    "print('\\n bn2_cards_links (size)', len(bn2_cards_links) )\n",
    "print('\\ bn2_cards_links ', bn2_cards_links[-1] ) #Pegando o último elemento da lista e exibindo.\n"
   ]
  },
  {
   "cell_type": "code",
   "execution_count": null,
   "id": "f31bde93-d156-42b7-9f96-817dfa7729fa",
   "metadata": {},
   "outputs": [],
   "source": [
    "#print(dir(bn1_link_news[0] ) )\n",
    "#bn1_link_news[0]['href']\n",
    "\n",
    "# Lista de links de notícias no bloco {tag: div, class_: 'hardnews__highlight' } do HTML.\n",
    "for i in bn1_link_news:\n",
    "    print('\\n> ', i.text +'\\n | '+i['href'])"
   ]
  },
  {
   "cell_type": "code",
   "execution_count": null,
   "id": "9e13e766-4061-4438-87d3-3cec7fb6717a",
   "metadata": {},
   "outputs": [],
   "source": [
    "for i in bn2_cards_links:\n",
    "    print('\\n> ', i['title'] +'\\n | '+i['href'])"
   ]
  },
  {
   "cell_type": "markdown",
   "id": "f481fabc-c560-4474-82ec-b56a50ec5eda",
   "metadata": {},
   "source": [
    "#### Função \"trackBandNews\" (Obtendo notícias do portal da Band)"
   ]
  },
  {
   "cell_type": "code",
   "execution_count": null,
   "id": "327d8751-424c-4ace-8ff2-2aff59beb679",
   "metadata": {},
   "outputs": [],
   "source": [
    "# Type list of dictionary\n",
    "ListDict = list[ dict ]\n",
    "\n",
    "def trackBandNews(data: str) -> ListDict:\n",
    "    \"\"\"\n",
    "    data: str [dados] text html\n",
    "    return list of news with fields 'Title of news' and 'url' for news.\n",
    "    l = [\n",
    "    {'title': 'string', 'href': link},\n",
    "    ...\n",
    "    ]\n",
    "    \n",
    "    \"\"\"\n",
    "    # Lista de notícias\n",
    "    result = []\n",
    "    \n",
    "    # Obtendo conteúdo html\n",
    "    #band_data = requests.get(url_band).content\n",
    "    soup_band = BeautifulSoup(data, 'html.parser')\n",
    "    \n",
    "    # Primeiro acesso tag main (bloco principal que contêm conteúdos como as noticias principais e seus links.\n",
    "    # Tag 'main' e class=[home container]. (variável band_main_home)\n",
    "    band_main_home = soup_band.find_all('main', class_='home')\n",
    "    \n",
    "    # Capturando html do bloco maior em main que contêm as noticias.\n",
    "    soup_band2 = BeautifulSoup( str( band_main_home ) , 'html.parser')\n",
    "    \n",
    "    # Este block ( tag:section, class:hardnews) filho da tag main contem dois blocos de noticias a serem tratados insoladamente.\n",
    "    bmainhardnews = soup_band2.find_all('section', 'hardnews')\n",
    "    soup_blocknews = BeautifulSoup( str( bmainhardnews[0] ), 'html.parser' )\n",
    "    bn1 = soup_blocknews.find_all( 'div', class_='hardnews__highlight' )\n",
    "\n",
    "    \n",
    "    soup_links_news = BeautifulSoup(str( bn1 ), 'html.parser') \n",
    "    bn1_link_news = soup_links_news.find_all( 'a'  )#, class_= [ 'link image','related', 'link']  ) \n",
    "    bn2 = soup_blocknews.find_all( 'div', class_='cards' )\n",
    "\n",
    "    soup2bn2 = BeautifulSoup( str( bn2[0] ), 'html.parser' ) \n",
    "    bn2_cards_links = soup2bn2.find_all( 'a' )\n",
    "\n",
    "    # Tag: div Class -> hardnews__highlight and card. Duas seções/blocos de noticias.\n",
    "    #print('\\n> bn1 ', bn1[0] )\n",
    "    #print('\\n> bn2 ', bn2[0] )\n",
    "    #print('\\n bn1_link_news ', len(bn1_link_news ))\n",
    "    #print('\\n bn1_link_news ', bn1_link_news[1] )\n",
    "    #print('\\n'+30*'-')\n",
    "    #print('\\n bn2_cards_links (size)', len(bn2_cards_links) )\n",
    "    #print('\\ bn2_cards_links ', bn2_cards_links[-1] ) #Pegando o último elemento da lista e exibindo.\n",
    "    \n",
    "    # Lista de links de notícias no bloco {tag: div, class_: 'hardnews__highlight' } do HTML.\n",
    "    for i in bn1_link_news:\n",
    "        result.append( { 'title': i.text, 'href': i['href'] } )\n",
    "        #print('\\n> ', i.text +'\\n | '+i['href'])\n",
    "        \n",
    "    for i in bn2_cards_links:\n",
    "        result.append( { 'title' : i['title'], 'href':  i['href'] } )\n",
    "        #print('\\n> ', i['title'] +'\\n | '+i['href'])\n",
    "    \n",
    "    return result"
   ]
  },
  {
   "cell_type": "code",
   "execution_count": null,
   "id": "b6b8497d-ad0c-4a5c-8a58-20970ac0e0f6",
   "metadata": {},
   "outputs": [],
   "source": [
    "band_news = trackBandNews( band_data )\n",
    "band_news"
   ]
  },
  {
   "cell_type": "markdown",
   "id": "c4c041e9-85eb-4afa-8592-27aed6676f49",
   "metadata": {
    "tags": []
   },
   "source": [
    "#### Percorrer listas de elementos em 'news_band_section'"
   ]
  },
  {
   "cell_type": "code",
   "execution_count": null,
   "id": "470af61e-68c4-443e-9847-217ffd21a2b2",
   "metadata": {},
   "outputs": [],
   "source": [
    "aux = []\n",
    "list_ = None\n",
    "for secs in news_band_section:\n",
    "    list_ = secs.find_all('a', class_='link')\n",
    "    for i in list_:\n",
    "        \n",
    "        try:\n",
    "            aux.extend( [ { 'title': i.h3.text+'. '+ i.h2.text, 'href': i['href']} ] )\n",
    "        except:\n",
    "            aux.extend( [ { 'title': i.text, 'href': i['href'] } ] )\n",
    "    #aux.extend([ { 'title': i}  for i in list_ ]  )\n",
    "news_list_band = [] \n",
    "news_list_band.extend(random.choices(aux, k=4 ) )"
   ]
  },
  {
   "cell_type": "code",
   "execution_count": null,
   "id": "98ce98b6-b991-4bab-b84c-574a5299a50b",
   "metadata": {},
   "outputs": [],
   "source": [
    "n = soup_band.find_all('a')"
   ]
  },
  {
   "cell_type": "code",
   "execution_count": null,
   "id": "14f61d43-c1c8-4256-9cde-a8e78f9e190d",
   "metadata": {},
   "outputs": [],
   "source": [
    "import random\n",
    "\n",
    "random.choices(news_list_band, k = 4)[0:]\n",
    "for i in news_list_band:\n",
    "    print(f\"\\n{i['title']}\\n{i['href']}\")"
   ]
  },
  {
   "cell_type": "code",
   "execution_count": null,
   "id": "d4d2372d-8299-46a0-9d0b-332dae51aecf",
   "metadata": {},
   "outputs": [],
   "source": [
    "n[0]"
   ]
  },
  {
   "cell_type": "code",
   "execution_count": null,
   "id": "9d503a4e-1430-485d-8714-042c7e69e327",
   "metadata": {},
   "outputs": [],
   "source": [
    "#print(dir(n[0]))\n",
    "n[0]"
   ]
  },
  {
   "cell_type": "code",
   "execution_count": null,
   "id": "466e01bc-6221-4f8f-8f60-72223e9d281b",
   "metadata": {},
   "outputs": [],
   "source": [
    "# Lista de links possivelmente de notícias no site da Band.\n",
    "for i in n:\n",
    "    try:\n",
    "        print(i['href'])\n",
    "    except:\n",
    "        print(\"no link\")"
   ]
  },
  {
   "cell_type": "markdown",
   "id": "1e892b1a-86bd-4b4a-82bc-4e08440c31bc",
   "metadata": {
    "tags": []
   },
   "source": [
    "## Folha de São Paulo "
   ]
  },
  {
   "cell_type": "markdown",
   "id": "ad8ab63a-d7c2-471d-abb5-f3f9cd2605c8",
   "metadata": {},
   "source": [
    "Lendo feed RSS do site de notícias da [Folha de São Paulo](https://www1.folha.uol.com.br/feed/).\n",
    "\n",
    "**Editoriais** Disponíveis\n",
    "\n",
    "- [Em Cima Da Hora](https://feeds.folha.uol.com.br/emcimadahora/rss091.xml)\n",
    "- [Opinião](https://feeds.folha.uol.com.br/opiniao/rss091.xml)\n",
    "- [Política](https://feeds.folha.uol.com.br/poder/rss091.xml)\n",
    "- [Mundo](https://feeds.folha.uol.com.br/mundo/rss091.xml)\n",
    "- [Mercado](https://feeds.folha.uol.com.br/mercado/rss091.xml)\n",
    "- [Cotidiano](https://feeds.folha.uol.com.br/cotidiano/rss091.xml)\n",
    "- [Educação](https://feeds.folha.uol.com.br/educacao/rss091.xml)\n",
    "- [Equilíbrio](https://feeds.folha.uol.com.br/equilibrio/rss091.xml)\n",
    "- [Esporte](https://feeds.folha.uol.com.br/esporte/rss091.xml)\n",
    "- [Ilustrada](https://feeds.folha.uol.com.br/ilustrada/rss091.xml)\n",
    "- [Ilustríssima](https://feeds.folha.uol.com.br/ilustrissima/rss091.xml)\n",
    "- [Ciência](https://feeds.folha.uol.com.br/ciencia/rss091.xml)\n",
    "- [Ambiente](https://feeds.folha.uol.com.br/ambiente/rss091.xml)\n",
    "- [Tec](https://feeds.folha.uol.com.br/tec/rss091.xml)\n",
    "- [Comida](https://feeds.folha.uol.com.br/comida/rss091.xml)\n",
    "- [Saúde](https://feeds.folha.uol.com.br/equilibrioesaude/rss091.xml)\n",
    "- [Folhinha](https://feeds.folha.uol.com.br/folhinha/rss091.xml)\n",
    "- [Turismo](https://feeds.folha.uol.com.br/turismo/rss091.xml)\n"
   ]
  },
  {
   "cell_type": "code",
   "execution_count": null,
   "id": "badd13aa-ffca-4839-8c06-ba670196dc5a",
   "metadata": {},
   "outputs": [],
   "source": [
    "import feedparser as fp\n",
    "\n",
    "fsp_editoriais = [ \n",
    "    ('Em Cima Da Hora', 'https://feeds.folha.uol.com.br/emcimadahora/rss091.xml'),\n",
    "    ('Opinião', 'https://feeds.folha.uol.com.br/opiniao/rss091.xml' ) ,\n",
    "    ( 'Política', 'https://feeds.folha.uol.com.br/poder/rss091.xml') ,\n",
    "    ('Mundo', 'https://feeds.folha.uol.com.br/mundo/rss091.xml'),\n",
    "    ('Mercado','https://feeds.folha.uol.com.br/mercado/rss091.xml'),\n",
    "    ('Cotidiano','https://feeds.folha.uol.com.br/cotidiano/rss091.xml'),\n",
    "    ('Educação', 'https://feeds.folha.uol.com.br/educacao/rss091.xml'),\n",
    "    ('Equilíbrio', 'https://feeds.folha.uol.com.br/equilibrio/rss091.xml'),\n",
    "    ('Esporte','https://feeds.folha.uol.com.br/esporte/rss091.xml'),\n",
    "    ('Ilustrada', 'https://feeds.folha.uol.com.br/ilustrada/rss091.xml'),\n",
    "    ('Ilustríssima','https://feeds.folha.uol.com.br/ilustrissima/rss091.xml'),\n",
    "    ('Ciência','https://feeds.folha.uol.com.br/ciencia/rss091.xml'),\n",
    "    ('Ambiente','https://feeds.folha.uol.com.br/ambiente/rss091.xml'),\n",
    "    ('Tec','https://feeds.folha.uol.com.br/tec/rss091.xml'),\n",
    "    ('Comida','https://feeds.folha.uol.com.br/comida/rss091.xml'),\n",
    "    ('Saúde','https://feeds.folha.uol.com.br/equilibrioesaude/rss091.xml'),\n",
    "    ('Folhinha','https://feeds.folha.uol.com.br/folhinha/rss091.xml'),\n",
    "    ('Turismo','https://feeds.folha.uol.com.br/turismo/rss091.xml'),\n",
    "]"
   ]
  },
  {
   "cell_type": "code",
   "execution_count": null,
   "id": "c06313a3-4d77-4c7d-a959-106b66da9454",
   "metadata": {},
   "outputs": [],
   "source": [
    "# Lista dos feeds pelos editoriais.\n",
    "#l = [ {i: {'title': j.title, 'href': j.link } } for i,j in zip(range(len(d.entries) + 1), d.entries) \n",
    "#fsp_feeds = [ [ { i: { 'title': j.title, 'href': j.link } } for i, j in zip( range( len( fp.parser(feed) ) ), feed.entries ) ]  for feed in fsp_editoriais ]\n",
    "fsp_feeds = [ \n",
    "    { i: ( j[0], fp.parse( j[1] ) ) }\n",
    "    for i,j in zip( range( len( fsp_editoriais) + 1 ), fsp_editoriais ) \n",
    "]\n",
    "\n",
    "\n"
   ]
  },
  {
   "cell_type": "code",
   "execution_count": null,
   "id": "dbf7c618-6ba6-4e01-806c-869754883eac",
   "metadata": {},
   "outputs": [],
   "source": [
    "fsp_feeds2 =  [ \n",
    "    { 'Editorial': j[0], 'FeedData': fp.parse( j[1] ) } \n",
    "    for j in fsp_editoriais  \n",
    "]"
   ]
  },
  {
   "cell_type": "code",
   "execution_count": null,
   "id": "371d2db0-3c58-480a-8ad7-570e5c82b30d",
   "metadata": {},
   "outputs": [],
   "source": [
    "# Lista de editoriais com suas respectivas listas de notícias. Para cada editorial extraido um lista de notícias.\n",
    "fsp_news_list = [\n",
    "    { \n",
    "        'Editorial': i[ 'Editorial' ],\n",
    "        'Noticias': [ { \n",
    "            'Title': j.title,\n",
    "            'Summary': j.summary,\n",
    "            'href': j['link'].split('*')[1]\n",
    "     }  for j in i[ 'FeedData' ].entries ]\n",
    "    } for i in fsp_feeds2 \n",
    "]"
   ]
  },
  {
   "cell_type": "code",
   "execution_count": null,
   "id": "47863cc6-2bd9-432c-ad14-10ee4f47aaf5",
   "metadata": {},
   "outputs": [],
   "source": [
    "def trackFolhaSP():\n",
    "    \"\"\"\n",
    "    Track página da \"Folha de São Paulo\"\n",
    "    \"\"\"\n",
    "    fsp_editoriais = ( \n",
    "            ('Em Cima Da Hora', 'https://feeds.folha.uol.com.br/emcimadahora/rss091.xml'),\n",
    "            ('Opinião', 'https://feeds.folha.uol.com.br/opiniao/rss091.xml' ) ,\n",
    "            ( 'Política', 'https://feeds.folha.uol.com.br/poder/rss091.xml') ,\n",
    "            ('Mundo', 'https://feeds.folha.uol.com.br/mundo/rss091.xml'),\n",
    "            ('Mercado','https://feeds.folha.uol.com.br/mercado/rss091.xml'),\n",
    "            ('Cotidiano','https://feeds.folha.uol.com.br/cotidiano/rss091.xml'),\n",
    "            ('Educação', 'https://feeds.folha.uol.com.br/educacao/rss091.xml'),\n",
    "            ('Equilíbrio', 'https://feeds.folha.uol.com.br/equilibrio/rss091.xml'),\n",
    "            ('Esporte','https://feeds.folha.uol.com.br/esporte/rss091.xml'),\n",
    "            ('Ilustrada', 'https://feeds.folha.uol.com.br/ilustrada/rss091.xml'),\n",
    "            ('Ilustríssima','https://feeds.folha.uol.com.br/ilustrissima/rss091.xml'),\n",
    "            ('Ciência','https://feeds.folha.uol.com.br/ciencia/rss091.xml'),\n",
    "            ('Ambiente','https://feeds.folha.uol.com.br/ambiente/rss091.xml'),\n",
    "            ('Tec','https://feeds.folha.uol.com.br/tec/rss091.xml'),\n",
    "            ('Comida','https://feeds.folha.uol.com.br/comida/rss091.xml'),\n",
    "            ('Saúde','https://feeds.folha.uol.com.br/equilibrioesaude/rss091.xml'),\n",
    "            ('Folhinha','https://feeds.folha.uol.com.br/folhinha/rss091.xml'),\n",
    "            ('Turismo','https://feeds.folha.uol.com.br/turismo/rss091.xml'),\n",
    "        )\n",
    "\n",
    "    fsp_feeds =  ( \n",
    "            { 'Editorial': j[0], 'FeedData': fp.parse( j[1] ) } \n",
    "                for j in fsp_editoriais  \n",
    "        )  \n",
    "\n",
    "    # Lista de editoriais com suas respectivas listas de notícias. Para cada editorial extraido um lista de notícias.\n",
    "    fsp_news_list = (\n",
    "            { \n",
    "                'Editorial': i[ 'Editorial' ],\n",
    "                'Noticias': ( { \n",
    "                    'Title': j.title,\n",
    "                    'Summary': j.summary,\n",
    "                    'href': j['link'].split('*')[1]\n",
    "            }  for j in i[ 'FeedData' ].entries )\n",
    "            } for i in fsp_feeds \n",
    "        )\n",
    "\n",
    "    return  fsp_news_list "
   ]
  },
  {
   "cell_type": "code",
   "execution_count": null,
   "id": "e355df0e-626a-4627-aff7-73492dccc5dd",
   "metadata": {},
   "outputs": [],
   "source": [
    "# Testes dos algoritmos"
   ]
  },
  {
   "cell_type": "code",
   "execution_count": null,
   "id": "8affbdf8-cea6-4662-96a7-523794fbd8b5",
   "metadata": {},
   "outputs": [],
   "source": [
    "f = trackFolhaSP()\n"
   ]
  },
  {
   "cell_type": "code",
   "execution_count": null,
   "id": "1cef359a-68c6-4dc8-9c00-ce02adced912",
   "metadata": {},
   "outputs": [],
   "source": [
    "import sys"
   ]
  },
  {
   "cell_type": "code",
   "execution_count": null,
   "id": "6dbc00fa-33ea-48d9-82c0-c29ddfecbab7",
   "metadata": {},
   "outputs": [],
   "source": [
    "\n",
    "sys.getsizeof(f)"
   ]
  },
  {
   "cell_type": "code",
   "execution_count": null,
   "id": "ffb0b006-e092-48e9-ae4f-09e723ee4f8b",
   "metadata": {},
   "outputs": [],
   "source": [
    "sys.getsizeof( fsp_news_list )"
   ]
  },
  {
   "cell_type": "code",
   "execution_count": null,
   "id": "ae467a1c-1d1d-4a99-9fe9-1abf039cdce4",
   "metadata": {},
   "outputs": [],
   "source": [
    "for i in f:\n",
    "    print(i)"
   ]
  },
  {
   "cell_type": "code",
   "execution_count": null,
   "id": "8373503a-5055-4be2-94e5-9759d0ebec90",
   "metadata": {},
   "outputs": [],
   "source": [
    "for j in fsp_news_list:\n",
    "    print(j)"
   ]
  },
  {
   "cell_type": "code",
   "execution_count": null,
   "id": "87236726-d9e5-465d-b58a-7cd563f70297",
   "metadata": {},
   "outputs": [],
   "source": [
    "fsp_feeds[0][0]"
   ]
  },
  {
   "cell_type": "code",
   "execution_count": null,
   "id": "56d4eb8f-3c8a-4f54-9bbc-fa7ff6bf61a2",
   "metadata": {},
   "outputs": [],
   "source": [
    "fsp_editoriais"
   ]
  },
  {
   "cell_type": "markdown",
   "id": "5e4d2bbf",
   "metadata": {
    "tags": [],
    "toc-hr-collapsed": true
   },
   "source": [
    "## Montando Lista de Notícias"
   ]
  },
  {
   "cell_type": "code",
   "execution_count": null,
   "id": "a43cf177",
   "metadata": {},
   "outputs": [],
   "source": [
    "number_news = 6\n"
   ]
  },
  {
   "cell_type": "code",
   "execution_count": null,
   "id": "fef8aed2",
   "metadata": {},
   "outputs": [],
   "source": [
    "import random"
   ]
  },
  {
   "cell_type": "code",
   "execution_count": null,
   "id": "dc4ea054",
   "metadata": {},
   "outputs": [],
   "source": [
    "news_list = []\n",
    "\n",
    "news_list.extend( [ {'title': random.choices( [ (news['title'], news['url']) for news in dw ] , k = 2 ), 'source': 'G1/Globo' } ] )\n",
    "\n",
    "news_list.extend( [ {'title': random.choices( [ (news['title'], news['href']) for news in cnn_list_news ] , k = 2 ), 'source': 'CNN Brasil' } ] )\n",
    "\n",
    "news_list.extend( [ {'title': random.choices( [ (news['title'], news['href']) for news in bbc_news_lists ] , k = 2 ), 'source': 'BBC Brasil' } ] )\n",
    "\n",
    "news_list.extend( [ { 'title':  random.choices( [ ( news['title'], news['href'] ) for news in band_news  ] , k= 2 ), 'source': 'Band' } ] )\n"
   ]
  },
  {
   "cell_type": "code",
   "execution_count": null,
   "id": "974176ec",
   "metadata": {},
   "outputs": [],
   "source": [
    "for i in news_list:\n",
    "    for j in i['title']:\n",
    "        print(f\"{j[0]}. \\n{j[1]}\\n\")\n",
    "    \n",
    "    print(f\"Fonte: {i['source']}\\n\\n\")"
   ]
  },
  {
   "cell_type": "markdown",
   "id": "c3e35a27-ec7c-4467-9216-1ec5db355825",
   "metadata": {},
   "source": [
    "## Salvando Todas Noticias (JSON)"
   ]
  },
  {
   "cell_type": "markdown",
   "id": "4f8582d4-9425-4439-8a2d-3bfbab48919f",
   "metadata": {},
   "source": [
    "### View news for test algorithm"
   ]
  },
  {
   "cell_type": "code",
   "execution_count": null,
   "id": "4dc4ef07-7a0d-40a9-95c5-68a585e7b6f8",
   "metadata": {},
   "outputs": [],
   "source": [
    "# List news\n",
    "news = None\n",
    "portaisvar = [\n",
    "    'dw', #Globo/G1\n",
    "    'cnn_list_news', # CNN Brazil\n",
    "    'bbc_news_list' # BBC Brazil\n",
    "]\n",
    "\n",
    "portais = { 'dw': 'Globo/G1', 'cnn_list_news': 'CNN Brasil', 'bbc_news_lists': 'BBC Brasil' }    "
   ]
  },
  {
   "cell_type": "code",
   "execution_count": null,
   "id": "b10a3e84-3cba-4a3b-99e7-3c4b06f4ddf0",
   "metadata": {},
   "outputs": [],
   "source": [
    "dw[0].keys(), cnn_list_news[0].keys(), bbc_news_lists[0].keys()"
   ]
  },
  {
   "cell_type": "code",
   "execution_count": null,
   "id": "5eee3e4a-6c18-41f7-ba9b-47d40c35088b",
   "metadata": {},
   "outputs": [],
   "source": [
    "# Replace field name 'titulo' for 'title' name.\n",
    "dw = [ { key.replace('titulo', 'title'):value for key, value in i.items() } for i in dw ]\n",
    "dw = [ { key.replace('url', 'href'):value for key, value in i.items() } for i in dw ]\n",
    "dw"
   ]
  },
  {
   "cell_type": "code",
   "execution_count": null,
   "id": "b571d2b5-6902-46f7-96d6-21366b4dd13b",
   "metadata": {},
   "outputs": [],
   "source": [
    "#[ { key.replace('title', 'titulo' ) } ]\n",
    "newslist = dw + cnn_list_news + bbc_news_lists\n",
    "#newslist"
   ]
  },
  {
   "cell_type": "code",
   "execution_count": null,
   "id": "27066ffb-f291-4cc5-86b2-cef127a4d8ba",
   "metadata": {},
   "outputs": [],
   "source": [
    "import os\n",
    "count = 0\n",
    "try:\n",
    "    os.mkdir( 'newsdata' )\n",
    "except FileExistsError:\n",
    "    print(\"File exist\")\n",
    "    \n",
    "webdata = ''\n",
    "# Save data of link news in files to folder.\n",
    "for news in newslist:\n",
    "    try:\n",
    "        #news['data'] = requests.get(news['href']).text\n",
    "        foldername = f'newsdata'\n",
    "        #os.mkdir( foldername )\n",
    "        news['datafile'] = f'{foldername}/'+str( count )\n",
    "        with open( foldername+f'/{str(count)}', 'a' ) as fl:\n",
    "            webdata = requests.get( news['href'] ).text \n",
    "            fl.write( webdata )\n",
    "            fl.close()\n",
    "            \n",
    "        count += 1\n",
    "    except :\n",
    "        print('not get page')\n",
    "        continue\n",
    "    "
   ]
  },
  {
   "cell_type": "code",
   "execution_count": null,
   "id": "0989f5b2-da01-44e0-bcb8-1be5fd2bd158",
   "metadata": {},
   "outputs": [],
   "source": [
    "newslist[0]['datafile']"
   ]
  },
  {
   "cell_type": "code",
   "execution_count": null,
   "id": "2d38942e-e38c-402d-8633-2f853064cc53",
   "metadata": {},
   "outputs": [],
   "source": [
    "p = requests.get( newslist[0]['href'] )\n",
    "soup = BeautifulSoup( p.text, 'html.parser')\n",
    "texto = soup.get_text()\n",
    "print( texto[0:150] )"
   ]
  },
  {
   "cell_type": "code",
   "execution_count": null,
   "id": "9196f821-ec0f-4ecb-91fb-52a2000bdd1f",
   "metadata": {},
   "outputs": [],
   "source": [
    "d = ''\n",
    "with open(foldername+'/0', 'r') as fl:\n",
    "    d = fl.read()\n",
    "    fl.close()\n",
    "\n",
    "\n",
    "soup = BeautifulSoup(d, 'html.parser')\n",
    "#souptext = soup.text\n",
    "content = soup.find_all('div')\n",
    "#dir(soup)"
   ]
  },
  {
   "cell_type": "code",
   "execution_count": null,
   "id": "72d02fbc-379b-4153-9a38-5134e4c02b5a",
   "metadata": {},
   "outputs": [],
   "source": [
    "texto = ' '.join( [ i.get_text() for i in content ] )\n",
    "texto = texto.replace('\\n', ' ')\n",
    "with open('texto', 'w' ) as fl:\n",
    "    #fl.write( souptext )\n",
    "    fl.write( texto )\n",
    "    "
   ]
  },
  {
   "cell_type": "code",
   "execution_count": null,
   "id": "14d06b94-9014-49ac-af6b-bddb1e63202d",
   "metadata": {},
   "outputs": [],
   "source": [
    "print( texto[0:100] )"
   ]
  },
  {
   "cell_type": "code",
   "execution_count": null,
   "id": "181403d6-18d3-4f33-8f7a-2a51a77c92ef",
   "metadata": {},
   "outputs": [],
   "source": [
    "import json\n",
    "\n",
    "with open('noticias.json', 'w') as fl:\n",
    "    fl.write(json.dumps(newslist, ensure_ascii=False, indent=4))\n",
    "    fl.close()"
   ]
  },
  {
   "cell_type": "markdown",
   "id": "c7ee5e9e-92f7-4d1d-8c4b-5f1d2e3cd5e8",
   "metadata": {},
   "source": [
    "### Salva noticias"
   ]
  },
  {
   "cell_type": "code",
   "execution_count": null,
   "id": "9d67faf7-6fd4-4af6-b35b-e1319b6c01c4",
   "metadata": {},
   "outputs": [],
   "source": [
    "def savenews(newslist: list, filename: str) -> None:\n",
    "    import json\n",
    "    jsondata = None\n",
    "    with open(filename, 'w') as fl:\n",
    "        fl.write( json.dumps( newslist, encode='utf-8', indent=4 ) )\n",
    "        fl.close()\n",
    "    print('Saved...')\n",
    "    "
   ]
  },
  {
   "cell_type": "code",
   "execution_count": null,
   "id": "84a3c9f4",
   "metadata": {},
   "outputs": [],
   "source": [
    "i = j = None\n",
    "\n",
    "for i in news_list:\n",
    "    for j in i['title']:\n",
    "        print(f'{j[0]}.')\n",
    "    print(f'Fonte: {i[\"source\"] }\\n\\n ' )"
   ]
  },
  {
   "cell_type": "code",
   "execution_count": null,
   "id": "7c0ca847-a7d0-4941-bfc7-14c8b2123ead",
   "metadata": {},
   "outputs": [],
   "source": [
    "i = j = None\n",
    "\n",
    "print(f\"Olá bem vindo ao Diário de Notícias Dimensão Alfa. Estas são as principais manchetes do dia.\\n\")\n",
    "for i in news_list:\n",
    "    print(f'Portal de Notícias {i[\"source\"] }\\n ' )\n",
    "    for j in i['title']:\n",
    "        print(f'{j[0]}.')"
   ]
  },
  {
   "cell_type": "markdown",
   "id": "91fbc7d6-b613-4602-9935-987991f8dba4",
   "metadata": {
    "tags": []
   },
   "source": [
    "# Body Texts"
   ]
  },
  {
   "cell_type": "code",
   "execution_count": null,
   "id": "d6338718-6ff2-48a6-b66f-a058b868b7f6",
   "metadata": {},
   "outputs": [],
   "source": []
  },
  {
   "cell_type": "markdown",
   "id": "d1879811-0f8b-4150-86a7-606389a58301",
   "metadata": {
    "jp-MarkdownHeadingCollapsed": true,
    "tags": [],
    "toc-hr-collapsed": true
   },
   "source": [
    "# Sobre"
   ]
  },
  {
   "cell_type": "markdown",
   "id": "2c8c3c3a-34bd-4081-a3de-4d172f80eb07",
   "metadata": {
    "tags": []
   },
   "source": [
    "## Dimensão Alfa"
   ]
  },
  {
   "cell_type": "markdown",
   "id": "93927b53-1f5b-4f94-abed-cf9e6f99fc99",
   "metadata": {
    "jp-MarkdownHeadingCollapsed": true,
    "tags": []
   },
   "source": [
    "Dimensão Alfa projetos e conteúdos de tecnologia."
   ]
  },
  {
   "cell_type": "markdown",
   "id": "9922c82b-a271-4e7c-b6f7-a1420b69b13f",
   "metadata": {
    "tags": []
   },
   "source": [
    "## Info"
   ]
  },
  {
   "cell_type": "markdown",
   "id": "1669e98a-92e1-4d73-b518-163002feab8b",
   "metadata": {},
   "source": [
    "O presente projeto tem sido usado com fins de divulgação e facilitação de acesso a noticias e conhecimento em comunhão com objetivo da plataforma/página Dimensão Alfa. \n",
    "Conteúdos de terceiros são de responsabilidades dos mesmos bem como seus direitos autorais.\n",
    "\n",
    "O projeto encontra-se em desenvolvimento, inicialmente fôra batizado de Ani Fátima Liu, e estará passando por alterações estando de inicio disponibilizado em formato \"_jupyter notebook_\" podendo servir como _case_ de estudo para os que se interessam por \"web scrap\" (raspagem de dados).\n",
    "\n",
    "Tecnologias foram usadas para gerar vídeo de noticias diária para página [Youtube](https://www.youtube.com/@dimensaoalfa); foi usada as seguintes tecnologias:\n",
    "\n",
    "* [Editor de códigos VSCode](https://code.visualstudio.com/)\n",
    "* [Python (linguagem de programação)](https://www.python.org/)\n",
    "* [Ambiente JupyterLab](https://jupyter.org/)\n",
    "* [Biblioteca \"Requests\"](https://requests.readthedocs.io/en/latest/)\n",
    "* [Biblioteca \"BeautifulSoup\"](https://www.crummy.com/software/BeautifulSoup/bs4/doc/)\n",
    "* [Serviço de Sintese de Voz Microsoft/Azure](https://speech.microsoft.com)\n",
    "\n",
    "\n",
    "Peço e agradeço a compreensão e apoio de todos. \n",
    "\n",
    "Para contribuições, dúvidas, sugestões visitem meu blog [WSRicardo](https://wsricardo.blogspot.com).\n"
   ]
  },
  {
   "cell_type": "markdown",
   "id": "fcc6698c-a66b-47a8-aacc-444904c32d39",
   "metadata": {
    "tags": []
   },
   "source": [
    "## Sugestões de Conteúdo"
   ]
  },
  {
   "cell_type": "markdown",
   "id": "a46ff71a-b892-48d4-a647-227402170487",
   "metadata": {
    "tags": []
   },
   "source": [
    "Deixamos abaixo algumas sugestões de conteúdos e canais com recursos para estudos e pesquisa que podem ser uteis para quem se interessa por tecnologia, programação de computadores, matemática, ciências de dados e inteligência artificial.\n",
    "\n",
    "* [Programação Dinâmica](https://www.youtube.com/c/Programa%C3%A7%C3%A3oDin%C3%A2mica)\n",
    "* [Toda Matemática](https://www.youtube.com/c/GustavoViegascurso)\n",
    "* [Matemática Universitária](https://www.youtube.com/c/Matem%C3%A1ticaUniversit%C3%A1riaProfRenan)\n",
    "* [Reflexões Matemáticas](https://www.youtube.com/c/Reflex%C3%B5esMatem%C3%A1ticasDrDilbertoJ%C3%BAnior)\n",
    "* [Programação Descomplicada](https://www.youtube.com/user/progdescomplicada)\n",
    "* [Univesp](https://www.youtube.com/user/univesptv)\n",
    "* [USP no Youtube](https://www.youtube.com/c/CanalUSP)\n",
    "* [IME/USP](https://www.ime.usp.br/)\n",
    "* [IMPA](https://www.youtube.com/c/impabr)\n",
    "\n"
   ]
  },
  {
   "cell_type": "markdown",
   "id": "6b7d7325-7366-4924-8c94-fbefbeefdf51",
   "metadata": {
    "tags": []
   },
   "source": [
    "## Links"
   ]
  },
  {
   "cell_type": "markdown",
   "id": "efa1176b-3805-4997-aca5-9d581b1bafb8",
   "metadata": {
    "tags": []
   },
   "source": [
    "* [Dimensão Alfa](https://www.dimensaoalfa.com.br)\n",
    "* [Facebook](https://www.facebook.com/dimensaoalfa)\n",
    "* [Youtube](https://www.youtube.com/@dimensaoalfa)\n",
    "* [WSRicardo](https://wsricardo.blogspot.com)"
   ]
  }
 ],
 "metadata": {
  "kernelspec": {
   "display_name": "Python 3 (ipykernel)",
   "language": "python",
   "name": "python3"
  },
  "language_info": {
   "codemirror_mode": {
    "name": "ipython",
    "version": 3
   },
   "file_extension": ".py",
   "mimetype": "text/x-python",
   "name": "python",
   "nbconvert_exporter": "python",
   "pygments_lexer": "ipython3",
   "version": "3.11.9"
  },
  "vscode": {
   "interpreter": {
    "hash": "916dbcbb3f70747c44a77c7bcd40155683ae19c65e1c03b4aa3499c5328201f1"
   }
  }
 },
 "nbformat": 4,
 "nbformat_minor": 5
}
