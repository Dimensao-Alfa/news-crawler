{
 "cells": [
  {
   "cell_type": "markdown",
   "id": "d8849ed6",
   "metadata": {
    "tags": [],
    "toc-hr-collapsed": true
   },
   "source": [
    "# Crawler Noticias\n",
    "\n"
   ]
  },
  {
   "cell_type": "markdown",
   "id": "01366270-f3d1-4716-83cc-727dc6f57d46",
   "metadata": {
    "tags": []
   },
   "source": [
    "## Introdução"
   ]
  },
  {
   "cell_type": "markdown",
   "id": "2b1f31df",
   "metadata": {},
   "source": [
    "Estudo projeto de construção de um bot crawler para extrair e indexar noticias de sites.\n",
    "\n",
    "É recomendavel baixar uma única vez o html do site para reduzir a necessidade de acessar o site várias vezes para cada processamento reduzindo tempo e custo computacionais para máquina local e servidor.\n",
    "\n",
    "Usamos módulo _Requests_ para baixar o html da página a ser processada e com módulo _BeautifulSoup_ processamos o conteúdo html buscando por conteúdos especificos. Ao inspecionar o código HTML verificamos em quais blocos estão as principais noticias - em geral em tags como \"section\", \"h1\"/\"h2\"/\"h3\" e \"a\" - considerando o seletor css que especifica cada bloco de interesse afim de refinar a busca e garantir que serão extraindos os trechos relevantes.\n",
    "\n",
    "Sites com boas práticas de HTML/CSS tendem a serem mais faceis de serem processados e indexados por mecanismos de buscas facilitando os usuários em encontrar seus conteúdos em pesquisas aumentando assim o engajamento em suas plataformas contribuindo para seu melhor desenvolvimento.\n",
    "\n",
    "Neste presente momento o projeto está considerando três portais de notícias que são _BBC Brasil_, _CNN Brasil_ e _G1/Globo_. \n",
    "\n",
    "Créditos e direitos reservados às referentes plataformas mencionadas.\n",
    "\n",
    "(Obs.: Conteúdo livre com fins informativos e de divulgação. )\n"
   ]
  },
  {
   "cell_type": "markdown",
   "id": "573fc426",
   "metadata": {
    "tags": []
   },
   "source": [
    "## Módulos"
   ]
  },
  {
   "cell_type": "markdown",
   "id": "cbd7fe1d",
   "metadata": {},
   "source": [
    "Abaixo _import_ dos módulos que contém os recursos usados.\n",
    "\n",
    "* BeautifulSoup\n",
    "* Requests\n",
    "* re (regular expression)\n",
    "* crawlernewsg1 (acessa site e extrai lista de principais noticias na página principal do site)\n",
    "* IPython.core.display -> display, HTML (renderiza conteúdos html )"
   ]
  },
  {
   "cell_type": "code",
   "execution_count": null,
   "id": "f4ad322f",
   "metadata": {
    "scrolled": true
   },
   "outputs": [],
   "source": [
    "from bs4 import BeautifulSoup\n",
    "import requests\n",
    "import pandas as pd\n",
    "import re\n",
    "from crawlernewsg1 import *\n",
    "import random\n",
    "\n",
    "# Render html content\n",
    "from IPython.core.display import display, HTML"
   ]
  },
  {
   "cell_type": "markdown",
   "id": "e8683151",
   "metadata": {
    "tags": [],
    "toc-hr-collapsed": true
   },
   "source": [
    "## Modelagem Portal G1\n",
    "\n"
   ]
  },
  {
   "cell_type": "markdown",
   "id": "200ef7fc-b544-482e-95ee-8055bb771495",
   "metadata": {},
   "source": [
    "Capturando noticias do portal G1 da Globo\n",
    "Funções básicas. Especifincando \"selector css\" classe 'bastian-page'  para tags div."
   ]
  },
  {
   "cell_type": "code",
   "execution_count": null,
   "id": "c4df2cea",
   "metadata": {},
   "outputs": [],
   "source": [
    "# Baixando html do portal de noticia para processamento e salvando em disco.\n",
    "url = 'https://g1.globo.com'\n",
    "attr = {'class': 'bastian-page'}\n",
    "data = g1_(requests.get( url ).content, 'div', attr, debug=False)\n",
    "dw = requests.get('https://g1.globo.com/').content\n",
    "with open('/tmp/data', 'w') as fl:\n",
    "    fl.write( dw.decode() )\n",
    "    "
   ]
  },
  {
   "cell_type": "code",
   "execution_count": null,
   "id": "39fe2fae-4920-4ebc-9f61-b141c7e5ce74",
   "metadata": {},
   "outputs": [],
   "source": [
    "type(data)"
   ]
  },
  {
   "cell_type": "code",
   "execution_count": null,
   "id": "3e0d6827-a36e-465d-938f-196879b4ce67",
   "metadata": {},
   "outputs": [],
   "source": [
    "# Replace field name 'titulo' for 'title' name.\n",
    "#dw = [ { key.replace('titulo', 'title'):value for key, value in i.items() } for i in dw ]\n",
    "#dw = [ { key.replace('url', 'href'):value for key, value in i.items() } for i in dw ]\n",
    "#replKey = lambda listdc, old_key, new_key: [ ]\n",
    "def replKey(listdc, old_key, new_key  ):\n",
    "    dt = []\n",
    "    \n",
    "    \n",
    "    for i in listdc:\n",
    "        for keys, value in i.items():\n",
    "            dt.append( { keys.replace('url', 'href'): value } ) \n",
    "            \n",
    "    return dt\n",
    "\n",
    "data = replKey(data[0], 'url', 'href' )\n",
    "\n",
    "print(data)"
   ]
  },
  {
   "cell_type": "code",
   "execution_count": null,
   "id": "6aa22b38",
   "metadata": {},
   "outputs": [],
   "source": [
    "dw, cwn = g1_( dw, 'div', attr)"
   ]
  },
  {
   "cell_type": "markdown",
   "id": "7f163b74",
   "metadata": {},
   "source": [
    "Ao abrir link da noticia pesquisar pela tag *'p'* com atributos **class** com valor **\"content-text__container** definir o tamanho para caso extrair só parte do corpo do texto.\n"
   ]
  },
  {
   "cell_type": "markdown",
   "id": "db117b75",
   "metadata": {},
   "source": [
    "Retornando uma lista dos itens encontrados (como visto acima no código) pegamos estes itens e os concatenamos exibintido o texto no corpo da noticia. (_Como visto abaixo_)"
   ]
  },
  {
   "cell_type": "markdown",
   "id": "6da973d9",
   "metadata": {},
   "source": [
    "Cada \"_evt\" (_css selector_ class) class css em \"bastian-page\" refere-se a uma noticia na lista central de noticias.\n",
    "Dentro de cada \"_evt\" haverá \"bastian-feed-item\" e neste o feed-post. \n",
    "\n",
    "**feed-post-body** _contêm_  ( 'feed-post-link', 'feed-post-body-title', 'feed-post-body-resumo')\n",
    "\n",
    "**bastian-feed-item** _contem_ um feed-post-body referindo-se a cada item (noticia)\n",
    "\n",
    "\n",
    "Para link da noticia (quando acessando a noticia)\n",
    "\n",
    "**content-head__title** em tag 'h1' (Título da noticia)\n",
    "\n",
    "**content-head__subtitle** em tag 'h2' (subtitulo/resumo da noticia)\n",
    "\n",
    "**content-text__container** corpo do texto da noticia css-selector, tag 'p' (pegar só a primeira referente ao primeiro paragrafo da noticia)"
   ]
  },
  {
   "cell_type": "code",
   "execution_count": null,
   "id": "112a932e",
   "metadata": {
    "toc-hr-collapsed": true
   },
   "outputs": [],
   "source": [
    "news2 = '<h1 style=\"padding: 12px;\">Notícias</h1>'\n",
    "news2 += '<br><br>'.join( [ '<br>'.join( [ str( i['title'] ) , str( i[ 'url' ]  ) ] ) for i in dw ] )\n",
    "display( HTML( news2 ))"
   ]
  },
  {
   "cell_type": "markdown",
   "id": "0b5cc259",
   "metadata": {
    "tags": []
   },
   "source": [
    "## CNN Crawler de Noticias do Portal"
   ]
  },
  {
   "cell_type": "code",
   "execution_count": null,
   "id": "5d731b59",
   "metadata": {},
   "outputs": [],
   "source": [
    "cnn_data = requests.get('https://www.cnnbrasil.com.br/')\n"
   ]
  },
  {
   "cell_type": "code",
   "execution_count": null,
   "id": "06682a5f",
   "metadata": {},
   "outputs": [],
   "source": [
    "cnn_soup = BeautifulSoup(cnn_data.content, 'html.parser')\n",
    "cnn_nw_data = cnn_soup.find_all('section')\n",
    "cnn_nw_data[0]"
   ]
  },
  {
   "cell_type": "code",
   "execution_count": null,
   "id": "4d7052da",
   "metadata": {},
   "outputs": [],
   "source": [
    "c = cnn_nw_data[0].find_all('a')\n",
    "#dir(c)\n"
   ]
  },
  {
   "cell_type": "code",
   "execution_count": null,
   "id": "adbe3f16",
   "metadata": {},
   "outputs": [],
   "source": [
    "for i in c:\n",
    "    print( i )"
   ]
  },
  {
   "cell_type": "code",
   "execution_count": null,
   "id": "cfa59afc",
   "metadata": {},
   "outputs": [],
   "source": [
    "cnn_list_news = []\n",
    "aux = None \n",
    "for news in cnn_nw_data:\n",
    "    aux = news.find('a')\n",
    "    \n",
    "    \n",
    "    try :\n",
    "        \n",
    "        aux = aux.attrs\n",
    "        cnn_list_news.extend( [ { 'title': aux['title'], 'href': aux['href'] } ] ) \n",
    "\n",
    "    except:\n",
    "        pass\n",
    "\n",
    "for i in cnn_list_news:\n",
    "    print(cnn_list_news)"
   ]
  },
  {
   "cell_type": "code",
   "execution_count": null,
   "id": "ab2be6dd",
   "metadata": {},
   "outputs": [],
   "source": [
    "cnn_list_news_ma = None\n",
    "for i in cnn_list_news:\n",
    "    \n",
    "    try:\n",
    "        print(f\"\\n{i['title']} \\n{i['href']}\\n\\n\" ) \n",
    "    except:\n",
    "        pass \n",
    "    #keys = i.keys()\n",
    "    #print(keys)   \n",
    "    \n",
    "\n",
    "    #print( f'\\t\\n\\n{out}') \n",
    "    #out = '' \n"
   ]
  },
  {
   "cell_type": "code",
   "execution_count": null,
   "id": "18478fa3",
   "metadata": {},
   "outputs": [],
   "source": [
    "len(dw)"
   ]
  },
  {
   "cell_type": "code",
   "execution_count": null,
   "id": "81147e1f",
   "metadata": {},
   "outputs": [],
   "source": [
    "len(cnn_list_news)"
   ]
  },
  {
   "cell_type": "markdown",
   "id": "f8cdb6c9",
   "metadata": {
    "jp-MarkdownHeadingCollapsed": true,
    "tags": []
   },
   "source": [
    "## BBC Brasil "
   ]
  },
  {
   "cell_type": "markdown",
   "id": "4c05e698",
   "metadata": {},
   "source": [
    "Crawler das notícias do portal do site BBC Brasil."
   ]
  },
  {
   "cell_type": "code",
   "execution_count": null,
   "id": "add6fad0",
   "metadata": {},
   "outputs": [],
   "source": [
    "url_bbc = 'https://www.bbc.com/portuguese'\n",
    "url_bbc_base = 'https://www.bbc.com'"
   ]
  },
  {
   "cell_type": "code",
   "execution_count": null,
   "id": "b0cfcf46",
   "metadata": {},
   "outputs": [],
   "source": [
    "bbc_data = requests.get(url_bbc)\n",
    "bbc_soup = BeautifulSoup(bbc_data.content, 'html.parser')\n",
    "bbc_sections =  bbc_soup.find_all('section' , class_= 'bbc-iinl4t')"
   ]
  },
  {
   "cell_type": "code",
   "execution_count": null,
   "id": "ff387772",
   "metadata": {},
   "outputs": [],
   "source": [
    "bbc_news_lists = []"
   ]
  },
  {
   "cell_type": "markdown",
   "id": "46e14fbd",
   "metadata": {},
   "source": [
    "``` python\n",
    "url_bbc_base+bbc_sections[0].select('a')[0]['href']\n",
    "```\n",
    "\n",
    "Saída 'https://www.bbc.com/portuguese/brasil-63507138'"
   ]
  },
  {
   "cell_type": "code",
   "execution_count": null,
   "id": "df0594c3",
   "metadata": {},
   "outputs": [],
   "source": [
    "bbc_sections[0].select('a')[0].text"
   ]
  },
  {
   "cell_type": "code",
   "execution_count": null,
   "id": "935c15b3",
   "metadata": {},
   "outputs": [],
   "source": [
    "for news in bbc_sections:\n",
    "    bbc_news_lists.extend( [ { 'title': i.text, 'url': i['href'] } for i in news.select('a') ] )"
   ]
  },
  {
   "cell_type": "code",
   "execution_count": null,
   "id": "73480045",
   "metadata": {},
   "outputs": [],
   "source": [
    "bbc_news_lists = []\n",
    "aux = None \n",
    "\n",
    "for section_news in bbc_sections:\n",
    "    for news in section_news.select( 'a' ):\n",
    "        if news['href'].find('topic') != -1:\n",
    "            pass\n",
    "        else :\n",
    "            if news['href'].find('https') != -1:\n",
    "                bbc_news_lists.extend( [ { 'title': news.text, 'href': news['href'] } ] )\n",
    "            else:\n",
    "                bbc_news_lists.extend( [ { 'title': news.text, 'href': url_bbc_base+news['href'] } ] )"
   ]
  },
  {
   "cell_type": "code",
   "execution_count": null,
   "id": "21212bf4",
   "metadata": {},
   "outputs": [],
   "source": [
    "print(f'Número de notícias: {len(bbc_news_lists)}')"
   ]
  },
  {
   "cell_type": "code",
   "execution_count": null,
   "id": "2191c506",
   "metadata": {},
   "outputs": [],
   "source": [
    "random.choices(bbc_news_lists, k = 3)"
   ]
  },
  {
   "cell_type": "code",
   "execution_count": null,
   "id": "b3a68bfb",
   "metadata": {},
   "outputs": [],
   "source": [
    "print(url_bbc_base+'/portuguese/topics/cz74k71p8ynt')"
   ]
  },
  {
   "cell_type": "code",
   "execution_count": null,
   "id": "9a107ff9",
   "metadata": {},
   "outputs": [],
   "source": [
    "with open('bbc_news.txt', 'w') as fl:\n",
    "    for i in bbc_news_lists:\n",
    "        fl.write(i['title'] +'\\n' + i['href'] +'\\n\\n')\n",
    "    fl.close()"
   ]
  },
  {
   "cell_type": "markdown",
   "id": "f89eb773-762f-4e86-a627-367f322dcbff",
   "metadata": {
    "jp-MarkdownHeadingCollapsed": true,
    "tags": []
   },
   "source": [
    "## Portal Band"
   ]
  },
  {
   "cell_type": "markdown",
   "id": "3a397d79-f69c-448f-a788-a54556d5684d",
   "metadata": {},
   "source": [
    "Busca de lista de notícias do portal Band."
   ]
  },
  {
   "cell_type": "raw",
   "id": "07190b70-cca3-462a-ae8c-ed26aa1302b0",
   "metadata": {},
   "source": [
    "Verificar seções do site [https://www.band.uol.com.br/](https://www.band.uol.com.br/) quai contém links de possíveis notícias destaques na página principal."
   ]
  },
  {
   "cell_type": "code",
   "execution_count": null,
   "id": "902bb0f5-943a-4f31-adc0-97e45ecad142",
   "metadata": {},
   "outputs": [],
   "source": [
    "import requests\n",
    "from bs4 import BeautifulSoup"
   ]
  },
  {
   "cell_type": "code",
   "execution_count": null,
   "id": "9d9c1547-3393-469d-a279-06e12fc5d940",
   "metadata": {},
   "outputs": [],
   "source": [
    "url_band = 'https://www.band.uol.com.br/'"
   ]
  },
  {
   "cell_type": "code",
   "execution_count": null,
   "id": "79e1162e-41af-48c8-81fc-5875da822b72",
   "metadata": {},
   "outputs": [],
   "source": [
    "band_data = requests.get(url_band).content\n",
    "soup_band = BeautifulSoup(band_data, 'html.parser')\n"
   ]
  },
  {
   "cell_type": "markdown",
   "id": "8df31aa0-4a92-49f5-bf05-c1a6240043ad",
   "metadata": {
    "tags": []
   },
   "source": [
    "#### Band list sections "
   ]
  },
  {
   "cell_type": "code",
   "execution_count": null,
   "id": "1ea1025c-54be-4a38-9c43-bb2dd0d5a48d",
   "metadata": {},
   "outputs": [],
   "source": [
    "news_band_section = soup_band.find_all('section')"
   ]
  },
  {
   "cell_type": "code",
   "execution_count": null,
   "id": "5d2f4431-a295-4794-9fcb-b68a8c6f5026",
   "metadata": {},
   "outputs": [],
   "source": [
    "print(news_band_section[0])\n",
    "print(f'Número: {len(news_band_section)}')"
   ]
  },
  {
   "cell_type": "markdown",
   "id": "6dd849ba-1ac6-4a4d-9fc2-fea2cba324c8",
   "metadata": {
    "tags": []
   },
   "source": [
    "#### Band home main"
   ]
  },
  {
   "cell_type": "markdown",
   "id": "6dff9eb5-37d9-49ae-bef7-f78074ec694f",
   "metadata": {},
   "source": [
    "![bandcapt.png](bandcapt.png)\n",
    "\n",
    "1. tag main class -> home\n",
    "2. Tag section com class=hardnews\n",
    "3. tag div's conteúdos com para classes hardnews__highlight e cards"
   ]
  },
  {
   "cell_type": "code",
   "execution_count": null,
   "id": "b15c5e6e-4502-4933-a157-a7b1f6be6dc6",
   "metadata": {},
   "outputs": [],
   "source": [
    "import re\n",
    "# Tag 'main' e class=[home container]. (variável band_main_home)\n",
    "band_main_home = soup_band.find_all('main', class_='home')\n",
    "# -----------------------\n",
    "#dir(band_main_home[0] )\n",
    "#print(str( band_main_home ) )\n",
    "soup_band2 = BeautifulSoup( str( band_main_home ) , 'html.parser')\n",
    "\n",
    "bmainhardnews = soup_band2.find_all('section', 'hardnews')\n",
    "soup_blocknews = BeautifulSoup( str( bmainhardnews[0] ), 'html.parser' )\n",
    "bn1 = soup_blocknews.find_all( 'div', class_='hardnews__highlight' )\n",
    "\n",
    "soup_links_news = BeautifulSoup(str( bn1 ), 'html.parser') \n",
    "bn1_link_news = soup_links_news.find_all( 'a'  )#, class_= [ 'link image','related', 'link']  ) \n",
    "bn2 = soup_blocknews.find_all( 'div', class_='cards' )\n",
    "\n",
    "soup2bn2 = BeautifulSoup( str( bn2[0] ), 'html.parser' ) \n",
    "bn2_cards_links = soup2bn2.find_all( 'a' )\n",
    "\n",
    "# Tag: div Class -> hardnews__highlight and card. Duas seções/blocos de noticias.\n",
    "#print('\\n> bn1 ', bn1[0] )\n",
    "#print('\\n> bn2 ', bn2[0] )\n",
    "print('\\n bn1_link_news ', len(bn1_link_news ))\n",
    "print('\\n bn1_link_news ', bn1_link_news[1] )\n",
    "print('\\n'+30*'-')\n",
    "print('\\n bn2_cards_links (size)', len(bn2_cards_links) )\n",
    "print('\\ bn2_cards_links ', bn2_cards_links[-1] ) #Pegando o último elemento da lista e exibindo.\n"
   ]
  },
  {
   "cell_type": "code",
   "execution_count": null,
   "id": "f31bde93-d156-42b7-9f96-817dfa7729fa",
   "metadata": {},
   "outputs": [],
   "source": [
    "#print(dir(bn1_link_news[0] ) )\n",
    "#bn1_link_news[0]['href']\n",
    "\n",
    "# Lista de links de notícias no bloco {tag: div, class_: 'hardnews__highlight' } do HTML.\n",
    "for i in bn1_link_news:\n",
    "    print('\\n> ', i.text +'\\n | '+i['href'])"
   ]
  },
  {
   "cell_type": "code",
   "execution_count": null,
   "id": "9e13e766-4061-4438-87d3-3cec7fb6717a",
   "metadata": {},
   "outputs": [],
   "source": [
    "for i in bn2_cards_links:\n",
    "    print('\\n> ', i['title'] +'\\n | '+i['href'])"
   ]
  },
  {
   "cell_type": "markdown",
   "id": "f481fabc-c560-4474-82ec-b56a50ec5eda",
   "metadata": {},
   "source": [
    "#### Função \"trackBandNews\" (Obtendo notícias do portal da Band)"
   ]
  },
  {
   "cell_type": "code",
   "execution_count": null,
   "id": "327d8751-424c-4ace-8ff2-2aff59beb679",
   "metadata": {},
   "outputs": [],
   "source": [
    "# Type list of dictionary\n",
    "ListDict = list[ dict ]\n",
    "\n",
    "def trackBandNews(data: str) -> ListDict:\n",
    "    \"\"\"\n",
    "    data: str [dados] text html\n",
    "    return list of news with fields 'Title of news' and 'url' for news.\n",
    "    l = [\n",
    "    {'title': 'string', 'href': link},\n",
    "    ...\n",
    "    ]\n",
    "    \n",
    "    \"\"\"\n",
    "    # Lista de notícias\n",
    "    result = []\n",
    "    \n",
    "    # Obtendo conteúdo html\n",
    "    #band_data = requests.get(url_band).content\n",
    "    soup_band = BeautifulSoup(data, 'html.parser')\n",
    "    \n",
    "    # Primeiro acesso tag main (bloco principal que contêm conteúdos como as noticias principais e seus links.\n",
    "    # Tag 'main' e class=[home container]. (variável band_main_home)\n",
    "    band_main_home = soup_band.find_all('main', class_='home')\n",
    "    \n",
    "    # Capturando html do bloco maior em main que contêm as noticias.\n",
    "    soup_band2 = BeautifulSoup( str( band_main_home ) , 'html.parser')\n",
    "    \n",
    "    # Este block ( tag:section, class:hardnews) filho da tag main contem dois blocos de noticias a serem tratados insoladamente.\n",
    "    bmainhardnews = soup_band2.find_all('section', 'hardnews')\n",
    "    soup_blocknews = BeautifulSoup( str( bmainhardnews[0] ), 'html.parser' )\n",
    "    bn1 = soup_blocknews.find_all( 'div', class_='hardnews__highlight' )\n",
    "\n",
    "    \n",
    "    soup_links_news = BeautifulSoup(str( bn1 ), 'html.parser') \n",
    "    bn1_link_news = soup_links_news.find_all( 'a'  )#, class_= [ 'link image','related', 'link']  ) \n",
    "    bn2 = soup_blocknews.find_all( 'div', class_='cards' )\n",
    "\n",
    "    soup2bn2 = BeautifulSoup( str( bn2[0] ), 'html.parser' ) \n",
    "    bn2_cards_links = soup2bn2.find_all( 'a' )\n",
    "\n",
    "    # Tag: div Class -> hardnews__highlight and card. Duas seções/blocos de noticias.\n",
    "    #print('\\n> bn1 ', bn1[0] )\n",
    "    #print('\\n> bn2 ', bn2[0] )\n",
    "    #print('\\n bn1_link_news ', len(bn1_link_news ))\n",
    "    #print('\\n bn1_link_news ', bn1_link_news[1] )\n",
    "    #print('\\n'+30*'-')\n",
    "    #print('\\n bn2_cards_links (size)', len(bn2_cards_links) )\n",
    "    #print('\\ bn2_cards_links ', bn2_cards_links[-1] ) #Pegando o último elemento da lista e exibindo.\n",
    "    \n",
    "    # Lista de links de notícias no bloco {tag: div, class_: 'hardnews__highlight' } do HTML.\n",
    "    for i in bn1_link_news:\n",
    "        result.append( { 'title': i.text, 'href': i['href'] } )\n",
    "        #print('\\n> ', i.text +'\\n | '+i['href'])\n",
    "        \n",
    "    for i in bn2_cards_links:\n",
    "        result.append( { 'title' : i['title'], 'href':  i['href'] } )\n",
    "        #print('\\n> ', i['title'] +'\\n | '+i['href'])\n",
    "    \n",
    "    return result"
   ]
  },
  {
   "cell_type": "code",
   "execution_count": null,
   "id": "b6b8497d-ad0c-4a5c-8a58-20970ac0e0f6",
   "metadata": {},
   "outputs": [],
   "source": [
    "band_news = trackBandNews( band_data )\n",
    "band_news"
   ]
  },
  {
   "cell_type": "markdown",
   "id": "c4c041e9-85eb-4afa-8592-27aed6676f49",
   "metadata": {
    "tags": []
   },
   "source": [
    "#### Percorrer listas de elementos em 'news_band_section'"
   ]
  },
  {
   "cell_type": "code",
   "execution_count": null,
   "id": "470af61e-68c4-443e-9847-217ffd21a2b2",
   "metadata": {},
   "outputs": [],
   "source": [
    "aux = []\n",
    "list_ = None\n",
    "for secs in news_band_section:\n",
    "    list_ = secs.find_all('a', class_='link')\n",
    "    for i in list_:\n",
    "        \n",
    "        try:\n",
    "            aux.extend( [ { 'title': i.h3.text+'. '+ i.h2.text, 'href': i['href']} ] )\n",
    "        except:\n",
    "            aux.extend( [ { 'title': i.text, 'href': i['href'] } ] )\n",
    "    #aux.extend([ { 'title': i}  for i in list_ ]  )\n",
    "news_list_band = [] \n",
    "news_list_band.extend(random.choices(aux, k=4 ) )"
   ]
  },
  {
   "cell_type": "code",
   "execution_count": null,
   "id": "98ce98b6-b991-4bab-b84c-574a5299a50b",
   "metadata": {},
   "outputs": [],
   "source": [
    "n = soup_band.find_all('a')"
   ]
  },
  {
   "cell_type": "code",
   "execution_count": null,
   "id": "14f61d43-c1c8-4256-9cde-a8e78f9e190d",
   "metadata": {},
   "outputs": [],
   "source": [
    "import random\n",
    "\n",
    "random.choices(news_list_band, k = 4)[0:]\n",
    "for i in news_list_band:\n",
    "    print(f\"\\n{i['title']}\\n{i['href']}\")"
   ]
  },
  {
   "cell_type": "code",
   "execution_count": null,
   "id": "d4d2372d-8299-46a0-9d0b-332dae51aecf",
   "metadata": {},
   "outputs": [],
   "source": [
    "n[0]"
   ]
  },
  {
   "cell_type": "code",
   "execution_count": null,
   "id": "9d503a4e-1430-485d-8714-042c7e69e327",
   "metadata": {},
   "outputs": [],
   "source": [
    "#print(dir(n[0]))\n",
    "n[0]"
   ]
  },
  {
   "cell_type": "code",
   "execution_count": null,
   "id": "466e01bc-6221-4f8f-8f60-72223e9d281b",
   "metadata": {},
   "outputs": [],
   "source": [
    "# Lista de links possivelmente de notícias no site da Band.\n",
    "for i in n:\n",
    "    try:\n",
    "        print(i['href'])\n",
    "    except:\n",
    "        print(\"no link\")"
   ]
  },
  {
   "cell_type": "markdown",
   "id": "1e892b1a-86bd-4b4a-82bc-4e08440c31bc",
   "metadata": {
    "tags": []
   },
   "source": [
    "## Folha de São Paulo "
   ]
  },
  {
   "cell_type": "markdown",
   "id": "ad8ab63a-d7c2-471d-abb5-f3f9cd2605c8",
   "metadata": {},
   "source": [
    "Lendo feed RSS do site de notícias da [Folha de São Paulo](https://www1.folha.uol.com.br/feed/).\n",
    "\n",
    "**Editoriais** Disponíveis\n",
    "\n",
    "- [Em Cima Da Hora](https://feeds.folha.uol.com.br/emcimadahora/rss091.xml)\n",
    "- [Opinião](https://feeds.folha.uol.com.br/opiniao/rss091.xml)\n",
    "- [Política](https://feeds.folha.uol.com.br/poder/rss091.xml)\n",
    "- [Mundo](https://feeds.folha.uol.com.br/mundo/rss091.xml)\n",
    "- [Mercado](https://feeds.folha.uol.com.br/mercado/rss091.xml)\n",
    "- [Cotidiano](https://feeds.folha.uol.com.br/cotidiano/rss091.xml)\n",
    "- [Educação](https://feeds.folha.uol.com.br/educacao/rss091.xml)\n",
    "- [Equilíbrio](https://feeds.folha.uol.com.br/equilibrio/rss091.xml)\n",
    "- [Esporte](https://feeds.folha.uol.com.br/esporte/rss091.xml)\n",
    "- [Ilustrada](https://feeds.folha.uol.com.br/ilustrada/rss091.xml)\n",
    "- [Ilustríssima](https://feeds.folha.uol.com.br/ilustrissima/rss091.xml)\n",
    "- [Ciência](https://feeds.folha.uol.com.br/ciencia/rss091.xml)\n",
    "- [Ambiente](https://feeds.folha.uol.com.br/ambiente/rss091.xml)\n",
    "- [Tec](https://feeds.folha.uol.com.br/tec/rss091.xml)\n",
    "- [Comida](https://feeds.folha.uol.com.br/comida/rss091.xml)\n",
    "- [Saúde](https://feeds.folha.uol.com.br/equilibrioesaude/rss091.xml)\n",
    "- [Folhinha](https://feeds.folha.uol.com.br/folhinha/rss091.xml)\n",
    "- [Turismo](https://feeds.folha.uol.com.br/turismo/rss091.xml)\n"
   ]
  },
  {
   "cell_type": "code",
   "execution_count": null,
   "id": "badd13aa-ffca-4839-8c06-ba670196dc5a",
   "metadata": {},
   "outputs": [],
   "source": [
    "import feedparser as fp\n",
    "\n",
    "fsp_editoriais = [ \n",
    "    ('Em Cima Da Hora', 'https://feeds.folha.uol.com.br/emcimadahora/rss091.xml'),\n",
    "    ('Opinião', 'https://feeds.folha.uol.com.br/opiniao/rss091.xml' ) ,\n",
    "    ( 'Política', 'https://feeds.folha.uol.com.br/poder/rss091.xml') ,\n",
    "    ('Mundo', 'https://feeds.folha.uol.com.br/mundo/rss091.xml'),\n",
    "    ('Mercado','https://feeds.folha.uol.com.br/mercado/rss091.xml'),\n",
    "    ('Cotidiano','https://feeds.folha.uol.com.br/cotidiano/rss091.xml'),\n",
    "    ('Educação', 'https://feeds.folha.uol.com.br/educacao/rss091.xml'),\n",
    "    ('Equilíbrio', 'https://feeds.folha.uol.com.br/equilibrio/rss091.xml'),\n",
    "    ('Esporte','https://feeds.folha.uol.com.br/esporte/rss091.xml'),\n",
    "    ('Ilustrada', 'https://feeds.folha.uol.com.br/ilustrada/rss091.xml'),\n",
    "    ('Ilustríssima','https://feeds.folha.uol.com.br/ilustrissima/rss091.xml'),\n",
    "    ('Ciência','https://feeds.folha.uol.com.br/ciencia/rss091.xml'),\n",
    "    ('Ambiente','https://feeds.folha.uol.com.br/ambiente/rss091.xml'),\n",
    "    ('Tec','https://feeds.folha.uol.com.br/tec/rss091.xml'),\n",
    "    ('Comida','https://feeds.folha.uol.com.br/comida/rss091.xml'),\n",
    "    ('Saúde','https://feeds.folha.uol.com.br/equilibrioesaude/rss091.xml'),\n",
    "    ('Folhinha','https://feeds.folha.uol.com.br/folhinha/rss091.xml'),\n",
    "    ('Turismo','https://feeds.folha.uol.com.br/turismo/rss091.xml'),\n",
    "]"
   ]
  },
  {
   "cell_type": "code",
   "execution_count": null,
   "id": "c06313a3-4d77-4c7d-a959-106b66da9454",
   "metadata": {},
   "outputs": [],
   "source": [
    "# Lista dos feeds pelos editoriais.\n",
    "#l = [ {i: {'title': j.title, 'href': j.link } } for i,j in zip(range(len(d.entries) + 1), d.entries) \n",
    "#fsp_feeds = [ [ { i: { 'title': j.title, 'href': j.link } } for i, j in zip( range( len( fp.parser(feed) ) ), feed.entries ) ]  for feed in fsp_editoriais ]\n",
    "fsp_feeds = [ \n",
    "    { i: ( j[0], fp.parse( j[1] ) ) }\n",
    "    for i,j in zip( range( len( fsp_editoriais) + 1 ), fsp_editoriais ) \n",
    "]\n",
    "\n",
    "\n"
   ]
  },
  {
   "cell_type": "code",
   "execution_count": null,
   "id": "dbf7c618-6ba6-4e01-806c-869754883eac",
   "metadata": {},
   "outputs": [],
   "source": [
    "fsp_feeds2 =  [ \n",
    "    { 'Editorial': j[0], 'FeedData': fp.parse( j[1] ) } \n",
    "    for j in fsp_editoriais  \n",
    "]"
   ]
  },
  {
   "cell_type": "code",
   "execution_count": null,
   "id": "371d2db0-3c58-480a-8ad7-570e5c82b30d",
   "metadata": {},
   "outputs": [],
   "source": [
    "# Lista de editoriais com suas respectivas listas de notícias. Para cada editorial extraido um lista de notícias.\n",
    "fsp_news_list = [\n",
    "    { \n",
    "        'Editorial': i[ 'Editorial' ],\n",
    "        'Noticias': [ { \n",
    "            'Title': j.title,\n",
    "            'Summary': j.summary,\n",
    "            'href': j['link'].split('*')[1]\n",
    "     }  for j in i[ 'FeedData' ].entries ]\n",
    "    } for i in fsp_feeds2 \n",
    "]"
   ]
  },
  {
   "cell_type": "code",
   "execution_count": null,
   "id": "47863cc6-2bd9-432c-ad14-10ee4f47aaf5",
   "metadata": {},
   "outputs": [],
   "source": [
    "def trackFolhaSP():\n",
    "    \"\"\"\n",
    "    Track página da \"Folha de São Paulo\"\n",
    "    \"\"\"\n",
    "    fsp_editoriais = ( \n",
    "            ('Em Cima Da Hora', 'https://feeds.folha.uol.com.br/emcimadahora/rss091.xml'),\n",
    "            ('Opinião', 'https://feeds.folha.uol.com.br/opiniao/rss091.xml' ) ,\n",
    "            ( 'Política', 'https://feeds.folha.uol.com.br/poder/rss091.xml') ,\n",
    "            ('Mundo', 'https://feeds.folha.uol.com.br/mundo/rss091.xml'),\n",
    "            ('Mercado','https://feeds.folha.uol.com.br/mercado/rss091.xml'),\n",
    "            ('Cotidiano','https://feeds.folha.uol.com.br/cotidiano/rss091.xml'),\n",
    "            ('Educação', 'https://feeds.folha.uol.com.br/educacao/rss091.xml'),\n",
    "            ('Equilíbrio', 'https://feeds.folha.uol.com.br/equilibrio/rss091.xml'),\n",
    "            ('Esporte','https://feeds.folha.uol.com.br/esporte/rss091.xml'),\n",
    "            ('Ilustrada', 'https://feeds.folha.uol.com.br/ilustrada/rss091.xml'),\n",
    "            ('Ilustríssima','https://feeds.folha.uol.com.br/ilustrissima/rss091.xml'),\n",
    "            ('Ciência','https://feeds.folha.uol.com.br/ciencia/rss091.xml'),\n",
    "            ('Ambiente','https://feeds.folha.uol.com.br/ambiente/rss091.xml'),\n",
    "            ('Tec','https://feeds.folha.uol.com.br/tec/rss091.xml'),\n",
    "            ('Comida','https://feeds.folha.uol.com.br/comida/rss091.xml'),\n",
    "            ('Saúde','https://feeds.folha.uol.com.br/equilibrioesaude/rss091.xml'),\n",
    "            ('Folhinha','https://feeds.folha.uol.com.br/folhinha/rss091.xml'),\n",
    "            ('Turismo','https://feeds.folha.uol.com.br/turismo/rss091.xml'),\n",
    "        )\n",
    "\n",
    "    fsp_feeds =  ( \n",
    "            { 'Editorial': j[0], 'FeedData': fp.parse( j[1] ) } \n",
    "                for j in fsp_editoriais  \n",
    "        )  \n",
    "\n",
    "    # Lista de editoriais com suas respectivas listas de notícias. Para cada editorial extraido um lista de notícias.\n",
    "    fsp_news_list = (\n",
    "            { \n",
    "                'Editorial': i[ 'Editorial' ],\n",
    "                'Noticias': ( { \n",
    "                    'Title': j.title,\n",
    "                    'Summary': j.summary,\n",
    "                    'href': j['link'].split('*')[1]\n",
    "            }  for j in i[ 'FeedData' ].entries )\n",
    "            } for i in fsp_feeds \n",
    "        )\n",
    "\n",
    "    return  fsp_news_list "
   ]
  },
  {
   "cell_type": "code",
   "execution_count": null,
   "id": "e355df0e-626a-4627-aff7-73492dccc5dd",
   "metadata": {},
   "outputs": [],
   "source": [
    "# Testes dos algoritmos"
   ]
  },
  {
   "cell_type": "code",
   "execution_count": null,
   "id": "8affbdf8-cea6-4662-96a7-523794fbd8b5",
   "metadata": {},
   "outputs": [],
   "source": [
    "f = trackFolhaSP()\n"
   ]
  },
  {
   "cell_type": "code",
   "execution_count": null,
   "id": "1cef359a-68c6-4dc8-9c00-ce02adced912",
   "metadata": {},
   "outputs": [],
   "source": [
    "import sys"
   ]
  },
  {
   "cell_type": "code",
   "execution_count": null,
   "id": "6dbc00fa-33ea-48d9-82c0-c29ddfecbab7",
   "metadata": {},
   "outputs": [],
   "source": [
    "\n",
    "sys.getsizeof(f)"
   ]
  },
  {
   "cell_type": "code",
   "execution_count": null,
   "id": "ffb0b006-e092-48e9-ae4f-09e723ee4f8b",
   "metadata": {},
   "outputs": [],
   "source": [
    "sys.getsizeof( fsp_news_list )"
   ]
  },
  {
   "cell_type": "code",
   "execution_count": null,
   "id": "ae467a1c-1d1d-4a99-9fe9-1abf039cdce4",
   "metadata": {},
   "outputs": [],
   "source": [
    "for i in f:\n",
    "    print(i)"
   ]
  },
  {
   "cell_type": "code",
   "execution_count": null,
   "id": "8373503a-5055-4be2-94e5-9759d0ebec90",
   "metadata": {},
   "outputs": [],
   "source": [
    "for j in fsp_news_list:\n",
    "    print(j)"
   ]
  },
  {
   "cell_type": "code",
   "execution_count": null,
   "id": "87236726-d9e5-465d-b58a-7cd563f70297",
   "metadata": {},
   "outputs": [],
   "source": [
    "fsp_feeds[0][0]"
   ]
  },
  {
   "cell_type": "code",
   "execution_count": null,
   "id": "56d4eb8f-3c8a-4f54-9bbc-fa7ff6bf61a2",
   "metadata": {},
   "outputs": [],
   "source": [
    "fsp_editoriais"
   ]
  },
  {
   "cell_type": "markdown",
   "id": "5e4d2bbf",
   "metadata": {
    "tags": [],
    "toc-hr-collapsed": true
   },
   "source": [
    "## Montando Lista de Notícias"
   ]
  },
  {
   "cell_type": "code",
   "execution_count": null,
   "id": "a43cf177",
   "metadata": {},
   "outputs": [],
   "source": [
    "number_news = 6\n"
   ]
  },
  {
   "cell_type": "code",
   "execution_count": null,
   "id": "fef8aed2",
   "metadata": {},
   "outputs": [],
   "source": [
    "import random"
   ]
  },
  {
   "cell_type": "code",
   "execution_count": null,
   "id": "dc4ea054",
   "metadata": {},
   "outputs": [],
   "source": [
    "news_list = []\n",
    "\n",
    "news_list.extend( [ {'title': random.choices( [ (news['title'], news['url']) for news in dw ] , k = 2 ), 'source': 'G1/Globo' } ] )\n",
    "\n",
    "news_list.extend( [ {'title': random.choices( [ (news['title'], news['href']) for news in cnn_list_news ] , k = 2 ), 'source': 'CNN Brasil' } ] )\n",
    "\n",
    "news_list.extend( [ {'title': random.choices( [ (news['title'], news['href']) for news in bbc_news_lists ] , k = 2 ), 'source': 'BBC Brasil' } ] )\n",
    "\n",
    "news_list.extend( [ { 'title':  random.choices( [ ( news['title'], news['href'] ) for news in band_news  ] , k= 2 ), 'source': 'Band' } ] )\n"
   ]
  },
  {
   "cell_type": "code",
   "execution_count": null,
   "id": "974176ec",
   "metadata": {},
   "outputs": [],
   "source": [
    "for i in news_list:\n",
    "    for j in i['title']:\n",
    "        print(f\"{j[0]}. \\n{j[1]}\\n\")\n",
    "    \n",
    "    print(f\"Fonte: {i['source']}\\n\\n\")"
   ]
  },
  {
   "cell_type": "markdown",
   "id": "c3e35a27-ec7c-4467-9216-1ec5db355825",
   "metadata": {},
   "source": [
    "## Salvando Todas Noticias (JSON)"
   ]
  },
  {
   "cell_type": "markdown",
   "id": "4f8582d4-9425-4439-8a2d-3bfbab48919f",
   "metadata": {},
   "source": [
    "### View news for test algorithm"
   ]
  },
  {
   "cell_type": "code",
   "execution_count": null,
   "id": "4dc4ef07-7a0d-40a9-95c5-68a585e7b6f8",
   "metadata": {},
   "outputs": [],
   "source": [
    "# List news\n",
    "news = None\n",
    "portaisvar = [\n",
    "    'dw', #Globo/G1\n",
    "    'cnn_list_news', # CNN Brazil\n",
    "    'bbc_news_list' # BBC Brazil\n",
    "]\n",
    "\n",
    "portais = { 'dw': 'Globo/G1', 'cnn_list_news': 'CNN Brasil', 'bbc_news_lists': 'BBC Brasil' }    "
   ]
  },
  {
   "cell_type": "code",
   "execution_count": null,
   "id": "b10a3e84-3cba-4a3b-99e7-3c4b06f4ddf0",
   "metadata": {},
   "outputs": [],
   "source": [
    "dw[0].keys(), cnn_list_news[0].keys(), bbc_news_lists[0].keys()"
   ]
  },
  {
   "cell_type": "code",
   "execution_count": null,
   "id": "5eee3e4a-6c18-41f7-ba9b-47d40c35088b",
   "metadata": {},
   "outputs": [],
   "source": [
    "# Replace field name 'titulo' for 'title' name.\n",
    "dw = [ { key.replace('titulo', 'title'):value for key, value in i.items() } for i in dw ]\n",
    "dw = [ { key.replace('url', 'href'):value for key, value in i.items() } for i in dw ]\n",
    "dw"
   ]
  },
  {
   "cell_type": "code",
   "execution_count": null,
   "id": "b571d2b5-6902-46f7-96d6-21366b4dd13b",
   "metadata": {},
   "outputs": [],
   "source": [
    "#[ { key.replace('title', 'titulo' ) } ]\n",
    "newslist = dw + cnn_list_news + bbc_news_lists\n",
    "#newslist"
   ]
  },
  {
   "cell_type": "code",
   "execution_count": null,
   "id": "27066ffb-f291-4cc5-86b2-cef127a4d8ba",
   "metadata": {},
   "outputs": [],
   "source": [
    "import os\n",
    "count = 0\n",
    "try:\n",
    "    os.mkdir( 'newsdata' )\n",
    "except FileExistsError:\n",
    "    print(\"File exist\")\n",
    "    \n",
    "webdata = ''\n",
    "# Save data of link news in files to folder.\n",
    "for news in newslist:\n",
    "    try:\n",
    "        #news['data'] = requests.get(news['href']).text\n",
    "        foldername = f'newsdata'\n",
    "        #os.mkdir( foldername )\n",
    "        news['datafile'] = f'{foldername}/'+str( count )\n",
    "        with open( foldername+f'/{str(count)}', 'a' ) as fl:\n",
    "            webdata = requests.get( news['href'] ).text \n",
    "            fl.write( webdata )\n",
    "            fl.close()\n",
    "            \n",
    "        count += 1\n",
    "    except :\n",
    "        print('not get page')\n",
    "        continue\n",
    "    "
   ]
  },
  {
   "cell_type": "code",
   "execution_count": null,
   "id": "0989f5b2-da01-44e0-bcb8-1be5fd2bd158",
   "metadata": {},
   "outputs": [],
   "source": [
    "newslist[0]['datafile']"
   ]
  },
  {
   "cell_type": "code",
   "execution_count": null,
   "id": "2d38942e-e38c-402d-8633-2f853064cc53",
   "metadata": {},
   "outputs": [],
   "source": [
    "p = requests.get( newslist[0]['href'] )\n",
    "soup = BeautifulSoup( p.text, 'html.parser')\n",
    "texto = soup.get_text()\n",
    "print( texto[0:150] )"
   ]
  },
  {
   "cell_type": "code",
   "execution_count": null,
   "id": "9196f821-ec0f-4ecb-91fb-52a2000bdd1f",
   "metadata": {},
   "outputs": [],
   "source": [
    "d = ''\n",
    "with open(foldername+'/0', 'r') as fl:\n",
    "    d = fl.read()\n",
    "    fl.close()\n",
    "\n",
    "\n",
    "soup = BeautifulSoup(d, 'html.parser')\n",
    "#souptext = soup.text\n",
    "content = soup.find_all('div')\n",
    "#dir(soup)"
   ]
  },
  {
   "cell_type": "code",
   "execution_count": null,
   "id": "72d02fbc-379b-4153-9a38-5134e4c02b5a",
   "metadata": {},
   "outputs": [],
   "source": [
    "texto = ' '.join( [ i.get_text() for i in content ] )\n",
    "texto = texto.replace('\\n', ' ')\n",
    "with open('texto', 'w' ) as fl:\n",
    "    #fl.write( souptext )\n",
    "    fl.write( texto )\n",
    "    "
   ]
  },
  {
   "cell_type": "code",
   "execution_count": null,
   "id": "14d06b94-9014-49ac-af6b-bddb1e63202d",
   "metadata": {},
   "outputs": [],
   "source": [
    "print( texto[0:100] )"
   ]
  },
  {
   "cell_type": "code",
   "execution_count": null,
   "id": "181403d6-18d3-4f33-8f7a-2a51a77c92ef",
   "metadata": {},
   "outputs": [],
   "source": [
    "import json\n",
    "\n",
    "with open('noticias.json', 'w') as fl:\n",
    "    fl.write(json.dumps(newslist, ensure_ascii=False, indent=4))\n",
    "    fl.close()"
   ]
  },
  {
   "cell_type": "markdown",
   "id": "c7ee5e9e-92f7-4d1d-8c4b-5f1d2e3cd5e8",
   "metadata": {},
   "source": [
    "### Salva noticias"
   ]
  },
  {
   "cell_type": "code",
   "execution_count": null,
   "id": "9d67faf7-6fd4-4af6-b35b-e1319b6c01c4",
   "metadata": {},
   "outputs": [],
   "source": [
    "def savenews(newslist: list, filename: str) -> None:\n",
    "    import json\n",
    "    jsondata = None\n",
    "    with open(filename, 'w') as fl:\n",
    "        fl.write( json.dumps( newslist, encode='utf-8', indent=4 ) )\n",
    "        fl.close()\n",
    "    print('Saved...')\n",
    "    "
   ]
  },
  {
   "cell_type": "code",
   "execution_count": null,
   "id": "84a3c9f4",
   "metadata": {},
   "outputs": [],
   "source": [
    "i = j = None\n",
    "\n",
    "for i in news_list:\n",
    "    for j in i['title']:\n",
    "        print(f'{j[0]}.')\n",
    "    print(f'Fonte: {i[\"source\"] }\\n\\n ' )"
   ]
  },
  {
   "cell_type": "code",
   "execution_count": null,
   "id": "7c0ca847-a7d0-4941-bfc7-14c8b2123ead",
   "metadata": {},
   "outputs": [],
   "source": [
    "i = j = None\n",
    "\n",
    "print(f\"Olá bem vindo ao Diário de Notícias Dimensão Alfa. Estas são as principais manchetes do dia.\\n\")\n",
    "for i in news_list:\n",
    "    print(f'Portal de Notícias {i[\"source\"] }\\n ' )\n",
    "    for j in i['title']:\n",
    "        print(f'{j[0]}.')"
   ]
  },
  {
   "cell_type": "markdown",
   "id": "91fbc7d6-b613-4602-9935-987991f8dba4",
   "metadata": {
    "tags": []
   },
   "source": [
    "# Body Texts"
   ]
  },
  {
   "cell_type": "code",
   "execution_count": null,
   "id": "d6338718-6ff2-48a6-b66f-a058b868b7f6",
   "metadata": {},
   "outputs": [],
   "source": []
  },
  {
   "cell_type": "markdown",
   "id": "d1879811-0f8b-4150-86a7-606389a58301",
   "metadata": {
    "jp-MarkdownHeadingCollapsed": true,
    "tags": [],
    "toc-hr-collapsed": true
   },
   "source": [
    "# Sobre"
   ]
  },
  {
   "cell_type": "markdown",
   "id": "2c8c3c3a-34bd-4081-a3de-4d172f80eb07",
   "metadata": {
    "tags": []
   },
   "source": [
    "## Dimensão Alfa"
   ]
  },
  {
   "cell_type": "markdown",
   "id": "93927b53-1f5b-4f94-abed-cf9e6f99fc99",
   "metadata": {
    "jp-MarkdownHeadingCollapsed": true,
    "tags": []
   },
   "source": [
    "Dimensão Alfa projetos e conteúdos de tecnologia."
   ]
  },
  {
   "cell_type": "markdown",
   "id": "9922c82b-a271-4e7c-b6f7-a1420b69b13f",
   "metadata": {
    "tags": []
   },
   "source": [
    "## Info"
   ]
  },
  {
   "cell_type": "markdown",
   "id": "1669e98a-92e1-4d73-b518-163002feab8b",
   "metadata": {},
   "source": [
    "O presente projeto tem sido usado com fins de divulgação e facilitação de acesso a noticias e conhecimento em comunhão com objetivo da plataforma/página Dimensão Alfa. \n",
    "Conteúdos de terceiros são de responsabilidades dos mesmos bem como seus direitos autorais.\n",
    "\n",
    "O projeto encontra-se em desenvolvimento, inicialmente fôra batizado de Ani Fátima Liu, e estará passando por alterações estando de inicio disponibilizado em formato \"_jupyter notebook_\" podendo servir como _case_ de estudo para os que se interessam por \"web scrap\" (raspagem de dados).\n",
    "\n",
    "Tecnologias foram usadas para gerar vídeo de noticias diária para página [Youtube](https://www.youtube.com/@dimensaoalfa); foi usada as seguintes tecnologias:\n",
    "\n",
    "* [Editor de códigos VSCode](https://code.visualstudio.com/)\n",
    "* [Python (linguagem de programação)](https://www.python.org/)\n",
    "* [Ambiente JupyterLab](https://jupyter.org/)\n",
    "* [Biblioteca \"Requests\"](https://requests.readthedocs.io/en/latest/)\n",
    "* [Biblioteca \"BeautifulSoup\"](https://www.crummy.com/software/BeautifulSoup/bs4/doc/)\n",
    "* [Serviço de Sintese de Voz Microsoft/Azure](https://speech.microsoft.com)\n",
    "\n",
    "\n",
    "Peço e agradeço a compreensão e apoio de todos. \n",
    "\n",
    "Para contribuições, dúvidas, sugestões visitem meu blog [WSRicardo](https://wsricardo.blogspot.com).\n"
   ]
  },
  {
   "cell_type": "markdown",
   "id": "fcc6698c-a66b-47a8-aacc-444904c32d39",
   "metadata": {
    "tags": []
   },
   "source": [
    "## Sugestões de Conteúdo"
   ]
  },
  {
   "cell_type": "markdown",
   "id": "a46ff71a-b892-48d4-a647-227402170487",
   "metadata": {
    "tags": []
   },
   "source": [
    "Deixamos abaixo algumas sugestões de conteúdos e canais com recursos para estudos e pesquisa que podem ser uteis para quem se interessa por tecnologia, programação de computadores, matemática, ciências de dados e inteligência artificial.\n",
    "\n",
    "* [Programação Dinâmica](https://www.youtube.com/c/Programa%C3%A7%C3%A3oDin%C3%A2mica)\n",
    "* [Toda Matemática](https://www.youtube.com/c/GustavoViegascurso)\n",
    "* [Matemática Universitária](https://www.youtube.com/c/Matem%C3%A1ticaUniversit%C3%A1riaProfRenan)\n",
    "* [Reflexões Matemáticas](https://www.youtube.com/c/Reflex%C3%B5esMatem%C3%A1ticasDrDilbertoJ%C3%BAnior)\n",
    "* [Programação Descomplicada](https://www.youtube.com/user/progdescomplicada)\n",
    "* [Univesp](https://www.youtube.com/user/univesptv)\n",
    "* [USP no Youtube](https://www.youtube.com/c/CanalUSP)\n",
    "* [IME/USP](https://www.ime.usp.br/)\n",
    "* [IMPA](https://www.youtube.com/c/impabr)\n",
    "\n"
   ]
  },
  {
   "cell_type": "markdown",
   "id": "6b7d7325-7366-4924-8c94-fbefbeefdf51",
   "metadata": {
    "tags": []
   },
   "source": [
    "## Links"
   ]
  },
  {
   "cell_type": "markdown",
   "id": "efa1176b-3805-4997-aca5-9d581b1bafb8",
   "metadata": {
    "tags": []
   },
   "source": [
    "* [Dimensão Alfa](https://www.dimensaoalfa.com.br)\n",
    "* [Facebook](https://www.facebook.com/dimensaoalfa)\n",
    "* [Youtube](https://www.youtube.com/@dimensaoalfa)\n",
    "* [WSRicardo](https://wsricardo.blogspot.com)"
   ]
  }
 ],
 "metadata": {
  "kernelspec": {
   "display_name": "Python 3 (ipykernel)",
   "language": "python",
   "name": "python3"
  },
  "language_info": {
   "codemirror_mode": {
    "name": "ipython",
    "version": 3
   },
   "file_extension": ".py",
   "mimetype": "text/x-python",
   "name": "python",
   "nbconvert_exporter": "python",
   "pygments_lexer": "ipython3",
   "version": "3.10.7"
  },
  "vscode": {
   "interpreter": {
    "hash": "916dbcbb3f70747c44a77c7bcd40155683ae19c65e1c03b4aa3499c5328201f1"
   }
  }
 },
 "nbformat": 4,
 "nbformat_minor": 5
}
