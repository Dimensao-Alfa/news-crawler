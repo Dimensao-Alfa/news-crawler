{
 "cells": [
  {
   "cell_type": "markdown",
   "id": "6890fc95-57b4-4a9d-89bc-876f3192c38c",
   "metadata": {},
   "source": [
    "# Data - Download News From Web"
   ]
  },
  {
   "cell_type": "markdown",
   "id": "b7581338-084c-47ad-a465-480bc680b844",
   "metadata": {},
   "source": [
    "This project aims to facilitate access to information and knowledge, and also to act against the spread of false news on the internet as well as the spread of hate speech arising from Fakes news."
   ]
  },
  {
   "cell_type": "markdown",
   "id": "43df9fef-5398-4347-925d-19cbcd1e92d4",
   "metadata": {},
   "source": [
    "## Import python  modules"
   ]
  },
  {
   "cell_type": "code",
   "execution_count": null,
   "id": "58519c67-1c0a-40b4-be53-2259ca0db880",
   "metadata": {},
   "outputs": [],
   "source": [
    "import requests\n",
    "from bs4 import BeautifulSoup\n",
    "import pandas as pd"
   ]
  },
  {
   "cell_type": "markdown",
   "id": "5be4d44b-51cf-4f6f-b3bb-d99854fdcbff",
   "metadata": {},
   "source": [
    "## Get HTML"
   ]
  },
  {
   "cell_type": "markdown",
   "id": "41de0e90-b8d8-4226-9612-c56bb25cc8cb",
   "metadata": {},
   "source": [
    "Get html content and save. Using module requests."
   ]
  },
  {
   "cell_type": "code",
   "execution_count": null,
   "id": "9aeaf785-92a4-4b58-89b2-06e9d3e9a6b5",
   "metadata": {},
   "outputs": [],
   "source": [
    "s = requests.Session()"
   ]
  },
  {
   "cell_type": "code",
   "execution_count": null,
   "id": "7d4b64ac-9cfe-45fb-8ce2-b514fdc289fb",
   "metadata": {},
   "outputs": [],
   "source": [
    "urls = {\n",
    "    'G1Globo': 'https://g1.globo.com/',\n",
    "    'BBC': 'https://www.bbc.com/portuguese',\n",
    "    'CNNBrasil': 'https://www.cnnbrasil.com.br/',\n",
    "    'Band': 'https://www.band.uol.com.br/'\n",
    "}"
   ]
  },
  {
   "cell_type": "code",
   "execution_count": null,
   "id": "8307b190-cac9-4649-b842-97bc43534579",
   "metadata": {},
   "outputs": [],
   "source": [
    "for i,j in urls.items():\n",
    "    print(i,j)"
   ]
  },
  {
   "cell_type": "code",
   "execution_count": null,
   "id": "d2cb0f3f-107c-4eff-be42-7fa2563d9a83",
   "metadata": {},
   "outputs": [],
   "source": [
    "def getDataNewsFromWeb(url_lis ):\n",
    "    \"\"\"\n",
    "    Return generator with items for text in web page\n",
    "    \"\"\"\n",
    "    for i, j in urls.items():\n",
    "        yield (i, s.get( j ).text )\n",
    "    "
   ]
  },
  {
   "cell_type": "code",
   "execution_count": null,
   "id": "a071d229-e7d8-496d-a951-8328768333a2",
   "metadata": {},
   "outputs": [],
   "source": [
    "datas = getDataNewsFromWeb( s )\n",
    "\n"
   ]
  },
  {
   "cell_type": "code",
   "execution_count": null,
   "id": "06d4533c-0b5f-4128-9021-44a37b787710",
   "metadata": {},
   "outputs": [],
   "source": [
    "# Save data\n",
    "#for i in datas:\n",
    "#    with open(f\"data_{i[0]}.html\", 'w') as fl:\n",
    "#        print(f'>{i[0]}')\n",
    "#        fl.write( i[1] )"
   ]
  },
  {
   "cell_type": "markdown",
   "id": "55423bb3-3a55-43a3-a9f9-129d66ef29e1",
   "metadata": {},
   "source": [
    "## Get links list from json file in datanews directory"
   ]
  },
  {
   "cell_type": "markdown",
   "id": "b5826612-fe41-4cc7-ae79-0d3388a183eb",
   "metadata": {},
   "source": [
    "Get links and clean data from json files and save."
   ]
  },
  {
   "cell_type": "code",
   "execution_count": null,
   "id": "d672a94e-3474-4a7f-ae19-afb9c5f59f0e",
   "metadata": {},
   "outputs": [],
   "source": [
    "#for i in datas:\n",
    "#    print(i)"
   ]
  },
  {
   "cell_type": "code",
   "execution_count": null,
   "id": "59cbce87-3da3-49e4-9b8a-18286da5e972",
   "metadata": {},
   "outputs": [],
   "source": [
    "# Load news link in directory datanews.\n",
    "# CLear data links.\n"
   ]
  }
 ],
 "metadata": {
  "kernelspec": {
   "display_name": "Python 3 (ipykernel)",
   "language": "python",
   "name": "python3"
  },
  "language_info": {
   "codemirror_mode": {
    "name": "ipython",
    "version": 3
   },
   "file_extension": ".py",
   "mimetype": "text/x-python",
   "name": "python",
   "nbconvert_exporter": "python",
   "pygments_lexer": "ipython3",
   "version": "3.10.7"
  }
 },
 "nbformat": 4,
 "nbformat_minor": 5
}
