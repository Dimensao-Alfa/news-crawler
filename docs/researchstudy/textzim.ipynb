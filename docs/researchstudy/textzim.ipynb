{
 "cells": [
  {
   "cell_type": "code",
   "execution_count": 1,
   "id": "b931201a-4805-4f0c-964f-377579a901c6",
   "metadata": {},
   "outputs": [
    {
     "ename": "RuntimeError",
     "evalue": "error 2 opening file \"test.zim",
     "output_type": "error",
     "traceback": [
      "\u001b[0;31m---------------------------------------------------------------------------\u001b[0m",
      "\u001b[0;31mRuntimeError\u001b[0m                              Traceback (most recent call last)",
      "\u001b[0;32m/tmp/ipykernel_22290/3072631143.py\u001b[0m in \u001b[0;36m<cell line: 7>\u001b[0;34m()\u001b[0m\n\u001b[1;32m      5\u001b[0m \u001b[0;31m# Arquivo com conteúdo da wikipedia para ser visualizado offline.\u001b[0m\u001b[0;34m\u001b[0m\u001b[0;34m\u001b[0m\u001b[0m\n\u001b[1;32m      6\u001b[0m \u001b[0;31m# Os dados obtidos serão usado para treinamento do chatbot.\u001b[0m\u001b[0;34m\u001b[0m\u001b[0;34m\u001b[0m\u001b[0m\n\u001b[0;32m----> 7\u001b[0;31m \u001b[0mzim\u001b[0m \u001b[0;34m=\u001b[0m \u001b[0mArchive\u001b[0m\u001b[0;34m(\u001b[0m\u001b[0;34m\"test.zim\"\u001b[0m\u001b[0;34m)\u001b[0m\u001b[0;34m\u001b[0m\u001b[0;34m\u001b[0m\u001b[0m\n\u001b[0m",
      "\u001b[0;32m~/myvenv/lib/python3.10/site-packages/libzim/libzim.pyx\u001b[0m in \u001b[0;36mlibzim.Archive.__cinit__\u001b[0;34m()\u001b[0m\n",
      "\u001b[0;31mRuntimeError\u001b[0m: error 2 opening file \"test.zim"
     ]
    }
   ],
   "source": [
    "from libzim.reader import Archive\n",
    "from libzim.search import Query, Searcher\n",
    "from libzim.suggestion import SuggestionSearcher\n",
    "\n",
    "# Arquivo com conteúdo da wikipedia para ser visualizado offline.\n",
    "# Os dados obtidos serão usado para treinamento do chatbot.\n",
    "zim = Archive(\"test.zim\")"
   ]
  },
  {
   "cell_type": "code",
   "execution_count": null,
   "id": "98ec42f1-3de2-4d78-977e-fab056c4f21e",
   "metadata": {},
   "outputs": [],
   "source": [
    "zim"
   ]
  },
  {
   "cell_type": "code",
   "execution_count": null,
   "id": "e0cd4724-54b0-464b-a0f2-1c2ccd62b068",
   "metadata": {},
   "outputs": [],
   "source": [
    "zim.article_count"
   ]
  },
  {
   "cell_type": "code",
   "execution_count": null,
   "id": "f9bf7acd-103b-4f11-8998-36655656062a",
   "metadata": {},
   "outputs": [],
   "source": [
    "zim.main_entry.get_item().path"
   ]
  },
  {
   "cell_type": "code",
   "execution_count": null,
   "id": "f538d238-178c-4e63-8789-84f092e7a7b3",
   "metadata": {},
   "outputs": [],
   "source": [
    "dir(zim)"
   ]
  },
  {
   "cell_type": "code",
   "execution_count": null,
   "id": "bd627d99-464c-4820-9c51-42766510f0ae",
   "metadata": {},
   "outputs": [],
   "source": [
    "#print(f\"Main entry is at {zim.main_entry.get_item().path}\")\n",
    "#entry = zim.get_entry_by_path(\"A/Wikipédia\")\n",
    "# ENtradas no arquivo \n",
    "entry = zim.get_entry_by_path(zim.main_entry.path)\n",
    "print(dir(zim))\n",
    "print(zim.main_entry.path)\n",
    "print(f\"Entry {entry.title} at {entry.path} is {entry.get_item().size}b.\")\n",
    "#print(bytes(entry.get_item().content).decode(\"UTF-8\"))\n",
    "\n",
    "# searching using full-text index\n",
    "#search_string = \"computação\"\n",
    "#query = Query().set_query(search_string)\n",
    "#searcher = Searcher(zim)\n",
    "#search = searcher.search(query)\n",
    "#search_count = search.getEstimatedMatches()\n",
    "#print(f\"there are {search_count} matches for {search_string}\")\n",
    "#print(list(search.getResults(0, search_count) ) )\n",
    "\n",
    "# accessing suggestions\n",
    "#search_string = \"kiwix\"\n",
    "#suggestion_searcher = SuggestionSearcher(zim)\n",
    "#suggestion = suggestion_searcher.suggest(search_string)\n",
    "#suggestion_count = suggestion.getEstimatedMatches()\n",
    "#print(f\"there are {suggestion_count} matches for {search_string}\")\n",
    "#print(list(suggestion.getResults(0, suggestion_count)))"
   ]
  },
  {
   "cell_type": "code",
   "execution_count": null,
   "id": "343609ed-6930-4a3c-890f-cdd6cd4b6053",
   "metadata": {},
   "outputs": [],
   "source": [
    "print(list( search.getResults(0, 2) ) )"
   ]
  },
  {
   "cell_type": "code",
   "execution_count": null,
   "id": "630fee1f-e58a-441f-804d-d4923752ad54",
   "metadata": {},
   "outputs": [],
   "source": [
    "import libzim.reader\n",
    "import libzim\n",
    "\n",
    "\n",
    "#help(libzim.reader)\n",
    "#[zim.get_entry_by_title(i) for i in entry ]"
   ]
  },
  {
   "cell_type": "code",
   "execution_count": null,
   "id": "283c3ee2-67e4-45b0-9494-d4cfe1b54e68",
   "metadata": {},
   "outputs": [],
   "source": [
    "from bs4 import BeautifulSoup\n",
    "# Importar pandas criar uma tabela com tokens (palavras) no texto e conta-las\n",
    "# palavras com maior ocorrências defini-las como 'key words'\n",
    "# criar um conjunto com campos titulo do artigo, corpo do artigo, palavras chaves\n",
    "# Em um chat ao identificar palavras chaves (keywords) inseridas por usuario\n",
    "# buscar no conjunto dos artigos e através de tácnicas de cadeias de markov gerar um\n",
    " breve sumário usando o artigo selecionado e retorna-lo para o usuário.\n",
    "\n",
    "#print( bytes( zim.get_entry_by_path( list( search.getResults(0, 2) )[0] ).get_item().content).decode('UTF-8' ) )\n",
    "webcont = bytes( zim.get_entry_by_path( list( search.getResults(0, 2) )[1] ).get_item().content).decode('UTF-8' )\n",
    "\n",
    "soupwiki = BeautifulSoup(webcont, 'html.parser')\n",
    "print(  soupwiki.get_text().replace('\\n', ' ') ) \n",
    "#soupwiki.get_text().split()"
   ]
  },
  {
   "cell_type": "code",
   "execution_count": null,
   "id": "f29bcb43-e1be-4d92-b8bd-a52659089596",
   "metadata": {},
   "outputs": [],
   "source": [
    "from collections import Counter"
   ]
  },
  {
   "cell_type": "code",
   "execution_count": null,
   "id": "e19e3d07-023c-4737-93a4-522886a5c708",
   "metadata": {},
   "outputs": [],
   "source": [
    "wordspec = ('o', 'a', 'A', 'e', 'E','como', 'este', 'estes', 'estas', 'Estes', 'Estas', 'esse', 'esses', 'Esses', 'Esse', 'dos', 'Dos', 'Das', 'das', 'Como','em', 'mas', 'mais', 'com','algum', 'num', 'por', 'desse', 'desses', 'Desse', 'Desses', 'Dessa', 'dessa', 'Dessas', 'Dessas', 'Num', 'Numa', 'numa', 'alguns', 'Algum', 'Alguns', 'Com', 'tal', 'tais', 'no', 'na', 'Na', 'No', 'O', 'ao', 'para', 'um', 'uma', 'Uma', 'Um',  'pra', '.', ',', '?', ':', ';', '/', '(', ')', '\"', \"'\", '\\\\' ,'de', 'da', 'do', 'que', 'lhe', 'aquele', 'aquela')\n",
    "soupwtext =  soupwiki.get_text()\n",
    "# Remove ponctuations signals.\n",
    "for i in [',', '.', '?', '!', '-' , ')', '(' ]:\n",
    "    soupwtext = soupwtext.replace(i, ' ')\n",
    "\n",
    "# Removendo preposições, artigos e pronomes da lingua portuguesa.\n",
    "c = dict( Counter( [  str.lower(i) if not ( i in wordspec or len(i) < 2 ) else '-1' for i in soupwtext.replace('\\n', ' ').split()  ] )  )"
   ]
  },
  {
   "cell_type": "code",
   "execution_count": null,
   "id": "cffb3a69-e3d9-455d-97fb-86a3beaf4c24",
   "metadata": {},
   "outputs": [],
   "source": [
    "# A chave '-1' no dicionário representa números de items removidos entre os que estão em wordspec ou são sinais de pontuação.\n",
    "c.pop('-1')"
   ]
  },
  {
   "cell_type": "code",
   "execution_count": null,
   "id": "5535b897-85be-4e29-9d8a-762c126869c1",
   "metadata": {},
   "outputs": [],
   "source": [
    "#c\n",
    "print(c)"
   ]
  },
  {
   "cell_type": "code",
   "execution_count": null,
   "id": "9e454ab9-77bf-4fed-aca5-987e0d896c95",
   "metadata": {},
   "outputs": [],
   "source": [
    "import operator\n",
    "\n",
    "# Gerando dicionário contendo as três palavras que mais ocorrem no texto\n",
    "dn = c.copy()\n",
    "keywords = {}\n",
    "for i in [1, 2, 3]:\n",
    "    elem = max(dn.items(), key=operator.itemgetter(1))\n",
    "    keywords[elem[0]] = elem[1] \n",
    "    dn.pop(elem[0])\n",
    "    \n",
    "keywords"
   ]
  },
  {
   "cell_type": "markdown",
   "id": "8b4ee234-4929-467a-adba-753c7c7a8a5f",
   "metadata": {},
   "source": [
    "O mesmo processo acima pode ser aplicada a texto inserido pelo usuário de modo que bot extraia as palavras chaves e busque elas nas listas de artigos afim de retornar\n",
    "a informação encontrada para o que usuário digitou."
   ]
  },
  {
   "cell_type": "code",
   "execution_count": null,
   "id": "bbdc20af-829a-47bd-adaa-d47c9860f2ef",
   "metadata": {},
   "outputs": [],
   "source": []
  }
 ],
 "metadata": {
  "kernelspec": {
   "display_name": "Python 3 (ipykernel)",
   "language": "python",
   "name": "python3"
  },
  "language_info": {
   "codemirror_mode": {
    "name": "ipython",
    "version": 3
   },
   "file_extension": ".py",
   "mimetype": "text/x-python",
   "name": "python",
   "nbconvert_exporter": "python",
   "pygments_lexer": "ipython3",
   "version": "3.10.7"
  }
 },
 "nbformat": 4,
 "nbformat_minor": 5
}
