{
 "cells": [
  {
   "cell_type": "code",
   "execution_count": 26,
   "id": "30676edb-a590-4ef3-8f75-049e25de3898",
   "metadata": {},
   "outputs": [],
   "source": [
    "import render"
   ]
  },
  {
   "cell_type": "code",
   "execution_count": 27,
   "id": "0d9c08d9-6d76-4b39-ae3d-c3ad1b48200c",
   "metadata": {},
   "outputs": [],
   "source": [
    "from render import *"
   ]
  },
  {
   "cell_type": "code",
   "execution_count": 28,
   "id": "45dc7467-27f4-45ef-9906-f19e7f520e09",
   "metadata": {},
   "outputs": [],
   "source": [
    "#render.Image.frombytes('RGB', render.fbo.size, render.fbo.read(), 'raw', 'RGB', 0, -1).show()"
   ]
  },
  {
   "cell_type": "code",
   "execution_count": 29,
   "id": "aad82fa8-ba5e-459c-aad1-a32c0d727f06",
   "metadata": {},
   "outputs": [
    {
     "ename": "NameError",
     "evalue": "name 'Particles' is not defined",
     "output_type": "error",
     "traceback": [
      "\u001b[1;31m---------------------------------------------------------------------------\u001b[0m",
      "\u001b[1;31mNameError\u001b[0m                                 Traceback (most recent call last)",
      "Cell \u001b[1;32mIn[29], line 1\u001b[0m\n\u001b[1;32m----> 1\u001b[0m \u001b[43mParticles\u001b[49m\u001b[38;5;241m.\u001b[39mrun()\n",
      "\u001b[1;31mNameError\u001b[0m: name 'Particles' is not defined"
     ]
    }
   ],
   "source": [
    "Particles.run()"
   ]
  },
  {
   "cell_type": "code",
   "execution_count": 31,
   "id": "8dce9870-29a0-405c-ba81-bf87c6d1db4d",
   "metadata": {},
   "outputs": [
    {
     "ename": "AttributeError",
     "evalue": "module 'render' has no attribute 'Particles'",
     "output_type": "error",
     "traceback": [
      "\u001b[1;31m---------------------------------------------------------------------------\u001b[0m",
      "\u001b[1;31mAttributeError\u001b[0m                            Traceback (most recent call last)",
      "Cell \u001b[1;32mIn[31], line 1\u001b[0m\n\u001b[1;32m----> 1\u001b[0m \u001b[43mrender\u001b[49m\u001b[38;5;241;43m.\u001b[39;49m\u001b[43mParticles\u001b[49m\n",
      "\u001b[1;31mAttributeError\u001b[0m: module 'render' has no attribute 'Particles'"
     ]
    }
   ],
   "source": [
    "render.Particles"
   ]
  },
  {
   "cell_type": "raw",
   "id": "285c66ae-2b0a-4f18-bb30-7b72d6ceb4fa",
   "metadata": {},
   "source": []
  }
 ],
 "metadata": {
  "kernelspec": {
   "display_name": "Python 3 (ipykernel)",
   "language": "python",
   "name": "python3"
  },
  "language_info": {
   "codemirror_mode": {
    "name": "ipython",
    "version": 3
   },
   "file_extension": ".py",
   "mimetype": "text/x-python",
   "name": "python",
   "nbconvert_exporter": "python",
   "pygments_lexer": "ipython3",
   "version": "3.11.9"
  }
 },
 "nbformat": 4,
 "nbformat_minor": 5
}
