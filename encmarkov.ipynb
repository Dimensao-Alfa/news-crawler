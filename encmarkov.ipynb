{
 "cells": [
  {
   "cell_type": "markdown",
   "id": "ea343337-376e-4b07-aba9-c59829099457",
   "metadata": {
    "jp-MarkdownHeadingCollapsed": true,
    "tags": [],
    "toc-hr-collapsed": true
   },
   "source": [
    "# ChatBots: Teoria e Implementações - Estudo E Pesquisa"
   ]
  },
  {
   "cell_type": "markdown",
   "id": "3c5ef95e-3cac-4d58-945c-88b878587fdd",
   "metadata": {},
   "source": [
    "[Other notebooks](textzim.ipynb)"
   ]
  },
  {
   "cell_type": "markdown",
   "id": "0fd8c12d-4c25-4edd-8445-eb674d98238c",
   "metadata": {
    "jp-MarkdownHeadingCollapsed": true,
    "tags": []
   },
   "source": [
    "## Módulos Importados para Uso"
   ]
  },
  {
   "cell_type": "code",
   "execution_count": 45,
   "id": "41714aad-a896-464f-957a-200e0d9f054b",
   "metadata": {},
   "outputs": [],
   "source": [
    "from typing import TypeAlias\n",
    "import numpy as np\n",
    "import nltk"
   ]
  },
  {
   "cell_type": "markdown",
   "id": "3914e8f5-34c9-4499-9570-d09bedc29445",
   "metadata": {
    "jp-MarkdownHeadingCollapsed": true,
    "tags": []
   },
   "source": [
    "## Dados e Variaveis Iniciais"
   ]
  },
  {
   "cell_type": "code",
   "execution_count": 46,
   "id": "4ac59b35-15ae-46de-9b18-0a8ac4e8f8c9",
   "metadata": {},
   "outputs": [],
   "source": [
    "data = \"olá. Como vai você?\""
   ]
  },
  {
   "cell_type": "code",
   "execution_count": 47,
   "id": "6177cfe2-8136-4f5e-84fb-3d64e6aef621",
   "metadata": {},
   "outputs": [
    {
     "data": {
      "text/plain": [
       "'olá. Como vai você?'"
      ]
     },
     "execution_count": 47,
     "metadata": {},
     "output_type": "execute_result"
    }
   ],
   "source": [
    "data"
   ]
  },
  {
   "cell_type": "markdown",
   "id": "b341e900-f697-4647-a90c-c4341e575880",
   "metadata": {
    "jp-MarkdownHeadingCollapsed": true,
    "tags": []
   },
   "source": [
    "## Algumas Funções de Base "
   ]
  },
  {
   "cell_type": "code",
   "execution_count": 48,
   "id": "06bfb7a2-e360-4cc8-96e3-1ff3c0aaebac",
   "metadata": {},
   "outputs": [],
   "source": [
    "rg = r'(\\,)+|(\\?)+|(!)+|(\\.)+|(-)+|(\\()+|(\\))+|(\\;)+|(\\:)+|(\\\")+|(\\')+|\\s+'\n",
    "\n",
    "def encoder( text_input: str) -> dict:\n",
    "    \"No ponctuations caracters\"\n",
    "    sign = ['.', ',', ':', '?', '!', '\"', \"'\", ')', '(']\n",
    "    out  = dict()\n",
    "    for i in sign:\n",
    "        \n",
    "        text_input = text_input.replace(i, '')\n",
    "        \n",
    "    k = 0\n",
    "    \n",
    "    d = text_input.split( ' ' )\n",
    "\n",
    "    for i in d:\n",
    "        out[k] = i\n",
    "        k += 1\n",
    "        \n",
    "    return out\n",
    "\n",
    "def encoderlist( text_input : str ) -> list[str]:\n",
    "    import regex\n",
    "    \n",
    "    result = regex.split( r'\\W+', text_input )\n",
    "    if result[-1] == '':\n",
    "        result.pop()\n",
    "    \n",
    "    return result\n",
    "\n",
    "            \n",
    "def rencoder(text_input: str ) -> dict:\n",
    "    \"\"\"\n",
    "        All string include ponctutation signal.\n",
    "    \"\"\"\n",
    "    import regex\n",
    "    \n",
    "    r = r'(\\W+)'\n",
    "    out = {}\n",
    "    ll = regex.split( r, text_input )\n",
    "    k = 0\n",
    "    \n",
    "    # Remove empty string in end of list\n",
    "    if ll[-1] == '':\n",
    "        ll.pop()\n",
    "    # ---\n",
    "   \n",
    "    # Corrigir\n",
    "    for i in ll:\n",
    "        if i != ' ':\n",
    "            out[ k ] = i\n",
    "            k += 1\n",
    "        elif ' ' in i:\n",
    "            out[k ] =  i.replace( ' ', '' )\n",
    "            k += 1\n",
    "        else:\n",
    "            out[k] = i\n",
    "            k += 1\n",
    "    \n",
    "    return out\n",
    "    "
   ]
  },
  {
   "cell_type": "markdown",
   "id": "4cdd8976-0421-4963-9992-91fe87e6c021",
   "metadata": {
    "tags": []
   },
   "source": [
    "## Testes E Devs"
   ]
  },
  {
   "cell_type": "code",
   "execution_count": 49,
   "id": "5a0d828a-e412-419e-bb49-2793fee7115a",
   "metadata": {},
   "outputs": [
    {
     "data": {
      "text/plain": [
       "{0: 'olá', 1: '. ', 2: 'Como', 3: '', 4: 'vai', 5: '', 6: 'você', 7: '?'}"
      ]
     },
     "execution_count": 49,
     "metadata": {},
     "output_type": "execute_result"
    }
   ],
   "source": [
    "m = rencoder( data )\n",
    "m"
   ]
  },
  {
   "cell_type": "code",
   "execution_count": 50,
   "id": "652e5a9b-ca23-4c97-945a-8cfd5026b54f",
   "metadata": {},
   "outputs": [
    {
     "data": {
      "text/plain": [
       "{0: 'olá', 1: 'Como', 2: 'vai', 3: 'você'}"
      ]
     },
     "execution_count": 50,
     "metadata": {},
     "output_type": "execute_result"
    }
   ],
   "source": [
    "encoder( data )"
   ]
  },
  {
   "cell_type": "markdown",
   "id": "586d1264-db00-491a-8e9a-c952eec25d8a",
   "metadata": {},
   "source": [
    "##  Testes Gerais e Estudos Iniciais"
   ]
  },
  {
   "cell_type": "markdown",
   "id": "b59687a7-6693-4622-9ccb-82b713f6875c",
   "metadata": {
    "jp-MarkdownHeadingCollapsed": true,
    "tags": []
   },
   "source": [
    "Alguns códigos de estudo."
   ]
  },
  {
   "cell_type": "markdown",
   "id": "d5cfd97c-1c77-466a-9971-1823f16f3410",
   "metadata": {
    "tags": []
   },
   "source": [
    "## Estudos e Testes\n",
    "\n",
    "Pesquisando e criando funcionalidades."
   ]
  },
  {
   "cell_type": "markdown",
   "id": "729f7a22-1238-43a4-96c2-5b7ca4c12061",
   "metadata": {
    "tags": []
   },
   "source": [
    "### Usando NLTK (Toolkit for Natura language processing)"
   ]
  },
  {
   "cell_type": "code",
   "execution_count": 51,
   "id": "985bc7be-cea7-437d-9f3b-0366f423ef91",
   "metadata": {},
   "outputs": [],
   "source": [
    "import nltk\n",
    "\n",
    "sentence = \"\"\"\n",
    "Manoel Antônio Álvares de Azevedo, nascido em São Paulo em 1831, conhecido\n",
    " também como \"Maneco\" pelos amigos mais próximos, familiares e admiradores de sua obra, foi um escritor \n",
    " da segunda geração romântica .\n",
    "\"\"\"\n",
    "sentence2 = \"\"\"\n",
    "Manuel Antônio Álvares de Azevedo, borned in São Paulo in 1831, affectionately called \"Maneco\" by his close friends, \n",
    "relatives and admirers, was a Brazilian Romantic poet, short story writer, playwright and essayist, considered \n",
    "to be one of the major exponents of Ultra-Romanticism.\n",
    "\"\"\""
   ]
  },
  {
   "cell_type": "code",
   "execution_count": 52,
   "id": "6d88f70a-1bba-44f6-bac7-79f5081f7508",
   "metadata": {},
   "outputs": [],
   "source": [
    "tokens = nltk.word_tokenize(sentence)\n"
   ]
  },
  {
   "cell_type": "code",
   "execution_count": 53,
   "id": "3b9cef6f-9336-4e48-860e-a8f8a3b01235",
   "metadata": {},
   "outputs": [],
   "source": [
    "tagged = nltk.pos_tag( tokens )\n"
   ]
  },
  {
   "cell_type": "code",
   "execution_count": 54,
   "id": "0e4785c5-e9f1-48a7-b99b-39a48753111c",
   "metadata": {},
   "outputs": [],
   "source": [
    "tokens2 = nltk.word_tokenize( sentence2 )\n",
    "tagged = nltk.pos_tag( tokens2 )"
   ]
  },
  {
   "cell_type": "code",
   "execution_count": null,
   "id": "7bc87a2e-5df7-4fcf-b441-b8978f99bc76",
   "metadata": {},
   "outputs": [],
   "source": [
    "#nltk.help.upenn_tagset()"
   ]
  },
  {
   "cell_type": "code",
   "execution_count": null,
   "id": "31c94025-c1d8-4cd5-b2b8-451f6abadefc",
   "metadata": {},
   "outputs": [],
   "source": []
  },
  {
   "cell_type": "markdown",
   "id": "5f39d6b3-63f4-4853-b3fe-af939ecf6f96",
   "metadata": {
    "tags": []
   },
   "source": [
    "# Codando"
   ]
  },
  {
   "cell_type": "markdown",
   "id": "089e66a1-68ea-4dbd-9dd2-6ba59876b8fc",
   "metadata": {
    "tags": []
   },
   "source": [
    "## Carregando Módulos"
   ]
  },
  {
   "cell_type": "code",
   "execution_count": 56,
   "id": "e7b7a153-cdff-4b60-b942-c99421754249",
   "metadata": {},
   "outputs": [],
   "source": [
    "import numpy as np\n",
    "import scipy as sp\n",
    "import sklearn as skl\n",
    "import pandas as pd\n",
    "import matplotlib.pyplot\n"
   ]
  },
  {
   "cell_type": "markdown",
   "id": "a65c7b3b-75e6-4aaf-9e68-4d8e5108c36e",
   "metadata": {
    "tags": []
   },
   "source": [
    "## Codigos e Estudos"
   ]
  },
  {
   "cell_type": "code",
   "execution_count": 57,
   "id": "c575f311-9fad-4fa5-93d2-111536328991",
   "metadata": {},
   "outputs": [
    {
     "data": {
      "text/plain": [
       "array([0.5, 0.5])"
      ]
     },
     "execution_count": 57,
     "metadata": {},
     "output_type": "execute_result"
    }
   ],
   "source": [
    "#from sklearn import linear_model\n",
    "reg = skl.linear_model.LinearRegression()\n",
    "reg.fit([[0, 0], [1, 1], [2, 2]], [0, 1, 2])\n",
    "\n",
    "reg.coef_"
   ]
  },
  {
   "cell_type": "code",
   "execution_count": null,
   "id": "879c45d7-1249-46a7-a92b-966abb4da867",
   "metadata": {},
   "outputs": [],
   "source": []
  }
 ],
 "metadata": {
  "kernelspec": {
   "display_name": "Python 3 (ipykernel)",
   "language": "python",
   "name": "python3"
  },
  "language_info": {
   "codemirror_mode": {
    "name": "ipython",
    "version": 3
   },
   "file_extension": ".py",
   "mimetype": "text/x-python",
   "name": "python",
   "nbconvert_exporter": "python",
   "pygments_lexer": "ipython3",
   "version": "3.10.7"
  }
 },
 "nbformat": 4,
 "nbformat_minor": 5
}
