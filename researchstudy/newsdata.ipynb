{
 "cells": [
  {
   "cell_type": "markdown",
   "id": "1ea5fb75-1bb3-4693-8be9-7c043f735279",
   "metadata": {},
   "source": [
    "# Dados Notícias e Views com Pandas"
   ]
  },
  {
   "cell_type": "code",
   "execution_count": null,
   "id": "e3807d11-53be-499c-8b98-a97d467f4477",
   "metadata": {},
   "outputs": [],
   "source": [
    "import pandas as pd\n",
    "import numpy\n",
    "import requests\n",
    "import json\n",
    "import datetime\n",
    "from bs4 import BeautifulSoup\n",
    "import os\n",
    "import sys\n",
    "import glob"
   ]
  },
  {
   "cell_type": "code",
   "execution_count": null,
   "id": "0d5b0d7f-2221-49f6-ad1e-ed1f41192641",
   "metadata": {},
   "outputs": [],
   "source": [
    "datajsonfiles = glob.glob('/home/user/news-crawler/datanews/*.json')"
   ]
  },
  {
   "cell_type": "code",
   "execution_count": null,
   "id": "90372024-d901-42c3-aecf-08c29be41787",
   "metadata": {},
   "outputs": [],
   "source": [
    "df = [ pd.read_json( files ) for files in datajsonfiles ] \n",
    "\n",
    "df[0]"
   ]
  },
  {
   "cell_type": "code",
   "execution_count": null,
   "id": "9620f107-e6be-4f88-ba0e-7b856cf22bf2",
   "metadata": {},
   "outputs": [],
   "source": [
    "# Concatenate dataframes list\n",
    "dff = pd.concat( df )\n",
    "\n",
    "# Rename columns\n",
    "#for i in dff:\n",
    "#    i.rename( columns={ 'title': 'Title' }, inplace = True  )\n",
    "#    i.rename( columns={ 'href': 'Link' }, inplace = True )\n",
    "\n",
    "dff.rename( columns={ 'title': 'Title' }, inplace = True   )\n",
    "dff.rename( columns={ 'href': 'Link' }, inplace = True )\n",
    "\n",
    "\n",
    "dff.drop_duplicates(inplace=True, ignore_index=True)\n",
    "    \n",
    "dff\n",
    "\n",
    "    "
   ]
  },
  {
   "cell_type": "code",
   "execution_count": null,
   "id": "2fffde69-b6f8-4281-8b74-cf6db9e199a0",
   "metadata": {},
   "outputs": [],
   "source": [
    "# Remove lines specified to link of Twitter\n",
    "v = [ 'Política',\n",
    "    'Pop',\n",
    "    'Economia',\n",
    "    'Internacional',\n",
    "    'Viagem & Gastronomia',\n",
    "    'Nacional',\n",
    "    'Saúde',\n",
    "    'Esportes',\n",
    "    'CNN Plural',\n",
    "    'Ciência e Tecnologia',\n",
    "    'Mercado',\n",
    "    'Facebook',\n",
    "    'Twitter',\n",
    "    'Youtube',\n",
    "    'YouTube',\n",
    "    'Instagram' \n",
    "    ]\n",
    "\n",
    "for i in v:\n",
    "    dff = dff.drop( index=dff.index[  dff['Title'] == i  ] )\n",
    "\"\"\"\n",
    "dff = dff.drop( index=dff.index[  dff['Title'] == 'Twitter'  ][0] )\n",
    "dff = dff.drop( index=dff.index[  dff['Title'] == 'Facebook'  ][0] )\n",
    "dff = dff.drop( index=dff.index[  dff['Title'] == 'Instagram'  ][0] )\n",
    "dff = dff.drop( index=dff.index[  dff['Title'] == 'Youtube'  ][0] )\n",
    "dff = dff.drop( index=dff.index[  dff['Title'] == 'Política'  ][0] )\"\"\"\n",
    "dff\n"
   ]
  },
  {
   "cell_type": "code",
   "execution_count": null,
   "id": "c74339d5-5ee5-4a36-9c9a-743fecca44f4",
   "metadata": {},
   "outputs": [],
   "source": [
    "dff = dff.drop_duplicates(ignore_index=True)"
   ]
  },
  {
   "cell_type": "code",
   "execution_count": null,
   "id": "0fdebc06-bbf6-4aa2-ab38-e8f27b45df1f",
   "metadata": {},
   "outputs": [],
   "source": [
    "dff\n",
    "#dff2 = dff.drop(dff.index[  dff['Title'] == 'Twitter'  ][0])\n",
    "#dff2.iloc[66]\n",
    "#dff.iloc[dff.index[  dff['Title'] == 'Twitter'  ][0]]"
   ]
  },
  {
   "cell_type": "code",
   "execution_count": null,
   "id": "b72607b9-8391-4504-a66c-cd06132da034",
   "metadata": {},
   "outputs": [],
   "source": [
    "dff.to_csv('data/news.csv',  index=False)\n",
    "dff.to_excel('data/news.xlsx',  index=False)"
   ]
  },
  {
   "cell_type": "code",
   "execution_count": null,
   "id": "ea214841-4527-4d04-93fe-840ad497367f",
   "metadata": {},
   "outputs": [],
   "source": [
    "dff.to_json( 'data/news.json' , orient='records')"
   ]
  },
  {
   "cell_type": "code",
   "execution_count": null,
   "id": "6edac3a9-0c94-48e1-b0e0-a00a7036b237",
   "metadata": {},
   "outputs": [],
   "source": [
    "def dfcleans( df ):\n",
    "    \n",
    "    \"\"\"\n",
    "    Remove fields by title in list of names specifieds.\n",
    "    \"\"\"\n",
    "    \n",
    "    # Remove lines specified to link of Twitter\n",
    "    v = [ 'Política',\n",
    "        'Pop',\n",
    "        'Economia',\n",
    "        'Internacional',\n",
    "        'Viagem & Gastronomia',\n",
    "        'Nacional',\n",
    "        'Saúde',\n",
    "        'Esportes',\n",
    "        'CNN Plural',\n",
    "        'Ciência e Tecnologia',\n",
    "        'Mercado',\n",
    "        'Facebook',\n",
    "        'Twitter',\n",
    "        'Youtube',\n",
    "        'YouTube',\n",
    "        'Instagram' \n",
    "    ]\n",
    "    for i in v:\n",
    "        df = df.drop( index=df.index[  df['Title'] == i  ] )\n",
    "        \n",
    "    df = df.drop_duplicates( ignore_index = True )\n",
    "    return df.to_json( orient='records' )\n",
    "        \n",
    "\n",
    "    "
   ]
  },
  {
   "cell_type": "code",
   "execution_count": null,
   "id": "a0949efe-ba6f-4ef5-809c-ac1d03984b42",
   "metadata": {},
   "outputs": [],
   "source": [
    "import json\n"
   ]
  },
  {
   "cell_type": "code",
   "execution_count": null,
   "id": "84f560f0-ca80-4744-8263-babc6c03dae5",
   "metadata": {},
   "outputs": [],
   "source": [
    "d = json.loads( dfcleans( dff ) )\n",
    "d"
   ]
  }
 ],
 "metadata": {
  "kernelspec": {
   "display_name": "Python 3 (ipykernel)",
   "language": "python",
   "name": "python3"
  },
  "language_info": {
   "codemirror_mode": {
    "name": "ipython",
    "version": 3
   },
   "file_extension": ".py",
   "mimetype": "text/x-python",
   "name": "python",
   "nbconvert_exporter": "python",
   "pygments_lexer": "ipython3",
   "version": "3.10.7"
  }
 },
 "nbformat": 4,
 "nbformat_minor": 5
}
