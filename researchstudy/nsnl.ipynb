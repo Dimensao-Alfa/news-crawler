{
 "cells": [
  {
   "cell_type": "markdown",
   "id": "4b3f0e12-0d76-4804-9eea-847136f8656d",
   "metadata": {},
   "source": [
    "# News Crawler Natural Language Study & Research"
   ]
  },
  {
   "cell_type": "markdown",
   "id": "9c2c61ed-df1e-4bb0-9cee-014af216db92",
   "metadata": {},
   "source": [
    "**Resources Python Modules**\n",
    "\n",
    "Natural languages tools, machine learning, tranformers models.\n",
    "\n",
    "- [Spacy](https://spacy.io/)\n",
    "- [Spacy API Transformer](https://spacy.io/api/transformer)\n",
    "- [NLTK](https://www.nltk.org/)\n",
    "- [Hugging Face Transformers models](https://huggingface.co/docs/transformers/index)\n",
    "- [PyTorch](https://pytorch.org/)\n",
    "- [JAX High-Performance Array Computing](https://jax.readthedocs.io/en/latest/)\n",
    "\n",
    "Other tools for get data from web\n",
    "\n",
    "- [Requests](https://requests.readthedocs.io/en/latest/)\n",
    "- [BeautifulSoup](https://www.crummy.com/software/BeautifulSoup/bs4/doc/)\n",
    "- [Scrapy](https://scrapy.org/)\n",
    "\n",
    "Other Links Infos\n",
    "\n",
    "- [Texto como Dado - Processamento de Linguagem Natural no Jornalismo](https://escoladedados.org/texto-como-dado-processamento-de-linguagem-natural-no-jornalismo/)\n",
    "- [Em iniciativa inédita, G1 publica textos com resultado da eleição em cada uma das cidades do Brasil com auxílio de inteligência artificial](https://g1.globo.com/politica/eleicoes/2020/noticia/2020/11/12/em-iniciativa-inedita-g1-publica-textos-com-resultado-da-eleicao-em-cada-uma-das-5568-cidades-do-brasil-com-auxilio-de-inteligencia-artificial.ghtml)\n",
    "- [Keyword Extraction process in Python with Natural Language Processing(NLP)](https://towardsdatascience.com/keyword-extraction-process-in-python-with-natural-language-processing-nlp-d769a9069d5c)\n"
   ]
  },
  {
   "cell_type": "code",
   "execution_count": 1,
   "id": "d5a3cb47-8db0-418a-b2f7-eaf770cb7ae5",
   "metadata": {},
   "outputs": [],
   "source": [
    "# Import modules"
   ]
  },
  {
   "cell_type": "code",
   "execution_count": null,
   "id": "d4586b8d-740c-42f9-87c6-7b083e252313",
   "metadata": {},
   "outputs": [],
   "source": [
    "# Get words type 'NOUN'\n",
    "def getNouns( tabnl ):\n",
    "    for i in tabnl:\n",
    "        if i[1] == 'NOUN':\n",
    "            yield i"
   ]
  }
 ],
 "metadata": {
  "kernelspec": {
   "display_name": "Python 3 (ipykernel)",
   "language": "python",
   "name": "python3"
  },
  "language_info": {
   "codemirror_mode": {
    "name": "ipython",
    "version": 3
   },
   "file_extension": ".py",
   "mimetype": "text/x-python",
   "name": "python",
   "nbconvert_exporter": "python",
   "pygments_lexer": "ipython3",
   "version": "3.10.7"
  }
 },
 "nbformat": 4,
 "nbformat_minor": 5
}
