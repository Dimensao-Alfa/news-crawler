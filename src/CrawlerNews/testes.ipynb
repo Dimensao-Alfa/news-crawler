{
 "cells": [
  {
   "cell_type": "code",
   "execution_count": 2,
   "metadata": {},
   "outputs": [],
   "source": [
    "from crawler import CrawlerNews"
   ]
  },
  {
   "cell_type": "code",
   "execution_count": 3,
   "metadata": {},
   "outputs": [],
   "source": [
    "b = CrawlerNews()"
   ]
  },
  {
   "cell_type": "code",
   "execution_count": 10,
   "metadata": {},
   "outputs": [
    {
     "name": "stdout",
     "output_type": "stream",
     "text": [
      "{'G1': [{'title': 'VALDO CRUZ: silêncio de Cid frustra bolsonaristas', 'href': 'https://g1.globo.com/politica/blog/valdo-cruz/post/2023/05/18/silencio-de-cid-indica-que-ele-nao-quer-se-comprometer.ghtml'}, {'title': 'Câmara rejeita articulação política para salvar Dallagnol da cassação', 'href': 'https://g1.globo.com/politica/blog/andreia-sadi/post/2023/05/18/camara-rejeita-articulacao-politica-para-salvar-dallagnol-lira-vai-dar-tramite-burocratico-a-decisao-da-justica.ghtml'}, {'title': 'Álcool ou gasolina? Calculadora do g1 te ajuda a escolher', 'href': 'https://g1.globo.com/economia/noticia/2023/05/18/gasolina-ou-alcool-qual-compensa-mais-confira-na-calculadora-do-g1.ghtml'}, {'title': 'Prejuízos milionários e ação a R$ 1: como a rede Marisa afundou', 'href': 'https://g1.globo.com/economia/noticia/2023/05/18/marisa-em-crise-entenda-o-que-levou-a-empresa-as-dezenas-de-lojas-fechadas-e-a-uma-divida-milionaria.ghtml'}, {'title': 'INSS terá cartão virtual com descontos em shows e viagens', 'href': 'https://g1.globo.com/economia/noticia/2023/05/18/cartao-virtual-do-inss-dara-descontos-em-cinemas-shows-academias-lojas-e-viagens-diz-governo.ghtml'}, {'title': 'EUA mantêm redes sociais isentas de responsabilidade por posts de usuários', 'href': 'https://g1.globo.com/tecnologia/noticia/2023/05/18/eua-mantem-interpretacao-de-lei-que-isenta-redes-sociais-de-responsabilidade-sobre-o-que-e-postado-por-usuarios.ghtml'}, {'title': 'Brasil tem quase 203 mil casos de violência sexual contra crianças em 7 anos', 'href': 'https://g1.globo.com/politica/noticia/2023/05/18/brasil-registrou-2029-mil-casos-de-violencia-sexual-contra-criancas-e-adolescentes-de-2015-a-2021-diz-boletim.ghtml'}, {'title': 'Presidente da Colômbia se desculpa por postar que crianças foram achadas', 'href': 'https://g1.globo.com/mundo/noticia/2023/05/18/presidente-da-colombia-apaga-tuite-em-que-dizia-que-criancas-de-queda-de-aviao-haviam-sido-encontradas.ghtml'}, {'title': 'Chilenos saem para noite na Lapa e são espancados no Rio; um morreu', 'href': 'https://g1.globo.com/rj/rio-de-janeiro/noticia/2023/05/18/turistas-chilenos-sao-espancados-e-um-deles-morre-no-rio-policia-investiga-se-vitimas-foram-alvo-do-golpe-boa-noite-cinderela.ghtml'}], 'CNN': [{'title': 'CAIO JUNQUEIRA Líder do governo, Randolfe Rodrigues contesta decisão do Ibama e deixa Rede', 'href': 'https://www.cnnbrasil.com.br/politica/lider-do-governo-randolfe-rodrigues-contesta-decisao-do-ibama-e-deixa-rede/'}, {'title': 'Ex-ajudante de ordens de Bolsonaro, Mauro Cid fica em silêncio durante depoimento e deixa sede da PF', 'href': 'https://www.cnnbrasil.com.br/politica/mauro-cid-depoimento-pf/'}, {'title': 'Despesas vão crescer menos que a metade das receitas em 2024, diz Haddad', 'href': 'https://www.cnnbrasil.com.br/economia/haddad-coletiva-1805-marcofiscal/'}, {'title': 'Política', 'href': 'https://www.cnnbrasil.com.br/politica/'}, {'title': 'Pop', 'href': 'https://www.cnnbrasil.com.br/pop/'}, {'title': 'Mercado', 'href': '/cotacoes/bolsa'}, {'title': 'Economia', 'href': 'https://www.cnnbrasil.com.br/economia/'}, {'title': 'Internacional', 'href': 'https://www.cnnbrasil.com.br/internacional/'}, {'title': 'Viagem & Gastronomia', 'href': 'https://www.cnnbrasil.com.br/viagemegastronomia/'}, {'title': 'Nacional', 'href': 'https://www.cnnbrasil.com.br/nacional/'}, {'title': 'Saúde', 'href': 'https://www.cnnbrasil.com.br/saude/'}, {'title': 'Esportes', 'href': 'https://www.cnnbrasil.com.br/esportes/'}, {'title': 'CNN Plural', 'href': 'https://www.cnnbrasil.com.br/tudo-sobre/cnn-plural/'}, {'title': 'Ciência e Tecnologia', 'href': 'https://www.cnnbrasil.com.br/tecnologia/'}, {'title': 'Como as armas do Ocidente ajudaram a reverter vantagem russa em ataques aéreos', 'href': 'https://www.cnnbrasil.com.br/internacional/como-as-armas-do-ocidente-ajudaram-a-ucrania-a-reverter-vantagem-russa-em-ataques-aereos/'}], 'BBC': [{'title': 'O que big techs criticam em PL e ações sobre regulamentação das redes no Brasil', 'href': 'https://www.bbc.com/portuguese/articles/c2q1l2y2735o'}, {'title': 'As dicas de negociadores de paz para reconciliar Brasil polarizado', 'href': 'https://www.bbc.com/portuguese/articles/clk4jygg21po'}, {'title': 'Israel está se debatendo sobre que país quer ser, diz escritor', 'href': 'https://www.bbc.com/portuguese/articles/cekdm0pex5yo'}, {'title': 'Por que conservadores estão em guerra contra Disney e cervejaria nos EUA', 'href': 'https://www.bbc.com/portuguese/articles/cxxy631g0dyo'}, {'title': 'O projeto que vai analisar 60 mil corpos e cérebros para entender por que doenças aparecem', 'href': 'https://www.bbc.com/portuguese/articles/c03720djx99o'}, {'title': 'As impressionantes imagens vencedoras de concurso de fotos de comida', 'href': 'https://www.bbc.com/portuguese/articles/cx8p1xll9yjo'}, {'title': 'As doenças transmitidas por animais de estimação e 9 dicas para se proteger', 'href': 'https://www.bbc.com/portuguese/articles/c976qm2lq2zo'}, {'title': 'Vídeo, Como lei que inspirou Deltan Dallagnol levou à sua cassação, Duration 5,24', 'href': 'https://www.bbc.com/portuguese/brasil-65632368'}, {'title': \"Decisão 'arbitrária' ou 'irretocável'? Juristas divergem sobre cassação de Deltan Dallagnol\", 'href': 'https://www.bbc.com/portuguese/articles/cjqkp3ve12jo'}, {'title': 'PM que fuzilou dois colegas era conhecido pela gentileza e falou com a BBC um mês antes do crime', 'href': 'https://www.bbc.com/portuguese/articles/c8vr5vylgr0o'}, {'title': 'Dallagnol cassado: ele pode recorrer da decisão? As respostas a esta e outras seis perguntas', 'href': 'https://www.bbc.com/portuguese/articles/cx8prq1jzwpo'}, {'title': 'Deltan Dallagnol cassado: por que procurador da Lava Jato foi punido pelo TSE', 'href': 'https://www.bbc.com/portuguese/articles/cnl9wkx79xpo'}, {'title': \"Collor: 'impichado', inocentado e, agora, julgado na Lava Jato\", 'href': 'https://www.bbc.com/portuguese/articles/c4npdpdx0zgo'}, {'title': 'A gasolina vai ficar mais barata? 5 perguntas sobre a mudança de política de preços da Petrobras', 'href': 'https://www.bbc.com/portuguese/articles/cv2dl05gvveo'}, {'title': 'Bolsonaro sabia? O que ex-presidente deve explicar à PF sobre suspeita de fraude em cartão de vacina', 'href': 'https://www.bbc.com/portuguese/articles/clelzyevl3eo'}, {'title': \"O que é 'morte cruzada', usada pelo presidente do Equador para evitar impeachment\", 'href': 'https://www.bbc.com/portuguese/articles/c1v09l09ewpo'}, {'title': \"Harry e Meghan passam por perseguição de carro 'quase catastrófica', diz porta-voz\", 'href': 'https://www.bbc.com/portuguese/articles/cw5kw93z0ezo'}, {'title': \"'Golpe da paternidade': os britânicos que cobram para assumir filhos de mulheres imigrantes\", 'href': 'https://www.bbc.com/portuguese/articles/c721kz5r2x7o'}, {'title': \"Os efeitos da lei que causa 'pânico' em imigrantes sem documentação na Flórida\", 'href': 'https://www.bbc.com/portuguese/articles/cxxy61pn707o'}, {'title': 'As mudanças de vida na Argentina com inflação acima de 100% ao ano', 'href': 'https://www.bbc.com/portuguese/articles/cgxlgdgzee0o'}, {'title': 'Quem é Kemal Kilicdaroglu, adversário de Erdogan no 2º turno na Turquia', 'href': 'https://www.bbc.com/portuguese/articles/cqv0yn009w4o'}, {'title': 'Vídeo, Como contraofensiva ucraniana pode mudar guerra com Rússia, Duration 3,44', 'href': 'https://www.bbc.com/portuguese/geral-65489161'}, {'title': \"Vídeo, A seita que encorajava a morte por inanição para 'encontrar Jesus', Duration 1,23\", 'href': 'https://www.bbc.com/portuguese/geral-65418691'}, {'title': 'O alerta da OMS sobre riscos de adoçante artificial à saúde', 'href': 'https://www.bbc.com/portuguese/articles/cd1g55ppng9o'}, {'title': 'Gripe aviária: o que se sabe sobre primeiros casos de H5N1 em aves silvestres do Brasil', 'href': 'https://www.bbc.com/portuguese/articles/c28jn1n40r2o'}, {'title': 'Como mosquito egípcio chegou ao Brasil e matou 10 mil pessoas', 'href': 'https://www.bbc.com/portuguese/articles/crgeqq9j2l1o'}, {'title': \"'Minha doença é uma bomba-relógio, mas agradeço por ainda poder andar'\", 'href': 'https://www.bbc.com/portuguese/articles/cgrgd4xr0r7o'}, {'title': 'As incríveis imagens que mostram impacto dos humanos nas paisagens', 'href': 'https://www.bbc.com/portuguese/articles/cql3w9vdel8o'}, {'title': 'Aquecimento da Terra pode superar limite de 1,5º até 2027, advertem cientistas', 'href': 'https://www.bbc.com/portuguese/articles/c3gn60zqklgo'}, {'title': 'Três falácias que podem nos enganar - e como evitar cair na armadilha', 'href': 'https://www.bbc.com/portuguese/articles/cx9n4gej8llo'}, {'title': 'O relato de vítimas de golpe e extorsão após lei antigay na Nigéria', 'href': 'https://www.bbc.com/portuguese/articles/c51p668yejdo'}, {'title': 'A polêmica sobre regulação dos apps que retocam fotos', 'href': 'https://www.bbc.com/portuguese/articles/cyd891jgmm5o'}, {'title': 'Os mitos e erros sobre os hemisférios do cérebro', 'href': 'https://www.bbc.com/portuguese/articles/cjj999w39dgo'}, {'title': 'O apelo do criador do ChatGPT ao governo dos EUA por regulação da inteligência artificial', 'href': 'https://www.bbc.com/portuguese/articles/cgr140pmn5yo'}, {'title': 'Por que Ferrari resiste a eliminar motor a combustão', 'href': 'https://www.bbc.com/portuguese/articles/crgx82p8d3vo'}, {'title': 'Tom Hanks: carreira pode continuar após a morte com inteligência artificial, diz ator', 'href': 'https://www.bbc.com/portuguese/articles/cd1rkn0qx9zo'}, {'title': \"Por que cantor The Weeknd 'trocou' de nome\", 'href': 'https://www.bbc.com/portuguese/articles/c729kg1vxzro'}, {'title': 'O artista brasileiro que viveu 50 anos em instituições psiquiátricas e é tema de exposição nos EUA', 'href': 'https://www.bbc.com/portuguese/articles/cp0ez7m7qg7o'}, {'title': 'Educação cruzada: por que exercitar um membro pode fortalecer o oposto', 'href': 'https://www.bbc.com/portuguese/articles/c4n3jzdxkr2o'}, {'title': 'O ressurgimento do kouri-vini, língua perdida dos EUA nascida da escravidão', 'href': 'https://www.bbc.com/portuguese/articles/c4nwxw447w1o'}, {'title': 'Como fronteiras de Israel mudaram desde sua criação há 75 anos', 'href': 'https://www.bbc.com/portuguese/extra/IkTCzu5CAd/Israel_historico_fronteiras'}, {'title': \"Aos 98 anos, integrante da Resistência Francesa rompe silêncio sobre execução de nazistas: 'Cavaram as próprias covas'\", 'href': 'https://www.bbc.com/portuguese/articles/c51pv802xxno'}, {'title': 'Quem foi o primeiro cínico da história (e por que ele foi chamado assim)', 'href': 'https://www.bbc.com/portuguese/articles/cnej00yprmeo'}, {'title': 'Betty Webb: a última sobrevivente dos especialistas que decifraram os códigos nazistas', 'href': 'https://www.bbc.com/portuguese/articles/c976ppne3p3o'}, {'title': 'Podcast busca entender como brasileiros chegaram a atual grau de divisão; ouça aqui', 'href': 'https://www.bbc.com/portuguese/podcasts/p0cyhvny'}, {'title': 'Ouça aqui o podcast que conta incríveis casos na raiz das guerras culturais', 'href': 'https://www.bbc.com/portuguese/podcasts/p0cx5pt6'}, {'title': 'Que História!: ouça as duas temporadas do podcast', 'href': 'https://www.bbc.com/portuguese/podcasts/p07r3r3t'}, {'title': 'Como STF pode regular plataformas digitais após impasse no PL das Fake News', 'href': 'https://www.bbc.com/portuguese/articles/c4nw53753pno'}, {'title': 'Os ex-escravizados que levaram tradições brasileiras para Gana', 'href': 'https://www.bbc.com/portuguese/articles/cw9pw50y92wo'}, {'title': \"'Morri em vida': a jornada de apresentadora de TV com câncer difícil de tratar\", 'href': 'https://www.bbc.com/portuguese/articles/c2q1lqy4evwo'}, {'title': 'As mulheres trans que desafiam preconceito para professar islamismo na Indonésia', 'href': 'https://www.bbc.com/portuguese/articles/cz760p1lpz9o'}, {'title': 'Por que bancos centrais estão comprando ouro no maior volume em 80 anos', 'href': 'https://www.bbc.com/portuguese/articles/cge445px1pqo'}, {'title': 'Os riscos e benefícios de induzir sonhos lúcidos', 'href': 'https://www.bbc.com/portuguese/articles/ce5z1mgj808o'}, {'title': \"'Tenho medo de que elefantes me matem': mudança climática altera comportamento animal na África\", 'href': 'https://www.bbc.com/portuguese/articles/cv2vx3djk08o'}, {'title': \"'Vi a morte de perto': como é surfar as ondas gigantes de Nazaré\", 'href': 'https://www.bbc.com/portuguese/articles/c80ypjg4el7o'}, {'title': \"'Não presta como mulher': a superação de estigma após retirada do útero\", 'href': 'https://www.bbc.com/portuguese/articles/ce7ggpx8zg9o'}, {'title': 'As sacerdotisas africanas perseguidas pela Inquisição no Brasil', 'href': 'https://www.bbc.com/portuguese/articles/cw07ne17z2wo'}, {'title': 'Parceiros comerciais da BBC Brasil', 'href': 'https://www.bbc.com/portuguese/institutional-41672312'}, {'title': 'Facebook', 'href': 'https://www.facebook.com/bbcnewsbrasil/'}, {'title': 'YouTube', 'href': 'https://www.youtube.com/user/BBCBrasil'}, {'title': 'Instagram', 'href': 'https://www.instagram.com/bbcbrasil/?hl=en'}, {'title': 'Twitter', 'href': 'https://twitter.com/bbcbrasil?lang=en'}]}\n"
     ]
    }
   ],
   "source": [
    "b.url\n",
    "b.news = b.trackNews()\n",
    "print(b.news)"
   ]
  },
  {
   "cell_type": "code",
   "execution_count": 11,
   "metadata": {},
   "outputs": [
    {
     "data": {
      "text/plain": [
       "[{'title': 'VALDO CRUZ: silêncio de Cid frustra bolsonaristas',\n",
       "  'href': 'https://g1.globo.com/politica/blog/valdo-cruz/post/2023/05/18/silencio-de-cid-indica-que-ele-nao-quer-se-comprometer.ghtml'},\n",
       " {'title': 'Câmara rejeita articulação política para salvar Dallagnol da cassação',\n",
       "  'href': 'https://g1.globo.com/politica/blog/andreia-sadi/post/2023/05/18/camara-rejeita-articulacao-politica-para-salvar-dallagnol-lira-vai-dar-tramite-burocratico-a-decisao-da-justica.ghtml'},\n",
       " {'title': 'Álcool ou gasolina? Calculadora do g1 te ajuda a escolher',\n",
       "  'href': 'https://g1.globo.com/economia/noticia/2023/05/18/gasolina-ou-alcool-qual-compensa-mais-confira-na-calculadora-do-g1.ghtml'},\n",
       " {'title': 'Prejuízos milionários e ação a R$ 1: como a rede Marisa afundou',\n",
       "  'href': 'https://g1.globo.com/economia/noticia/2023/05/18/marisa-em-crise-entenda-o-que-levou-a-empresa-as-dezenas-de-lojas-fechadas-e-a-uma-divida-milionaria.ghtml'},\n",
       " {'title': 'INSS terá cartão virtual com descontos em shows e viagens',\n",
       "  'href': 'https://g1.globo.com/economia/noticia/2023/05/18/cartao-virtual-do-inss-dara-descontos-em-cinemas-shows-academias-lojas-e-viagens-diz-governo.ghtml'},\n",
       " {'title': 'EUA mantêm redes sociais isentas de responsabilidade por posts de usuários',\n",
       "  'href': 'https://g1.globo.com/tecnologia/noticia/2023/05/18/eua-mantem-interpretacao-de-lei-que-isenta-redes-sociais-de-responsabilidade-sobre-o-que-e-postado-por-usuarios.ghtml'},\n",
       " {'title': 'Brasil tem quase 203 mil casos de violência sexual contra crianças em 7 anos',\n",
       "  'href': 'https://g1.globo.com/politica/noticia/2023/05/18/brasil-registrou-2029-mil-casos-de-violencia-sexual-contra-criancas-e-adolescentes-de-2015-a-2021-diz-boletim.ghtml'},\n",
       " {'title': 'Presidente da Colômbia se desculpa por postar que crianças foram achadas',\n",
       "  'href': 'https://g1.globo.com/mundo/noticia/2023/05/18/presidente-da-colombia-apaga-tuite-em-que-dizia-que-criancas-de-queda-de-aviao-haviam-sido-encontradas.ghtml'},\n",
       " {'title': 'Chilenos saem para noite na Lapa e são espancados no Rio; um morreu',\n",
       "  'href': 'https://g1.globo.com/rj/rio-de-janeiro/noticia/2023/05/18/turistas-chilenos-sao-espancados-e-um-deles-morre-no-rio-policia-investiga-se-vitimas-foram-alvo-do-golpe-boa-noite-cinderela.ghtml'}]"
      ]
     },
     "execution_count": 11,
     "metadata": {},
     "output_type": "execute_result"
    }
   ],
   "source": [
    "b.news['G1']"
   ]
  },
  {
   "cell_type": "code",
   "execution_count": null,
   "metadata": {},
   "outputs": [],
   "source": []
  }
 ],
 "metadata": {
  "kernelspec": {
   "display_name": ".venv",
   "language": "python",
   "name": "python3"
  },
  "language_info": {
   "codemirror_mode": {
    "name": "ipython",
    "version": 3
   },
   "file_extension": ".py",
   "mimetype": "text/x-python",
   "name": "python",
   "nbconvert_exporter": "python",
   "pygments_lexer": "ipython3",
   "version": "3.10.7"
  },
  "orig_nbformat": 4
 },
 "nbformat": 4,
 "nbformat_minor": 2
}
