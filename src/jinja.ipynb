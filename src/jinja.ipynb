{
 "cells": [
  {
   "cell_type": "markdown",
   "id": "98b676be-cfb0-450b-8708-ee31558b08f7",
   "metadata": {},
   "source": [
    "# Jinja"
   ]
  },
  {
   "cell_type": "markdown",
   "id": "dfc58607-b9ad-41ac-ba6f-be68c861ad3a",
   "metadata": {},
   "source": [
    "Estudo e exemplos usando módulo _Jinja_."
   ]
  },
  {
   "cell_type": "code",
   "execution_count": 5,
   "id": "b6c5c508-5cf8-454a-980e-e27097d1bbe4",
   "metadata": {},
   "outputs": [],
   "source": [
    "from jinja2 import *"
   ]
  },
  {
   "cell_type": "code",
   "execution_count": 21,
   "id": "6a93c3fc-09d0-48ee-a7c3-9de142e2971e",
   "metadata": {},
   "outputs": [],
   "source": [
    "env = Environment()"
   ]
  },
  {
   "cell_type": "code",
   "execution_count": 22,
   "id": "0b9614e5-cb11-44d4-aaf5-b5f02f96e297",
   "metadata": {},
   "outputs": [],
   "source": [
    "expr = env.compile_expression('foo == 42')"
   ]
  },
  {
   "cell_type": "code",
   "execution_count": 23,
   "id": "57dd846e-c507-4881-bbc6-77f6dab97daf",
   "metadata": {},
   "outputs": [
    {
     "data": {
      "text/plain": [
       "False"
      ]
     },
     "execution_count": 23,
     "metadata": {},
     "output_type": "execute_result"
    }
   ],
   "source": [
    "expr( fi = 42 )"
   ]
  },
  {
   "cell_type": "code",
   "execution_count": 38,
   "id": "50ff0321-4cd2-4614-a77c-663ef5cb7a2b",
   "metadata": {},
   "outputs": [],
   "source": [
    "template = Template(\"\"\" \n",
    "    {% for i in variables %} \n",
    "        {{ i }} in {{ here }}\n",
    "    {% endfor %}\n",
    "\"\"\" )"
   ]
  },
  {
   "cell_type": "code",
   "execution_count": 39,
   "id": "fcecd9d0-2c2b-4308-bd1d-4320b794a567",
   "metadata": {},
   "outputs": [],
   "source": [
    "output = template.render(variables=['a', 'x'], here='l')"
   ]
  },
  {
   "cell_type": "code",
   "execution_count": 40,
   "id": "cc1ee497-4ed7-49f7-8abd-422574fcaf59",
   "metadata": {},
   "outputs": [
    {
     "name": "stdout",
     "output_type": "stream",
     "text": [
      " \n",
      "     \n",
      "        a in l\n",
      "     \n",
      "        x in l\n",
      "    \n"
     ]
    }
   ],
   "source": [
    "print( output )"
   ]
  },
  {
   "cell_type": "code",
   "execution_count": 41,
   "id": "bf2c5634-0bcf-4831-923c-362bcf9d996c",
   "metadata": {},
   "outputs": [],
   "source": [
    "import math"
   ]
  },
  {
   "cell_type": "code",
   "execution_count": 69,
   "id": "d4af53cb-7f7c-4f56-aa9c-e095e859b59d",
   "metadata": {},
   "outputs": [],
   "source": [
    "x = [ 1/i for i in range(1, 100000000) ]\n",
    "W = lambda x: (3**x - 1 )/x"
   ]
  },
  {
   "cell_type": "code",
   "execution_count": 70,
   "id": "1db08b95-8a01-4434-899b-110b923eb18d",
   "metadata": {},
   "outputs": [],
   "source": [
    "o = [ W(i) for i in x ]"
   ]
  },
  {
   "cell_type": "code",
   "execution_count": 72,
   "id": "38b23f29-445b-46b2-b2fc-390c0be6aad3",
   "metadata": {},
   "outputs": [
    {
     "data": {
      "text/plain": [
       "[1.098612290420486,\n",
       " 1.0986123014066198,\n",
       " 1.0986122901883146,\n",
       " 1.0986123011744482,\n",
       " 1.0986122899561424,\n",
       " 1.0986123009422757,\n",
       " 1.0986122897239692,\n",
       " 1.0986123007101023,\n",
       " 1.0986122894917951,\n",
       " 1.098612300477928,\n",
       " 1.0986122892596202,\n",
       " 1.0986123002457528,\n",
       " 1.0986122890274443,\n",
       " 1.0986123000135768,\n",
       " 1.0986122887952676,\n",
       " 1.0986122997813998,\n",
       " 1.09861228856309,\n",
       " 1.098612299549222,\n",
       " 1.0986122883309115,\n",
       " 1.0986122993170433,\n",
       " 1.0986122880987321,\n",
       " 1.0986122990848637,\n",
       " 1.0986122878665519,\n",
       " 1.0986122988526832,\n",
       " 1.0986122876343707,\n",
       " 1.0986122986205018,\n",
       " 1.0986122874021886,\n",
       " 1.0986122983883195,\n",
       " 1.0986122871700057,\n",
       " 1.0986122981561364,\n",
       " 1.0986122869378219,\n",
       " 1.0986122979239523,\n",
       " 1.0986122867056372,\n",
       " 1.0986122976917674,\n",
       " 1.0986122864734515,\n",
       " 1.0986122974595816,\n",
       " 1.098612286241265,\n",
       " 1.0986122972273948,\n",
       " 1.0986122860090777,\n",
       " 1.0986122969952072,\n",
       " 1.0986122857768894,\n",
       " 1.0986122967630187,\n",
       " 1.0986122855447003,\n",
       " 1.0986122965308294,\n",
       " 1.0986122853125102,\n",
       " 1.098612296298639,\n",
       " 1.0986122850803193,\n",
       " 1.098612296066448,\n",
       " 1.0986122848481275,\n",
       " 1.098612295834256,\n",
       " 1.0986122846159347,\n",
       " 1.098612295602063,\n",
       " 1.0986122843837411,\n",
       " 1.0986122953698692,\n",
       " 1.0986122841515467,\n",
       " 1.0986122951376744,\n",
       " 1.0986122839193513,\n",
       " 1.0986122949054788,\n",
       " 1.098612283687155,\n",
       " 1.0986122946732824,\n",
       " 1.0986123056594097,\n",
       " 1.098612294441085,\n",
       " 1.098612305427212,\n",
       " 1.0986122942088867,\n",
       " 1.0986123051950136,\n",
       " 1.0986122939766876,\n",
       " 1.0986123049628143,\n",
       " 1.0986122937444875,\n",
       " 1.098612304730614,\n",
       " 1.0986122935122866,\n",
       " 1.0986123044984129,\n",
       " 1.0986122932800848,\n",
       " 1.0986123042662108,\n",
       " 1.098612293047882,\n",
       " 1.098612304034008,\n",
       " 1.0986122928156785,\n",
       " 1.098612303801804,\n",
       " 1.098612292583474,\n",
       " 1.0986123035695994,\n",
       " 1.0986122923512687,\n",
       " 1.0986123033373938,\n",
       " 1.0986122921190624,\n",
       " 1.0986123031051873,\n",
       " 1.0986122918868553,\n",
       " 1.09861230287298,\n",
       " 1.0986122916546472,\n",
       " 1.0986123026407717,\n",
       " 1.0986122914224383,\n",
       " 1.0986123024085626,\n",
       " 1.0986122911902285,\n",
       " 1.0986123021763525,\n",
       " 1.0986122909580178,\n",
       " 1.0986123019441416,\n",
       " 1.0986122907258062,\n",
       " 1.0986123017119298,\n",
       " 1.0986122904935938,\n",
       " 1.0986123014797171,\n",
       " 1.0986122902613804,\n",
       " 1.0986123012475035]"
      ]
     },
     "execution_count": 72,
     "metadata": {},
     "output_type": "execute_result"
    }
   ],
   "source": [
    "o[99999900:]"
   ]
  },
  {
   "cell_type": "code",
   "execution_count": 73,
   "id": "4850b2ed-ecbc-4c92-83dd-551639e445f2",
   "metadata": {},
   "outputs": [
    {
     "data": {
      "text/plain": [
       "['__doc__',\n",
       " '__loader__',\n",
       " '__name__',\n",
       " '__package__',\n",
       " '__spec__',\n",
       " 'acos',\n",
       " 'acosh',\n",
       " 'asin',\n",
       " 'asinh',\n",
       " 'atan',\n",
       " 'atan2',\n",
       " 'atanh',\n",
       " 'cbrt',\n",
       " 'ceil',\n",
       " 'comb',\n",
       " 'copysign',\n",
       " 'cos',\n",
       " 'cosh',\n",
       " 'degrees',\n",
       " 'dist',\n",
       " 'e',\n",
       " 'erf',\n",
       " 'erfc',\n",
       " 'exp',\n",
       " 'exp2',\n",
       " 'expm1',\n",
       " 'fabs',\n",
       " 'factorial',\n",
       " 'floor',\n",
       " 'fmod',\n",
       " 'frexp',\n",
       " 'fsum',\n",
       " 'gamma',\n",
       " 'gcd',\n",
       " 'hypot',\n",
       " 'inf',\n",
       " 'isclose',\n",
       " 'isfinite',\n",
       " 'isinf',\n",
       " 'isnan',\n",
       " 'isqrt',\n",
       " 'lcm',\n",
       " 'ldexp',\n",
       " 'lgamma',\n",
       " 'log',\n",
       " 'log10',\n",
       " 'log1p',\n",
       " 'log2',\n",
       " 'modf',\n",
       " 'nan',\n",
       " 'nextafter',\n",
       " 'perm',\n",
       " 'pi',\n",
       " 'pow',\n",
       " 'prod',\n",
       " 'radians',\n",
       " 'remainder',\n",
       " 'sin',\n",
       " 'sinh',\n",
       " 'sqrt',\n",
       " 'tan',\n",
       " 'tanh',\n",
       " 'tau',\n",
       " 'trunc',\n",
       " 'ulp']"
      ]
     },
     "execution_count": 73,
     "metadata": {},
     "output_type": "execute_result"
    }
   ],
   "source": [
    "dir(math)"
   ]
  },
  {
   "cell_type": "code",
   "execution_count": 74,
   "id": "3cb50a3d-661b-4445-96ad-cdb55f8f2e98",
   "metadata": {},
   "outputs": [
    {
     "name": "stdout",
     "output_type": "stream",
     "text": [
      "Help on built-in function log in module math:\n",
      "\n",
      "log(...)\n",
      "    log(x, [base=math.e])\n",
      "    Return the logarithm of x to the given base.\n",
      "    \n",
      "    If the base not specified, returns the natural logarithm (base e) of x.\n",
      "\n"
     ]
    }
   ],
   "source": [
    "help(math.log)"
   ]
  },
  {
   "cell_type": "code",
   "execution_count": 75,
   "id": "5bc17c97-5a9d-4a95-99ae-55784ca75f51",
   "metadata": {},
   "outputs": [
    {
     "data": {
      "text/plain": [
       "1.0986122886681098"
      ]
     },
     "execution_count": 75,
     "metadata": {},
     "output_type": "execute_result"
    }
   ],
   "source": [
    "math.log( 3 )"
   ]
  },
  {
   "cell_type": "code",
   "execution_count": null,
   "id": "091f4a68-64c5-4f6d-b08d-b0f6f31e057a",
   "metadata": {},
   "outputs": [],
   "source": []
  }
 ],
 "metadata": {
  "kernelspec": {
   "display_name": "Python 3 (ipykernel)",
   "language": "python",
   "name": "python3"
  },
  "language_info": {
   "codemirror_mode": {
    "name": "ipython",
    "version": 3
   },
   "file_extension": ".py",
   "mimetype": "text/x-python",
   "name": "python",
   "nbconvert_exporter": "python",
   "pygments_lexer": "ipython3",
   "version": "3.11.9"
  }
 },
 "nbformat": 4,
 "nbformat_minor": 5
}
