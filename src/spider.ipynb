{
 "cells": [
  {
   "cell_type": "markdown",
   "id": "5cb82f88-4a80-4915-a730-7728b6630ee5",
   "metadata": {},
   "source": [
    "# Crawler"
   ]
  },
  {
   "cell_type": "markdown",
   "id": "1d029864-76f3-41b6-b1e3-7908cc536adb",
   "metadata": {},
   "source": [
    "## Get Links Of Page with BeautifulSoup"
   ]
  },
  {
   "cell_type": "markdown",
   "id": "2665a09a-cc85-41dd-973d-ce6b4b1f1558",
   "metadata": {},
   "source": [
    "Import module _spider_"
   ]
  },
  {
   "cell_type": "code",
   "execution_count": 1,
   "id": "1f040485-29aa-4b70-99fa-4dfb8e10df51",
   "metadata": {},
   "outputs": [],
   "source": [
    "import spider\n",
    "import numpy as np\n",
    "import pandas as pd\n"
   ]
  },
  {
   "cell_type": "code",
   "execution_count": 2,
   "id": "7b76ed43-3090-4532-8ba7-a7cc894b2d26",
   "metadata": {},
   "outputs": [],
   "source": [
    "content = ''\n",
    "with open(\"main2.html\", 'r', encoding=\"utf-8\" ) as fl:\n",
    "    content = fl.read()\n",
    "\n",
    "links = spider.get_links( content )\n"
   ]
  },
  {
   "cell_type": "code",
   "execution_count": 3,
   "id": "5027e047-c78e-4252-9c3f-6f55a6e43e5b",
   "metadata": {},
   "outputs": [
    {
     "name": "stdout",
     "output_type": "stream",
     "text": [
      "{'url': 'https://sos.benfeitoria.com/?ref=home_banner?utm_source=pirulito&utm_medium=home&utm_campaign=homeg1', 'text': 'Para quem doar\\n                  \\n                  Saiba como ajudar as vítimas da chuva no RS\\n                \\n\\n\\n\\n                        Clique aqui'}\n"
     ]
    }
   ],
   "source": [
    "print( links[0] )"
   ]
  },
  {
   "cell_type": "markdown",
   "id": "3d6f79a9-c63b-4975-9a52-2e4c3109a960",
   "metadata": {},
   "source": [
    "Salvando lista de links"
   ]
  },
  {
   "cell_type": "code",
   "execution_count": 4,
   "id": "d5889396-365b-45c4-8614-e365e09de651",
   "metadata": {},
   "outputs": [],
   "source": [
    "spider.saveLinksList( links, \"links\" )"
   ]
  },
  {
   "cell_type": "markdown",
   "id": "0d92cad8-cf35-4c20-a30c-2ecd99737410",
   "metadata": {},
   "source": [
    "Filtrando grupo especifico de links que possam ser unicamente notícias."
   ]
  },
  {
   "cell_type": "code",
   "execution_count": 70,
   "id": "976817d9-5172-47d6-87ed-de1abc7638b2",
   "metadata": {},
   "outputs": [],
   "source": [
    "def filternews( links ):\n",
    "    news = []\n",
    "    for link in links:\n",
    "        if ( \"noticia\" in link['url'] or \"article\" in link['url'] or \"articles\" in link['url'] ) and ( \"ghtml\" in link['url'] or \"html\" in link['url'] ) and ( len( link['text'].split() ) > 1 ):\n",
    "            news.append( {\"url\": link['url'] , \"text\": link['text'] } )\n",
    "\n",
    "    return news\n",
    "\n",
    "def filternews2( links ):\n",
    "    news = []\n",
    "    for link in links:\n",
    "        if ( \"noticia\" in link['url'] or \"article\" in link['url'] or \"articles\" in link['url'] ) or ( \"ghtml\" in link['url'] or \"html\" in link['url'] ) and ( len( link['text'].split() ) > 1 ):\n",
    "            news.append( {\"url\": link['url'] , \"text\": link['text'] } )\n",
    "\n",
    "    return news"
   ]
  },
  {
   "cell_type": "code",
   "execution_count": 71,
   "id": "db7499e5-3880-43b3-ab88-9dfd0bc8e1c7",
   "metadata": {},
   "outputs": [],
   "source": [
    "links_news = filternews( links )"
   ]
  },
  {
   "cell_type": "code",
   "execution_count": 72,
   "id": "a11b7b11-a761-4c48-a798-78e1a378237a",
   "metadata": {},
   "outputs": [
    {
     "data": {
      "text/plain": [
       "[{'url': 'https://g1.globo.com/sp/sao-paulo/noticia/2024/06/02/fotos-28a-parada-lgbt-em-sao-paulo-lota-a-avenida-paulista-neste-domingo.ghtml',\n",
       "  'text': 'FOTOS: veja os figurinos e looks de participantes da Parada na Av. Paulista'},\n",
       " {'url': 'https://g1.globo.com/guia/guia-sp/noticia/2024/06/02/parada-lgbt-2024-acontece-neste-domingo-veja-ruas-interditadas.ghtml',\n",
       "  'text': 'Confira a programação e quais ruas estão interditadas'},\n",
       " {'url': 'https://g1.globo.com/mg/centro-oeste/noticia/2024/06/02/show-de-luan-santana-em-mg-e-cancelado-apos-cantor-se-sentir-mal-diz-organizacao.ghtml',\n",
       "  'text': 'Show de Luan Santana é cancelado após cantor passar mal, diz organização'},\n",
       " {'url': 'https://g1.globo.com/politica/noticia/2024/06/02/benin-na-africa-quer-dar-nacionalidade-do-pais-a-todos-os-afrodescendentes-do-planeta-entenda.ghtml',\n",
       "  'text': 'País da África quer dar nacionalidade a todos os afrodescendentes do mundo'},\n",
       " {'url': 'https://g1.globo.com/mundo/noticia/2024/06/02/bukele-anuncia-remedio-amargo-para-economia-de-el-salvador-em-discurso-de-posse-do-segundo-mandato.ghtml',\n",
       "  'text': \"El Salvador: Bukele anuncia 'remédio amargo' para economia\"},\n",
       " {'url': 'https://g1.globo.com/sp/sao-paulo/noticia/2024/06/02/justica-de-sp-ve-risco-em-gestacao-e-autoriza-interrupcao-parcial-de-gravidez-de-quintuplos.ghtml',\n",
       "  'text': 'Justiça vê risco e autoriza interrupção parcial de gravidez de quíntuplos'},\n",
       " {'url': 'https://g1.globo.com/saude/noticia/2024/06/02/congelamento-de-ovulos-entenda-procedimento-que-aumenta-prazo-para-mulher-decidir-sobre-maternidade.ghtml',\n",
       "  'text': \"Congelamento de óvulos, adotado por famosas, 'aumenta prazo' para ser mãe\"},\n",
       " {'url': 'https://g1.globo.com/empreendedorismo/noticia/2024/06/02/lembra-dos-vendedores-de-catalogos-eles-se-adaptaram-ao-digital-e-agora-faturam-mais-tenho-tres-casas-e-viajo-quatro-vezes-no-ano.ghtml',\n",
       "  'text': 'Lembra deles? Vendedores de catálogos se adaptam ao digital e faturam mais'},\n",
       " {'url': 'https://g1.globo.com/rj/rio-de-janeiro/noticia/2024/06/02/video-lancado-contra-poste-taxi-briga-transito.ghtml',\n",
       "  'text': 'VÍDEO mostra motociclista sendo atacado e lançado contra poste por táxi'}]"
      ]
     },
     "execution_count": 72,
     "metadata": {},
     "output_type": "execute_result"
    }
   ],
   "source": [
    "links_news"
   ]
  },
  {
   "cell_type": "code",
   "execution_count": 73,
   "id": "50b64454-daa1-4dec-bdc1-e8d5b5b0842b",
   "metadata": {},
   "outputs": [],
   "source": [
    "df = pd.DataFrame( links_news )"
   ]
  },
  {
   "cell_type": "code",
   "execution_count": 74,
   "id": "e20af0fd-b154-494c-8602-9a19be1d7a1e",
   "metadata": {},
   "outputs": [
    {
     "data": {
      "text/html": [
       "<div>\n",
       "<style scoped>\n",
       "    .dataframe tbody tr th:only-of-type {\n",
       "        vertical-align: middle;\n",
       "    }\n",
       "\n",
       "    .dataframe tbody tr th {\n",
       "        vertical-align: top;\n",
       "    }\n",
       "\n",
       "    .dataframe thead th {\n",
       "        text-align: right;\n",
       "    }\n",
       "</style>\n",
       "<table border=\"1\" class=\"dataframe\">\n",
       "  <thead>\n",
       "    <tr style=\"text-align: right;\">\n",
       "      <th></th>\n",
       "      <th>url</th>\n",
       "      <th>text</th>\n",
       "    </tr>\n",
       "  </thead>\n",
       "  <tbody>\n",
       "    <tr>\n",
       "      <th>0</th>\n",
       "      <td>https://g1.globo.com/sp/sao-paulo/noticia/2024...</td>\n",
       "      <td>FOTOS: veja os figurinos e looks de participan...</td>\n",
       "    </tr>\n",
       "    <tr>\n",
       "      <th>1</th>\n",
       "      <td>https://g1.globo.com/guia/guia-sp/noticia/2024...</td>\n",
       "      <td>Confira a programação e quais ruas estão inter...</td>\n",
       "    </tr>\n",
       "    <tr>\n",
       "      <th>2</th>\n",
       "      <td>https://g1.globo.com/mg/centro-oeste/noticia/2...</td>\n",
       "      <td>Show de Luan Santana é cancelado após cantor p...</td>\n",
       "    </tr>\n",
       "    <tr>\n",
       "      <th>3</th>\n",
       "      <td>https://g1.globo.com/politica/noticia/2024/06/...</td>\n",
       "      <td>País da África quer dar nacionalidade a todos ...</td>\n",
       "    </tr>\n",
       "    <tr>\n",
       "      <th>4</th>\n",
       "      <td>https://g1.globo.com/mundo/noticia/2024/06/02/...</td>\n",
       "      <td>El Salvador: Bukele anuncia 'remédio amargo' p...</td>\n",
       "    </tr>\n",
       "    <tr>\n",
       "      <th>5</th>\n",
       "      <td>https://g1.globo.com/sp/sao-paulo/noticia/2024...</td>\n",
       "      <td>Justiça vê risco e autoriza interrupção parcia...</td>\n",
       "    </tr>\n",
       "    <tr>\n",
       "      <th>6</th>\n",
       "      <td>https://g1.globo.com/saude/noticia/2024/06/02/...</td>\n",
       "      <td>Congelamento de óvulos, adotado por famosas, '...</td>\n",
       "    </tr>\n",
       "    <tr>\n",
       "      <th>7</th>\n",
       "      <td>https://g1.globo.com/empreendedorismo/noticia/...</td>\n",
       "      <td>Lembra deles? Vendedores de catálogos se adapt...</td>\n",
       "    </tr>\n",
       "    <tr>\n",
       "      <th>8</th>\n",
       "      <td>https://g1.globo.com/rj/rio-de-janeiro/noticia...</td>\n",
       "      <td>VÍDEO mostra motociclista sendo atacado e lanç...</td>\n",
       "    </tr>\n",
       "  </tbody>\n",
       "</table>\n",
       "</div>"
      ],
      "text/plain": [
       "                                                 url  \\\n",
       "0  https://g1.globo.com/sp/sao-paulo/noticia/2024...   \n",
       "1  https://g1.globo.com/guia/guia-sp/noticia/2024...   \n",
       "2  https://g1.globo.com/mg/centro-oeste/noticia/2...   \n",
       "3  https://g1.globo.com/politica/noticia/2024/06/...   \n",
       "4  https://g1.globo.com/mundo/noticia/2024/06/02/...   \n",
       "5  https://g1.globo.com/sp/sao-paulo/noticia/2024...   \n",
       "6  https://g1.globo.com/saude/noticia/2024/06/02/...   \n",
       "7  https://g1.globo.com/empreendedorismo/noticia/...   \n",
       "8  https://g1.globo.com/rj/rio-de-janeiro/noticia...   \n",
       "\n",
       "                                                text  \n",
       "0  FOTOS: veja os figurinos e looks de participan...  \n",
       "1  Confira a programação e quais ruas estão inter...  \n",
       "2  Show de Luan Santana é cancelado após cantor p...  \n",
       "3  País da África quer dar nacionalidade a todos ...  \n",
       "4  El Salvador: Bukele anuncia 'remédio amargo' p...  \n",
       "5  Justiça vê risco e autoriza interrupção parcia...  \n",
       "6  Congelamento de óvulos, adotado por famosas, '...  \n",
       "7  Lembra deles? Vendedores de catálogos se adapt...  \n",
       "8  VÍDEO mostra motociclista sendo atacado e lanç...  "
      ]
     },
     "execution_count": 74,
     "metadata": {},
     "output_type": "execute_result"
    }
   ],
   "source": [
    "df"
   ]
  },
  {
   "cell_type": "code",
   "execution_count": 75,
   "id": "dcae270b-cbf2-4f8e-8b1a-c1b26b96e492",
   "metadata": {},
   "outputs": [
    {
     "name": "stdout",
     "output_type": "stream",
     "text": [
      "Help on module spider:\n",
      "\n",
      "NAME\n",
      "    spider\n",
      "\n",
      "DESCRIPTION\n",
      "    Author: WSRicardo\n",
      "    Blog: https://wsricardo.blogspot.com\n",
      "    Site: www.dimensaoalfa.com.br\n",
      "    Github: www.github.com/wsricardo\n",
      "\n",
      "FUNCTIONS\n",
      "    createSpider()\n",
      "        Create and return requests Session.\n",
      "    \n",
      "    getContent(url)\n",
      "        url - web page\n",
      "        Return html content from url.\n",
      "    \n",
      "    get_links(webcontent)\n",
      "        get_links\n",
      "        arguments\n",
      "        webcoment - html text\n",
      "        return list[ {'url':'', 'text':'' } ] \n",
      "        \n",
      "        Return list links found in html content.\n",
      "    \n",
      "    saveLinksList(l, filename)\n",
      "        Save file csv with link list.\n",
      "    \n",
      "    saveWebPageContentHTML(htmlcontent, namefile)\n",
      "        Save file with HTML content from web page.\n",
      "\n",
      "FILE\n",
      "    c:\\users\\wsric\\spider.py\n",
      "\n",
      "\n"
     ]
    }
   ],
   "source": [
    "help( spider )"
   ]
  },
  {
   "cell_type": "code",
   "execution_count": 81,
   "id": "eb7e163a-996c-46a8-a333-d4fa6d843869",
   "metadata": {},
   "outputs": [],
   "source": [
    "bbc = spider.getContent( \"https://www.bbc.com/portuguese\" )\n",
    "bbc_links = filternews2( spider.get_links( bbc ) ) \n"
   ]
  },
  {
   "cell_type": "code",
   "execution_count": 84,
   "id": "813537bd-cb84-454b-9af8-717e492c74c2",
   "metadata": {},
   "outputs": [
    {
     "data": {
      "text/html": [
       "<div>\n",
       "<style scoped>\n",
       "    .dataframe tbody tr th:only-of-type {\n",
       "        vertical-align: middle;\n",
       "    }\n",
       "\n",
       "    .dataframe tbody tr th {\n",
       "        vertical-align: top;\n",
       "    }\n",
       "\n",
       "    .dataframe thead th {\n",
       "        text-align: right;\n",
       "    }\n",
       "</style>\n",
       "<table border=\"1\" class=\"dataframe\">\n",
       "  <thead>\n",
       "    <tr style=\"text-align: right;\">\n",
       "      <th></th>\n",
       "      <th>url</th>\n",
       "      <th>text</th>\n",
       "    </tr>\n",
       "  </thead>\n",
       "  <tbody>\n",
       "    <tr>\n",
       "      <th>0</th>\n",
       "      <td>https://www.bbc.com/portuguese/articles/c511x5...</td>\n",
       "      <td>Como guerra na Ucrânia mudou mercado global de...</td>\n",
       "    </tr>\n",
       "    <tr>\n",
       "      <th>1</th>\n",
       "      <td>https://www.bbc.com/portuguese/articles/c72249...</td>\n",
       "      <td>Por que 800 pessoas tiveram que abandonar vila...</td>\n",
       "    </tr>\n",
       "    <tr>\n",
       "      <th>2</th>\n",
       "      <td>https://www.bbc.com/portuguese/articles/cw002y...</td>\n",
       "      <td>O que a Bíblia diz sobre o aborto</td>\n",
       "    </tr>\n",
       "    <tr>\n",
       "      <th>3</th>\n",
       "      <td>https://www.bbc.com/portuguese/articles/c888j4...</td>\n",
       "      <td>Protetor solar: você está usando corretamente?</td>\n",
       "    </tr>\n",
       "    <tr>\n",
       "      <th>4</th>\n",
       "      <td>https://www.bbc.com/portuguese/articles/cd11q1...</td>\n",
       "      <td>'Eleições na Venezuela não são justas ou limpa...</td>\n",
       "    </tr>\n",
       "    <tr>\n",
       "      <th>...</th>\n",
       "      <td>...</td>\n",
       "      <td>...</td>\n",
       "    </tr>\n",
       "    <tr>\n",
       "      <th>64</th>\n",
       "      <td>https://www.bbc.com/portuguese/articles/c72251...</td>\n",
       "      <td>O que mulheres da Antiguidade pensavam sobre s...</td>\n",
       "    </tr>\n",
       "    <tr>\n",
       "      <th>65</th>\n",
       "      <td>https://www.bbc.com/portuguese/articles/c800y9...</td>\n",
       "      <td>O cimento que pode transformar sua casa numa b...</td>\n",
       "    </tr>\n",
       "    <tr>\n",
       "      <th>66</th>\n",
       "      <td>https://www.bbc.com/portuguese/articles/c511x5...</td>\n",
       "      <td>Como guerra na Ucrânia mudou mercado global de...</td>\n",
       "    </tr>\n",
       "    <tr>\n",
       "      <th>67</th>\n",
       "      <td>https://www.bbc.com/portuguese/articles/crgg1k...</td>\n",
       "      <td>Os 10 erros de português mais cometidos pelos ...</td>\n",
       "    </tr>\n",
       "    <tr>\n",
       "      <th>68</th>\n",
       "      <td>https://www.bbc.com/portuguese/articles/crgg81...</td>\n",
       "      <td>O que está em jogo com projeto que torna homic...</td>\n",
       "    </tr>\n",
       "  </tbody>\n",
       "</table>\n",
       "<p>69 rows × 2 columns</p>\n",
       "</div>"
      ],
      "text/plain": [
       "                                                  url  \\\n",
       "0   https://www.bbc.com/portuguese/articles/c511x5...   \n",
       "1   https://www.bbc.com/portuguese/articles/c72249...   \n",
       "2   https://www.bbc.com/portuguese/articles/cw002y...   \n",
       "3   https://www.bbc.com/portuguese/articles/c888j4...   \n",
       "4   https://www.bbc.com/portuguese/articles/cd11q1...   \n",
       "..                                                ...   \n",
       "64  https://www.bbc.com/portuguese/articles/c72251...   \n",
       "65  https://www.bbc.com/portuguese/articles/c800y9...   \n",
       "66  https://www.bbc.com/portuguese/articles/c511x5...   \n",
       "67  https://www.bbc.com/portuguese/articles/crgg1k...   \n",
       "68  https://www.bbc.com/portuguese/articles/crgg81...   \n",
       "\n",
       "                                                 text  \n",
       "0   Como guerra na Ucrânia mudou mercado global de...  \n",
       "1   Por que 800 pessoas tiveram que abandonar vila...  \n",
       "2                   O que a Bíblia diz sobre o aborto  \n",
       "3      Protetor solar: você está usando corretamente?  \n",
       "4   'Eleições na Venezuela não são justas ou limpa...  \n",
       "..                                                ...  \n",
       "64  O que mulheres da Antiguidade pensavam sobre s...  \n",
       "65  O cimento que pode transformar sua casa numa b...  \n",
       "66  Como guerra na Ucrânia mudou mercado global de...  \n",
       "67  Os 10 erros de português mais cometidos pelos ...  \n",
       "68  O que está em jogo com projeto que torna homic...  \n",
       "\n",
       "[69 rows x 2 columns]"
      ]
     },
     "execution_count": 84,
     "metadata": {},
     "output_type": "execute_result"
    }
   ],
   "source": [
    "bbc_news =  [ ]\n",
    "for link in bbc_links:\n",
    "    if 'article' in link['url'] and len( link['text'].split()  ) > 1:\n",
    "        bbc_news.append( { 'url': link['url'], 'text': link['text'] } )\n",
    "\n",
    "df_bbc = pd.DataFrame( bbc_news )\n",
    "df_bbc"
   ]
  },
  {
   "cell_type": "code",
   "execution_count": 40,
   "id": "cb5c7d11-913e-431a-ae5b-11ffe7423c9c",
   "metadata": {},
   "outputs": [],
   "source": [
    "bbc_news = filter( lambda l: { 'url': l['url'], 'text': l['text'] }  if \"article\" in l['url'] and len( l['text'].split() ) > 1 else 0, spider.get_links( bbc ) )"
   ]
  },
  {
   "cell_type": "code",
   "execution_count": 41,
   "id": "23d31b43-1bc4-4347-9497-6c12e9ee3333",
   "metadata": {},
   "outputs": [],
   "source": [
    "u = [ { 'url': i['url'], 'text': i['text'] } for i in bbc_news ]\n",
    "df_bbc = pd.DataFrame( u )"
   ]
  },
  {
   "cell_type": "code",
   "execution_count": 45,
   "id": "4c208b6d-71a8-44b0-a3e2-092830c6ae3e",
   "metadata": {},
   "outputs": [
    {
     "data": {
      "text/plain": [
       "0     https://www.bbc.com/portuguese/articles/c511x5...\n",
       "1     https://www.bbc.com/portuguese/articles/c888j4...\n",
       "2     https://www.bbc.com/portuguese/articles/cd11q1...\n",
       "3     https://www.bbc.com/portuguese/articles/crgg13...\n",
       "4     https://www.bbc.com/portuguese/articles/c03327...\n",
       "                            ...                        \n",
       "64    https://www.bbc.com/portuguese/articles/c800y9...\n",
       "65    https://www.bbc.com/portuguese/articles/crgg81...\n",
       "66    https://www.bbc.com/portuguese/articles/c511x5...\n",
       "67    https://www.bbc.com/portuguese/articles/crgg1k...\n",
       "68    https://www.bbc.com/portuguese/articles/c3ggpv...\n",
       "Name: url, Length: 69, dtype: object"
      ]
     },
     "execution_count": 45,
     "metadata": {},
     "output_type": "execute_result"
    }
   ],
   "source": [
    "df_bbc['url']"
   ]
  },
  {
   "cell_type": "code",
   "execution_count": 52,
   "id": "c34eeee2-f845-4599-9c5f-28d453a337db",
   "metadata": {},
   "outputs": [
    {
     "name": "stdout",
     "output_type": "stream",
     "text": [
      "https://www.bbc.com/portuguese/articles/c888dj7y7elo\n",
      "https://www.bbc.com/portuguese/articles/c1rr435n3lno\n",
      "https://www.bbc.com/portuguese/articles/c6ppdyz9w4no\n",
      "https://www.bbc.com/portuguese/articles/c3ggxyp091lo\n",
      "https://www.bbc.com/portuguese/articles/crgg7rz8zv6o\n",
      "https://www.bbc.com/portuguese/articles/cd11099jjy5o\n",
      "https://www.bbc.com/portuguese/articles/clkk12xnmj2o\n"
     ]
    }
   ],
   "source": [
    "for i in df_bbc[   df_bbc['text'].str.contains( 'Lula' )  ]['url']:\n",
    "    print( i )"
   ]
  },
  {
   "cell_type": "code",
   "execution_count": 56,
   "id": "60de2fc7-45b9-4d09-9492-8454f6cb9c88",
   "metadata": {},
   "outputs": [],
   "source": [
    "p = [ i for i in spider.get_links( bbc ) if 'articles' in i ]"
   ]
  },
  {
   "cell_type": "code",
   "execution_count": 57,
   "id": "67f7edfa-c258-4b38-ac42-c6de320accda",
   "metadata": {},
   "outputs": [
    {
     "data": {
      "text/plain": [
       "[]"
      ]
     },
     "execution_count": 57,
     "metadata": {},
     "output_type": "execute_result"
    }
   ],
   "source": [
    "p\n"
   ]
  },
  {
   "cell_type": "code",
   "execution_count": 58,
   "id": "e93c7fbd-3e93-46c7-b0a5-977c813b0863",
   "metadata": {},
   "outputs": [
    {
     "data": {
      "text/plain": [
       "'https://www.bbc.com/portuguese/articles/clkk12xnmj2o'"
      ]
     },
     "execution_count": 58,
     "metadata": {},
     "output_type": "execute_result"
    }
   ],
   "source": [
    "i"
   ]
  },
  {
   "cell_type": "code",
   "execution_count": 61,
   "id": "980879d2-d670-4461-b5a7-c95f05b40ceb",
   "metadata": {},
   "outputs": [
    {
     "data": {
      "text/html": [
       "<div>\n",
       "<style scoped>\n",
       "    .dataframe tbody tr th:only-of-type {\n",
       "        vertical-align: middle;\n",
       "    }\n",
       "\n",
       "    .dataframe tbody tr th {\n",
       "        vertical-align: top;\n",
       "    }\n",
       "\n",
       "    .dataframe thead th {\n",
       "        text-align: right;\n",
       "    }\n",
       "</style>\n",
       "<table border=\"1\" class=\"dataframe\">\n",
       "  <thead>\n",
       "    <tr style=\"text-align: right;\">\n",
       "      <th></th>\n",
       "      <th>url</th>\n",
       "      <th>text</th>\n",
       "    </tr>\n",
       "  </thead>\n",
       "  <tbody>\n",
       "    <tr>\n",
       "      <th>1</th>\n",
       "      <td>https://www.bbc.com/portuguese/articles/c888j4...</td>\n",
       "      <td>Protetor solar: você está usando corretamente?</td>\n",
       "    </tr>\n",
       "    <tr>\n",
       "      <th>2</th>\n",
       "      <td>https://www.bbc.com/portuguese/articles/cd11q1...</td>\n",
       "      <td>'Eleições na Venezuela não são justas ou limpa...</td>\n",
       "    </tr>\n",
       "    <tr>\n",
       "      <th>3</th>\n",
       "      <td>https://www.bbc.com/portuguese/articles/crgg13...</td>\n",
       "      <td>O filme financiado pelo Kremlin que se tornou ...</td>\n",
       "    </tr>\n",
       "    <tr>\n",
       "      <th>4</th>\n",
       "      <td>https://www.bbc.com/portuguese/articles/c03327...</td>\n",
       "      <td>A primeira aparição pública de Kate Middleton ...</td>\n",
       "    </tr>\n",
       "    <tr>\n",
       "      <th>5</th>\n",
       "      <td>https://www.bbc.com/portuguese/articles/c888dj...</td>\n",
       "      <td>Lula sobre aborto: Sou contra, mas é insanidad...</td>\n",
       "    </tr>\n",
       "    <tr>\n",
       "      <th>...</th>\n",
       "      <td>...</td>\n",
       "      <td>...</td>\n",
       "    </tr>\n",
       "    <tr>\n",
       "      <th>64</th>\n",
       "      <td>https://www.bbc.com/portuguese/articles/c800y9...</td>\n",
       "      <td>O cimento que pode transformar sua casa numa b...</td>\n",
       "    </tr>\n",
       "    <tr>\n",
       "      <th>65</th>\n",
       "      <td>https://www.bbc.com/portuguese/articles/crgg81...</td>\n",
       "      <td>O que está em jogo com projeto que torna homic...</td>\n",
       "    </tr>\n",
       "    <tr>\n",
       "      <th>66</th>\n",
       "      <td>https://www.bbc.com/portuguese/articles/c511x5...</td>\n",
       "      <td>Como guerra na Ucrânia mudou mercado global de...</td>\n",
       "    </tr>\n",
       "    <tr>\n",
       "      <th>67</th>\n",
       "      <td>https://www.bbc.com/portuguese/articles/crgg1k...</td>\n",
       "      <td>Os 10 erros de português mais cometidos pelos ...</td>\n",
       "    </tr>\n",
       "    <tr>\n",
       "      <th>68</th>\n",
       "      <td>https://www.bbc.com/portuguese/articles/c3ggpv...</td>\n",
       "      <td>Por que o Oceano Pacífico é mais alto que o At...</td>\n",
       "    </tr>\n",
       "  </tbody>\n",
       "</table>\n",
       "<p>68 rows × 2 columns</p>\n",
       "</div>"
      ],
      "text/plain": [
       "                                                  url  \\\n",
       "1   https://www.bbc.com/portuguese/articles/c888j4...   \n",
       "2   https://www.bbc.com/portuguese/articles/cd11q1...   \n",
       "3   https://www.bbc.com/portuguese/articles/crgg13...   \n",
       "4   https://www.bbc.com/portuguese/articles/c03327...   \n",
       "5   https://www.bbc.com/portuguese/articles/c888dj...   \n",
       "..                                                ...   \n",
       "64  https://www.bbc.com/portuguese/articles/c800y9...   \n",
       "65  https://www.bbc.com/portuguese/articles/crgg81...   \n",
       "66  https://www.bbc.com/portuguese/articles/c511x5...   \n",
       "67  https://www.bbc.com/portuguese/articles/crgg1k...   \n",
       "68  https://www.bbc.com/portuguese/articles/c3ggpv...   \n",
       "\n",
       "                                                 text  \n",
       "1      Protetor solar: você está usando corretamente?  \n",
       "2   'Eleições na Venezuela não são justas ou limpa...  \n",
       "3   O filme financiado pelo Kremlin que se tornou ...  \n",
       "4   A primeira aparição pública de Kate Middleton ...  \n",
       "5   Lula sobre aborto: Sou contra, mas é insanidad...  \n",
       "..                                                ...  \n",
       "64  O cimento que pode transformar sua casa numa b...  \n",
       "65  O que está em jogo com projeto que torna homic...  \n",
       "66  Como guerra na Ucrânia mudou mercado global de...  \n",
       "67  Os 10 erros de português mais cometidos pelos ...  \n",
       "68  Por que o Oceano Pacífico é mais alto que o At...  \n",
       "\n",
       "[68 rows x 2 columns]"
      ]
     },
     "execution_count": 61,
     "metadata": {},
     "output_type": "execute_result"
    }
   ],
   "source": [
    "df_bbc.drop( 0 )"
   ]
  },
  {
   "cell_type": "code",
   "execution_count": null,
   "id": "2b56fcb6-e3e2-4ed3-a869-fa53ebe79bf7",
   "metadata": {},
   "outputs": [],
   "source": []
  }
 ],
 "metadata": {
  "kernelspec": {
   "display_name": "Python 3 (ipykernel)",
   "language": "python",
   "name": "python3"
  },
  "language_info": {
   "codemirror_mode": {
    "name": "ipython",
    "version": 3
   },
   "file_extension": ".py",
   "mimetype": "text/x-python",
   "name": "python",
   "nbconvert_exporter": "python",
   "pygments_lexer": "ipython3",
   "version": "3.11.9"
  }
 },
 "nbformat": 4,
 "nbformat_minor": 5
}
